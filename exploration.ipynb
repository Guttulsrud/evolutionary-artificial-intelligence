{
 "cells": [
  {
   "cell_type": "code",
   "execution_count": 49,
   "metadata": {
    "collapsed": true
   },
   "outputs": [],
   "source": [
    "import json\n",
    "import plotly.express as px\n",
    "import pandas as pd\n",
    "import plotly.graph_objects as go\n",
    "\n",
    "f = open('fitness_function_only.json', )\n",
    "data = json.load(f)\n",
    "\n",
    "output = {}\n",
    "configs = []\n",
    "for x in data['configs']:\n",
    "    configs.append({\n",
    "        'population_limit': x['evolution']['population_limit'],\n",
    "        'fitness_function': x['fitness_function'],\n",
    "        'selection_criterion': x['evolution']['selection_criterion'],\n",
    "        'episodes_per_individual': x['evolution']['episodes_per_individual'],\n",
    "        'mutation_rate': x['evolution']['mutation_rate'],\n",
    "        'survival_rate': x['evolution']['survival_rate'],\n",
    "        'action_type': x['ca']['action_type'],\n",
    "        'steps': x['stats']['Time steps'],\n",
    "        'rule': x['stats']['Rule'],\n",
    "        'step_history': x['stats']['Time step history']\n",
    "    })\n",
    "\n",
    "\n",
    "df = pd.DataFrame(configs)\n"
   ]
  },
  {
   "cell_type": "code",
   "execution_count": 50,
   "outputs": [
    {
     "data": {
      "text/plain": "     population_limit          fitness_function selection_criterion  \\\n57                300                time_based          tournament   \n74                300                time_based          tournament   \n2                 300      angle_and_time_based          tournament   \n59                300          total_time_steps          tournament   \n42                300          total_time_steps          tournament   \n80                300            position_based          tournament   \n50                300            position_based          tournament   \n97                300                time_based          tournament   \n1                 300               angle_based          tournament   \n35                300               angle_based          tournament   \n13                300          total_time_steps          tournament   \n75                300            position_based          tournament   \n81                300                time_based          tournament   \n48                300                time_based          tournament   \n51                300  position_and_angle_based          tournament   \n5                 300      angle_and_time_based          tournament   \n41                300  position_and_angle_based          tournament   \n85                300          total_time_steps          tournament   \n55                300          total_time_steps          tournament   \n96                300      angle_and_time_based          tournament   \n18                300               angle_based          tournament   \n83                300  position_and_angle_based          tournament   \n15                300          total_time_steps          tournament   \n0                 300               angle_based          tournament   \n90                300      angle_and_time_based          tournament   \n101               300  position_and_angle_based          tournament   \n11                300                time_based          tournament   \n93                300          total_time_steps          tournament   \n17                300  position_and_angle_based          tournament   \n86                300          total_time_steps          tournament   \n60                300      angle_and_time_based          tournament   \n94                300      angle_and_time_based          tournament   \n25                300          total_time_steps          tournament   \n95                300               angle_based          tournament   \n61                300      angle_and_time_based          tournament   \n9                 300      angle_and_time_based          tournament   \n20                300  position_and_angle_based          tournament   \n28                300               angle_based          tournament   \n52                300                time_based          tournament   \n77                300               angle_based          tournament   \n58                300      angle_and_time_based          tournament   \n33                300            position_based          tournament   \n69                300          total_time_steps          tournament   \n21                300                time_based          tournament   \n38                300                time_based          tournament   \n32                300  position_and_angle_based          tournament   \n73                300                time_based          tournament   \n27                300      angle_and_time_based          tournament   \n26                300            position_based          tournament   \n91                300               angle_based          tournament   \n\n     episodes_per_individual  mutation_rate  survival_rate action_type  \\\n57                         2          0.001            0.1       index   \n74                         2          0.001            0.1       index   \n2                          2          0.001            0.1       index   \n59                         2          0.001            0.1       index   \n42                         2          0.001            0.1       index   \n80                         2          0.001            0.1       index   \n50                         2          0.001            0.1       index   \n97                         2          0.001            0.1       index   \n1                          2          0.001            0.1       index   \n35                         2          0.001            0.1       index   \n13                         2          0.001            0.1       index   \n75                         2          0.001            0.1       index   \n81                         2          0.001            0.1       index   \n48                         2          0.001            0.1       index   \n51                         2          0.001            0.1       index   \n5                          2          0.001            0.1       index   \n41                         2          0.001            0.1       index   \n85                         2          0.001            0.1       index   \n55                         2          0.001            0.1       index   \n96                         2          0.001            0.1       index   \n18                         2          0.001            0.1       index   \n83                         2          0.001            0.1       index   \n15                         2          0.001            0.1       index   \n0                          2          0.001            0.1       index   \n90                         2          0.001            0.1       index   \n101                        2          0.001            0.1       index   \n11                         2          0.001            0.1       index   \n93                         2          0.001            0.1       index   \n17                         2          0.001            0.1       index   \n86                         2          0.001            0.1       index   \n60                         2          0.001            0.1       index   \n94                         2          0.001            0.1       index   \n25                         2          0.001            0.1       index   \n95                         2          0.001            0.1       index   \n61                         2          0.001            0.1       index   \n9                          2          0.001            0.1       index   \n20                         2          0.001            0.1       index   \n28                         2          0.001            0.1       index   \n52                         2          0.001            0.1       index   \n77                         2          0.001            0.1       index   \n58                         2          0.001            0.1       index   \n33                         2          0.001            0.1       index   \n69                         2          0.001            0.1       index   \n21                         2          0.001            0.1       index   \n38                         2          0.001            0.1       index   \n32                         2          0.001            0.1       index   \n73                         2          0.001            0.1       index   \n27                         2          0.001            0.1       index   \n26                         2          0.001            0.1       index   \n91                         2          0.001            0.1       index   \n\n       steps  rule                                       step_history  \n57   86923.0   179  [91.0, 376.0, 629.0, 1328.5, 1018.0, 50118.5, ...  \n74   72172.0   208  [225.5, 818.0, 633.5, 4605.5, 9569.5, 5040.0, ...  \n2    67685.0   200  [622.0, 376.25, 207.0, 205.5, 280.0, 928.5, 48...  \n59   57076.0    50  [142.5, 298.0, 163.0, 621.0, 11880.5, 17399.5,...  \n42   55370.0   138  [1675.5, 880.5, 466.25, 653.5, 55370.0, 27784....  \n80   52640.0   244  [81.0, 116.5, 313.5, 289.0, 3042.0, 52640.0, 1...  \n50   52148.0   179  [174.5, 339.5, 15495.5, 12178.0, 6391.0, 3939....  \n97   50104.5   200  [161.5, 174.0, 266.0, 188.83333333333334, 222....  \n1    50088.0   208  [196.0, 201.5, 653.0, 380.0, 805.0, 237.0, 559...  \n35   50060.5   178  [165.5, 407.5, 260.5, 541.0, 2196.0, 8263.0, 1...  \n13   50026.5   243  [150.0, 426.0, 2817.5, 2076.0, 1060.25, 931.66...  \n75   47026.5   176  [285.0, 171.25, 276.0, 137.5, 589.0, 1540.5, 3...  \n81   45976.0   244  [146.0, 465.0, 1671.0, 1305.75, 899.6666666666...  \n48   42576.0   138  [231.0, 520.0, 191.0, 239.5, 244.5, 550.0, 310...  \n51   27042.5   178  [119.5, 192.0, 3804.0, 27042.5, 13605.75, 8417...  \n5    25538.0   200  [151.5, 180.0, 195.5, 810.0, 910.0, 2057.0, 17...  \n41   22751.0   179  [118.0, 197.25, 5836.0, 22751.0, 11395.0, 3694...  \n85   21026.0   208  [193.0, 340.5, 1324.0, 548.5, 11012.0, 21026.0...  \n55   20393.0   221  [67.5, 258.5, 197.0, 493.0, 647.5, 796.5, 6031...  \n96   17492.5   138  [115.5, 160.0, 219.0, 508.0, 804.5, 1214.5, 23...  \n18   16889.5   236  [94.0, 834.5, 344.0, 2119.5, 16889.5, 8476.25,...  \n83   15256.5   232  [209.0, 219.0, 231.5, 281.0, 308.0, 388.5, 297...  \n15   14301.5   232  [261.5, 265.5, 283.0, 501.0, 4788.0, 14301.5, ...  \n0    13248.0   176  [146.5, 431.75, 1707.0, 883.0, 616.0, 525.5, 9...  \n90   12340.0   208  [117.0, 187.5, 251.0, 244.75, 274.0, 1477.5, 8...  \n101  10352.5   245  [68.0, 347.5, 376.5, 283.0, 530.0, 475.0, 501....  \n11    9831.5   232  [129.0, 322.0, 183.75, 572.5, 584.75, 613.0, 2...  \n93    9617.5   220  [166.0, 490.0, 377.0, 758.0, 1032.0, 622.83333...  \n17    8696.5   244  [212.0, 151.0, 2123.5, 5866.5, 6929.5, 881.0, ...  \n86    7846.5    12  [114.5, 162.0, 173.0, 187.5, 263.5, 381.5, 429...  \n60    7835.0   200  [107.5, 212.0, 290.5, 450.0, 478.0, 398.5, 404...  \n94    7671.0   138  [137.5, 80.25, 169.5, 160.0, 266.5, 4097.0, 62...  \n25    7477.0   232  [83.0, 132.5, 412.5, 264.0, 233.5, 711.0, 856....  \n95    6970.5   178  [1381.5, 1771.25, 1944.5, 3251.0, 6970.5, 3502...  \n61    6514.0   232  [82.0, 298.5, 342.25, 234.0, 228.75, 1164.0, 7...  \n9     5960.5   172  [210.5, 229.0, 272.0, 422.5, 517.5, 412.75, 41...  \n20    5476.0   138  [260.0, 191.5, 268.5, 639.5, 696.0, 1061.5, 84...  \n28    5414.0   143  [165.0, 230.5, 702.5, 661.25, 894.5, 5414.0, 7...  \n52    5278.5   162  [318.0, 301.0, 215.16666666666666, 322.0, 1288...  \n77    4835.0   140  [75.5, 119.0, 151.0, 378.0, 514.0, 519.75, 556...  \n58    4826.5   174  [214.0, 450.5, 1442.5, 569.5, 1089.0, 1491.5, ...  \n33    4773.5   232  [167.5, 199.0, 238.5, 255.5, 1161.0, 1689.0, 4...  \n69    4736.5   200  [267.0, 220.75, 236.0, 276.75, 243.0, 245.0, 3...  \n21    4385.5   232  [155.0, 243.0, 221.0, 183.0, 2612.5, 1832.0, 2...  \n38    4325.5   142  [179.5, 606.0, 549.25, 1004.0, 1025.5, 1717.5,...  \n32    4317.5   178  [179.0, 310.0, 671.0, 969.5, 448.5, 745.0, 373...  \n73    4291.0   176  [142.5, 168.5, 415.0, 398.0, 652.5, 1264.5, 86...  \n27    4158.0   172  [102.0, 196.0, 1256.5, 799.5, 4158.0, 1578.5, ...  \n26    3849.0   232  [441.0, 504.5, 1264.0, 1138.0, 1833.5, 1760.0,...  \n91    3659.0   244  [191.0, 242.5, 374.75, 344.0, 411.0, 371.0, 36...  ",
      "text/html": "<div>\n<style scoped>\n    .dataframe tbody tr th:only-of-type {\n        vertical-align: middle;\n    }\n\n    .dataframe tbody tr th {\n        vertical-align: top;\n    }\n\n    .dataframe thead th {\n        text-align: right;\n    }\n</style>\n<table border=\"1\" class=\"dataframe\">\n  <thead>\n    <tr style=\"text-align: right;\">\n      <th></th>\n      <th>population_limit</th>\n      <th>fitness_function</th>\n      <th>selection_criterion</th>\n      <th>episodes_per_individual</th>\n      <th>mutation_rate</th>\n      <th>survival_rate</th>\n      <th>action_type</th>\n      <th>steps</th>\n      <th>rule</th>\n      <th>step_history</th>\n    </tr>\n  </thead>\n  <tbody>\n    <tr>\n      <th>57</th>\n      <td>300</td>\n      <td>time_based</td>\n      <td>tournament</td>\n      <td>2</td>\n      <td>0.001</td>\n      <td>0.1</td>\n      <td>index</td>\n      <td>86923.0</td>\n      <td>179</td>\n      <td>[91.0, 376.0, 629.0, 1328.5, 1018.0, 50118.5, ...</td>\n    </tr>\n    <tr>\n      <th>74</th>\n      <td>300</td>\n      <td>time_based</td>\n      <td>tournament</td>\n      <td>2</td>\n      <td>0.001</td>\n      <td>0.1</td>\n      <td>index</td>\n      <td>72172.0</td>\n      <td>208</td>\n      <td>[225.5, 818.0, 633.5, 4605.5, 9569.5, 5040.0, ...</td>\n    </tr>\n    <tr>\n      <th>2</th>\n      <td>300</td>\n      <td>angle_and_time_based</td>\n      <td>tournament</td>\n      <td>2</td>\n      <td>0.001</td>\n      <td>0.1</td>\n      <td>index</td>\n      <td>67685.0</td>\n      <td>200</td>\n      <td>[622.0, 376.25, 207.0, 205.5, 280.0, 928.5, 48...</td>\n    </tr>\n    <tr>\n      <th>59</th>\n      <td>300</td>\n      <td>total_time_steps</td>\n      <td>tournament</td>\n      <td>2</td>\n      <td>0.001</td>\n      <td>0.1</td>\n      <td>index</td>\n      <td>57076.0</td>\n      <td>50</td>\n      <td>[142.5, 298.0, 163.0, 621.0, 11880.5, 17399.5,...</td>\n    </tr>\n    <tr>\n      <th>42</th>\n      <td>300</td>\n      <td>total_time_steps</td>\n      <td>tournament</td>\n      <td>2</td>\n      <td>0.001</td>\n      <td>0.1</td>\n      <td>index</td>\n      <td>55370.0</td>\n      <td>138</td>\n      <td>[1675.5, 880.5, 466.25, 653.5, 55370.0, 27784....</td>\n    </tr>\n    <tr>\n      <th>80</th>\n      <td>300</td>\n      <td>position_based</td>\n      <td>tournament</td>\n      <td>2</td>\n      <td>0.001</td>\n      <td>0.1</td>\n      <td>index</td>\n      <td>52640.0</td>\n      <td>244</td>\n      <td>[81.0, 116.5, 313.5, 289.0, 3042.0, 52640.0, 1...</td>\n    </tr>\n    <tr>\n      <th>50</th>\n      <td>300</td>\n      <td>position_based</td>\n      <td>tournament</td>\n      <td>2</td>\n      <td>0.001</td>\n      <td>0.1</td>\n      <td>index</td>\n      <td>52148.0</td>\n      <td>179</td>\n      <td>[174.5, 339.5, 15495.5, 12178.0, 6391.0, 3939....</td>\n    </tr>\n    <tr>\n      <th>97</th>\n      <td>300</td>\n      <td>time_based</td>\n      <td>tournament</td>\n      <td>2</td>\n      <td>0.001</td>\n      <td>0.1</td>\n      <td>index</td>\n      <td>50104.5</td>\n      <td>200</td>\n      <td>[161.5, 174.0, 266.0, 188.83333333333334, 222....</td>\n    </tr>\n    <tr>\n      <th>1</th>\n      <td>300</td>\n      <td>angle_based</td>\n      <td>tournament</td>\n      <td>2</td>\n      <td>0.001</td>\n      <td>0.1</td>\n      <td>index</td>\n      <td>50088.0</td>\n      <td>208</td>\n      <td>[196.0, 201.5, 653.0, 380.0, 805.0, 237.0, 559...</td>\n    </tr>\n    <tr>\n      <th>35</th>\n      <td>300</td>\n      <td>angle_based</td>\n      <td>tournament</td>\n      <td>2</td>\n      <td>0.001</td>\n      <td>0.1</td>\n      <td>index</td>\n      <td>50060.5</td>\n      <td>178</td>\n      <td>[165.5, 407.5, 260.5, 541.0, 2196.0, 8263.0, 1...</td>\n    </tr>\n    <tr>\n      <th>13</th>\n      <td>300</td>\n      <td>total_time_steps</td>\n      <td>tournament</td>\n      <td>2</td>\n      <td>0.001</td>\n      <td>0.1</td>\n      <td>index</td>\n      <td>50026.5</td>\n      <td>243</td>\n      <td>[150.0, 426.0, 2817.5, 2076.0, 1060.25, 931.66...</td>\n    </tr>\n    <tr>\n      <th>75</th>\n      <td>300</td>\n      <td>position_based</td>\n      <td>tournament</td>\n      <td>2</td>\n      <td>0.001</td>\n      <td>0.1</td>\n      <td>index</td>\n      <td>47026.5</td>\n      <td>176</td>\n      <td>[285.0, 171.25, 276.0, 137.5, 589.0, 1540.5, 3...</td>\n    </tr>\n    <tr>\n      <th>81</th>\n      <td>300</td>\n      <td>time_based</td>\n      <td>tournament</td>\n      <td>2</td>\n      <td>0.001</td>\n      <td>0.1</td>\n      <td>index</td>\n      <td>45976.0</td>\n      <td>244</td>\n      <td>[146.0, 465.0, 1671.0, 1305.75, 899.6666666666...</td>\n    </tr>\n    <tr>\n      <th>48</th>\n      <td>300</td>\n      <td>time_based</td>\n      <td>tournament</td>\n      <td>2</td>\n      <td>0.001</td>\n      <td>0.1</td>\n      <td>index</td>\n      <td>42576.0</td>\n      <td>138</td>\n      <td>[231.0, 520.0, 191.0, 239.5, 244.5, 550.0, 310...</td>\n    </tr>\n    <tr>\n      <th>51</th>\n      <td>300</td>\n      <td>position_and_angle_based</td>\n      <td>tournament</td>\n      <td>2</td>\n      <td>0.001</td>\n      <td>0.1</td>\n      <td>index</td>\n      <td>27042.5</td>\n      <td>178</td>\n      <td>[119.5, 192.0, 3804.0, 27042.5, 13605.75, 8417...</td>\n    </tr>\n    <tr>\n      <th>5</th>\n      <td>300</td>\n      <td>angle_and_time_based</td>\n      <td>tournament</td>\n      <td>2</td>\n      <td>0.001</td>\n      <td>0.1</td>\n      <td>index</td>\n      <td>25538.0</td>\n      <td>200</td>\n      <td>[151.5, 180.0, 195.5, 810.0, 910.0, 2057.0, 17...</td>\n    </tr>\n    <tr>\n      <th>41</th>\n      <td>300</td>\n      <td>position_and_angle_based</td>\n      <td>tournament</td>\n      <td>2</td>\n      <td>0.001</td>\n      <td>0.1</td>\n      <td>index</td>\n      <td>22751.0</td>\n      <td>179</td>\n      <td>[118.0, 197.25, 5836.0, 22751.0, 11395.0, 3694...</td>\n    </tr>\n    <tr>\n      <th>85</th>\n      <td>300</td>\n      <td>total_time_steps</td>\n      <td>tournament</td>\n      <td>2</td>\n      <td>0.001</td>\n      <td>0.1</td>\n      <td>index</td>\n      <td>21026.0</td>\n      <td>208</td>\n      <td>[193.0, 340.5, 1324.0, 548.5, 11012.0, 21026.0...</td>\n    </tr>\n    <tr>\n      <th>55</th>\n      <td>300</td>\n      <td>total_time_steps</td>\n      <td>tournament</td>\n      <td>2</td>\n      <td>0.001</td>\n      <td>0.1</td>\n      <td>index</td>\n      <td>20393.0</td>\n      <td>221</td>\n      <td>[67.5, 258.5, 197.0, 493.0, 647.5, 796.5, 6031...</td>\n    </tr>\n    <tr>\n      <th>96</th>\n      <td>300</td>\n      <td>angle_and_time_based</td>\n      <td>tournament</td>\n      <td>2</td>\n      <td>0.001</td>\n      <td>0.1</td>\n      <td>index</td>\n      <td>17492.5</td>\n      <td>138</td>\n      <td>[115.5, 160.0, 219.0, 508.0, 804.5, 1214.5, 23...</td>\n    </tr>\n    <tr>\n      <th>18</th>\n      <td>300</td>\n      <td>angle_based</td>\n      <td>tournament</td>\n      <td>2</td>\n      <td>0.001</td>\n      <td>0.1</td>\n      <td>index</td>\n      <td>16889.5</td>\n      <td>236</td>\n      <td>[94.0, 834.5, 344.0, 2119.5, 16889.5, 8476.25,...</td>\n    </tr>\n    <tr>\n      <th>83</th>\n      <td>300</td>\n      <td>position_and_angle_based</td>\n      <td>tournament</td>\n      <td>2</td>\n      <td>0.001</td>\n      <td>0.1</td>\n      <td>index</td>\n      <td>15256.5</td>\n      <td>232</td>\n      <td>[209.0, 219.0, 231.5, 281.0, 308.0, 388.5, 297...</td>\n    </tr>\n    <tr>\n      <th>15</th>\n      <td>300</td>\n      <td>total_time_steps</td>\n      <td>tournament</td>\n      <td>2</td>\n      <td>0.001</td>\n      <td>0.1</td>\n      <td>index</td>\n      <td>14301.5</td>\n      <td>232</td>\n      <td>[261.5, 265.5, 283.0, 501.0, 4788.0, 14301.5, ...</td>\n    </tr>\n    <tr>\n      <th>0</th>\n      <td>300</td>\n      <td>angle_based</td>\n      <td>tournament</td>\n      <td>2</td>\n      <td>0.001</td>\n      <td>0.1</td>\n      <td>index</td>\n      <td>13248.0</td>\n      <td>176</td>\n      <td>[146.5, 431.75, 1707.0, 883.0, 616.0, 525.5, 9...</td>\n    </tr>\n    <tr>\n      <th>90</th>\n      <td>300</td>\n      <td>angle_and_time_based</td>\n      <td>tournament</td>\n      <td>2</td>\n      <td>0.001</td>\n      <td>0.1</td>\n      <td>index</td>\n      <td>12340.0</td>\n      <td>208</td>\n      <td>[117.0, 187.5, 251.0, 244.75, 274.0, 1477.5, 8...</td>\n    </tr>\n    <tr>\n      <th>101</th>\n      <td>300</td>\n      <td>position_and_angle_based</td>\n      <td>tournament</td>\n      <td>2</td>\n      <td>0.001</td>\n      <td>0.1</td>\n      <td>index</td>\n      <td>10352.5</td>\n      <td>245</td>\n      <td>[68.0, 347.5, 376.5, 283.0, 530.0, 475.0, 501....</td>\n    </tr>\n    <tr>\n      <th>11</th>\n      <td>300</td>\n      <td>time_based</td>\n      <td>tournament</td>\n      <td>2</td>\n      <td>0.001</td>\n      <td>0.1</td>\n      <td>index</td>\n      <td>9831.5</td>\n      <td>232</td>\n      <td>[129.0, 322.0, 183.75, 572.5, 584.75, 613.0, 2...</td>\n    </tr>\n    <tr>\n      <th>93</th>\n      <td>300</td>\n      <td>total_time_steps</td>\n      <td>tournament</td>\n      <td>2</td>\n      <td>0.001</td>\n      <td>0.1</td>\n      <td>index</td>\n      <td>9617.5</td>\n      <td>220</td>\n      <td>[166.0, 490.0, 377.0, 758.0, 1032.0, 622.83333...</td>\n    </tr>\n    <tr>\n      <th>17</th>\n      <td>300</td>\n      <td>position_and_angle_based</td>\n      <td>tournament</td>\n      <td>2</td>\n      <td>0.001</td>\n      <td>0.1</td>\n      <td>index</td>\n      <td>8696.5</td>\n      <td>244</td>\n      <td>[212.0, 151.0, 2123.5, 5866.5, 6929.5, 881.0, ...</td>\n    </tr>\n    <tr>\n      <th>86</th>\n      <td>300</td>\n      <td>total_time_steps</td>\n      <td>tournament</td>\n      <td>2</td>\n      <td>0.001</td>\n      <td>0.1</td>\n      <td>index</td>\n      <td>7846.5</td>\n      <td>12</td>\n      <td>[114.5, 162.0, 173.0, 187.5, 263.5, 381.5, 429...</td>\n    </tr>\n    <tr>\n      <th>60</th>\n      <td>300</td>\n      <td>angle_and_time_based</td>\n      <td>tournament</td>\n      <td>2</td>\n      <td>0.001</td>\n      <td>0.1</td>\n      <td>index</td>\n      <td>7835.0</td>\n      <td>200</td>\n      <td>[107.5, 212.0, 290.5, 450.0, 478.0, 398.5, 404...</td>\n    </tr>\n    <tr>\n      <th>94</th>\n      <td>300</td>\n      <td>angle_and_time_based</td>\n      <td>tournament</td>\n      <td>2</td>\n      <td>0.001</td>\n      <td>0.1</td>\n      <td>index</td>\n      <td>7671.0</td>\n      <td>138</td>\n      <td>[137.5, 80.25, 169.5, 160.0, 266.5, 4097.0, 62...</td>\n    </tr>\n    <tr>\n      <th>25</th>\n      <td>300</td>\n      <td>total_time_steps</td>\n      <td>tournament</td>\n      <td>2</td>\n      <td>0.001</td>\n      <td>0.1</td>\n      <td>index</td>\n      <td>7477.0</td>\n      <td>232</td>\n      <td>[83.0, 132.5, 412.5, 264.0, 233.5, 711.0, 856....</td>\n    </tr>\n    <tr>\n      <th>95</th>\n      <td>300</td>\n      <td>angle_based</td>\n      <td>tournament</td>\n      <td>2</td>\n      <td>0.001</td>\n      <td>0.1</td>\n      <td>index</td>\n      <td>6970.5</td>\n      <td>178</td>\n      <td>[1381.5, 1771.25, 1944.5, 3251.0, 6970.5, 3502...</td>\n    </tr>\n    <tr>\n      <th>61</th>\n      <td>300</td>\n      <td>angle_and_time_based</td>\n      <td>tournament</td>\n      <td>2</td>\n      <td>0.001</td>\n      <td>0.1</td>\n      <td>index</td>\n      <td>6514.0</td>\n      <td>232</td>\n      <td>[82.0, 298.5, 342.25, 234.0, 228.75, 1164.0, 7...</td>\n    </tr>\n    <tr>\n      <th>9</th>\n      <td>300</td>\n      <td>angle_and_time_based</td>\n      <td>tournament</td>\n      <td>2</td>\n      <td>0.001</td>\n      <td>0.1</td>\n      <td>index</td>\n      <td>5960.5</td>\n      <td>172</td>\n      <td>[210.5, 229.0, 272.0, 422.5, 517.5, 412.75, 41...</td>\n    </tr>\n    <tr>\n      <th>20</th>\n      <td>300</td>\n      <td>position_and_angle_based</td>\n      <td>tournament</td>\n      <td>2</td>\n      <td>0.001</td>\n      <td>0.1</td>\n      <td>index</td>\n      <td>5476.0</td>\n      <td>138</td>\n      <td>[260.0, 191.5, 268.5, 639.5, 696.0, 1061.5, 84...</td>\n    </tr>\n    <tr>\n      <th>28</th>\n      <td>300</td>\n      <td>angle_based</td>\n      <td>tournament</td>\n      <td>2</td>\n      <td>0.001</td>\n      <td>0.1</td>\n      <td>index</td>\n      <td>5414.0</td>\n      <td>143</td>\n      <td>[165.0, 230.5, 702.5, 661.25, 894.5, 5414.0, 7...</td>\n    </tr>\n    <tr>\n      <th>52</th>\n      <td>300</td>\n      <td>time_based</td>\n      <td>tournament</td>\n      <td>2</td>\n      <td>0.001</td>\n      <td>0.1</td>\n      <td>index</td>\n      <td>5278.5</td>\n      <td>162</td>\n      <td>[318.0, 301.0, 215.16666666666666, 322.0, 1288...</td>\n    </tr>\n    <tr>\n      <th>77</th>\n      <td>300</td>\n      <td>angle_based</td>\n      <td>tournament</td>\n      <td>2</td>\n      <td>0.001</td>\n      <td>0.1</td>\n      <td>index</td>\n      <td>4835.0</td>\n      <td>140</td>\n      <td>[75.5, 119.0, 151.0, 378.0, 514.0, 519.75, 556...</td>\n    </tr>\n    <tr>\n      <th>58</th>\n      <td>300</td>\n      <td>angle_and_time_based</td>\n      <td>tournament</td>\n      <td>2</td>\n      <td>0.001</td>\n      <td>0.1</td>\n      <td>index</td>\n      <td>4826.5</td>\n      <td>174</td>\n      <td>[214.0, 450.5, 1442.5, 569.5, 1089.0, 1491.5, ...</td>\n    </tr>\n    <tr>\n      <th>33</th>\n      <td>300</td>\n      <td>position_based</td>\n      <td>tournament</td>\n      <td>2</td>\n      <td>0.001</td>\n      <td>0.1</td>\n      <td>index</td>\n      <td>4773.5</td>\n      <td>232</td>\n      <td>[167.5, 199.0, 238.5, 255.5, 1161.0, 1689.0, 4...</td>\n    </tr>\n    <tr>\n      <th>69</th>\n      <td>300</td>\n      <td>total_time_steps</td>\n      <td>tournament</td>\n      <td>2</td>\n      <td>0.001</td>\n      <td>0.1</td>\n      <td>index</td>\n      <td>4736.5</td>\n      <td>200</td>\n      <td>[267.0, 220.75, 236.0, 276.75, 243.0, 245.0, 3...</td>\n    </tr>\n    <tr>\n      <th>21</th>\n      <td>300</td>\n      <td>time_based</td>\n      <td>tournament</td>\n      <td>2</td>\n      <td>0.001</td>\n      <td>0.1</td>\n      <td>index</td>\n      <td>4385.5</td>\n      <td>232</td>\n      <td>[155.0, 243.0, 221.0, 183.0, 2612.5, 1832.0, 2...</td>\n    </tr>\n    <tr>\n      <th>38</th>\n      <td>300</td>\n      <td>time_based</td>\n      <td>tournament</td>\n      <td>2</td>\n      <td>0.001</td>\n      <td>0.1</td>\n      <td>index</td>\n      <td>4325.5</td>\n      <td>142</td>\n      <td>[179.5, 606.0, 549.25, 1004.0, 1025.5, 1717.5,...</td>\n    </tr>\n    <tr>\n      <th>32</th>\n      <td>300</td>\n      <td>position_and_angle_based</td>\n      <td>tournament</td>\n      <td>2</td>\n      <td>0.001</td>\n      <td>0.1</td>\n      <td>index</td>\n      <td>4317.5</td>\n      <td>178</td>\n      <td>[179.0, 310.0, 671.0, 969.5, 448.5, 745.0, 373...</td>\n    </tr>\n    <tr>\n      <th>73</th>\n      <td>300</td>\n      <td>time_based</td>\n      <td>tournament</td>\n      <td>2</td>\n      <td>0.001</td>\n      <td>0.1</td>\n      <td>index</td>\n      <td>4291.0</td>\n      <td>176</td>\n      <td>[142.5, 168.5, 415.0, 398.0, 652.5, 1264.5, 86...</td>\n    </tr>\n    <tr>\n      <th>27</th>\n      <td>300</td>\n      <td>angle_and_time_based</td>\n      <td>tournament</td>\n      <td>2</td>\n      <td>0.001</td>\n      <td>0.1</td>\n      <td>index</td>\n      <td>4158.0</td>\n      <td>172</td>\n      <td>[102.0, 196.0, 1256.5, 799.5, 4158.0, 1578.5, ...</td>\n    </tr>\n    <tr>\n      <th>26</th>\n      <td>300</td>\n      <td>position_based</td>\n      <td>tournament</td>\n      <td>2</td>\n      <td>0.001</td>\n      <td>0.1</td>\n      <td>index</td>\n      <td>3849.0</td>\n      <td>232</td>\n      <td>[441.0, 504.5, 1264.0, 1138.0, 1833.5, 1760.0,...</td>\n    </tr>\n    <tr>\n      <th>91</th>\n      <td>300</td>\n      <td>angle_based</td>\n      <td>tournament</td>\n      <td>2</td>\n      <td>0.001</td>\n      <td>0.1</td>\n      <td>index</td>\n      <td>3659.0</td>\n      <td>244</td>\n      <td>[191.0, 242.5, 374.75, 344.0, 411.0, 371.0, 36...</td>\n    </tr>\n  </tbody>\n</table>\n</div>"
     },
     "execution_count": 50,
     "metadata": {},
     "output_type": "execute_result"
    }
   ],
   "source": [
    "top_50 = df.sort_values(by='steps', ascending=False)[:50]\n",
    "\n",
    "top_50"
   ],
   "metadata": {
    "collapsed": false,
    "pycharm": {
     "name": "#%%\n"
    }
   }
  },
  {
   "cell_type": "code",
   "execution_count": 52,
   "outputs": [
    {
     "data": {
      "text/plain": "angle_and_time_based        10\ntime_based                  10\ntotal_time_steps            10\nangle_based                  8\nposition_and_angle_based     7\nposition_based               5\nName: fitness_function, dtype: int64"
     },
     "execution_count": 52,
     "metadata": {},
     "output_type": "execute_result"
    }
   ],
   "source": [
    "top_50.fitness_function.value_counts()"
   ],
   "metadata": {
    "collapsed": false,
    "pycharm": {
     "name": "#%%\n"
    }
   }
  },
  {
   "cell_type": "code",
   "execution_count": 53,
   "outputs": [
    {
     "data": {
      "text/plain": "tournament    50\nName: selection_criterion, dtype: int64"
     },
     "execution_count": 53,
     "metadata": {},
     "output_type": "execute_result"
    }
   ],
   "source": [
    "top_50.selection_criterion.value_counts()"
   ],
   "metadata": {
    "collapsed": false,
    "pycharm": {
     "name": "#%%\n"
    }
   }
  },
  {
   "cell_type": "code",
   "execution_count": 54,
   "outputs": [
    {
     "data": {
      "text/plain": "2    50\nName: episodes_per_individual, dtype: int64"
     },
     "execution_count": 54,
     "metadata": {},
     "output_type": "execute_result"
    }
   ],
   "source": [
    "top_50.episodes_per_individual.value_counts()"
   ],
   "metadata": {
    "collapsed": false,
    "pycharm": {
     "name": "#%%\n"
    }
   }
  },
  {
   "cell_type": "code",
   "execution_count": 55,
   "outputs": [
    {
     "data": {
      "text/plain": "0.001    50\nName: mutation_rate, dtype: int64"
     },
     "execution_count": 55,
     "metadata": {},
     "output_type": "execute_result"
    }
   ],
   "source": [
    "top_50.mutation_rate.value_counts()\n"
   ],
   "metadata": {
    "collapsed": false,
    "pycharm": {
     "name": "#%%\n"
    }
   }
  },
  {
   "cell_type": "code",
   "execution_count": 56,
   "outputs": [
    {
     "data": {
      "text/plain": "0.1    50\nName: survival_rate, dtype: int64"
     },
     "execution_count": 56,
     "metadata": {},
     "output_type": "execute_result"
    }
   ],
   "source": [
    "top_50.survival_rate.value_counts()\n"
   ],
   "metadata": {
    "collapsed": false,
    "pycharm": {
     "name": "#%%\n"
    }
   }
  },
  {
   "cell_type": "code",
   "execution_count": 57,
   "outputs": [
    {
     "data": {
      "text/plain": "index    50\nName: action_type, dtype: int64"
     },
     "execution_count": 57,
     "metadata": {},
     "output_type": "execute_result"
    }
   ],
   "source": [
    "top_50.action_type.value_counts()"
   ],
   "metadata": {
    "collapsed": false,
    "pycharm": {
     "name": "#%%\n"
    }
   }
  },
  {
   "cell_type": "code",
   "execution_count": 58,
   "outputs": [
    {
     "data": {
      "text/plain": "300    50\nName: population_limit, dtype: int64"
     },
     "execution_count": 58,
     "metadata": {},
     "output_type": "execute_result"
    }
   ],
   "source": [
    "top_50.population_limit.value_counts()"
   ],
   "metadata": {
    "collapsed": false,
    "pycharm": {
     "name": "#%%\n"
    }
   }
  },
  {
   "cell_type": "code",
   "execution_count": 59,
   "outputs": [],
   "source": [
    "top_10 = top_50[:10]"
   ],
   "metadata": {
    "collapsed": false,
    "pycharm": {
     "name": "#%%\n"
    }
   }
  },
  {
   "cell_type": "code",
   "execution_count": 60,
   "outputs": [
    {
     "data": {
      "text/plain": "    population_limit      fitness_function selection_criterion  \\\n57               300            time_based          tournament   \n74               300            time_based          tournament   \n2                300  angle_and_time_based          tournament   \n59               300      total_time_steps          tournament   \n42               300      total_time_steps          tournament   \n80               300        position_based          tournament   \n50               300        position_based          tournament   \n97               300            time_based          tournament   \n1                300           angle_based          tournament   \n35               300           angle_based          tournament   \n\n    episodes_per_individual  mutation_rate  survival_rate action_type  \\\n57                        2          0.001            0.1       index   \n74                        2          0.001            0.1       index   \n2                         2          0.001            0.1       index   \n59                        2          0.001            0.1       index   \n42                        2          0.001            0.1       index   \n80                        2          0.001            0.1       index   \n50                        2          0.001            0.1       index   \n97                        2          0.001            0.1       index   \n1                         2          0.001            0.1       index   \n35                        2          0.001            0.1       index   \n\n      steps  rule                                       step_history  \n57  86923.0   179  [91.0, 376.0, 629.0, 1328.5, 1018.0, 50118.5, ...  \n74  72172.0   208  [225.5, 818.0, 633.5, 4605.5, 9569.5, 5040.0, ...  \n2   67685.0   200  [622.0, 376.25, 207.0, 205.5, 280.0, 928.5, 48...  \n59  57076.0    50  [142.5, 298.0, 163.0, 621.0, 11880.5, 17399.5,...  \n42  55370.0   138  [1675.5, 880.5, 466.25, 653.5, 55370.0, 27784....  \n80  52640.0   244  [81.0, 116.5, 313.5, 289.0, 3042.0, 52640.0, 1...  \n50  52148.0   179  [174.5, 339.5, 15495.5, 12178.0, 6391.0, 3939....  \n97  50104.5   200  [161.5, 174.0, 266.0, 188.83333333333334, 222....  \n1   50088.0   208  [196.0, 201.5, 653.0, 380.0, 805.0, 237.0, 559...  \n35  50060.5   178  [165.5, 407.5, 260.5, 541.0, 2196.0, 8263.0, 1...  ",
      "text/html": "<div>\n<style scoped>\n    .dataframe tbody tr th:only-of-type {\n        vertical-align: middle;\n    }\n\n    .dataframe tbody tr th {\n        vertical-align: top;\n    }\n\n    .dataframe thead th {\n        text-align: right;\n    }\n</style>\n<table border=\"1\" class=\"dataframe\">\n  <thead>\n    <tr style=\"text-align: right;\">\n      <th></th>\n      <th>population_limit</th>\n      <th>fitness_function</th>\n      <th>selection_criterion</th>\n      <th>episodes_per_individual</th>\n      <th>mutation_rate</th>\n      <th>survival_rate</th>\n      <th>action_type</th>\n      <th>steps</th>\n      <th>rule</th>\n      <th>step_history</th>\n    </tr>\n  </thead>\n  <tbody>\n    <tr>\n      <th>57</th>\n      <td>300</td>\n      <td>time_based</td>\n      <td>tournament</td>\n      <td>2</td>\n      <td>0.001</td>\n      <td>0.1</td>\n      <td>index</td>\n      <td>86923.0</td>\n      <td>179</td>\n      <td>[91.0, 376.0, 629.0, 1328.5, 1018.0, 50118.5, ...</td>\n    </tr>\n    <tr>\n      <th>74</th>\n      <td>300</td>\n      <td>time_based</td>\n      <td>tournament</td>\n      <td>2</td>\n      <td>0.001</td>\n      <td>0.1</td>\n      <td>index</td>\n      <td>72172.0</td>\n      <td>208</td>\n      <td>[225.5, 818.0, 633.5, 4605.5, 9569.5, 5040.0, ...</td>\n    </tr>\n    <tr>\n      <th>2</th>\n      <td>300</td>\n      <td>angle_and_time_based</td>\n      <td>tournament</td>\n      <td>2</td>\n      <td>0.001</td>\n      <td>0.1</td>\n      <td>index</td>\n      <td>67685.0</td>\n      <td>200</td>\n      <td>[622.0, 376.25, 207.0, 205.5, 280.0, 928.5, 48...</td>\n    </tr>\n    <tr>\n      <th>59</th>\n      <td>300</td>\n      <td>total_time_steps</td>\n      <td>tournament</td>\n      <td>2</td>\n      <td>0.001</td>\n      <td>0.1</td>\n      <td>index</td>\n      <td>57076.0</td>\n      <td>50</td>\n      <td>[142.5, 298.0, 163.0, 621.0, 11880.5, 17399.5,...</td>\n    </tr>\n    <tr>\n      <th>42</th>\n      <td>300</td>\n      <td>total_time_steps</td>\n      <td>tournament</td>\n      <td>2</td>\n      <td>0.001</td>\n      <td>0.1</td>\n      <td>index</td>\n      <td>55370.0</td>\n      <td>138</td>\n      <td>[1675.5, 880.5, 466.25, 653.5, 55370.0, 27784....</td>\n    </tr>\n    <tr>\n      <th>80</th>\n      <td>300</td>\n      <td>position_based</td>\n      <td>tournament</td>\n      <td>2</td>\n      <td>0.001</td>\n      <td>0.1</td>\n      <td>index</td>\n      <td>52640.0</td>\n      <td>244</td>\n      <td>[81.0, 116.5, 313.5, 289.0, 3042.0, 52640.0, 1...</td>\n    </tr>\n    <tr>\n      <th>50</th>\n      <td>300</td>\n      <td>position_based</td>\n      <td>tournament</td>\n      <td>2</td>\n      <td>0.001</td>\n      <td>0.1</td>\n      <td>index</td>\n      <td>52148.0</td>\n      <td>179</td>\n      <td>[174.5, 339.5, 15495.5, 12178.0, 6391.0, 3939....</td>\n    </tr>\n    <tr>\n      <th>97</th>\n      <td>300</td>\n      <td>time_based</td>\n      <td>tournament</td>\n      <td>2</td>\n      <td>0.001</td>\n      <td>0.1</td>\n      <td>index</td>\n      <td>50104.5</td>\n      <td>200</td>\n      <td>[161.5, 174.0, 266.0, 188.83333333333334, 222....</td>\n    </tr>\n    <tr>\n      <th>1</th>\n      <td>300</td>\n      <td>angle_based</td>\n      <td>tournament</td>\n      <td>2</td>\n      <td>0.001</td>\n      <td>0.1</td>\n      <td>index</td>\n      <td>50088.0</td>\n      <td>208</td>\n      <td>[196.0, 201.5, 653.0, 380.0, 805.0, 237.0, 559...</td>\n    </tr>\n    <tr>\n      <th>35</th>\n      <td>300</td>\n      <td>angle_based</td>\n      <td>tournament</td>\n      <td>2</td>\n      <td>0.001</td>\n      <td>0.1</td>\n      <td>index</td>\n      <td>50060.5</td>\n      <td>178</td>\n      <td>[165.5, 407.5, 260.5, 541.0, 2196.0, 8263.0, 1...</td>\n    </tr>\n  </tbody>\n</table>\n</div>"
     },
     "execution_count": 60,
     "metadata": {},
     "output_type": "execute_result"
    }
   ],
   "source": [
    "top_10"
   ],
   "metadata": {
    "collapsed": false,
    "pycharm": {
     "name": "#%%\n"
    }
   }
  },
  {
   "cell_type": "code",
   "execution_count": 61,
   "outputs": [
    {
     "data": {
      "text/plain": "    population_limit      fitness_function selection_criterion  \\\n57               300            time_based          tournament   \n74               300            time_based          tournament   \n2                300  angle_and_time_based          tournament   \n59               300      total_time_steps          tournament   \n42               300      total_time_steps          tournament   \n80               300        position_based          tournament   \n50               300        position_based          tournament   \n97               300            time_based          tournament   \n1                300           angle_based          tournament   \n35               300           angle_based          tournament   \n\n    episodes_per_individual  mutation_rate  survival_rate action_type  \\\n57                        2          0.001            0.1       index   \n74                        2          0.001            0.1       index   \n2                         2          0.001            0.1       index   \n59                        2          0.001            0.1       index   \n42                        2          0.001            0.1       index   \n80                        2          0.001            0.1       index   \n50                        2          0.001            0.1       index   \n97                        2          0.001            0.1       index   \n1                         2          0.001            0.1       index   \n35                        2          0.001            0.1       index   \n\n      steps  rule                                       step_history  \n57  86923.0   179  [91.0, 376.0, 629.0, 1328.5, 1018.0, 50118.5, ...  \n74  72172.0   208  [225.5, 818.0, 633.5, 4605.5, 9569.5, 5040.0, ...  \n2   67685.0   200  [622.0, 376.25, 207.0, 205.5, 280.0, 928.5, 48...  \n59  57076.0    50  [142.5, 298.0, 163.0, 621.0, 11880.5, 17399.5,...  \n42  55370.0   138  [1675.5, 880.5, 466.25, 653.5, 55370.0, 27784....  \n80  52640.0   244  [81.0, 116.5, 313.5, 289.0, 3042.0, 52640.0, 1...  \n50  52148.0   179  [174.5, 339.5, 15495.5, 12178.0, 6391.0, 3939....  \n97  50104.5   200  [161.5, 174.0, 266.0, 188.83333333333334, 222....  \n1   50088.0   208  [196.0, 201.5, 653.0, 380.0, 805.0, 237.0, 559...  \n35  50060.5   178  [165.5, 407.5, 260.5, 541.0, 2196.0, 8263.0, 1...  ",
      "text/html": "<div>\n<style scoped>\n    .dataframe tbody tr th:only-of-type {\n        vertical-align: middle;\n    }\n\n    .dataframe tbody tr th {\n        vertical-align: top;\n    }\n\n    .dataframe thead th {\n        text-align: right;\n    }\n</style>\n<table border=\"1\" class=\"dataframe\">\n  <thead>\n    <tr style=\"text-align: right;\">\n      <th></th>\n      <th>population_limit</th>\n      <th>fitness_function</th>\n      <th>selection_criterion</th>\n      <th>episodes_per_individual</th>\n      <th>mutation_rate</th>\n      <th>survival_rate</th>\n      <th>action_type</th>\n      <th>steps</th>\n      <th>rule</th>\n      <th>step_history</th>\n    </tr>\n  </thead>\n  <tbody>\n    <tr>\n      <th>57</th>\n      <td>300</td>\n      <td>time_based</td>\n      <td>tournament</td>\n      <td>2</td>\n      <td>0.001</td>\n      <td>0.1</td>\n      <td>index</td>\n      <td>86923.0</td>\n      <td>179</td>\n      <td>[91.0, 376.0, 629.0, 1328.5, 1018.0, 50118.5, ...</td>\n    </tr>\n    <tr>\n      <th>74</th>\n      <td>300</td>\n      <td>time_based</td>\n      <td>tournament</td>\n      <td>2</td>\n      <td>0.001</td>\n      <td>0.1</td>\n      <td>index</td>\n      <td>72172.0</td>\n      <td>208</td>\n      <td>[225.5, 818.0, 633.5, 4605.5, 9569.5, 5040.0, ...</td>\n    </tr>\n    <tr>\n      <th>2</th>\n      <td>300</td>\n      <td>angle_and_time_based</td>\n      <td>tournament</td>\n      <td>2</td>\n      <td>0.001</td>\n      <td>0.1</td>\n      <td>index</td>\n      <td>67685.0</td>\n      <td>200</td>\n      <td>[622.0, 376.25, 207.0, 205.5, 280.0, 928.5, 48...</td>\n    </tr>\n    <tr>\n      <th>59</th>\n      <td>300</td>\n      <td>total_time_steps</td>\n      <td>tournament</td>\n      <td>2</td>\n      <td>0.001</td>\n      <td>0.1</td>\n      <td>index</td>\n      <td>57076.0</td>\n      <td>50</td>\n      <td>[142.5, 298.0, 163.0, 621.0, 11880.5, 17399.5,...</td>\n    </tr>\n    <tr>\n      <th>42</th>\n      <td>300</td>\n      <td>total_time_steps</td>\n      <td>tournament</td>\n      <td>2</td>\n      <td>0.001</td>\n      <td>0.1</td>\n      <td>index</td>\n      <td>55370.0</td>\n      <td>138</td>\n      <td>[1675.5, 880.5, 466.25, 653.5, 55370.0, 27784....</td>\n    </tr>\n    <tr>\n      <th>80</th>\n      <td>300</td>\n      <td>position_based</td>\n      <td>tournament</td>\n      <td>2</td>\n      <td>0.001</td>\n      <td>0.1</td>\n      <td>index</td>\n      <td>52640.0</td>\n      <td>244</td>\n      <td>[81.0, 116.5, 313.5, 289.0, 3042.0, 52640.0, 1...</td>\n    </tr>\n    <tr>\n      <th>50</th>\n      <td>300</td>\n      <td>position_based</td>\n      <td>tournament</td>\n      <td>2</td>\n      <td>0.001</td>\n      <td>0.1</td>\n      <td>index</td>\n      <td>52148.0</td>\n      <td>179</td>\n      <td>[174.5, 339.5, 15495.5, 12178.0, 6391.0, 3939....</td>\n    </tr>\n    <tr>\n      <th>97</th>\n      <td>300</td>\n      <td>time_based</td>\n      <td>tournament</td>\n      <td>2</td>\n      <td>0.001</td>\n      <td>0.1</td>\n      <td>index</td>\n      <td>50104.5</td>\n      <td>200</td>\n      <td>[161.5, 174.0, 266.0, 188.83333333333334, 222....</td>\n    </tr>\n    <tr>\n      <th>1</th>\n      <td>300</td>\n      <td>angle_based</td>\n      <td>tournament</td>\n      <td>2</td>\n      <td>0.001</td>\n      <td>0.1</td>\n      <td>index</td>\n      <td>50088.0</td>\n      <td>208</td>\n      <td>[196.0, 201.5, 653.0, 380.0, 805.0, 237.0, 559...</td>\n    </tr>\n    <tr>\n      <th>35</th>\n      <td>300</td>\n      <td>angle_based</td>\n      <td>tournament</td>\n      <td>2</td>\n      <td>0.001</td>\n      <td>0.1</td>\n      <td>index</td>\n      <td>50060.5</td>\n      <td>178</td>\n      <td>[165.5, 407.5, 260.5, 541.0, 2196.0, 8263.0, 1...</td>\n    </tr>\n  </tbody>\n</table>\n</div>"
     },
     "execution_count": 61,
     "metadata": {},
     "output_type": "execute_result"
    }
   ],
   "source": [
    "top_10"
   ],
   "metadata": {
    "collapsed": false,
    "pycharm": {
     "name": "#%%\n"
    }
   }
  },
  {
   "cell_type": "code",
   "execution_count": 62,
   "outputs": [
    {
     "data": {
      "application/vnd.plotly.v1+json": {
       "config": {
        "plotlyServerURL": "https://plot.ly"
       },
       "data": [
        {
         "mode": "lines",
         "name": "0",
         "type": "scatter",
         "y": [
          91.0,
          376.0,
          629.0,
          1328.5,
          1018.0,
          50118.5,
          51567.0,
          86923.0,
          43483.75,
          26547.0,
          12752.25,
          10212.8,
          7445.75,
          6626.555555555556,
          5969.4,
          5438.045454545455,
          125.5,
          154.5,
          140.5,
          115.0,
          118.0,
          162.0,
          318.5,
          398.0,
          168.5,
          116.33333333333333,
          35.5,
          130.5,
          77.75,
          135.5,
          162.0,
          159.5,
          107.5,
          110.5,
          67.5,
          44.0,
          47.5,
          56.0,
          35.5,
          165.5,
          283.5,
          201.0,
          212.0,
          111.0,
          219.5,
          225.0,
          163.0,
          81.0,
          58.833333333333336,
          48.125
         ]
        },
        {
         "mode": "lines",
         "name": "1",
         "type": "scatter",
         "y": [
          225.5,
          818.0,
          633.5,
          4605.5,
          9569.5,
          5040.0,
          26179.75,
          72172.0,
          25135.75,
          16769.0,
          12597.625,
          186.0,
          153.3,
          130.0,
          46.5,
          64.0,
          68.5,
          56.0,
          41.5,
          33.0,
          29.375,
          22.5,
          25.5,
          44.0,
          33.0,
          49.5,
          35.5,
          519.0,
          267.25,
          132.33333333333334,
          113.25,
          76.5,
          65.41666666666667,
          46.0,
          81.5,
          62.5,
          83.0,
          67.5,
          68.0,
          110.0,
          114.0,
          81.5,
          75.0,
          43.5,
          37.5,
          39.0,
          49.0,
          52.0,
          48.25,
          61.5
         ]
        },
        {
         "mode": "lines",
         "name": "2",
         "type": "scatter",
         "y": [
          622.0,
          376.25,
          207.0,
          205.5,
          280.0,
          928.5,
          486.0,
          345.5,
          1486.0,
          2979.5,
          7996.5,
          7571.0,
          67685.0,
          25063.25,
          16735.666666666668,
          12555.625,
          6014.3,
          58.0,
          35.0,
          55.0,
          37.75,
          38.0,
          47.0,
          28.0,
          20.5,
          30.5,
          18.6,
          29.5,
          21.5,
          258.0,
          162.5,
          90.33333333333333,
          76.125,
          76.0,
          32.75,
          30.5,
          26.625,
          24.5,
          31.5,
          27.0,
          21.0,
          25.5,
          30.5,
          44.0,
          53.5,
          51.5,
          176.5,
          156.5,
          120.25,
          88.0
         ]
        },
        {
         "mode": "lines",
         "name": "3",
         "type": "scatter",
         "y": [
          142.5,
          298.0,
          163.0,
          621.0,
          11880.5,
          17399.5,
          28005.0,
          57076.0,
          30311.0,
          5450.75,
          3345.1666666666665,
          2516.625,
          335.875,
          279.2,
          120.5,
          65.66666666666667,
          58.2,
          52.0,
          155.0,
          89.75,
          64.33333333333333,
          41.5,
          43.0,
          46.5,
          39.0,
          39.0,
          47.5,
          31.25,
          23.0,
          19.375,
          32.5,
          113.0,
          69.5,
          49.0,
          124.0,
          71.5,
          148.0,
          109.5,
          109.5,
          72.16666666666667,
          56.625,
          31.0,
          50.0,
          71.0,
          69.5,
          104.0,
          121.5,
          109.5,
          114.5,
          111.0
         ]
        },
        {
         "mode": "lines",
         "name": "4",
         "type": "scatter",
         "y": [
          1675.5,
          880.5,
          466.25,
          653.5,
          55370.0,
          27784.0,
          18543.0,
          13932.0,
          11164.3,
          1246.25,
          973.0,
          1193.5,
          3100.5,
          2276.5,
          1186.0,
          697.3333333333334,
          468.625,
          58.0,
          59.0,
          209.5,
          178.0,
          196.5,
          186.0,
          158.5,
          208.0,
          124.5,
          76.75,
          54.0,
          34.0,
          42.5,
          60.0,
          43.5,
          179.5,
          165.0,
          159.0,
          244.5,
          158.5,
          150.0,
          153.0,
          91.5,
          66.5,
          264.0,
          299.0,
          299.5,
          158.75,
          90.33333333333333,
          174.5,
          64.25,
          45.5,
          36.25
         ]
        },
        {
         "mode": "lines",
         "name": "5",
         "type": "scatter",
         "y": [
          81.0,
          116.5,
          313.5,
          289.0,
          3042.0,
          52640.0,
          17515.5,
          5560.75,
          2211.0,
          1716.75,
          1376.1,
          1155.6666666666667,
          322.5,
          488.5,
          411.0,
          336.5,
          351.0,
          185.5,
          129.66666666666666,
          96.75,
          80.0,
          68.58333333333333,
          60.142857142857146,
          39.5,
          43.5,
          36.5,
          34.166666666666664,
          22.0,
          26.0,
          20.0,
          14.0,
          32.0,
          13.5,
          23.5,
          19.0,
          277.5,
          238.0,
          182.5,
          129.16666666666666,
          102.125,
          69.0,
          85.0,
          65.0,
          53.0,
          47.5,
          103.5,
          138.0,
          152.0,
          110.25,
          200.0
         ]
        },
        {
         "mode": "lines",
         "name": "6",
         "type": "scatter",
         "y": [
          174.5,
          339.5,
          15495.5,
          12178.0,
          6391.0,
          3939.125,
          3183.5,
          771.3333333333334,
          580.75,
          466.6,
          392.5833333333333,
          347.64285714285717,
          66.0,
          69.0,
          65.0,
          70.5,
          56.0,
          50.0,
          50.0,
          75.0,
          48.0,
          55.5,
          41.0,
          33.666666666666664,
          30.125,
          89.0,
          177.0,
          98.25,
          67.5,
          153.5,
          318.5,
          295.0,
          362.5,
          1201.0,
          428.0,
          291.8333333333333,
          221.875,
          52.6,
          45.5,
          66.5,
          42.0,
          43.0,
          201.5,
          826.5,
          112.0,
          233.0,
          52148.0,
          22118.0,
          14748.666666666666,
          11067.75
         ]
        },
        {
         "mode": "lines",
         "name": "7",
         "type": "scatter",
         "y": [
          161.5,
          174.0,
          266.0,
          188.83333333333334,
          222.0,
          243.5,
          2225.0,
          1120.75,
          315.5,
          592.5,
          395.0,
          1398.5,
          572.0,
          382.5,
          450.0,
          582.5,
          451.0,
          266.0,
          277.0,
          233.75,
          233.5,
          332.5,
          322.0,
          200.0,
          2825.0,
          17565.5,
          18799.0,
          50104.5,
          26810.0,
          9572.25,
          6388.666666666667,
          405.1666666666667,
          247.0,
          87.0,
          58.5,
          66.5,
          37.5,
          31.5,
          38.0,
          24.5,
          32.0,
          21.5,
          45.5,
          62.5,
          122.5,
          63.0,
          47.0,
          41.5,
          33.0,
          42.5
         ]
        },
        {
         "mode": "lines",
         "name": "8",
         "type": "scatter",
         "y": [
          196.0,
          201.5,
          653.0,
          380.0,
          805.0,
          237.0,
          559.5,
          670.5,
          684.5,
          2303.0,
          50073.0,
          50088.0,
          4598.25,
          3684.8,
          73.5,
          66.625,
          59.4,
          58.0,
          48.0,
          35.5,
          33.5,
          40.5,
          41.0,
          42.5,
          54.5,
          39.0,
          42.5,
          49.5,
          36.0,
          229.5,
          244.0,
          283.5,
          329.5,
          141.75,
          97.5,
          75.0,
          61.5,
          45.5,
          30.5,
          39.5,
          98.0,
          174.0,
          80.5,
          106.0,
          68.0,
          50.666666666666664,
          78.0,
          66.5,
          56.5,
          62.0
         ]
        },
        {
         "mode": "lines",
         "name": "9",
         "type": "scatter",
         "y": [
          165.5,
          407.5,
          260.5,
          541.0,
          2196.0,
          8263.0,
          10577.0,
          10101.0,
          50060.5,
          25041.75,
          16851.0,
          12643.0,
          10116.1,
          7025.333333333333,
          6022.857142857143,
          5271.0625,
          65.75,
          38.5,
          158.0,
          176.75,
          62.5,
          92.0,
          77.5,
          133.0,
          115.5,
          147.5,
          127.5,
          233.0,
          234.5,
          214.0,
          152.75,
          179.0,
          103.75,
          73.33333333333333,
          93.0,
          89.5,
          68.25,
          89.0,
          58.5,
          64.5,
          78.0,
          159.0,
          85.0,
          51.0,
          26.5,
          22.5,
          30.0,
          50.0,
          48.0,
          40.5
         ]
        }
       ],
       "layout": {
        "template": {
         "data": {
          "bar": [
           {
            "error_x": {
             "color": "#2a3f5f"
            },
            "error_y": {
             "color": "#2a3f5f"
            },
            "marker": {
             "line": {
              "color": "#E5ECF6",
              "width": 0.5
             },
             "pattern": {
              "fillmode": "overlay",
              "size": 10,
              "solidity": 0.2
             }
            },
            "type": "bar"
           }
          ],
          "barpolar": [
           {
            "marker": {
             "line": {
              "color": "#E5ECF6",
              "width": 0.5
             },
             "pattern": {
              "fillmode": "overlay",
              "size": 10,
              "solidity": 0.2
             }
            },
            "type": "barpolar"
           }
          ],
          "carpet": [
           {
            "aaxis": {
             "endlinecolor": "#2a3f5f",
             "gridcolor": "white",
             "linecolor": "white",
             "minorgridcolor": "white",
             "startlinecolor": "#2a3f5f"
            },
            "baxis": {
             "endlinecolor": "#2a3f5f",
             "gridcolor": "white",
             "linecolor": "white",
             "minorgridcolor": "white",
             "startlinecolor": "#2a3f5f"
            },
            "type": "carpet"
           }
          ],
          "choropleth": [
           {
            "colorbar": {
             "outlinewidth": 0,
             "ticks": ""
            },
            "type": "choropleth"
           }
          ],
          "contour": [
           {
            "colorbar": {
             "outlinewidth": 0,
             "ticks": ""
            },
            "colorscale": [
             [
              0.0,
              "#0d0887"
             ],
             [
              0.1111111111111111,
              "#46039f"
             ],
             [
              0.2222222222222222,
              "#7201a8"
             ],
             [
              0.3333333333333333,
              "#9c179e"
             ],
             [
              0.4444444444444444,
              "#bd3786"
             ],
             [
              0.5555555555555556,
              "#d8576b"
             ],
             [
              0.6666666666666666,
              "#ed7953"
             ],
             [
              0.7777777777777778,
              "#fb9f3a"
             ],
             [
              0.8888888888888888,
              "#fdca26"
             ],
             [
              1.0,
              "#f0f921"
             ]
            ],
            "type": "contour"
           }
          ],
          "contourcarpet": [
           {
            "colorbar": {
             "outlinewidth": 0,
             "ticks": ""
            },
            "type": "contourcarpet"
           }
          ],
          "heatmap": [
           {
            "colorbar": {
             "outlinewidth": 0,
             "ticks": ""
            },
            "colorscale": [
             [
              0.0,
              "#0d0887"
             ],
             [
              0.1111111111111111,
              "#46039f"
             ],
             [
              0.2222222222222222,
              "#7201a8"
             ],
             [
              0.3333333333333333,
              "#9c179e"
             ],
             [
              0.4444444444444444,
              "#bd3786"
             ],
             [
              0.5555555555555556,
              "#d8576b"
             ],
             [
              0.6666666666666666,
              "#ed7953"
             ],
             [
              0.7777777777777778,
              "#fb9f3a"
             ],
             [
              0.8888888888888888,
              "#fdca26"
             ],
             [
              1.0,
              "#f0f921"
             ]
            ],
            "type": "heatmap"
           }
          ],
          "heatmapgl": [
           {
            "colorbar": {
             "outlinewidth": 0,
             "ticks": ""
            },
            "colorscale": [
             [
              0.0,
              "#0d0887"
             ],
             [
              0.1111111111111111,
              "#46039f"
             ],
             [
              0.2222222222222222,
              "#7201a8"
             ],
             [
              0.3333333333333333,
              "#9c179e"
             ],
             [
              0.4444444444444444,
              "#bd3786"
             ],
             [
              0.5555555555555556,
              "#d8576b"
             ],
             [
              0.6666666666666666,
              "#ed7953"
             ],
             [
              0.7777777777777778,
              "#fb9f3a"
             ],
             [
              0.8888888888888888,
              "#fdca26"
             ],
             [
              1.0,
              "#f0f921"
             ]
            ],
            "type": "heatmapgl"
           }
          ],
          "histogram": [
           {
            "marker": {
             "pattern": {
              "fillmode": "overlay",
              "size": 10,
              "solidity": 0.2
             }
            },
            "type": "histogram"
           }
          ],
          "histogram2d": [
           {
            "colorbar": {
             "outlinewidth": 0,
             "ticks": ""
            },
            "colorscale": [
             [
              0.0,
              "#0d0887"
             ],
             [
              0.1111111111111111,
              "#46039f"
             ],
             [
              0.2222222222222222,
              "#7201a8"
             ],
             [
              0.3333333333333333,
              "#9c179e"
             ],
             [
              0.4444444444444444,
              "#bd3786"
             ],
             [
              0.5555555555555556,
              "#d8576b"
             ],
             [
              0.6666666666666666,
              "#ed7953"
             ],
             [
              0.7777777777777778,
              "#fb9f3a"
             ],
             [
              0.8888888888888888,
              "#fdca26"
             ],
             [
              1.0,
              "#f0f921"
             ]
            ],
            "type": "histogram2d"
           }
          ],
          "histogram2dcontour": [
           {
            "colorbar": {
             "outlinewidth": 0,
             "ticks": ""
            },
            "colorscale": [
             [
              0.0,
              "#0d0887"
             ],
             [
              0.1111111111111111,
              "#46039f"
             ],
             [
              0.2222222222222222,
              "#7201a8"
             ],
             [
              0.3333333333333333,
              "#9c179e"
             ],
             [
              0.4444444444444444,
              "#bd3786"
             ],
             [
              0.5555555555555556,
              "#d8576b"
             ],
             [
              0.6666666666666666,
              "#ed7953"
             ],
             [
              0.7777777777777778,
              "#fb9f3a"
             ],
             [
              0.8888888888888888,
              "#fdca26"
             ],
             [
              1.0,
              "#f0f921"
             ]
            ],
            "type": "histogram2dcontour"
           }
          ],
          "mesh3d": [
           {
            "colorbar": {
             "outlinewidth": 0,
             "ticks": ""
            },
            "type": "mesh3d"
           }
          ],
          "parcoords": [
           {
            "line": {
             "colorbar": {
              "outlinewidth": 0,
              "ticks": ""
             }
            },
            "type": "parcoords"
           }
          ],
          "pie": [
           {
            "automargin": true,
            "type": "pie"
           }
          ],
          "scatter": [
           {
            "marker": {
             "colorbar": {
              "outlinewidth": 0,
              "ticks": ""
             }
            },
            "type": "scatter"
           }
          ],
          "scatter3d": [
           {
            "line": {
             "colorbar": {
              "outlinewidth": 0,
              "ticks": ""
             }
            },
            "marker": {
             "colorbar": {
              "outlinewidth": 0,
              "ticks": ""
             }
            },
            "type": "scatter3d"
           }
          ],
          "scattercarpet": [
           {
            "marker": {
             "colorbar": {
              "outlinewidth": 0,
              "ticks": ""
             }
            },
            "type": "scattercarpet"
           }
          ],
          "scattergeo": [
           {
            "marker": {
             "colorbar": {
              "outlinewidth": 0,
              "ticks": ""
             }
            },
            "type": "scattergeo"
           }
          ],
          "scattergl": [
           {
            "marker": {
             "colorbar": {
              "outlinewidth": 0,
              "ticks": ""
             }
            },
            "type": "scattergl"
           }
          ],
          "scattermapbox": [
           {
            "marker": {
             "colorbar": {
              "outlinewidth": 0,
              "ticks": ""
             }
            },
            "type": "scattermapbox"
           }
          ],
          "scatterpolar": [
           {
            "marker": {
             "colorbar": {
              "outlinewidth": 0,
              "ticks": ""
             }
            },
            "type": "scatterpolar"
           }
          ],
          "scatterpolargl": [
           {
            "marker": {
             "colorbar": {
              "outlinewidth": 0,
              "ticks": ""
             }
            },
            "type": "scatterpolargl"
           }
          ],
          "scatterternary": [
           {
            "marker": {
             "colorbar": {
              "outlinewidth": 0,
              "ticks": ""
             }
            },
            "type": "scatterternary"
           }
          ],
          "surface": [
           {
            "colorbar": {
             "outlinewidth": 0,
             "ticks": ""
            },
            "colorscale": [
             [
              0.0,
              "#0d0887"
             ],
             [
              0.1111111111111111,
              "#46039f"
             ],
             [
              0.2222222222222222,
              "#7201a8"
             ],
             [
              0.3333333333333333,
              "#9c179e"
             ],
             [
              0.4444444444444444,
              "#bd3786"
             ],
             [
              0.5555555555555556,
              "#d8576b"
             ],
             [
              0.6666666666666666,
              "#ed7953"
             ],
             [
              0.7777777777777778,
              "#fb9f3a"
             ],
             [
              0.8888888888888888,
              "#fdca26"
             ],
             [
              1.0,
              "#f0f921"
             ]
            ],
            "type": "surface"
           }
          ],
          "table": [
           {
            "cells": {
             "fill": {
              "color": "#EBF0F8"
             },
             "line": {
              "color": "white"
             }
            },
            "header": {
             "fill": {
              "color": "#C8D4E3"
             },
             "line": {
              "color": "white"
             }
            },
            "type": "table"
           }
          ]
         },
         "layout": {
          "annotationdefaults": {
           "arrowcolor": "#2a3f5f",
           "arrowhead": 0,
           "arrowwidth": 1
          },
          "autotypenumbers": "strict",
          "coloraxis": {
           "colorbar": {
            "outlinewidth": 0,
            "ticks": ""
           }
          },
          "colorscale": {
           "diverging": [
            [
             0,
             "#8e0152"
            ],
            [
             0.1,
             "#c51b7d"
            ],
            [
             0.2,
             "#de77ae"
            ],
            [
             0.3,
             "#f1b6da"
            ],
            [
             0.4,
             "#fde0ef"
            ],
            [
             0.5,
             "#f7f7f7"
            ],
            [
             0.6,
             "#e6f5d0"
            ],
            [
             0.7,
             "#b8e186"
            ],
            [
             0.8,
             "#7fbc41"
            ],
            [
             0.9,
             "#4d9221"
            ],
            [
             1,
             "#276419"
            ]
           ],
           "sequential": [
            [
             0.0,
             "#0d0887"
            ],
            [
             0.1111111111111111,
             "#46039f"
            ],
            [
             0.2222222222222222,
             "#7201a8"
            ],
            [
             0.3333333333333333,
             "#9c179e"
            ],
            [
             0.4444444444444444,
             "#bd3786"
            ],
            [
             0.5555555555555556,
             "#d8576b"
            ],
            [
             0.6666666666666666,
             "#ed7953"
            ],
            [
             0.7777777777777778,
             "#fb9f3a"
            ],
            [
             0.8888888888888888,
             "#fdca26"
            ],
            [
             1.0,
             "#f0f921"
            ]
           ],
           "sequentialminus": [
            [
             0.0,
             "#0d0887"
            ],
            [
             0.1111111111111111,
             "#46039f"
            ],
            [
             0.2222222222222222,
             "#7201a8"
            ],
            [
             0.3333333333333333,
             "#9c179e"
            ],
            [
             0.4444444444444444,
             "#bd3786"
            ],
            [
             0.5555555555555556,
             "#d8576b"
            ],
            [
             0.6666666666666666,
             "#ed7953"
            ],
            [
             0.7777777777777778,
             "#fb9f3a"
            ],
            [
             0.8888888888888888,
             "#fdca26"
            ],
            [
             1.0,
             "#f0f921"
            ]
           ]
          },
          "colorway": [
           "#636efa",
           "#EF553B",
           "#00cc96",
           "#ab63fa",
           "#FFA15A",
           "#19d3f3",
           "#FF6692",
           "#B6E880",
           "#FF97FF",
           "#FECB52"
          ],
          "font": {
           "color": "#2a3f5f"
          },
          "geo": {
           "bgcolor": "white",
           "lakecolor": "white",
           "landcolor": "#E5ECF6",
           "showlakes": true,
           "showland": true,
           "subunitcolor": "white"
          },
          "hoverlabel": {
           "align": "left"
          },
          "hovermode": "closest",
          "mapbox": {
           "style": "light"
          },
          "paper_bgcolor": "white",
          "plot_bgcolor": "#E5ECF6",
          "polar": {
           "angularaxis": {
            "gridcolor": "white",
            "linecolor": "white",
            "ticks": ""
           },
           "bgcolor": "#E5ECF6",
           "radialaxis": {
            "gridcolor": "white",
            "linecolor": "white",
            "ticks": ""
           }
          },
          "scene": {
           "xaxis": {
            "backgroundcolor": "#E5ECF6",
            "gridcolor": "white",
            "gridwidth": 2,
            "linecolor": "white",
            "showbackground": true,
            "ticks": "",
            "zerolinecolor": "white"
           },
           "yaxis": {
            "backgroundcolor": "#E5ECF6",
            "gridcolor": "white",
            "gridwidth": 2,
            "linecolor": "white",
            "showbackground": true,
            "ticks": "",
            "zerolinecolor": "white"
           },
           "zaxis": {
            "backgroundcolor": "#E5ECF6",
            "gridcolor": "white",
            "gridwidth": 2,
            "linecolor": "white",
            "showbackground": true,
            "ticks": "",
            "zerolinecolor": "white"
           }
          },
          "shapedefaults": {
           "line": {
            "color": "#2a3f5f"
           }
          },
          "ternary": {
           "aaxis": {
            "gridcolor": "white",
            "linecolor": "white",
            "ticks": ""
           },
           "baxis": {
            "gridcolor": "white",
            "linecolor": "white",
            "ticks": ""
           },
           "bgcolor": "#E5ECF6",
           "caxis": {
            "gridcolor": "white",
            "linecolor": "white",
            "ticks": ""
           }
          },
          "title": {
           "x": 0.05
          },
          "xaxis": {
           "automargin": true,
           "gridcolor": "white",
           "linecolor": "white",
           "ticks": "",
           "title": {
            "standoff": 15
           },
           "zerolinecolor": "white",
           "zerolinewidth": 2
          },
          "yaxis": {
           "automargin": true,
           "gridcolor": "white",
           "linecolor": "white",
           "ticks": "",
           "title": {
            "standoff": 15
           },
           "zerolinecolor": "white",
           "zerolinewidth": 2
          }
         }
        }
       }
      },
      "text/html": "<div>                            <div id=\"fcc5bc82-51c9-4d4f-bac9-fa7dc2df5cbd\" class=\"plotly-graph-div\" style=\"height:525px; width:100%;\"></div>            <script type=\"text/javascript\">                require([\"plotly\"], function(Plotly) {                    window.PLOTLYENV=window.PLOTLYENV || {};                                    if (document.getElementById(\"fcc5bc82-51c9-4d4f-bac9-fa7dc2df5cbd\")) {                    Plotly.newPlot(                        \"fcc5bc82-51c9-4d4f-bac9-fa7dc2df5cbd\",                        [{\"mode\":\"lines\",\"name\":\"0\",\"type\":\"scatter\",\"y\":[91.0,376.0,629.0,1328.5,1018.0,50118.5,51567.0,86923.0,43483.75,26547.0,12752.25,10212.8,7445.75,6626.555555555556,5969.4,5438.045454545455,125.5,154.5,140.5,115.0,118.0,162.0,318.5,398.0,168.5,116.33333333333333,35.5,130.5,77.75,135.5,162.0,159.5,107.5,110.5,67.5,44.0,47.5,56.0,35.5,165.5,283.5,201.0,212.0,111.0,219.5,225.0,163.0,81.0,58.833333333333336,48.125]},{\"mode\":\"lines\",\"name\":\"1\",\"type\":\"scatter\",\"y\":[225.5,818.0,633.5,4605.5,9569.5,5040.0,26179.75,72172.0,25135.75,16769.0,12597.625,186.0,153.3,130.0,46.5,64.0,68.5,56.0,41.5,33.0,29.375,22.5,25.5,44.0,33.0,49.5,35.5,519.0,267.25,132.33333333333334,113.25,76.5,65.41666666666667,46.0,81.5,62.5,83.0,67.5,68.0,110.0,114.0,81.5,75.0,43.5,37.5,39.0,49.0,52.0,48.25,61.5]},{\"mode\":\"lines\",\"name\":\"2\",\"type\":\"scatter\",\"y\":[622.0,376.25,207.0,205.5,280.0,928.5,486.0,345.5,1486.0,2979.5,7996.5,7571.0,67685.0,25063.25,16735.666666666668,12555.625,6014.3,58.0,35.0,55.0,37.75,38.0,47.0,28.0,20.5,30.5,18.6,29.5,21.5,258.0,162.5,90.33333333333333,76.125,76.0,32.75,30.5,26.625,24.5,31.5,27.0,21.0,25.5,30.5,44.0,53.5,51.5,176.5,156.5,120.25,88.0]},{\"mode\":\"lines\",\"name\":\"3\",\"type\":\"scatter\",\"y\":[142.5,298.0,163.0,621.0,11880.5,17399.5,28005.0,57076.0,30311.0,5450.75,3345.1666666666665,2516.625,335.875,279.2,120.5,65.66666666666667,58.2,52.0,155.0,89.75,64.33333333333333,41.5,43.0,46.5,39.0,39.0,47.5,31.25,23.0,19.375,32.5,113.0,69.5,49.0,124.0,71.5,148.0,109.5,109.5,72.16666666666667,56.625,31.0,50.0,71.0,69.5,104.0,121.5,109.5,114.5,111.0]},{\"mode\":\"lines\",\"name\":\"4\",\"type\":\"scatter\",\"y\":[1675.5,880.5,466.25,653.5,55370.0,27784.0,18543.0,13932.0,11164.3,1246.25,973.0,1193.5,3100.5,2276.5,1186.0,697.3333333333334,468.625,58.0,59.0,209.5,178.0,196.5,186.0,158.5,208.0,124.5,76.75,54.0,34.0,42.5,60.0,43.5,179.5,165.0,159.0,244.5,158.5,150.0,153.0,91.5,66.5,264.0,299.0,299.5,158.75,90.33333333333333,174.5,64.25,45.5,36.25]},{\"mode\":\"lines\",\"name\":\"5\",\"type\":\"scatter\",\"y\":[81.0,116.5,313.5,289.0,3042.0,52640.0,17515.5,5560.75,2211.0,1716.75,1376.1,1155.6666666666667,322.5,488.5,411.0,336.5,351.0,185.5,129.66666666666666,96.75,80.0,68.58333333333333,60.142857142857146,39.5,43.5,36.5,34.166666666666664,22.0,26.0,20.0,14.0,32.0,13.5,23.5,19.0,277.5,238.0,182.5,129.16666666666666,102.125,69.0,85.0,65.0,53.0,47.5,103.5,138.0,152.0,110.25,200.0]},{\"mode\":\"lines\",\"name\":\"6\",\"type\":\"scatter\",\"y\":[174.5,339.5,15495.5,12178.0,6391.0,3939.125,3183.5,771.3333333333334,580.75,466.6,392.5833333333333,347.64285714285717,66.0,69.0,65.0,70.5,56.0,50.0,50.0,75.0,48.0,55.5,41.0,33.666666666666664,30.125,89.0,177.0,98.25,67.5,153.5,318.5,295.0,362.5,1201.0,428.0,291.8333333333333,221.875,52.6,45.5,66.5,42.0,43.0,201.5,826.5,112.0,233.0,52148.0,22118.0,14748.666666666666,11067.75]},{\"mode\":\"lines\",\"name\":\"7\",\"type\":\"scatter\",\"y\":[161.5,174.0,266.0,188.83333333333334,222.0,243.5,2225.0,1120.75,315.5,592.5,395.0,1398.5,572.0,382.5,450.0,582.5,451.0,266.0,277.0,233.75,233.5,332.5,322.0,200.0,2825.0,17565.5,18799.0,50104.5,26810.0,9572.25,6388.666666666667,405.1666666666667,247.0,87.0,58.5,66.5,37.5,31.5,38.0,24.5,32.0,21.5,45.5,62.5,122.5,63.0,47.0,41.5,33.0,42.5]},{\"mode\":\"lines\",\"name\":\"8\",\"type\":\"scatter\",\"y\":[196.0,201.5,653.0,380.0,805.0,237.0,559.5,670.5,684.5,2303.0,50073.0,50088.0,4598.25,3684.8,73.5,66.625,59.4,58.0,48.0,35.5,33.5,40.5,41.0,42.5,54.5,39.0,42.5,49.5,36.0,229.5,244.0,283.5,329.5,141.75,97.5,75.0,61.5,45.5,30.5,39.5,98.0,174.0,80.5,106.0,68.0,50.666666666666664,78.0,66.5,56.5,62.0]},{\"mode\":\"lines\",\"name\":\"9\",\"type\":\"scatter\",\"y\":[165.5,407.5,260.5,541.0,2196.0,8263.0,10577.0,10101.0,50060.5,25041.75,16851.0,12643.0,10116.1,7025.333333333333,6022.857142857143,5271.0625,65.75,38.5,158.0,176.75,62.5,92.0,77.5,133.0,115.5,147.5,127.5,233.0,234.5,214.0,152.75,179.0,103.75,73.33333333333333,93.0,89.5,68.25,89.0,58.5,64.5,78.0,159.0,85.0,51.0,26.5,22.5,30.0,50.0,48.0,40.5]}],                        {\"template\":{\"data\":{\"bar\":[{\"error_x\":{\"color\":\"#2a3f5f\"},\"error_y\":{\"color\":\"#2a3f5f\"},\"marker\":{\"line\":{\"color\":\"#E5ECF6\",\"width\":0.5},\"pattern\":{\"fillmode\":\"overlay\",\"size\":10,\"solidity\":0.2}},\"type\":\"bar\"}],\"barpolar\":[{\"marker\":{\"line\":{\"color\":\"#E5ECF6\",\"width\":0.5},\"pattern\":{\"fillmode\":\"overlay\",\"size\":10,\"solidity\":0.2}},\"type\":\"barpolar\"}],\"carpet\":[{\"aaxis\":{\"endlinecolor\":\"#2a3f5f\",\"gridcolor\":\"white\",\"linecolor\":\"white\",\"minorgridcolor\":\"white\",\"startlinecolor\":\"#2a3f5f\"},\"baxis\":{\"endlinecolor\":\"#2a3f5f\",\"gridcolor\":\"white\",\"linecolor\":\"white\",\"minorgridcolor\":\"white\",\"startlinecolor\":\"#2a3f5f\"},\"type\":\"carpet\"}],\"choropleth\":[{\"colorbar\":{\"outlinewidth\":0,\"ticks\":\"\"},\"type\":\"choropleth\"}],\"contour\":[{\"colorbar\":{\"outlinewidth\":0,\"ticks\":\"\"},\"colorscale\":[[0.0,\"#0d0887\"],[0.1111111111111111,\"#46039f\"],[0.2222222222222222,\"#7201a8\"],[0.3333333333333333,\"#9c179e\"],[0.4444444444444444,\"#bd3786\"],[0.5555555555555556,\"#d8576b\"],[0.6666666666666666,\"#ed7953\"],[0.7777777777777778,\"#fb9f3a\"],[0.8888888888888888,\"#fdca26\"],[1.0,\"#f0f921\"]],\"type\":\"contour\"}],\"contourcarpet\":[{\"colorbar\":{\"outlinewidth\":0,\"ticks\":\"\"},\"type\":\"contourcarpet\"}],\"heatmap\":[{\"colorbar\":{\"outlinewidth\":0,\"ticks\":\"\"},\"colorscale\":[[0.0,\"#0d0887\"],[0.1111111111111111,\"#46039f\"],[0.2222222222222222,\"#7201a8\"],[0.3333333333333333,\"#9c179e\"],[0.4444444444444444,\"#bd3786\"],[0.5555555555555556,\"#d8576b\"],[0.6666666666666666,\"#ed7953\"],[0.7777777777777778,\"#fb9f3a\"],[0.8888888888888888,\"#fdca26\"],[1.0,\"#f0f921\"]],\"type\":\"heatmap\"}],\"heatmapgl\":[{\"colorbar\":{\"outlinewidth\":0,\"ticks\":\"\"},\"colorscale\":[[0.0,\"#0d0887\"],[0.1111111111111111,\"#46039f\"],[0.2222222222222222,\"#7201a8\"],[0.3333333333333333,\"#9c179e\"],[0.4444444444444444,\"#bd3786\"],[0.5555555555555556,\"#d8576b\"],[0.6666666666666666,\"#ed7953\"],[0.7777777777777778,\"#fb9f3a\"],[0.8888888888888888,\"#fdca26\"],[1.0,\"#f0f921\"]],\"type\":\"heatmapgl\"}],\"histogram\":[{\"marker\":{\"pattern\":{\"fillmode\":\"overlay\",\"size\":10,\"solidity\":0.2}},\"type\":\"histogram\"}],\"histogram2d\":[{\"colorbar\":{\"outlinewidth\":0,\"ticks\":\"\"},\"colorscale\":[[0.0,\"#0d0887\"],[0.1111111111111111,\"#46039f\"],[0.2222222222222222,\"#7201a8\"],[0.3333333333333333,\"#9c179e\"],[0.4444444444444444,\"#bd3786\"],[0.5555555555555556,\"#d8576b\"],[0.6666666666666666,\"#ed7953\"],[0.7777777777777778,\"#fb9f3a\"],[0.8888888888888888,\"#fdca26\"],[1.0,\"#f0f921\"]],\"type\":\"histogram2d\"}],\"histogram2dcontour\":[{\"colorbar\":{\"outlinewidth\":0,\"ticks\":\"\"},\"colorscale\":[[0.0,\"#0d0887\"],[0.1111111111111111,\"#46039f\"],[0.2222222222222222,\"#7201a8\"],[0.3333333333333333,\"#9c179e\"],[0.4444444444444444,\"#bd3786\"],[0.5555555555555556,\"#d8576b\"],[0.6666666666666666,\"#ed7953\"],[0.7777777777777778,\"#fb9f3a\"],[0.8888888888888888,\"#fdca26\"],[1.0,\"#f0f921\"]],\"type\":\"histogram2dcontour\"}],\"mesh3d\":[{\"colorbar\":{\"outlinewidth\":0,\"ticks\":\"\"},\"type\":\"mesh3d\"}],\"parcoords\":[{\"line\":{\"colorbar\":{\"outlinewidth\":0,\"ticks\":\"\"}},\"type\":\"parcoords\"}],\"pie\":[{\"automargin\":true,\"type\":\"pie\"}],\"scatter\":[{\"marker\":{\"colorbar\":{\"outlinewidth\":0,\"ticks\":\"\"}},\"type\":\"scatter\"}],\"scatter3d\":[{\"line\":{\"colorbar\":{\"outlinewidth\":0,\"ticks\":\"\"}},\"marker\":{\"colorbar\":{\"outlinewidth\":0,\"ticks\":\"\"}},\"type\":\"scatter3d\"}],\"scattercarpet\":[{\"marker\":{\"colorbar\":{\"outlinewidth\":0,\"ticks\":\"\"}},\"type\":\"scattercarpet\"}],\"scattergeo\":[{\"marker\":{\"colorbar\":{\"outlinewidth\":0,\"ticks\":\"\"}},\"type\":\"scattergeo\"}],\"scattergl\":[{\"marker\":{\"colorbar\":{\"outlinewidth\":0,\"ticks\":\"\"}},\"type\":\"scattergl\"}],\"scattermapbox\":[{\"marker\":{\"colorbar\":{\"outlinewidth\":0,\"ticks\":\"\"}},\"type\":\"scattermapbox\"}],\"scatterpolar\":[{\"marker\":{\"colorbar\":{\"outlinewidth\":0,\"ticks\":\"\"}},\"type\":\"scatterpolar\"}],\"scatterpolargl\":[{\"marker\":{\"colorbar\":{\"outlinewidth\":0,\"ticks\":\"\"}},\"type\":\"scatterpolargl\"}],\"scatterternary\":[{\"marker\":{\"colorbar\":{\"outlinewidth\":0,\"ticks\":\"\"}},\"type\":\"scatterternary\"}],\"surface\":[{\"colorbar\":{\"outlinewidth\":0,\"ticks\":\"\"},\"colorscale\":[[0.0,\"#0d0887\"],[0.1111111111111111,\"#46039f\"],[0.2222222222222222,\"#7201a8\"],[0.3333333333333333,\"#9c179e\"],[0.4444444444444444,\"#bd3786\"],[0.5555555555555556,\"#d8576b\"],[0.6666666666666666,\"#ed7953\"],[0.7777777777777778,\"#fb9f3a\"],[0.8888888888888888,\"#fdca26\"],[1.0,\"#f0f921\"]],\"type\":\"surface\"}],\"table\":[{\"cells\":{\"fill\":{\"color\":\"#EBF0F8\"},\"line\":{\"color\":\"white\"}},\"header\":{\"fill\":{\"color\":\"#C8D4E3\"},\"line\":{\"color\":\"white\"}},\"type\":\"table\"}]},\"layout\":{\"annotationdefaults\":{\"arrowcolor\":\"#2a3f5f\",\"arrowhead\":0,\"arrowwidth\":1},\"autotypenumbers\":\"strict\",\"coloraxis\":{\"colorbar\":{\"outlinewidth\":0,\"ticks\":\"\"}},\"colorscale\":{\"diverging\":[[0,\"#8e0152\"],[0.1,\"#c51b7d\"],[0.2,\"#de77ae\"],[0.3,\"#f1b6da\"],[0.4,\"#fde0ef\"],[0.5,\"#f7f7f7\"],[0.6,\"#e6f5d0\"],[0.7,\"#b8e186\"],[0.8,\"#7fbc41\"],[0.9,\"#4d9221\"],[1,\"#276419\"]],\"sequential\":[[0.0,\"#0d0887\"],[0.1111111111111111,\"#46039f\"],[0.2222222222222222,\"#7201a8\"],[0.3333333333333333,\"#9c179e\"],[0.4444444444444444,\"#bd3786\"],[0.5555555555555556,\"#d8576b\"],[0.6666666666666666,\"#ed7953\"],[0.7777777777777778,\"#fb9f3a\"],[0.8888888888888888,\"#fdca26\"],[1.0,\"#f0f921\"]],\"sequentialminus\":[[0.0,\"#0d0887\"],[0.1111111111111111,\"#46039f\"],[0.2222222222222222,\"#7201a8\"],[0.3333333333333333,\"#9c179e\"],[0.4444444444444444,\"#bd3786\"],[0.5555555555555556,\"#d8576b\"],[0.6666666666666666,\"#ed7953\"],[0.7777777777777778,\"#fb9f3a\"],[0.8888888888888888,\"#fdca26\"],[1.0,\"#f0f921\"]]},\"colorway\":[\"#636efa\",\"#EF553B\",\"#00cc96\",\"#ab63fa\",\"#FFA15A\",\"#19d3f3\",\"#FF6692\",\"#B6E880\",\"#FF97FF\",\"#FECB52\"],\"font\":{\"color\":\"#2a3f5f\"},\"geo\":{\"bgcolor\":\"white\",\"lakecolor\":\"white\",\"landcolor\":\"#E5ECF6\",\"showlakes\":true,\"showland\":true,\"subunitcolor\":\"white\"},\"hoverlabel\":{\"align\":\"left\"},\"hovermode\":\"closest\",\"mapbox\":{\"style\":\"light\"},\"paper_bgcolor\":\"white\",\"plot_bgcolor\":\"#E5ECF6\",\"polar\":{\"angularaxis\":{\"gridcolor\":\"white\",\"linecolor\":\"white\",\"ticks\":\"\"},\"bgcolor\":\"#E5ECF6\",\"radialaxis\":{\"gridcolor\":\"white\",\"linecolor\":\"white\",\"ticks\":\"\"}},\"scene\":{\"xaxis\":{\"backgroundcolor\":\"#E5ECF6\",\"gridcolor\":\"white\",\"gridwidth\":2,\"linecolor\":\"white\",\"showbackground\":true,\"ticks\":\"\",\"zerolinecolor\":\"white\"},\"yaxis\":{\"backgroundcolor\":\"#E5ECF6\",\"gridcolor\":\"white\",\"gridwidth\":2,\"linecolor\":\"white\",\"showbackground\":true,\"ticks\":\"\",\"zerolinecolor\":\"white\"},\"zaxis\":{\"backgroundcolor\":\"#E5ECF6\",\"gridcolor\":\"white\",\"gridwidth\":2,\"linecolor\":\"white\",\"showbackground\":true,\"ticks\":\"\",\"zerolinecolor\":\"white\"}},\"shapedefaults\":{\"line\":{\"color\":\"#2a3f5f\"}},\"ternary\":{\"aaxis\":{\"gridcolor\":\"white\",\"linecolor\":\"white\",\"ticks\":\"\"},\"baxis\":{\"gridcolor\":\"white\",\"linecolor\":\"white\",\"ticks\":\"\"},\"bgcolor\":\"#E5ECF6\",\"caxis\":{\"gridcolor\":\"white\",\"linecolor\":\"white\",\"ticks\":\"\"}},\"title\":{\"x\":0.05},\"xaxis\":{\"automargin\":true,\"gridcolor\":\"white\",\"linecolor\":\"white\",\"ticks\":\"\",\"title\":{\"standoff\":15},\"zerolinecolor\":\"white\",\"zerolinewidth\":2},\"yaxis\":{\"automargin\":true,\"gridcolor\":\"white\",\"linecolor\":\"white\",\"ticks\":\"\",\"title\":{\"standoff\":15},\"zerolinecolor\":\"white\",\"zerolinewidth\":2}}}},                        {\"responsive\": true}                    ).then(function(){\n                            \nvar gd = document.getElementById('fcc5bc82-51c9-4d4f-bac9-fa7dc2df5cbd');\nvar x = new MutationObserver(function (mutations, observer) {{\n        var display = window.getComputedStyle(gd).display;\n        if (!display || display === 'none') {{\n            console.log([gd, 'removed!']);\n            Plotly.purge(gd);\n            observer.disconnect();\n        }}\n}});\n\n// Listen for the removal of the full notebook cells\nvar notebookContainer = gd.closest('#notebook-container');\nif (notebookContainer) {{\n    x.observe(notebookContainer, {childList: true});\n}}\n\n// Listen for the clearing of the current output cell\nvar outputEl = gd.closest('.output');\nif (outputEl) {{\n    x.observe(outputEl, {childList: true});\n}}\n\n                        })                };                });            </script>        </div>"
     },
     "metadata": {},
     "output_type": "display_data"
    }
   ],
   "source": [
    "fig = go.Figure()\n",
    "\n",
    "for x in range(10):\n",
    "    values = top_10[x:x+1].step_history.values.tolist()\n",
    "\n",
    "    out = []\n",
    "    for idx, y in enumerate(values[0]):\n",
    "        out.append({'value': y})\n",
    "\n",
    "    data = pd.DataFrame(out)\n",
    "\n",
    "    fig.add_trace(go.Scatter(y=data['value'],\n",
    "                             mode='lines',\n",
    "                             name=x))\n",
    "    continue\n",
    "fig.show()\n",
    "\n",
    "\n",
    "#fig = px.line(top_10, y='value', title='Nje')\n",
    "#fig.show()"
   ],
   "metadata": {
    "collapsed": false,
    "pycharm": {
     "name": "#%%\n"
    }
   }
  },
  {
   "cell_type": "code",
   "execution_count": null,
   "outputs": [],
   "source": [],
   "metadata": {
    "collapsed": false,
    "pycharm": {
     "name": "#%%\n"
    }
   }
  }
 ],
 "metadata": {
  "kernelspec": {
   "display_name": "Python 3",
   "language": "python",
   "name": "python3"
  },
  "language_info": {
   "codemirror_mode": {
    "name": "ipython",
    "version": 2
   },
   "file_extension": ".py",
   "mimetype": "text/x-python",
   "name": "python",
   "nbconvert_exporter": "python",
   "pygments_lexer": "ipython2",
   "version": "2.7.6"
  }
 },
 "nbformat": 4,
 "nbformat_minor": 0
}