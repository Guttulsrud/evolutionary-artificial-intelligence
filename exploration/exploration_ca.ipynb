{
 "cells": [
  {
   "cell_type": "code",
   "source": [
    "import json\n",
    "import plotly.express as px\n",
    "import pandas as pd\n",
    "import plotly.graph_objects as go\n",
    "import numpy as np\n",
    "import seaborn as sns\n",
    "import matplotlib.pyplot as plt\n",
    "\n",
    "f = open('final-results.json', )\n",
    "data = json.load(f)\n",
    "f.close()\n",
    "\n",
    "\n",
    "configs = []\n",
    "for x in data['configs']:\n",
    "    configs.append({\n",
    "        'fitness_function': x['evolution']['fitness_function'],\n",
    "        'survival_criterion': x['evolution']['survival_selection_criterion'],\n",
    "        'reproduction_criterion': x['evolution']['reproduction_selection_criterion'],\n",
    "        'mutation_rate': x['evolution']['mutation_rate'],\n",
    "        'survival_rate': x['evolution']['survival_rate'],\n",
    "        'max': x['stats']['time_steps'],\n",
    "        'mean': np.mean(x['stats']['time_step_history']),\n",
    "        'median': np.median(x['stats']['time_step_history']),\n",
    "        'step_history': x['stats']['time_step_history'],\n",
    "        'best_ca': x['stats']['best_individual'],\n",
    "        'best_generation': x['stats']['best_generation'],\n",
    "    })\n",
    "\n",
    "\n",
    "df = pd.DataFrame(configs)\n",
    "df = pd.concat([df.drop(['best_ca'], axis=1), df['best_ca'].apply(pd.Series)], axis=1)\n",
    "df['successful'] = df['max'] > 15000\n",
    "successful = df[df['successful'] == True]"
   ],
   "execution_count": 4,
   "outputs": [],
   "metadata": {}
  },
  {
   "cell_type": "code",
   "source": [
    "df[['fitness_function', 'survival_criterion', 'reproduction_criterion', 'mutation_rate', 'survival_rate', 'max', 'best_generation']]"
   ],
   "execution_count": 5,
   "outputs": [
    {
     "data": {
      "text/plain": "            fitness_function    survival_criterion reproduction_criterion  \\\n0             position_based     rank_proportional                elitist   \n1       angle_and_time_based     rank_proportional                uniform   \n2           total_time_steps               uniform                elitist   \n3           total_time_steps               uniform                elitist   \n4             position_based               uniform   fitness_proportional   \n..                       ...                   ...                    ...   \n94                time_based  fitness_proportional             tournament   \n95  position_and_angle_based               elitist             tournament   \n96            position_based  fitness_proportional      rank_proportional   \n97      angle_and_time_based               uniform      rank_proportional   \n98               angle_based            tournament                elitist   \n\n    mutation_rate  survival_rate      max  best_generation  \n0           0.010            0.1   4295.0               28  \n1           0.010            0.0    955.0               10  \n2           0.010            0.0   1917.0               18  \n3           0.010            0.1    871.0               12  \n4           0.010            0.1   1437.0               24  \n..            ...            ...      ...              ...  \n94          0.001            0.1  12105.0               17  \n95          0.001            0.1   3439.0               26  \n96          0.001            0.2   1797.0                3  \n97          0.001            0.0    567.0               26  \n98          0.001            0.0   1612.0                6  \n\n[99 rows x 7 columns]",
      "text/html": "<div>\n<style scoped>\n    .dataframe tbody tr th:only-of-type {\n        vertical-align: middle;\n    }\n\n    .dataframe tbody tr th {\n        vertical-align: top;\n    }\n\n    .dataframe thead th {\n        text-align: right;\n    }\n</style>\n<table border=\"1\" class=\"dataframe\">\n  <thead>\n    <tr style=\"text-align: right;\">\n      <th></th>\n      <th>fitness_function</th>\n      <th>survival_criterion</th>\n      <th>reproduction_criterion</th>\n      <th>mutation_rate</th>\n      <th>survival_rate</th>\n      <th>max</th>\n      <th>best_generation</th>\n    </tr>\n  </thead>\n  <tbody>\n    <tr>\n      <th>0</th>\n      <td>position_based</td>\n      <td>rank_proportional</td>\n      <td>elitist</td>\n      <td>0.010</td>\n      <td>0.1</td>\n      <td>4295.0</td>\n      <td>28</td>\n    </tr>\n    <tr>\n      <th>1</th>\n      <td>angle_and_time_based</td>\n      <td>rank_proportional</td>\n      <td>uniform</td>\n      <td>0.010</td>\n      <td>0.0</td>\n      <td>955.0</td>\n      <td>10</td>\n    </tr>\n    <tr>\n      <th>2</th>\n      <td>total_time_steps</td>\n      <td>uniform</td>\n      <td>elitist</td>\n      <td>0.010</td>\n      <td>0.0</td>\n      <td>1917.0</td>\n      <td>18</td>\n    </tr>\n    <tr>\n      <th>3</th>\n      <td>total_time_steps</td>\n      <td>uniform</td>\n      <td>elitist</td>\n      <td>0.010</td>\n      <td>0.1</td>\n      <td>871.0</td>\n      <td>12</td>\n    </tr>\n    <tr>\n      <th>4</th>\n      <td>position_based</td>\n      <td>uniform</td>\n      <td>fitness_proportional</td>\n      <td>0.010</td>\n      <td>0.1</td>\n      <td>1437.0</td>\n      <td>24</td>\n    </tr>\n    <tr>\n      <th>...</th>\n      <td>...</td>\n      <td>...</td>\n      <td>...</td>\n      <td>...</td>\n      <td>...</td>\n      <td>...</td>\n      <td>...</td>\n    </tr>\n    <tr>\n      <th>94</th>\n      <td>time_based</td>\n      <td>fitness_proportional</td>\n      <td>tournament</td>\n      <td>0.001</td>\n      <td>0.1</td>\n      <td>12105.0</td>\n      <td>17</td>\n    </tr>\n    <tr>\n      <th>95</th>\n      <td>position_and_angle_based</td>\n      <td>elitist</td>\n      <td>tournament</td>\n      <td>0.001</td>\n      <td>0.1</td>\n      <td>3439.0</td>\n      <td>26</td>\n    </tr>\n    <tr>\n      <th>96</th>\n      <td>position_based</td>\n      <td>fitness_proportional</td>\n      <td>rank_proportional</td>\n      <td>0.001</td>\n      <td>0.2</td>\n      <td>1797.0</td>\n      <td>3</td>\n    </tr>\n    <tr>\n      <th>97</th>\n      <td>angle_and_time_based</td>\n      <td>uniform</td>\n      <td>rank_proportional</td>\n      <td>0.001</td>\n      <td>0.0</td>\n      <td>567.0</td>\n      <td>26</td>\n    </tr>\n    <tr>\n      <th>98</th>\n      <td>angle_based</td>\n      <td>tournament</td>\n      <td>elitist</td>\n      <td>0.001</td>\n      <td>0.0</td>\n      <td>1612.0</td>\n      <td>6</td>\n    </tr>\n  </tbody>\n</table>\n<p>99 rows × 7 columns</p>\n</div>"
     },
     "execution_count": 5,
     "metadata": {},
     "output_type": "execute_result"
    }
   ],
   "metadata": {}
  },
  {
   "cell_type": "code",
   "source": [
    "ax = sns.histplot(data=df, x=\"max\")\n",
    "ax.set_xlabel('Max time steps')\n",
    "ax.set_ylabel('Count')\n",
    "plt.savefig('max_dist.png')"
   ],
   "execution_count": 6,
   "outputs": [
    {
     "ename": "AttributeError",
     "evalue": "module 'seaborn' has no attribute 'histplot'",
     "output_type": "error",
     "traceback": [
      "\u001B[1;31m---------------------------------------------------------------------------\u001B[0m",
      "\u001B[1;31mAttributeError\u001B[0m                            Traceback (most recent call last)",
      "\u001B[1;32m<ipython-input-6-56d986549180>\u001B[0m in \u001B[0;36m<module>\u001B[1;34m\u001B[0m\n\u001B[1;32m----> 1\u001B[1;33m \u001B[0max\u001B[0m \u001B[1;33m=\u001B[0m \u001B[0msns\u001B[0m\u001B[1;33m.\u001B[0m\u001B[0mhistplot\u001B[0m\u001B[1;33m(\u001B[0m\u001B[0mdata\u001B[0m\u001B[1;33m=\u001B[0m\u001B[0mdf\u001B[0m\u001B[1;33m,\u001B[0m \u001B[0mx\u001B[0m\u001B[1;33m=\u001B[0m\u001B[1;34m\"max\"\u001B[0m\u001B[1;33m)\u001B[0m\u001B[1;33m\u001B[0m\u001B[1;33m\u001B[0m\u001B[0m\n\u001B[0m\u001B[0;32m      2\u001B[0m \u001B[0max\u001B[0m\u001B[1;33m.\u001B[0m\u001B[0mset_xlabel\u001B[0m\u001B[1;33m(\u001B[0m\u001B[1;34m'Max time steps'\u001B[0m\u001B[1;33m)\u001B[0m\u001B[1;33m\u001B[0m\u001B[1;33m\u001B[0m\u001B[0m\n\u001B[0;32m      3\u001B[0m \u001B[0max\u001B[0m\u001B[1;33m.\u001B[0m\u001B[0mset_ylabel\u001B[0m\u001B[1;33m(\u001B[0m\u001B[1;34m'Count'\u001B[0m\u001B[1;33m)\u001B[0m\u001B[1;33m\u001B[0m\u001B[1;33m\u001B[0m\u001B[0m\n\u001B[0;32m      4\u001B[0m \u001B[0mplt\u001B[0m\u001B[1;33m.\u001B[0m\u001B[0msavefig\u001B[0m\u001B[1;33m(\u001B[0m\u001B[1;34m'max_dist.png'\u001B[0m\u001B[1;33m)\u001B[0m\u001B[1;33m\u001B[0m\u001B[1;33m\u001B[0m\u001B[0m\n\u001B[0;32m      5\u001B[0m \u001B[1;33m\u001B[0m\u001B[0m\n",
      "\u001B[1;31mAttributeError\u001B[0m: module 'seaborn' has no attribute 'histplot'"
     ]
    }
   ],
   "metadata": {}
  },
  {
   "cell_type": "code",
   "source": [
    "ax = sns.histplot(data=df, x=\"mean\")\n",
    "ax.set_xlabel('Mean time steps')\n",
    "ax.set_ylabel('Count')\n",
    "plt.savefig('mean_dist.png')"
   ],
   "execution_count": 7,
   "outputs": [
    {
     "ename": "AttributeError",
     "evalue": "module 'seaborn' has no attribute 'histplot'",
     "output_type": "error",
     "traceback": [
      "\u001B[1;31m---------------------------------------------------------------------------\u001B[0m",
      "\u001B[1;31mAttributeError\u001B[0m                            Traceback (most recent call last)",
      "\u001B[1;32m<ipython-input-7-c0e20c9f8abb>\u001B[0m in \u001B[0;36m<module>\u001B[1;34m\u001B[0m\n\u001B[1;32m----> 1\u001B[1;33m \u001B[0max\u001B[0m \u001B[1;33m=\u001B[0m \u001B[0msns\u001B[0m\u001B[1;33m.\u001B[0m\u001B[0mhistplot\u001B[0m\u001B[1;33m(\u001B[0m\u001B[0mdata\u001B[0m\u001B[1;33m=\u001B[0m\u001B[0mdf\u001B[0m\u001B[1;33m,\u001B[0m \u001B[0mx\u001B[0m\u001B[1;33m=\u001B[0m\u001B[1;34m\"mean\"\u001B[0m\u001B[1;33m)\u001B[0m\u001B[1;33m\u001B[0m\u001B[1;33m\u001B[0m\u001B[0m\n\u001B[0m\u001B[0;32m      2\u001B[0m \u001B[0max\u001B[0m\u001B[1;33m.\u001B[0m\u001B[0mset_xlabel\u001B[0m\u001B[1;33m(\u001B[0m\u001B[1;34m'Mean time steps'\u001B[0m\u001B[1;33m)\u001B[0m\u001B[1;33m\u001B[0m\u001B[1;33m\u001B[0m\u001B[0m\n\u001B[0;32m      3\u001B[0m \u001B[0max\u001B[0m\u001B[1;33m.\u001B[0m\u001B[0mset_ylabel\u001B[0m\u001B[1;33m(\u001B[0m\u001B[1;34m'Count'\u001B[0m\u001B[1;33m)\u001B[0m\u001B[1;33m\u001B[0m\u001B[1;33m\u001B[0m\u001B[0m\n\u001B[0;32m      4\u001B[0m \u001B[0mplt\u001B[0m\u001B[1;33m.\u001B[0m\u001B[0msavefig\u001B[0m\u001B[1;33m(\u001B[0m\u001B[1;34m'mean_dist.png'\u001B[0m\u001B[1;33m)\u001B[0m\u001B[1;33m\u001B[0m\u001B[1;33m\u001B[0m\u001B[0m\n\u001B[0;32m      5\u001B[0m \u001B[1;33m\u001B[0m\u001B[0m\n",
      "\u001B[1;31mAttributeError\u001B[0m: module 'seaborn' has no attribute 'histplot'"
     ]
    }
   ],
   "metadata": {}
  },
  {
   "cell_type": "code",
   "source": [
    "ax = sns.histplot(data=df, x=\"median\")\n",
    "ax.set_xlabel('Median time steps')\n",
    "ax.set_ylabel('Count')\n",
    "plt.savefig('median_dist.png')"
   ],
   "execution_count": null,
   "outputs": [],
   "metadata": {}
  },
  {
   "cell_type": "code",
   "source": [
    "ax = sns.histplot(data=df, x=\"best_generation\")\n",
    "ax.set_xlabel('Generation #')\n",
    "ax.set_ylabel('Count')\n",
    "plt.savefig('gen_dist.png')"
   ],
   "execution_count": null,
   "outputs": [],
   "metadata": {}
  },
  {
   "cell_type": "code",
   "source": [
    "df['mean'].mean()"
   ],
   "execution_count": null,
   "outputs": [],
   "metadata": {}
  },
  {
   "cell_type": "code",
   "source": [
    "df['median'].median()"
   ],
   "execution_count": null,
   "outputs": [],
   "metadata": {}
  },
  {
   "cell_type": "code",
   "source": [
    "len(df), len(df[df['max'] > 1000])"
   ],
   "execution_count": null,
   "outputs": [],
   "metadata": {}
  },
  {
   "cell_type": "code",
   "source": [
    "len(df), len(df[df['max'] > 10000])"
   ],
   "execution_count": null,
   "outputs": [],
   "metadata": {}
  },
  {
   "cell_type": "code",
   "source": [
    "len(df), len(df[df['max'] > 20000])"
   ],
   "execution_count": null,
   "outputs": [],
   "metadata": {}
  },
  {
   "cell_type": "code",
   "source": [
    "len(df), len(df[df['max'] > 25000])"
   ],
   "execution_count": null,
   "outputs": [],
   "metadata": {}
  },
  {
   "cell_type": "code",
   "source": [
    "maxed_out = df[df['max'] == 29999]\n",
    "len(maxed_out)"
   ],
   "execution_count": null,
   "outputs": [],
   "metadata": {}
  },
  {
   "cell_type": "code",
   "source": [
    "len(successful)"
   ],
   "execution_count": null,
   "outputs": [],
   "metadata": {}
  },
  {
   "cell_type": "code",
   "source": [
    "successful['mean'].mean(), successful['median'].median()"
   ],
   "execution_count": null,
   "outputs": [],
   "metadata": {}
  },
  {
   "cell_type": "code",
   "source": [
    "df.groupby('fitness_function')['max'].max()"
   ],
   "execution_count": null,
   "outputs": [],
   "metadata": {}
  },
  {
   "cell_type": "code",
   "source": [
    "df.groupby('fitness_function')['mean'].mean()"
   ],
   "execution_count": null,
   "outputs": [],
   "metadata": {}
  },
  {
   "cell_type": "code",
   "source": [
    "df.groupby('fitness_function')['median'].median()"
   ],
   "execution_count": null,
   "outputs": [],
   "metadata": {}
  },
  {
   "cell_type": "code",
   "source": [
    "successful.groupby('fitness_function')['successful'].count().sort_values(ascending=False)"
   ],
   "execution_count": null,
   "outputs": [],
   "metadata": {}
  },
  {
   "cell_type": "code",
   "source": [
    "df['fitness_function_short'] = df['fitness_function'].replace(\n",
    "    {\n",
    "        'angle_based': 'ab',\n",
    "        'position_based': 'pb',\n",
    "        'angle_and_time_based': 'atb',\n",
    "        'time_based': 'tb',\n",
    "        'total_time_steps': 'tts',\n",
    "        'position_and_angle_based': 'pab',\n",
    "    }\n",
    ")\n",
    "\n",
    "df"
   ],
   "execution_count": null,
   "outputs": [],
   "metadata": {}
  },
  {
   "cell_type": "code",
   "source": [
    "from lets_plot import *\n",
    "ggplot(df) + geom_point(aes(x=\"action_index\", y=\"best_generation\")) + ggtitle(\"Hello!\") + xlab(\"Some Axi label\")"
   ],
   "execution_count": null,
   "outputs": [],
   "metadata": {}
  },
  {
   "cell_type": "code",
   "source": [
    "data = df.explode('step_history').reset_index(drop=True)\n",
    "data.step_history = data.step_history.astype(float)"
   ],
   "execution_count": null,
   "outputs": [],
   "metadata": {}
  },
  {
   "cell_type": "code",
   "source": [
    "\n",
    "#sns.set(rc={'figure.figsize':(11.7,8.27)})\n",
    "ax = sns.violinplot(x=\"fitness_function_short\", y=\"mean\", data=df)\n",
    "ax.set_xlabel('Fitness function')\n",
    "ax.set_ylabel('Count')\n",
    "plt.savefig('mean_violin.png')"
   ],
   "execution_count": null,
   "outputs": [],
   "metadata": {}
  },
  {
   "cell_type": "code",
   "source": [
    "\n",
    "#sns.set(rc={'figure.figsize':(11.7,8.27)})\n",
    "ax = sns.violinplot(x=\"fitness_function_short\", y=\"median\", data=df)\n",
    "ax.set_xlabel('Fitness function')\n",
    "ax.set_ylabel('Count')\n",
    "plt.savefig('median_violin.png')"
   ],
   "execution_count": null,
   "outputs": [],
   "metadata": {}
  },
  {
   "cell_type": "code",
   "source": [
    "successful.fitness_function.value_counts()"
   ],
   "execution_count": null,
   "outputs": [],
   "metadata": {}
  },
  {
   "cell_type": "code",
   "source": [
    "successful.survival_criterion.value_counts()"
   ],
   "execution_count": null,
   "outputs": [],
   "metadata": {}
  },
  {
   "cell_type": "code",
   "source": [
    "successful.reproduction_criterion.value_counts()"
   ],
   "execution_count": null,
   "outputs": [],
   "metadata": {}
  },
  {
   "cell_type": "code",
   "source": [
    "top_10 = successful.sort_values(by='max', ascending=False).head(10)"
   ],
   "execution_count": null,
   "outputs": [],
   "metadata": {}
  },
  {
   "cell_type": "code",
   "source": [
    "fig = go.Figure()\n",
    "\n",
    "for x in range(len(top_10)):\n",
    "    values = top_10[x:x+1].step_history.values.tolist()\n",
    "\n",
    "    out = []\n",
    "    for idx, y in enumerate(values[0]):\n",
    "        out.append({'value': y})\n",
    "\n",
    "    data = pd.DataFrame(out)\n",
    "\n",
    "    fig.add_trace(go.Scatter(y=data['value'],\n",
    "                             mode='lines',\n",
    "                             name=x +1 ))\n",
    "    continue\n",
    "fig.show()"
   ],
   "execution_count": null,
   "outputs": [],
   "metadata": {}
  },
  {
   "cell_type": "code",
   "source": [
    "df.groupby(['fitness_function', 'survival_criterion', 'reproduction_criterion'])['mean'].max().reset_index().sort_values(by='mean',ascending=False).head(5)"
   ],
   "execution_count": null,
   "outputs": [],
   "metadata": {}
  },
  {
   "cell_type": "code",
   "source": [
    "df.groupby(['fitness_function', 'survival_criterion', 'reproduction_criterion'])['median'].max().reset_index().sort_values(by='median',ascending=False).head(5)"
   ],
   "execution_count": null,
   "outputs": [],
   "metadata": {}
  },
  {
   "cell_type": "code",
   "source": [
    "df['pole_angle'] = df['pole_angle'].apply(lambda x: x[0])\n",
    "df = pd.concat([df.drop(['pole_angle'], axis=1), df['pole_angle'].apply(pd.Series)], axis=1)\n",
    "df['pole_angle'] = df['value']"
   ],
   "execution_count": null,
   "outputs": [],
   "metadata": {}
  },
  {
   "cell_type": "code",
   "source": [
    "successful.rule_number.value_counts().head(5)"
   ],
   "execution_count": null,
   "outputs": [],
   "metadata": {}
  },
  {
   "cell_type": "code",
   "source": [
    "successful.survival_rate.value_counts()"
   ],
   "execution_count": null,
   "outputs": [],
   "metadata": {}
  },
  {
   "cell_type": "code",
   "source": [
    "ax = sns.histplot(data=df, x=\"pole_angle\", hue='successful')\n",
    "ax.set_xlabel('Angle value')\n",
    "ax.set_ylabel('Count')\n",
    "plt.savefig('angle_dist.png')"
   ],
   "execution_count": null,
   "outputs": [],
   "metadata": {}
  },
  {
   "cell_type": "code",
   "source": [],
   "execution_count": null,
   "outputs": [],
   "metadata": {}
  }
 ],
 "metadata": {
  "kernelspec": {
   "name": "python3",
   "language": "python",
   "display_name": "Python 3"
  }
 },
 "nbformat": 4,
 "nbformat_minor": 0
}