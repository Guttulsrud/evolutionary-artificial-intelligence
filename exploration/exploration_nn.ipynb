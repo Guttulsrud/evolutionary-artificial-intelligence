{
 "cells": [
  {
   "cell_type": "code",
   "source": [
    "import json\n",
    "import pandas as pd\n",
    "import plotly.graph_objects as go\n",
    "import numpy as np\n",
    "import seaborn as sns\n",
    "import matplotlib.pyplot as plt\n",
    "\n",
    "f = open('final-results-nn.json', )\n",
    "data = json.load(f)\n",
    "f.close()\n",
    "\n",
    "\n",
    "configs = []\n",
    "for x in data['configs']:\n",
    "    configs.append({\n",
    "        'phenotype': x['general']['phenotype'],\n",
    "        'fitness_function': x['evolution']['fitness_function'],\n",
    "        'survival_criterion': x['evolution']['survival_selection_criterion'],\n",
    "        'reproduction_criterion': x['evolution']['reproduction_selection_criterion'],\n",
    "        'mutation_rate': x['evolution']['mutation_rate'],\n",
    "        'survival_rate': x['evolution']['survival_rate'],\n",
    "        'max': x['stats']['time_steps'],\n",
    "        'mean': np.mean(x['stats']['time_step_history']),\n",
    "        'median': np.median(x['stats']['time_step_history']),\n",
    "        'step_history': x['stats']['time_step_history'],\n",
    "        'best_nn': x['stats']['best_individual'],\n",
    "        'best_generation': x['stats']['best_generation'],\n",
    "\n",
    "    })\n",
    "\n",
    "\n",
    "df = pd.DataFrame(configs)\n",
    "df = df[df.phenotype == 'nn']\n",
    "\n",
    "df = df.sample(40)\n",
    "df = pd.concat([df.drop(['best_nn'], axis=1), df['best_nn'].apply(pd.Series)], axis=1)\n",
    "df['successful'] = df['max'] > 15000\n",
    "successful = df[df['successful'] == True]\n"
   ],
   "execution_count": 9,
   "outputs": [],
   "metadata": {}
  },
  {
   "cell_type": "code",
   "source": [
    "df.info()"
   ],
   "execution_count": 10,
   "outputs": [
    {
     "name": "stdout",
     "output_type": "stream",
     "text": [
      "<class 'pandas.core.frame.DataFrame'>\n",
      "Int64Index: 40 entries, 114 to 152\n",
      "Data columns (total 14 columns):\n",
      " #   Column                  Non-Null Count  Dtype  \n",
      "---  ------                  --------------  -----  \n",
      " 0   phenotype               40 non-null     object \n",
      " 1   fitness_function        40 non-null     object \n",
      " 2   survival_criterion      40 non-null     object \n",
      " 3   reproduction_criterion  40 non-null     object \n",
      " 4   mutation_rate           40 non-null     float64\n",
      " 5   survival_rate           40 non-null     float64\n",
      " 6   max                     40 non-null     float64\n",
      " 7   mean                    40 non-null     float64\n",
      " 8   median                  40 non-null     float64\n",
      " 9   step_history            40 non-null     object \n",
      " 10  best_generation         40 non-null     int64  \n",
      " 11  hidden_layers           40 non-null     object \n",
      " 12  weights                 40 non-null     object \n",
      " 13  successful              40 non-null     bool   \n",
      "dtypes: bool(1), float64(5), int64(1), object(7)\n",
      "memory usage: 4.4+ KB\n"
     ]
    }
   ],
   "metadata": {}
  },
  {
   "cell_type": "code",
   "source": [
    "ax = sns.histplot(data=df, x=\"mean\")\n",
    "ax.set_xlabel('Mean time steps')\n",
    "ax.set_ylabel('Count')\n",
    "plt.savefig('mean_dist_nn.png')"
   ],
   "execution_count": 11,
   "outputs": [
    {
     "ename": "AttributeError",
     "evalue": "module 'seaborn' has no attribute 'histplot'",
     "output_type": "error",
     "traceback": [
      "\u001B[1;31m---------------------------------------------------------------------------\u001B[0m",
      "\u001B[1;31mAttributeError\u001B[0m                            Traceback (most recent call last)",
      "\u001B[1;32m<ipython-input-11-ad716381d740>\u001B[0m in \u001B[0;36m<module>\u001B[1;34m\u001B[0m\n\u001B[1;32m----> 1\u001B[1;33m \u001B[0max\u001B[0m \u001B[1;33m=\u001B[0m \u001B[0msns\u001B[0m\u001B[1;33m.\u001B[0m\u001B[0mhistplot\u001B[0m\u001B[1;33m(\u001B[0m\u001B[0mdata\u001B[0m\u001B[1;33m=\u001B[0m\u001B[0mdf\u001B[0m\u001B[1;33m,\u001B[0m \u001B[0mx\u001B[0m\u001B[1;33m=\u001B[0m\u001B[1;34m\"mean\"\u001B[0m\u001B[1;33m)\u001B[0m\u001B[1;33m\u001B[0m\u001B[1;33m\u001B[0m\u001B[0m\n\u001B[0m\u001B[0;32m      2\u001B[0m \u001B[0max\u001B[0m\u001B[1;33m.\u001B[0m\u001B[0mset_xlabel\u001B[0m\u001B[1;33m(\u001B[0m\u001B[1;34m'Mean time steps'\u001B[0m\u001B[1;33m)\u001B[0m\u001B[1;33m\u001B[0m\u001B[1;33m\u001B[0m\u001B[0m\n\u001B[0;32m      3\u001B[0m \u001B[0max\u001B[0m\u001B[1;33m.\u001B[0m\u001B[0mset_ylabel\u001B[0m\u001B[1;33m(\u001B[0m\u001B[1;34m'Count'\u001B[0m\u001B[1;33m)\u001B[0m\u001B[1;33m\u001B[0m\u001B[1;33m\u001B[0m\u001B[0m\n\u001B[0;32m      4\u001B[0m \u001B[0mplt\u001B[0m\u001B[1;33m.\u001B[0m\u001B[0msavefig\u001B[0m\u001B[1;33m(\u001B[0m\u001B[1;34m'mean_dist_nn.png'\u001B[0m\u001B[1;33m)\u001B[0m\u001B[1;33m\u001B[0m\u001B[1;33m\u001B[0m\u001B[0m\n\u001B[0;32m      5\u001B[0m \u001B[1;33m\u001B[0m\u001B[0m\n",
      "\u001B[1;31mAttributeError\u001B[0m: module 'seaborn' has no attribute 'histplot'"
     ]
    }
   ],
   "metadata": {}
  },
  {
   "cell_type": "code",
   "source": [
    "ax = sns.histplot(data=df, x=\"best_generation\")\n",
    "ax.set_xlabel('Generation #')\n",
    "ax.set_ylabel('Count')\n",
    "plt.savefig('gen_dist_nn.png')"
   ],
   "execution_count": null,
   "outputs": [],
   "metadata": {}
  },
  {
   "cell_type": "code",
   "source": [
    "df['mean'].mean()"
   ],
   "execution_count": null,
   "outputs": [],
   "metadata": {}
  },
  {
   "cell_type": "code",
   "source": [
    "df['median'].median()"
   ],
   "execution_count": null,
   "outputs": [],
   "metadata": {}
  },
  {
   "cell_type": "code",
   "source": [
    "len(df), len(df[df['max'] > 1000])"
   ],
   "execution_count": null,
   "outputs": [],
   "metadata": {}
  },
  {
   "cell_type": "code",
   "source": [
    "len(df), len(df[df['max'] > 10000])"
   ],
   "execution_count": null,
   "outputs": [],
   "metadata": {}
  },
  {
   "cell_type": "code",
   "source": [
    "len(successful)"
   ],
   "execution_count": null,
   "outputs": [],
   "metadata": {}
  },
  {
   "cell_type": "code",
   "source": [
    "len(df), len(df[df['max'] > 20000])"
   ],
   "execution_count": null,
   "outputs": [],
   "metadata": {}
  },
  {
   "cell_type": "code",
   "source": [
    "len(df), len(df[df['max'] > 25000])"
   ],
   "execution_count": null,
   "outputs": [],
   "metadata": {}
  },
  {
   "cell_type": "code",
   "source": [
    "maxed_out = df[df['max'] == 29999]\n",
    "len(maxed_out)"
   ],
   "execution_count": null,
   "outputs": [],
   "metadata": {}
  },
  {
   "cell_type": "code",
   "source": [
    "df.groupby('fitness_function')['max'].max()"
   ],
   "execution_count": null,
   "outputs": [],
   "metadata": {}
  },
  {
   "cell_type": "code",
   "source": [
    "df.groupby('fitness_function')['mean'].mean().sort_values()"
   ],
   "execution_count": null,
   "outputs": [],
   "metadata": {}
  },
  {
   "cell_type": "code",
   "source": [
    "df.groupby('fitness_function')['median'].median()"
   ],
   "execution_count": null,
   "outputs": [],
   "metadata": {}
  },
  {
   "cell_type": "code",
   "source": [
    "successful.groupby('fitness_function')['successful'].count().sort_values(ascending=False)"
   ],
   "execution_count": null,
   "outputs": [],
   "metadata": {}
  },
  {
   "cell_type": "code",
   "source": [
    "successful.fitness_function.value_counts()\n"
   ],
   "execution_count": null,
   "outputs": [],
   "metadata": {}
  },
  {
   "cell_type": "code",
   "source": [
    "df.groupby(['fitness_function', 'survival_criterion', 'reproduction_criterion'])['mean'].max().reset_index().sort_values(by='mean',ascending=False).head(5)"
   ],
   "execution_count": null,
   "outputs": [],
   "metadata": {}
  },
  {
   "cell_type": "code",
   "source": [
    "df.groupby(['fitness_function', 'survival_criterion', 'reproduction_criterion'])['median'].max().reset_index().sort_values(by='median',ascending=False).head(5)"
   ],
   "execution_count": null,
   "outputs": [],
   "metadata": {}
  },
  {
   "cell_type": "code",
   "source": [
    "df"
   ],
   "execution_count": null,
   "outputs": [],
   "metadata": {}
  }
 ],
 "metadata": {
  "kernelspec": {
   "name": "python3",
   "language": "python",
   "display_name": "Python 3"
  }
 },
 "nbformat": 4,
 "nbformat_minor": 0
}