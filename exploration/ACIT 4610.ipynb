{
  "cells":[
    {
      "cell_type":"code",
      "source":[
        "import json\n",
        "import plotly.express as px\n",
        "import pandas as pd\n",
        "import plotly.graph_objects as go\n",
        "import numpy as np\n",
        "import seaborn as sns\n",
        "import matplotlib.pyplot as plt\n",
        "\n",
        "f = open('final-results.json', )\n",
        "data = json.load(f)\n",
        "f.close()\n",
        "\n",
        "\n",
        "configs = []\n",
        "for x in data['configs']:\n",
        "    configs.append({\n",
        "        'fitness_function': x['evolution']['fitness_function'],\n",
        "        'survival_criterion': x['evolution']['survival_selection_criterion'],\n",
        "        'reproduction_criterion': x['evolution']['reproduction_selection_criterion'],\n",
        "        'mutation_rate': x['evolution']['mutation_rate'],\n",
        "        'survival_rate': x['evolution']['survival_rate'],\n",
        "        'max': x['stats']['time_steps'],\n",
        "        'mean': np.mean(x['stats']['time_step_history']),\n",
        "        'median': np.median(x['stats']['time_step_history']),\n",
        "        'step_history': x['stats']['time_step_history'],\n",
        "        'best_ca': x['stats']['best_individual'],\n",
        "        'best_generation': x['stats']['best_generation'],\n",
        "    })\n",
        "\n",
        "\n",
        "df = pd.DataFrame(configs)\n",
        "df = pd.concat([df.drop(['best_ca'], axis=1), df['best_ca'].apply(pd.Series)], axis=1)\n",
        "df['successful'] = df['max'] > 15000\n",
        "successful = df[df['successful'] == True]"
      ],
      "execution_count":1,
      "outputs":[
        
      ],
      "metadata":{
        
      }
    },
    {
      "cell_type":"code",
      "source":[
        "df[['fitness_function', 'survival_criterion', 'reproduction_criterion', 'mutation_rate', 'survival_rate', 'max', 'best_generation']]"
      ],
      "execution_count":2,
      "outputs":[
        {
          "data":{
            "text\/html":[
              "<div>\n",
              "<style scoped>\n",
              "    .dataframe tbody tr th:only-of-type {\n",
              "        vertical-align: middle;\n",
              "    }\n",
              "\n",
              "    .dataframe tbody tr th {\n",
              "        vertical-align: top;\n",
              "    }\n",
              "\n",
              "    .dataframe thead th {\n",
              "        text-align: right;\n",
              "    }\n",
              "<\/style>\n",
              "<table border=\"1\" class=\"dataframe\">\n",
              "  <thead>\n",
              "    <tr style=\"text-align: right;\">\n",
              "      <th><\/th>\n",
              "      <th>fitness_function<\/th>\n",
              "      <th>survival_criterion<\/th>\n",
              "      <th>reproduction_criterion<\/th>\n",
              "      <th>mutation_rate<\/th>\n",
              "      <th>survival_rate<\/th>\n",
              "      <th>max<\/th>\n",
              "      <th>best_generation<\/th>\n",
              "    <\/tr>\n",
              "  <\/thead>\n",
              "  <tbody>\n",
              "    <tr>\n",
              "      <th>0<\/th>\n",
              "      <td>total_time_steps<\/td>\n",
              "      <td>uniform<\/td>\n",
              "      <td>uniform<\/td>\n",
              "      <td>0.01<\/td>\n",
              "      <td>0.1<\/td>\n",
              "      <td>1518.0<\/td>\n",
              "      <td>10<\/td>\n",
              "    <\/tr>\n",
              "    <tr>\n",
              "      <th>1<\/th>\n",
              "      <td>angle_and_time_based<\/td>\n",
              "      <td>rank_proportional<\/td>\n",
              "      <td>fitness_proportional<\/td>\n",
              "      <td>0.01<\/td>\n",
              "      <td>0.2<\/td>\n",
              "      <td>20197.0<\/td>\n",
              "      <td>5<\/td>\n",
              "    <\/tr>\n",
              "    <tr>\n",
              "      <th>2<\/th>\n",
              "      <td>total_time_steps<\/td>\n",
              "      <td>rank_proportional<\/td>\n",
              "      <td>elitist<\/td>\n",
              "      <td>0.01<\/td>\n",
              "      <td>0.1<\/td>\n",
              "      <td>4527.0<\/td>\n",
              "      <td>35<\/td>\n",
              "    <\/tr>\n",
              "    <tr>\n",
              "      <th>3<\/th>\n",
              "      <td>angle_and_time_based<\/td>\n",
              "      <td>tournament<\/td>\n",
              "      <td>rank_proportional<\/td>\n",
              "      <td>0.01<\/td>\n",
              "      <td>0.2<\/td>\n",
              "      <td>1044.0<\/td>\n",
              "      <td>2<\/td>\n",
              "    <\/tr>\n",
              "    <tr>\n",
              "      <th>4<\/th>\n",
              "      <td>time_based<\/td>\n",
              "      <td>tournament<\/td>\n",
              "      <td>uniform<\/td>\n",
              "      <td>0.01<\/td>\n",
              "      <td>0.1<\/td>\n",
              "      <td>6225.0<\/td>\n",
              "      <td>27<\/td>\n",
              "    <\/tr>\n",
              "    <tr>\n",
              "      <th>...<\/th>\n",
              "      <td>...<\/td>\n",
              "      <td>...<\/td>\n",
              "      <td>...<\/td>\n",
              "      <td>...<\/td>\n",
              "      <td>...<\/td>\n",
              "      <td>...<\/td>\n",
              "      <td>...<\/td>\n",
              "    <\/tr>\n",
              "    <tr>\n",
              "      <th>295<\/th>\n",
              "      <td>angle_based<\/td>\n",
              "      <td>tournament<\/td>\n",
              "      <td>elitist<\/td>\n",
              "      <td>0.01<\/td>\n",
              "      <td>0.2<\/td>\n",
              "      <td>2242.0<\/td>\n",
              "      <td>7<\/td>\n",
              "    <\/tr>\n",
              "    <tr>\n",
              "      <th>296<\/th>\n",
              "      <td>total_time_steps<\/td>\n",
              "      <td>elitist<\/td>\n",
              "      <td>elitist<\/td>\n",
              "      <td>0.01<\/td>\n",
              "      <td>0.0<\/td>\n",
              "      <td>7625.0<\/td>\n",
              "      <td>18<\/td>\n",
              "    <\/tr>\n",
              "    <tr>\n",
              "      <th>297<\/th>\n",
              "      <td>total_time_steps<\/td>\n",
              "      <td>uniform<\/td>\n",
              "      <td>fitness_proportional<\/td>\n",
              "      <td>0.01<\/td>\n",
              "      <td>0.0<\/td>\n",
              "      <td>554.0<\/td>\n",
              "      <td>18<\/td>\n",
              "    <\/tr>\n",
              "    <tr>\n",
              "      <th>298<\/th>\n",
              "      <td>position_and_angle_based<\/td>\n",
              "      <td>rank_proportional<\/td>\n",
              "      <td>elitist<\/td>\n",
              "      <td>0.01<\/td>\n",
              "      <td>0.1<\/td>\n",
              "      <td>19477.0<\/td>\n",
              "      <td>38<\/td>\n",
              "    <\/tr>\n",
              "    <tr>\n",
              "      <th>299<\/th>\n",
              "      <td>time_based<\/td>\n",
              "      <td>uniform<\/td>\n",
              "      <td>rank_proportional<\/td>\n",
              "      <td>0.01<\/td>\n",
              "      <td>0.0<\/td>\n",
              "      <td>1832.0<\/td>\n",
              "      <td>10<\/td>\n",
              "    <\/tr>\n",
              "  <\/tbody>\n",
              "<\/table>\n",
              "<p>300 rows × 7 columns<\/p>\n",
              "<\/div>"
            ]
          },
          "metadata":{
            
          },
          "output_type":"display_data"
        }
      ],
      "metadata":{
        
      }
    },
    {
      "cell_type":"code",
      "source":[
        "ax = sns.histplot(data=df, x=\"max\")\n",
        "ax.set_xlabel('Max time steps')\n",
        "ax.set_ylabel('Count')\n",
        "plt.savefig('max_dist.png')"
      ],
      "execution_count":3,
      "outputs":[
        {
          "data":{
            "image\/png":"[encoded data removed]"
          },
          "metadata":{
            "image\/png":{
              
            }
          },
          "output_type":"display_data"
        }
      ],
      "metadata":{
        
      }
    },
    {
      "cell_type":"code",
      "source":[
        "ax = sns.histplot(data=df, x=\"mean\")\n",
        "ax.set_xlabel('Mean time steps')\n",
        "ax.set_ylabel('Count')\n",
        "plt.savefig('mean_dist.png')"
      ],
      "execution_count":4,
      "outputs":[
        {
          "data":{
            "image\/png":"[encoded data removed]"
          },
          "metadata":{
            "image\/png":{
              
            }
          },
          "output_type":"display_data"
        }
      ],
      "metadata":{
        
      }
    },
    {
      "cell_type":"code",
      "source":[
        "ax = sns.histplot(data=df, x=\"median\")\n",
        "ax.set_xlabel('Median time steps')\n",
        "ax.set_ylabel('Count')\n",
        "plt.savefig('median_dist.png')"
      ],
      "execution_count":5,
      "outputs":[
        {
          "data":{
            "image\/png":"[encoded data removed]"
          },
          "metadata":{
            "image\/png":{
              
            }
          },
          "output_type":"display_data"
        }
      ],
      "metadata":{
        
      }
    },
    {
      "cell_type":"code",
      "source":[
        "ax = sns.histplot(data=df, x=\"best_generation\")\n",
        "ax.set_xlabel('Generation #')\n",
        "ax.set_ylabel('Count')\n",
        "plt.savefig('gen_dist.png')"
      ],
      "execution_count":6,
      "outputs":[
        {
          "data":{
            "image\/png":"[encoded data removed]"
          },
          "metadata":{
            "image\/png":{
              
            }
          },
          "output_type":"display_data"
        }
      ],
      "metadata":{
        
      }
    },
    {
      "cell_type":"code",
      "source":[
        "df['mean'].mean()"
      ],
      "execution_count":7,
      "outputs":[
        {
          "data":{
            "text\/plain":[
              "490.39850000000007"
            ]
          },
          "metadata":{
            
          },
          "output_type":"display_data"
        }
      ],
      "metadata":{
        
      }
    },
    {
      "cell_type":"code",
      "source":[
        "df['median'].median()"
      ],
      "execution_count":8,
      "outputs":[
        {
          "data":{
            "text\/plain":[
              "227.25"
            ]
          },
          "metadata":{
            
          },
          "output_type":"display_data"
        }
      ],
      "metadata":{
        
      }
    },
    {
      "cell_type":"code",
      "source":[
        "len(df), len(df[df['max'] > 1000])"
      ],
      "execution_count":9,
      "outputs":[
        {
          "data":{
            "text\/plain":[
              "(300, 221)"
            ]
          },
          "metadata":{
            
          },
          "output_type":"display_data"
        }
      ],
      "metadata":{
        
      }
    },
    {
      "cell_type":"code",
      "source":[
        "len(df), len(df[df['max'] > 10000])"
      ],
      "execution_count":10,
      "outputs":[
        {
          "data":{
            "text\/plain":[
              "(300, 38)"
            ]
          },
          "metadata":{
            
          },
          "output_type":"display_data"
        }
      ],
      "metadata":{
        
      }
    },
    {
      "cell_type":"code",
      "source":[
        "len(df), len(df[df['max'] > 20000])"
      ],
      "execution_count":11,
      "outputs":[
        {
          "data":{
            "text\/plain":[
              "(300, 20)"
            ]
          },
          "metadata":{
            
          },
          "output_type":"display_data"
        }
      ],
      "metadata":{
        
      }
    },
    {
      "cell_type":"code",
      "source":[
        "len(df), len(df[df['max'] > 25000])"
      ],
      "execution_count":12,
      "outputs":[
        {
          "data":{
            "text\/plain":[
              "(300, 14)"
            ]
          },
          "metadata":{
            
          },
          "output_type":"display_data"
        }
      ],
      "metadata":{
        
      }
    },
    {
      "cell_type":"code",
      "source":[
        "maxed_out = df[df['max'] == 29999]\n",
        "len(maxed_out)"
      ],
      "execution_count":13,
      "outputs":[
        {
          "data":{
            "text\/plain":[
              "10"
            ]
          },
          "metadata":{
            
          },
          "output_type":"display_data"
        }
      ],
      "metadata":{
        
      }
    },
    {
      "cell_type":"code",
      "source":[
        "len(successful)"
      ],
      "execution_count":14,
      "outputs":[
        {
          "data":{
            "text\/plain":[
              "28"
            ]
          },
          "metadata":{
            
          },
          "output_type":"display_data"
        }
      ],
      "metadata":{
        
      }
    },
    {
      "cell_type":"code",
      "source":[
        "successful['mean'].mean(), successful['median'].median()"
      ],
      "execution_count":15,
      "outputs":[
        {
          "data":{
            "text\/plain":[
              "(1366.6, 356.0)"
            ]
          },
          "metadata":{
            
          },
          "output_type":"display_data"
        }
      ],
      "metadata":{
        
      }
    },
    {
      "cell_type":"code",
      "source":[
        "df.groupby('fitness_function')['max'].max()"
      ],
      "execution_count":16,
      "outputs":[
        {
          "data":{
            "text\/html":[
              
            ]
          },
          "metadata":{
            
          },
          "output_type":"display_data"
        }
      ],
      "metadata":{
        
      }
    },
    {
      "cell_type":"code",
      "source":[
        "df.groupby('fitness_function')['mean'].mean()"
      ],
      "execution_count":17,
      "outputs":[
        {
          "data":{
            "text\/html":[
              
            ]
          },
          "metadata":{
            
          },
          "output_type":"display_data"
        }
      ],
      "metadata":{
        
      }
    },
    {
      "cell_type":"code",
      "source":[
        "df.groupby('fitness_function')['median'].median()"
      ],
      "execution_count":18,
      "outputs":[
        {
          "data":{
            "text\/html":[
              
            ]
          },
          "metadata":{
            
          },
          "output_type":"display_data"
        }
      ],
      "metadata":{
        
      }
    },
    {
      "cell_type":"code",
      "source":[
        "successful.groupby('fitness_function')['successful'].count().sort_values(ascending=False)"
      ],
      "execution_count":19,
      "outputs":[
        {
          "data":{
            "text\/html":[
              
            ]
          },
          "metadata":{
            
          },
          "output_type":"display_data"
        }
      ],
      "metadata":{
        
      }
    },
    {
      "cell_type":"code",
      "source":[
        "df['fitness_function_short'] = df['fitness_function'].replace(\n",
        "    {\n",
        "        'angle_based': 'ab',\n",
        "        'position_based': 'pb',\n",
        "        'angle_and_time_based': 'atb',\n",
        "        'time_based': 'tb',\n",
        "        'total_time_steps': 'tts',\n",
        "        'position_and_angle_based': 'pab',\n",
        "    }\n",
        ")\n",
        "\n",
        "df"
      ],
      "execution_count":20,
      "outputs":[
        {
          "data":{
            "text\/html":[
              "<div>\n",
              "<style scoped>\n",
              "    .dataframe tbody tr th:only-of-type {\n",
              "        vertical-align: middle;\n",
              "    }\n",
              "\n",
              "    .dataframe tbody tr th {\n",
              "        vertical-align: top;\n",
              "    }\n",
              "\n",
              "    .dataframe thead th {\n",
              "        text-align: right;\n",
              "    }\n",
              "<\/style>\n",
              "<table border=\"1\" class=\"dataframe\">\n",
              "  <thead>\n",
              "    <tr style=\"text-align: right;\">\n",
              "      <th><\/th>\n",
              "      <th>fitness_function<\/th>\n",
              "      <th>survival_criterion<\/th>\n",
              "      <th>reproduction_criterion<\/th>\n",
              "      <th>mutation_rate<\/th>\n",
              "      <th>survival_rate<\/th>\n",
              "      <th>max<\/th>\n",
              "      <th>mean<\/th>\n",
              "      <th>median<\/th>\n",
              "      <th>step_history<\/th>\n",
              "      <th>best_generation<\/th>\n",
              "      <th>...<\/th>\n",
              "      <th>width<\/th>\n",
              "      <th>kernel_size<\/th>\n",
              "      <th>action_index<\/th>\n",
              "      <th>rule_number<\/th>\n",
              "      <th>pole_angle<\/th>\n",
              "      <th>pole_velocity<\/th>\n",
              "      <th>cart_position<\/th>\n",
              "      <th>cart_velocity<\/th>\n",
              "      <th>successful<\/th>\n",
              "      <th>fitness_function_short<\/th>\n",
              "    <\/tr>\n",
              "  <\/thead>\n",
              "  <tbody>\n",
              "    <tr>\n",
              "      <th>0<\/th>\n",
              "      <td>total_time_steps<\/td>\n",
              "      <td>uniform<\/td>\n",
              "      <td>uniform<\/td>\n",
              "      <td>0.01<\/td>\n",
              "      <td>0.1<\/td>\n",
              "      <td>1518.0<\/td>\n",
              "      <td>308.200<\/td>\n",
              "      <td>242.5<\/td>\n",
              "      <td>[247.0, 223.0, 239.0, 182.0, 293.0, 237.0, 240...<\/td>\n",
              "      <td>10<\/td>\n",
              "      <td>...<\/td>\n",
              "      <td>5<\/td>\n",
              "      <td>3<\/td>\n",
              "      <td>2<\/td>\n",
              "      <td>172<\/td>\n",
              "      <td>[{'value': -0.03, 'index': 2}]<\/td>\n",
              "      <td>[{'value': -0.02, 'index': 0}]<\/td>\n",
              "      <td>[{'value': 0.01, 'index': 1}]<\/td>\n",
              "      <td>[{'value': 0.03, 'index': 0}]<\/td>\n",
              "      <td>False<\/td>\n",
              "      <td>tts<\/td>\n",
              "    <\/tr>\n",
              "    <tr>\n",
              "      <th>1<\/th>\n",
              "      <td>angle_and_time_based<\/td>\n",
              "      <td>rank_proportional<\/td>\n",
              "      <td>fitness_proportional<\/td>\n",
              "      <td>0.01<\/td>\n",
              "      <td>0.2<\/td>\n",
              "      <td>20197.0<\/td>\n",
              "      <td>738.350<\/td>\n",
              "      <td>132.5<\/td>\n",
              "      <td>[169.0, 455.0, 277.0, 566.0, 20197.0, 391.0, 2...<\/td>\n",
              "      <td>5<\/td>\n",
              "      <td>...<\/td>\n",
              "      <td>5<\/td>\n",
              "      <td>3<\/td>\n",
              "      <td>4<\/td>\n",
              "      <td>140<\/td>\n",
              "      <td>[{'value': -0.02, 'index': 4}]<\/td>\n",
              "      <td>[{'value': 0.05, 'index': 4}]<\/td>\n",
              "      <td>[{'value': -0.01, 'index': 4}]<\/td>\n",
              "      <td>[{'value': 0.03, 'index': 1}]<\/td>\n",
              "      <td>True<\/td>\n",
              "      <td>atb<\/td>\n",
              "    <\/tr>\n",
              "    <tr>\n",
              "      <th>2<\/th>\n",
              "      <td>total_time_steps<\/td>\n",
              "      <td>rank_proportional<\/td>\n",
              "      <td>elitist<\/td>\n",
              "      <td>0.01<\/td>\n",
              "      <td>0.1<\/td>\n",
              "      <td>4527.0<\/td>\n",
              "      <td>808.550<\/td>\n",
              "      <td>500.0<\/td>\n",
              "      <td>[298.0, 1196.0, 247.0, 221.0, 237.0, 304.0, 26...<\/td>\n",
              "      <td>35<\/td>\n",
              "      <td>...<\/td>\n",
              "      <td>5<\/td>\n",
              "      <td>3<\/td>\n",
              "      <td>4<\/td>\n",
              "      <td>207<\/td>\n",
              "      <td>[{'value': 0.019999999999999997, 'index': 4}]<\/td>\n",
              "      <td>[{'value': -0.019999999999999997, 'index': 0}]<\/td>\n",
              "      <td>[{'value': 0.03, 'index': 2}]<\/td>\n",
              "      <td>[{'value': -0.060000000000000005, 'index': 3}]<\/td>\n",
              "      <td>False<\/td>\n",
              "      <td>tts<\/td>\n",
              "    <\/tr>\n",
              "    <tr>\n",
              "      <th>3<\/th>\n",
              "      <td>angle_and_time_based<\/td>\n",
              "      <td>tournament<\/td>\n",
              "      <td>rank_proportional<\/td>\n",
              "      <td>0.01<\/td>\n",
              "      <td>0.2<\/td>\n",
              "      <td>1044.0<\/td>\n",
              "      <td>143.425<\/td>\n",
              "      <td>82.0<\/td>\n",
              "      <td>[230.0, 1044.0, 368.0, 328.0, 329.0, 75.0, 214...<\/td>\n",
              "      <td>2<\/td>\n",
              "      <td>...<\/td>\n",
              "      <td>5<\/td>\n",
              "      <td>3<\/td>\n",
              "      <td>1<\/td>\n",
              "      <td>186<\/td>\n",
              "      <td>[{'value': 0.01, 'index': 3}]<\/td>\n",
              "      <td>[{'value': 0.0, 'index': 2}]<\/td>\n",
              "      <td>[{'value': 0.01, 'index': 3}]<\/td>\n",
              "      <td>[{'value': -0.05, 'index': 0}]<\/td>\n",
              "      <td>False<\/td>\n",
              "      <td>atb<\/td>\n",
              "    <\/tr>\n",
              "    <tr>\n",
              "      <th>4<\/th>\n",
              "      <td>time_based<\/td>\n",
              "      <td>tournament<\/td>\n",
              "      <td>uniform<\/td>\n",
              "      <td>0.01<\/td>\n",
              "      <td>0.1<\/td>\n",
              "      <td>6225.0<\/td>\n",
              "      <td>876.450<\/td>\n",
              "      <td>504.5<\/td>\n",
              "      <td>[158.0, 426.0, 562.0, 520.0, 327.0, 217.0, 488...<\/td>\n",
              "      <td>27<\/td>\n",
              "      <td>...<\/td>\n",
              "      <td>5<\/td>\n",
              "      <td>3<\/td>\n",
              "      <td>2<\/td>\n",
              "      <td>208<\/td>\n",
              "      <td>[{'value': -0.009999999999999997, 'index': 4}]<\/td>\n",
              "      <td>[{'value': -0.060000000000000005, 'index': 3}]<\/td>\n",
              "      <td>[{'value': 0.04, 'index': 4}]<\/td>\n",
              "      <td>[{'value': 0.060000000000000005, 'index': 1}]<\/td>\n",
              "      <td>False<\/td>\n",
              "      <td>tb<\/td>\n",
              "    <\/tr>\n",
              "    <tr>\n",
              "      <th>...<\/th>\n",
              "      <td>...<\/td>\n",
              "      <td>...<\/td>\n",
              "      <td>...<\/td>\n",
              "      <td>...<\/td>\n",
              "      <td>...<\/td>\n",
              "      <td>...<\/td>\n",
              "      <td>...<\/td>\n",
              "      <td>...<\/td>\n",
              "      <td>...<\/td>\n",
              "      <td>...<\/td>\n",
              "      <td>...<\/td>\n",
              "      <td>...<\/td>\n",
              "      <td>...<\/td>\n",
              "      <td>...<\/td>\n",
              "      <td>...<\/td>\n",
              "      <td>...<\/td>\n",
              "      <td>...<\/td>\n",
              "      <td>...<\/td>\n",
              "      <td>...<\/td>\n",
              "      <td>...<\/td>\n",
              "      <td>...<\/td>\n",
              "    <\/tr>\n",
              "    <tr>\n",
              "      <th>295<\/th>\n",
              "      <td>angle_based<\/td>\n",
              "      <td>tournament<\/td>\n",
              "      <td>elitist<\/td>\n",
              "      <td>0.01<\/td>\n",
              "      <td>0.2<\/td>\n",
              "      <td>2242.0<\/td>\n",
              "      <td>485.025<\/td>\n",
              "      <td>397.5<\/td>\n",
              "      <td>[444.0, 617.0, 459.0, 395.0, 259.0, 328.0, 224...<\/td>\n",
              "      <td>7<\/td>\n",
              "      <td>...<\/td>\n",
              "      <td>5<\/td>\n",
              "      <td>3<\/td>\n",
              "      <td>0<\/td>\n",
              "      <td>185<\/td>\n",
              "      <td>[{'value': 0.03, 'index': 1}]<\/td>\n",
              "      <td>[{'value': 0.0, 'index': 1}]<\/td>\n",
              "      <td>[{'value': -0.02, 'index': 4}]<\/td>\n",
              "      <td>[{'value': -0.03, 'index': 3}]<\/td>\n",
              "      <td>False<\/td>\n",
              "      <td>ab<\/td>\n",
              "    <\/tr>\n",
              "    <tr>\n",
              "      <th>296<\/th>\n",
              "      <td>total_time_steps<\/td>\n",
              "      <td>elitist<\/td>\n",
              "      <td>elitist<\/td>\n",
              "      <td>0.01<\/td>\n",
              "      <td>0.0<\/td>\n",
              "      <td>7625.0<\/td>\n",
              "      <td>445.200<\/td>\n",
              "      <td>220.5<\/td>\n",
              "      <td>[152.0, 306.0, 204.0, 209.0, 224.0, 377.0, 256...<\/td>\n",
              "      <td>18<\/td>\n",
              "      <td>...<\/td>\n",
              "      <td>5<\/td>\n",
              "      <td>3<\/td>\n",
              "      <td>3<\/td>\n",
              "      <td>178<\/td>\n",
              "      <td>[{'value': 0.0, 'index': 2}]<\/td>\n",
              "      <td>[{'value': -0.03, 'index': 4}]<\/td>\n",
              "      <td>[{'value': 0.02, 'index': 1}]<\/td>\n",
              "      <td>[{'value': -0.01, 'index': 3}]<\/td>\n",
              "      <td>False<\/td>\n",
              "      <td>tts<\/td>\n",
              "    <\/tr>\n",
              "    <tr>\n",
              "      <th>297<\/th>\n",
              "      <td>total_time_steps<\/td>\n",
              "      <td>uniform<\/td>\n",
              "      <td>fitness_proportional<\/td>\n",
              "      <td>0.01<\/td>\n",
              "      <td>0.0<\/td>\n",
              "      <td>554.0<\/td>\n",
              "      <td>219.725<\/td>\n",
              "      <td>203.5<\/td>\n",
              "      <td>[245.0, 161.0, 269.0, 135.0, 229.0, 279.0, 294...<\/td>\n",
              "      <td>18<\/td>\n",
              "      <td>...<\/td>\n",
              "      <td>5<\/td>\n",
              "      <td>3<\/td>\n",
              "      <td>4<\/td>\n",
              "      <td>129<\/td>\n",
              "      <td>[{'value': 0.02, 'index': 3}]<\/td>\n",
              "      <td>[{'value': -0.03, 'index': 2}]<\/td>\n",
              "      <td>[{'value': -0.03, 'index': 4}]<\/td>\n",
              "      <td>[{'value': 0.01, 'index': 0}]<\/td>\n",
              "      <td>False<\/td>\n",
              "      <td>tts<\/td>\n",
              "    <\/tr>\n",
              "    <tr>\n",
              "      <th>298<\/th>\n",
              "      <td>position_and_angle_based<\/td>\n",
              "      <td>rank_proportional<\/td>\n",
              "      <td>elitist<\/td>\n",
              "      <td>0.01<\/td>\n",
              "      <td>0.1<\/td>\n",
              "      <td>19477.0<\/td>\n",
              "      <td>1286.350<\/td>\n",
              "      <td>362.5<\/td>\n",
              "      <td>[237.0, 301.0, 317.0, 468.0, 359.0, 335.0, 226...<\/td>\n",
              "      <td>38<\/td>\n",
              "      <td>...<\/td>\n",
              "      <td>5<\/td>\n",
              "      <td>3<\/td>\n",
              "      <td>3<\/td>\n",
              "      <td>244<\/td>\n",
              "      <td>[{'value': 0.02, 'index': 2}]<\/td>\n",
              "      <td>[{'value': 0.01, 'index': 1}]<\/td>\n",
              "      <td>[{'value': -0.02, 'index': 1}]<\/td>\n",
              "      <td>[{'value': 0.019999999999999997, 'index': 0}]<\/td>\n",
              "      <td>True<\/td>\n",
              "      <td>pab<\/td>\n",
              "    <\/tr>\n",
              "    <tr>\n",
              "      <th>299<\/th>\n",
              "      <td>time_based<\/td>\n",
              "      <td>uniform<\/td>\n",
              "      <td>rank_proportional<\/td>\n",
              "      <td>0.01<\/td>\n",
              "      <td>0.0<\/td>\n",
              "      <td>1832.0<\/td>\n",
              "      <td>334.100<\/td>\n",
              "      <td>271.5<\/td>\n",
              "      <td>[273.0, 200.0, 177.0, 766.0, 311.0, 287.0, 243...<\/td>\n",
              "      <td>10<\/td>\n",
              "      <td>...<\/td>\n",
              "      <td>5<\/td>\n",
              "      <td>3<\/td>\n",
              "      <td>1<\/td>\n",
              "      <td>10<\/td>\n",
              "      <td>[{'value': -0.01, 'index': 1}]<\/td>\n",
              "      <td>[{'value': 0.02, 'index': 1}]<\/td>\n",
              "      <td>[{'value': 0.01, 'index': 3}]<\/td>\n",
              "      <td>[{'value': 0.0, 'index': 4}]<\/td>\n",
              "      <td>False<\/td>\n",
              "      <td>tb<\/td>\n",
              "    <\/tr>\n",
              "  <\/tbody>\n",
              "<\/table>\n",
              "<p>300 rows × 21 columns<\/p>\n",
              "<\/div>"
            ]
          },
          "metadata":{
            
          },
          "output_type":"display_data"
        }
      ],
      "metadata":{
        
      }
    },
    {
      "cell_type":"code",
      "source":[
        "from lets_plot import *\n",
        "ggplot(df) + geom_point(aes(x=\"action_index\", y=\"best_generation\")) + ggtitle(\"Hello!\") + xlab(\"Some Axi label\")"
      ],
      "execution_count":21,
      "outputs":[
        {
          "data":{
            "text\/html":[
              "<html lang=\"en\">\n",
              "   <head>\n",
              "       <script type=\"text\/javascript\" data-lets-plot-script=\"library\" src=\"https:\/\/cdn.jsdelivr.net\/gh\/JetBrains\/lets-plot@v2.2.0\/js-package\/distr\/lets-plot.min.js\"><\/script>\n",
              "   <\/head>\n",
              "   <body>\n",
              "          <div id=\"mPGFJ7\"><\/div>\n",
              "   <script type=\"text\/javascript\" data-lets-plot-script=\"plot\">\n",
              "       var plotSpec={\n",
              "\"data\":{\n",
              "\"best_generation\":[10.0,5.0,35.0,2.0,27.0,5.0,37.0,4.0,8.0,7.0,33.0,5.0,4.0,37.0,39.0,3.0,36.0,7.0,3.0,27.0,38.0,19.0,2.0,12.0,18.0,18.0,1.0,33.0,10.0,27.0,38.0,25.0,38.0,2.0,24.0,3.0,22.0,1.0,17.0,30.0,37.0,13.0,13.0,33.0,17.0,23.0,14.0,10.0,25.0,14.0,21.0,38.0,26.0,40.0,6.0,18.0,5.0,25.0,11.0,2.0,3.0,35.0,3.0,5.0,3.0,10.0,11.0,18.0,17.0,27.0,18.0,1.0,2.0,32.0,8.0,17.0,35.0,17.0,1.0,23.0,9.0,16.0,4.0,34.0,33.0,3.0,33.0,5.0,14.0,31.0,28.0,23.0,4.0,21.0,21.0,11.0,3.0,3.0,21.0,1.0,4.0,19.0,1.0,30.0,25.0,28.0,23.0,8.0,14.0,5.0,12.0,9.0,40.0,19.0,3.0,7.0,24.0,23.0,16.0,29.0,23.0,15.0,23.0,17.0,5.0,6.0,26.0,35.0,23.0,1.0,11.0,4.0,26.0,18.0,14.0,10.0,2.0,1.0,15.0,36.0,2.0,34.0,3.0,35.0,1.0,3.0,6.0,22.0,14.0,14.0,29.0,15.0,38.0,15.0,19.0,5.0,7.0,12.0,1.0,32.0,10.0,40.0,39.0,36.0,9.0,31.0,30.0,10.0,29.0,2.0,16.0,40.0,10.0,34.0,9.0,31.0,4.0,4.0,27.0,34.0,2.0,11.0,18.0,9.0,20.0,12.0,24.0,16.0,20.0,9.0,40.0,14.0,9.0,15.0,35.0,20.0,6.0,1.0,9.0,5.0,18.0,24.0,34.0,11.0,29.0,6.0,7.0,35.0,16.0,25.0,20.0,2.0,5.0,18.0,19.0,5.0,31.0,17.0,29.0,5.0,40.0,9.0,4.0,19.0,3.0,5.0,10.0,5.0,10.0,8.0,7.0,6.0,15.0,3.0,2.0,7.0,2.0,20.0,37.0,2.0,36.0,36.0,4.0,5.0,3.0,36.0,27.0,40.0,10.0,22.0,22.0,4.0,2.0,19.0,30.0,7.0,17.0,8.0,27.0,28.0,3.0,31.0,16.0,5.0,3.0,27.0,6.0,13.0,14.0,5.0,7.0,20.0,1.0,25.0,35.0,4.0,9.0,35.0,14.0,36.0,29.0,1.0,1.0,4.0,6.0,11.0,12.0,17.0,20.0,36.0,5.0,5.0,5.0,18.0,6.0,7.0,18.0,18.0,38.0,10.0],\n",
              "\"action_index\":[2.0,4.0,4.0,1.0,2.0,2.0,4.0,3.0,2.0,3.0,4.0,1.0,1.0,2.0,1.0,1.0,2.0,1.0,1.0,3.0,3.0,0.0,4.0,0.0,0.0,4.0,3.0,2.0,1.0,0.0,2.0,0.0,3.0,1.0,0.0,3.0,3.0,3.0,3.0,0.0,1.0,1.0,4.0,4.0,0.0,3.0,2.0,4.0,1.0,4.0,4.0,0.0,3.0,1.0,2.0,1.0,0.0,4.0,2.0,1.0,2.0,3.0,4.0,2.0,4.0,0.0,1.0,3.0,2.0,4.0,1.0,4.0,2.0,0.0,3.0,1.0,2.0,1.0,2.0,2.0,0.0,1.0,3.0,0.0,4.0,1.0,4.0,2.0,1.0,3.0,2.0,3.0,2.0,1.0,2.0,1.0,1.0,3.0,4.0,1.0,1.0,2.0,3.0,2.0,2.0,3.0,4.0,4.0,2.0,2.0,3.0,1.0,1.0,2.0,0.0,1.0,1.0,3.0,0.0,2.0,3.0,3.0,2.0,3.0,0.0,0.0,0.0,0.0,4.0,1.0,1.0,2.0,2.0,3.0,2.0,0.0,1.0,4.0,1.0,3.0,3.0,1.0,4.0,1.0,4.0,3.0,2.0,1.0,3.0,3.0,0.0,2.0,0.0,0.0,0.0,2.0,4.0,1.0,4.0,4.0,2.0,1.0,3.0,4.0,1.0,1.0,0.0,3.0,4.0,4.0,1.0,2.0,3.0,1.0,3.0,2.0,4.0,0.0,1.0,4.0,2.0,4.0,4.0,0.0,0.0,2.0,1.0,3.0,3.0,2.0,4.0,0.0,1.0,0.0,4.0,2.0,2.0,2.0,1.0,3.0,4.0,3.0,1.0,2.0,2.0,3.0,3.0,2.0,4.0,3.0,1.0,4.0,3.0,0.0,1.0,0.0,0.0,0.0,3.0,1.0,3.0,3.0,2.0,2.0,1.0,3.0,0.0,4.0,2.0,2.0,3.0,0.0,1.0,1.0,1.0,3.0,2.0,2.0,2.0,0.0,1.0,3.0,3.0,0.0,0.0,4.0,3.0,1.0,2.0,4.0,4.0,3.0,0.0,0.0,0.0,4.0,0.0,3.0,1.0,2.0,3.0,2.0,0.0,2.0,3.0,4.0,3.0,1.0,1.0,0.0,4.0,0.0,3.0,0.0,0.0,2.0,0.0,3.0,3.0,0.0,4.0,3.0,4.0,3.0,3.0,1.0,3.0,2.0,3.0,4.0,1.0,2.0,0.0,2.0,0.0,0.0,3.0,4.0,3.0,1.0]\n",
              "},\n",
              "\"mapping\":{\n",
              "},\n",
              "\"data_meta\":{\n",
              "},\n",
              "\"ggtitle\":{\n",
              "\"text\":\"Hello!\"\n",
              "},\n",
              "\"kind\":\"plot\",\n",
              "\"scales\":[{\n",
              "\"name\":\"Some Axi label\",\n",
              "\"aesthetic\":\"x\"\n",
              "}],\n",
              "\"layers\":[{\n",
              "\"geom\":\"point\",\n",
              "\"mapping\":{\n",
              "\"x\":\"action_index\",\n",
              "\"y\":\"best_generation\"\n",
              "},\n",
              "\"data_meta\":{\n",
              "},\n",
              "\"data\":{\n",
              "}\n",
              "}]\n",
              "};\n",
              "       var plotContainer = document.getElementById(\"mPGFJ7\");\n",
              "       LetsPlot.buildPlotFromProcessedSpecs(plotSpec, -1, -1, plotContainer);\n",
              "   <\/script>\n",
              "   <\/body>\n",
              "<\/html>"
            ]
          },
          "metadata":{
            
          },
          "output_type":"display_data"
        }
      ],
      "metadata":{
        
      }
    },
    {
      "cell_type":"code",
      "source":[
        "data = df.explode('step_history').reset_index(drop=True)\n",
        "data.step_history = data.step_history.astype(float)"
      ],
      "execution_count":22,
      "outputs":[
        
      ],
      "metadata":{
        
      }
    },
    {
      "cell_type":"code",
      "source":[
        "\n",
        "#sns.set(rc={'figure.figsize':(11.7,8.27)})\n",
        "ax = sns.violinplot(x=\"fitness_function_short\", y=\"mean\", data=df)\n",
        "ax.set_xlabel('Fitness function')\n",
        "ax.set_ylabel('Count')\n",
        "plt.savefig('mean_violin.png')"
      ],
      "execution_count":23,
      "outputs":[
        {
          "data":{
            "image\/png":"[encoded data removed]"
          },
          "metadata":{
            "image\/png":{
              
            }
          },
          "output_type":"display_data"
        }
      ],
      "metadata":{
        
      }
    },
    {
      "cell_type":"code",
      "source":[
        "\n",
        "#sns.set(rc={'figure.figsize':(11.7,8.27)})\n",
        "ax = sns.violinplot(x=\"fitness_function_short\", y=\"median\", data=df)\n",
        "ax.set_xlabel('Fitness function')\n",
        "ax.set_ylabel('Count')\n",
        "plt.savefig('median_violin.png')"
      ],
      "execution_count":24,
      "outputs":[
        {
          "data":{
            "image\/png":"[encoded data removed]"
          },
          "metadata":{
            "image\/png":{
              
            }
          },
          "output_type":"display_data"
        }
      ],
      "metadata":{
        
      }
    },
    {
      "cell_type":"code",
      "source":[
        "successful.fitness_function.value_counts()"
      ],
      "execution_count":25,
      "outputs":[
        {
          "data":{
            "text\/html":[
              
            ]
          },
          "metadata":{
            
          },
          "output_type":"display_data"
        }
      ],
      "metadata":{
        
      }
    },
    {
      "cell_type":"code",
      "source":[
        "successful.survival_criterion.value_counts()"
      ],
      "execution_count":26,
      "outputs":[
        {
          "data":{
            "text\/html":[
              
            ]
          },
          "metadata":{
            
          },
          "output_type":"display_data"
        }
      ],
      "metadata":{
        
      }
    },
    {
      "cell_type":"code",
      "source":[
        "successful.reproduction_criterion.value_counts()"
      ],
      "execution_count":27,
      "outputs":[
        {
          "data":{
            "text\/html":[
              
            ]
          },
          "metadata":{
            
          },
          "output_type":"display_data"
        }
      ],
      "metadata":{
        
      }
    },
    {
      "cell_type":"code",
      "source":[
        "top_10 = successful.sort_values(by='max', ascending=False).head(10)"
      ],
      "execution_count":28,
      "outputs":[
        
      ],
      "metadata":{
        
      }
    },
    {
      "cell_type":"code",
      "source":[
        "fig = go.Figure()\n",
        "\n",
        "for x in range(len(top_10)):\n",
        "    values = top_10[x:x+1].step_history.values.tolist()\n",
        "\n",
        "    out = []\n",
        "    for idx, y in enumerate(values[0]):\n",
        "        out.append({'value': y})\n",
        "\n",
        "    data = pd.DataFrame(out)\n",
        "\n",
        "    fig.add_trace(go.Scatter(y=data['value'],\n",
        "                             mode='lines',\n",
        "                             name=x +1 ))\n",
        "    continue\n",
        "fig.show()"
      ],
      "execution_count":29,
      "outputs":[
        {
          "data":{
            "text\/plain":[
              "Unsupported"
            ]
          },
          "metadata":{
            
          },
          "output_type":"display_data"
        }
      ],
      "metadata":{
        
      }
    },
    {
      "cell_type":"code",
      "source":[
        "df.groupby(['fitness_function', 'survival_criterion', 'reproduction_criterion'])['mean'].max().reset_index().sort_values(by='mean',ascending=False).head(5)"
      ],
      "execution_count":30,
      "outputs":[
        {
          "data":{
            "text\/html":[
              "<div>\n",
              "<style scoped>\n",
              "    .dataframe tbody tr th:only-of-type {\n",
              "        vertical-align: middle;\n",
              "    }\n",
              "\n",
              "    .dataframe tbody tr th {\n",
              "        vertical-align: top;\n",
              "    }\n",
              "\n",
              "    .dataframe thead th {\n",
              "        text-align: right;\n",
              "    }\n",
              "<\/style>\n",
              "<table border=\"1\" class=\"dataframe\">\n",
              "  <thead>\n",
              "    <tr style=\"text-align: right;\">\n",
              "      <th><\/th>\n",
              "      <th>fitness_function<\/th>\n",
              "      <th>survival_criterion<\/th>\n",
              "      <th>reproduction_criterion<\/th>\n",
              "      <th>mean<\/th>\n",
              "    <\/tr>\n",
              "  <\/thead>\n",
              "  <tbody>\n",
              "    <tr>\n",
              "      <th>13<\/th>\n",
              "      <td>angle_and_time_based<\/td>\n",
              "      <td>rank_proportional<\/td>\n",
              "      <td>tournament<\/td>\n",
              "      <td>3646.050<\/td>\n",
              "    <\/tr>\n",
              "    <tr>\n",
              "      <th>50<\/th>\n",
              "      <td>position_and_angle_based<\/td>\n",
              "      <td>rank_proportional<\/td>\n",
              "      <td>elitist<\/td>\n",
              "      <td>2175.675<\/td>\n",
              "    <\/tr>\n",
              "    <tr>\n",
              "      <th>95<\/th>\n",
              "      <td>time_based<\/td>\n",
              "      <td>tournament<\/td>\n",
              "      <td>elitist<\/td>\n",
              "      <td>2175.600<\/td>\n",
              "    <\/tr>\n",
              "    <tr>\n",
              "      <th>10<\/th>\n",
              "      <td>angle_and_time_based<\/td>\n",
              "      <td>rank_proportional<\/td>\n",
              "      <td>elitist<\/td>\n",
              "      <td>2120.700<\/td>\n",
              "    <\/tr>\n",
              "    <tr>\n",
              "      <th>31<\/th>\n",
              "      <td>angle_based<\/td>\n",
              "      <td>rank_proportional<\/td>\n",
              "      <td>elitist<\/td>\n",
              "      <td>2012.775<\/td>\n",
              "    <\/tr>\n",
              "  <\/tbody>\n",
              "<\/table>\n",
              "<\/div>"
            ]
          },
          "metadata":{
            
          },
          "output_type":"display_data"
        }
      ],
      "metadata":{
        
      }
    },
    {
      "cell_type":"code",
      "source":[
        "df.groupby(['fitness_function', 'survival_criterion', 'reproduction_criterion'])['median'].max().reset_index().sort_values(by='median',ascending=False).head(5)"
      ],
      "execution_count":31,
      "outputs":[
        {
          "data":{
            "text\/html":[
              "<div>\n",
              "<style scoped>\n",
              "    .dataframe tbody tr th:only-of-type {\n",
              "        vertical-align: middle;\n",
              "    }\n",
              "\n",
              "    .dataframe tbody tr th {\n",
              "        vertical-align: top;\n",
              "    }\n",
              "\n",
              "    .dataframe thead th {\n",
              "        text-align: right;\n",
              "    }\n",
              "<\/style>\n",
              "<table border=\"1\" class=\"dataframe\">\n",
              "  <thead>\n",
              "    <tr style=\"text-align: right;\">\n",
              "      <th><\/th>\n",
              "      <th>fitness_function<\/th>\n",
              "      <th>survival_criterion<\/th>\n",
              "      <th>reproduction_criterion<\/th>\n",
              "      <th>median<\/th>\n",
              "    <\/tr>\n",
              "  <\/thead>\n",
              "  <tbody>\n",
              "    <tr>\n",
              "      <th>12<\/th>\n",
              "      <td>angle_and_time_based<\/td>\n",
              "      <td>rank_proportional<\/td>\n",
              "      <td>rank_proportional<\/td>\n",
              "      <td>1045.0<\/td>\n",
              "    <\/tr>\n",
              "    <tr>\n",
              "      <th>24<\/th>\n",
              "      <td>angle_based<\/td>\n",
              "      <td>elitist<\/td>\n",
              "      <td>tournament<\/td>\n",
              "      <td>961.5<\/td>\n",
              "    <\/tr>\n",
              "    <tr>\n",
              "      <th>81<\/th>\n",
              "      <td>time_based<\/td>\n",
              "      <td>elitist<\/td>\n",
              "      <td>elitist<\/td>\n",
              "      <td>883.5<\/td>\n",
              "    <\/tr>\n",
              "    <tr>\n",
              "      <th>64<\/th>\n",
              "      <td>position_based<\/td>\n",
              "      <td>elitist<\/td>\n",
              "      <td>tournament<\/td>\n",
              "      <td>829.5<\/td>\n",
              "    <\/tr>\n",
              "    <tr>\n",
              "      <th>10<\/th>\n",
              "      <td>angle_and_time_based<\/td>\n",
              "      <td>rank_proportional<\/td>\n",
              "      <td>elitist<\/td>\n",
              "      <td>771.0<\/td>\n",
              "    <\/tr>\n",
              "  <\/tbody>\n",
              "<\/table>\n",
              "<\/div>"
            ]
          },
          "metadata":{
            
          },
          "output_type":"display_data"
        }
      ],
      "metadata":{
        
      }
    },
    {
      "cell_type":"code",
      "source":[
        "df['pole_angle'] = df['pole_angle'].apply(lambda x: x[0])\n",
        "df = pd.concat([df.drop(['pole_angle'], axis=1), df['pole_angle'].apply(pd.Series)], axis=1)\n",
        "df['pole_angle'] = df['value']"
      ],
      "execution_count":32,
      "outputs":[
        
      ],
      "metadata":{
        
      }
    },
    {
      "cell_type":"code",
      "source":[
        "successful.rule_number.value_counts().head(5)"
      ],
      "execution_count":37,
      "outputs":[
        {
          "data":{
            "text\/html":[
              
            ]
          },
          "metadata":{
            
          },
          "output_type":"display_data"
        }
      ],
      "metadata":{
        
      }
    },
    {
      "cell_type":"code",
      "source":[
        "successful.survival_rate.value_counts()"
      ],
      "execution_count":38,
      "outputs":[
        {
          "data":{
            "text\/html":[
              
            ]
          },
          "metadata":{
            
          },
          "output_type":"display_data"
        }
      ],
      "metadata":{
        
      }
    },
    {
      "cell_type":"code",
      "source":[
        "ax = sns.histplot(data=df, x=\"pole_angle\", hue='successful')\n",
        "ax.set_xlabel('Angle value')\n",
        "ax.set_ylabel('Count')\n",
        "plt.savefig('angle_dist.png')"
      ],
      "execution_count":39,
      "outputs":[
        {
          "data":{
            "image\/png":"[encoded data removed]"
          },
          "metadata":{
            "image\/png":{
              
            }
          },
          "output_type":"display_data"
        }
      ],
      "metadata":{
        
      }
    },
    {
      "cell_type":"code",
      "source":[
        
      ],
      "execution_count":39,
      "outputs":[
        
      ],
      "metadata":{
        
      }
    }
  ],
  "metadata":{
    
  },
  "nbformat":4,
  "nbformat_minor":0
}