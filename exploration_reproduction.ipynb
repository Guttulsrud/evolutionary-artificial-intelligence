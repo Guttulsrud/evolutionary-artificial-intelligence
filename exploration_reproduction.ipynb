{
 "cells": [
  {
   "cell_type": "code",
   "execution_count": 29,
   "metadata": {
    "collapsed": true
   },
   "outputs": [
    {
     "data": {
      "text/plain": "19"
     },
     "execution_count": 29,
     "metadata": {},
     "output_type": "execute_result"
    }
   ],
   "source": [
    "import json\n",
    "import plotly.express as px\n",
    "import pandas as pd\n",
    "import plotly.graph_objects as go\n",
    "\n",
    "f = open('repro_city.json', )\n",
    "data = json.load(f)\n",
    "\n",
    "output = {}\n",
    "configs = []\n",
    "for x in data['configs']:\n",
    "    configs.append({\n",
    "        'population_limit': x['evolution']['population_limit'],\n",
    "        'fitness_function': x['evolution']['fitness_function'],\n",
    "        'selection_criterion': x['evolution']['selection_criterion'],\n",
    "        'episodes_per_individual': x['evolution']['episodes_per_individual'],\n",
    "        'reproduction_criterion': x['reproduction_criterion'],\n",
    "        'mutation_rate': x['evolution']['mutation_rate'],\n",
    "        'survival_rate': x['evolution']['survival_rate'],\n",
    "        'action_type': x['ca']['action_type'],\n",
    "        'steps': x['stats']['Time steps'],\n",
    "        'rule': x['stats']['Rule'],\n",
    "        'step_history': x['stats']['Time step history']\n",
    "    })\n",
    "\n",
    "\n",
    "df = pd.DataFrame(configs)\n",
    "len(df)"
   ]
  },
  {
   "cell_type": "code",
   "execution_count": 30,
   "outputs": [
    {
     "data": {
      "text/plain": "    population_limit          fitness_function selection_criterion  \\\n0                300  position_and_angle_based          tournament   \n12               300  position_and_angle_based          tournament   \n1                300  position_and_angle_based          tournament   \n13               300  position_and_angle_based          tournament   \n2                300  position_and_angle_based          tournament   \n11               300  position_and_angle_based          tournament   \n9                300  position_and_angle_based          tournament   \n15               300  position_and_angle_based          tournament   \n6                300  position_and_angle_based          tournament   \n10               300  position_and_angle_based          tournament   \n4                300  position_and_angle_based          tournament   \n16               300  position_and_angle_based          tournament   \n8                300  position_and_angle_based          tournament   \n17               300  position_and_angle_based          tournament   \n5                300  position_and_angle_based          tournament   \n18               300  position_and_angle_based          tournament   \n3                300  position_and_angle_based          tournament   \n7                300  position_and_angle_based          tournament   \n14               300  position_and_angle_based          tournament   \n\n    episodes_per_individual reproduction_criterion  mutation_rate  \\\n0                         2             tournament          0.001   \n12                        2   fitness_proportional          0.001   \n1                         2                elitist          0.001   \n13                        2             tournament          0.001   \n2                         2                elitist          0.001   \n11                        2   fitness_proportional          0.001   \n9                         2                elitist          0.001   \n15                        2                elitist          0.001   \n6                         2                elitist          0.001   \n10                        2   fitness_proportional          0.001   \n4                         2             tournament          0.001   \n16                        2   fitness_proportional          0.001   \n8                         2             tournament          0.001   \n17                        2   fitness_proportional          0.001   \n5                         2                elitist          0.001   \n18                        2             tournament          0.001   \n3                         2   fitness_proportional          0.001   \n7                         2             tournament          0.001   \n14                        2                elitist          0.001   \n\n    survival_rate action_type    steps  rule  \\\n0             0.1       index  11613.0   200   \n12            0.1       index   7786.5   207   \n1             0.1       index   7592.0   138   \n13            0.1       index   5914.0   232   \n2             0.1       index   3365.5   169   \n11            0.1       index   2452.0   202   \n9             0.1       index   2388.5   187   \n15            0.1       index   2373.5   228   \n6             0.1       index   2039.5   162   \n10            0.1       index   1900.5   225   \n4             0.1       index   1484.5    68   \n16            0.1       index   1479.5   165   \n8             0.1       index   1328.0   232   \n17            0.1       index   1209.0   178   \n5             0.1       index   1137.0   226   \n18            0.1       index   1085.5   208   \n3             0.1       index   1062.0   162   \n7             0.1       index    894.0   212   \n14            0.1       index    352.0   204   \n\n                                         step_history  \n0   [170.0, 1924.0, 4583.0, 11613.0, 5810.5, 3876....  \n12  [309.5, 269.0, 598.5, 733.0, 1305.5, 7786.5, 7...  \n1   [161.5, 242.0, 7592.0, 3807.75, 2544.166666666...  \n13  [170.0, 180.5, 641.5, 5914.0, 3784.5, 1899.75,...  \n2   [100.0, 159.0, 1831.5, 1310.5, 2017.0, 1317.5,...  \n11  [155.5, 90.5, 960.5, 2239.5, 2047.5, 2452.0, 1...  \n9   [1175.5, 1052.5, 838.0, 2388.5, 448.5, 343.75,...  \n15  [163.5, 242.0, 1753.5, 1215.0, 1321.0, 2373.5,...  \n6   [424.5, 456.25, 2039.5, 880.0, 466.25, 209.5, ...  \n10  [117.0, 209.5, 215.0, 1900.5, 979.25, 1610.5, ...  \n4   [163.5, 292.0, 279.0, 274.0, 162.5, 619.0, 148...  \n16  [1132.5, 698.0, 1364.0, 1214.5, 1479.5, 1304.0...  \n8   [131.5, 1093.0, 1241.5, 1328.0, 668.5, 343.0, ...  \n17  [182.5, 193.5, 205.5, 628.5, 560.5, 491.0, 120...  \n5   [110.0, 102.0, 97.5, 283.0, 251.0, 254.0, 245....  \n18  [204.5, 188.5, 1085.5, 632.75, 427.66666666666...  \n3   [177.0, 85.0, 110.0, 360.5, 243.5, 281.0, 313....  \n7   [343.0, 524.0, 327.0, 652.5, 894.0, 888.0, 868...  \n14  [175.0, 197.0, 161.0, 259.5, 201.5, 231.0, 216...  ",
      "text/html": "<div>\n<style scoped>\n    .dataframe tbody tr th:only-of-type {\n        vertical-align: middle;\n    }\n\n    .dataframe tbody tr th {\n        vertical-align: top;\n    }\n\n    .dataframe thead th {\n        text-align: right;\n    }\n</style>\n<table border=\"1\" class=\"dataframe\">\n  <thead>\n    <tr style=\"text-align: right;\">\n      <th></th>\n      <th>population_limit</th>\n      <th>fitness_function</th>\n      <th>selection_criterion</th>\n      <th>episodes_per_individual</th>\n      <th>reproduction_criterion</th>\n      <th>mutation_rate</th>\n      <th>survival_rate</th>\n      <th>action_type</th>\n      <th>steps</th>\n      <th>rule</th>\n      <th>step_history</th>\n    </tr>\n  </thead>\n  <tbody>\n    <tr>\n      <th>0</th>\n      <td>300</td>\n      <td>position_and_angle_based</td>\n      <td>tournament</td>\n      <td>2</td>\n      <td>tournament</td>\n      <td>0.001</td>\n      <td>0.1</td>\n      <td>index</td>\n      <td>11613.0</td>\n      <td>200</td>\n      <td>[170.0, 1924.0, 4583.0, 11613.0, 5810.5, 3876....</td>\n    </tr>\n    <tr>\n      <th>12</th>\n      <td>300</td>\n      <td>position_and_angle_based</td>\n      <td>tournament</td>\n      <td>2</td>\n      <td>fitness_proportional</td>\n      <td>0.001</td>\n      <td>0.1</td>\n      <td>index</td>\n      <td>7786.5</td>\n      <td>207</td>\n      <td>[309.5, 269.0, 598.5, 733.0, 1305.5, 7786.5, 7...</td>\n    </tr>\n    <tr>\n      <th>1</th>\n      <td>300</td>\n      <td>position_and_angle_based</td>\n      <td>tournament</td>\n      <td>2</td>\n      <td>elitist</td>\n      <td>0.001</td>\n      <td>0.1</td>\n      <td>index</td>\n      <td>7592.0</td>\n      <td>138</td>\n      <td>[161.5, 242.0, 7592.0, 3807.75, 2544.166666666...</td>\n    </tr>\n    <tr>\n      <th>13</th>\n      <td>300</td>\n      <td>position_and_angle_based</td>\n      <td>tournament</td>\n      <td>2</td>\n      <td>tournament</td>\n      <td>0.001</td>\n      <td>0.1</td>\n      <td>index</td>\n      <td>5914.0</td>\n      <td>232</td>\n      <td>[170.0, 180.5, 641.5, 5914.0, 3784.5, 1899.75,...</td>\n    </tr>\n    <tr>\n      <th>2</th>\n      <td>300</td>\n      <td>position_and_angle_based</td>\n      <td>tournament</td>\n      <td>2</td>\n      <td>elitist</td>\n      <td>0.001</td>\n      <td>0.1</td>\n      <td>index</td>\n      <td>3365.5</td>\n      <td>169</td>\n      <td>[100.0, 159.0, 1831.5, 1310.5, 2017.0, 1317.5,...</td>\n    </tr>\n    <tr>\n      <th>11</th>\n      <td>300</td>\n      <td>position_and_angle_based</td>\n      <td>tournament</td>\n      <td>2</td>\n      <td>fitness_proportional</td>\n      <td>0.001</td>\n      <td>0.1</td>\n      <td>index</td>\n      <td>2452.0</td>\n      <td>202</td>\n      <td>[155.5, 90.5, 960.5, 2239.5, 2047.5, 2452.0, 1...</td>\n    </tr>\n    <tr>\n      <th>9</th>\n      <td>300</td>\n      <td>position_and_angle_based</td>\n      <td>tournament</td>\n      <td>2</td>\n      <td>elitist</td>\n      <td>0.001</td>\n      <td>0.1</td>\n      <td>index</td>\n      <td>2388.5</td>\n      <td>187</td>\n      <td>[1175.5, 1052.5, 838.0, 2388.5, 448.5, 343.75,...</td>\n    </tr>\n    <tr>\n      <th>15</th>\n      <td>300</td>\n      <td>position_and_angle_based</td>\n      <td>tournament</td>\n      <td>2</td>\n      <td>elitist</td>\n      <td>0.001</td>\n      <td>0.1</td>\n      <td>index</td>\n      <td>2373.5</td>\n      <td>228</td>\n      <td>[163.5, 242.0, 1753.5, 1215.0, 1321.0, 2373.5,...</td>\n    </tr>\n    <tr>\n      <th>6</th>\n      <td>300</td>\n      <td>position_and_angle_based</td>\n      <td>tournament</td>\n      <td>2</td>\n      <td>elitist</td>\n      <td>0.001</td>\n      <td>0.1</td>\n      <td>index</td>\n      <td>2039.5</td>\n      <td>162</td>\n      <td>[424.5, 456.25, 2039.5, 880.0, 466.25, 209.5, ...</td>\n    </tr>\n    <tr>\n      <th>10</th>\n      <td>300</td>\n      <td>position_and_angle_based</td>\n      <td>tournament</td>\n      <td>2</td>\n      <td>fitness_proportional</td>\n      <td>0.001</td>\n      <td>0.1</td>\n      <td>index</td>\n      <td>1900.5</td>\n      <td>225</td>\n      <td>[117.0, 209.5, 215.0, 1900.5, 979.25, 1610.5, ...</td>\n    </tr>\n    <tr>\n      <th>4</th>\n      <td>300</td>\n      <td>position_and_angle_based</td>\n      <td>tournament</td>\n      <td>2</td>\n      <td>tournament</td>\n      <td>0.001</td>\n      <td>0.1</td>\n      <td>index</td>\n      <td>1484.5</td>\n      <td>68</td>\n      <td>[163.5, 292.0, 279.0, 274.0, 162.5, 619.0, 148...</td>\n    </tr>\n    <tr>\n      <th>16</th>\n      <td>300</td>\n      <td>position_and_angle_based</td>\n      <td>tournament</td>\n      <td>2</td>\n      <td>fitness_proportional</td>\n      <td>0.001</td>\n      <td>0.1</td>\n      <td>index</td>\n      <td>1479.5</td>\n      <td>165</td>\n      <td>[1132.5, 698.0, 1364.0, 1214.5, 1479.5, 1304.0...</td>\n    </tr>\n    <tr>\n      <th>8</th>\n      <td>300</td>\n      <td>position_and_angle_based</td>\n      <td>tournament</td>\n      <td>2</td>\n      <td>tournament</td>\n      <td>0.001</td>\n      <td>0.1</td>\n      <td>index</td>\n      <td>1328.0</td>\n      <td>232</td>\n      <td>[131.5, 1093.0, 1241.5, 1328.0, 668.5, 343.0, ...</td>\n    </tr>\n    <tr>\n      <th>17</th>\n      <td>300</td>\n      <td>position_and_angle_based</td>\n      <td>tournament</td>\n      <td>2</td>\n      <td>fitness_proportional</td>\n      <td>0.001</td>\n      <td>0.1</td>\n      <td>index</td>\n      <td>1209.0</td>\n      <td>178</td>\n      <td>[182.5, 193.5, 205.5, 628.5, 560.5, 491.0, 120...</td>\n    </tr>\n    <tr>\n      <th>5</th>\n      <td>300</td>\n      <td>position_and_angle_based</td>\n      <td>tournament</td>\n      <td>2</td>\n      <td>elitist</td>\n      <td>0.001</td>\n      <td>0.1</td>\n      <td>index</td>\n      <td>1137.0</td>\n      <td>226</td>\n      <td>[110.0, 102.0, 97.5, 283.0, 251.0, 254.0, 245....</td>\n    </tr>\n    <tr>\n      <th>18</th>\n      <td>300</td>\n      <td>position_and_angle_based</td>\n      <td>tournament</td>\n      <td>2</td>\n      <td>tournament</td>\n      <td>0.001</td>\n      <td>0.1</td>\n      <td>index</td>\n      <td>1085.5</td>\n      <td>208</td>\n      <td>[204.5, 188.5, 1085.5, 632.75, 427.66666666666...</td>\n    </tr>\n    <tr>\n      <th>3</th>\n      <td>300</td>\n      <td>position_and_angle_based</td>\n      <td>tournament</td>\n      <td>2</td>\n      <td>fitness_proportional</td>\n      <td>0.001</td>\n      <td>0.1</td>\n      <td>index</td>\n      <td>1062.0</td>\n      <td>162</td>\n      <td>[177.0, 85.0, 110.0, 360.5, 243.5, 281.0, 313....</td>\n    </tr>\n    <tr>\n      <th>7</th>\n      <td>300</td>\n      <td>position_and_angle_based</td>\n      <td>tournament</td>\n      <td>2</td>\n      <td>tournament</td>\n      <td>0.001</td>\n      <td>0.1</td>\n      <td>index</td>\n      <td>894.0</td>\n      <td>212</td>\n      <td>[343.0, 524.0, 327.0, 652.5, 894.0, 888.0, 868...</td>\n    </tr>\n    <tr>\n      <th>14</th>\n      <td>300</td>\n      <td>position_and_angle_based</td>\n      <td>tournament</td>\n      <td>2</td>\n      <td>elitist</td>\n      <td>0.001</td>\n      <td>0.1</td>\n      <td>index</td>\n      <td>352.0</td>\n      <td>204</td>\n      <td>[175.0, 197.0, 161.0, 259.5, 201.5, 231.0, 216...</td>\n    </tr>\n  </tbody>\n</table>\n</div>"
     },
     "execution_count": 30,
     "metadata": {},
     "output_type": "execute_result"
    }
   ],
   "source": [
    "top_100 = df.sort_values(by='steps', ascending=False)[:100]\n",
    "\n",
    "top_100"
   ],
   "metadata": {
    "collapsed": false,
    "pycharm": {
     "name": "#%%\n"
    }
   }
  },
  {
   "cell_type": "code",
   "execution_count": 31,
   "outputs": [
    {
     "data": {
      "text/plain": "position_and_angle_based    19\nName: fitness_function, dtype: int64"
     },
     "execution_count": 31,
     "metadata": {},
     "output_type": "execute_result"
    }
   ],
   "source": [
    "top_100.fitness_function.value_counts()"
   ],
   "metadata": {
    "collapsed": false,
    "pycharm": {
     "name": "#%%\n"
    }
   }
  },
  {
   "cell_type": "code",
   "execution_count": 32,
   "outputs": [
    {
     "data": {
      "text/plain": "tournament    19\nName: selection_criterion, dtype: int64"
     },
     "execution_count": 32,
     "metadata": {},
     "output_type": "execute_result"
    }
   ],
   "source": [
    "top_100.selection_criterion.value_counts()"
   ],
   "metadata": {
    "collapsed": false,
    "pycharm": {
     "name": "#%%\n"
    }
   }
  },
  {
   "cell_type": "code",
   "execution_count": 33,
   "outputs": [
    {
     "data": {
      "text/plain": "2    19\nName: episodes_per_individual, dtype: int64"
     },
     "execution_count": 33,
     "metadata": {},
     "output_type": "execute_result"
    }
   ],
   "source": [
    "top_100.episodes_per_individual.value_counts()"
   ],
   "metadata": {
    "collapsed": false,
    "pycharm": {
     "name": "#%%\n"
    }
   }
  },
  {
   "cell_type": "code",
   "execution_count": 34,
   "outputs": [
    {
     "data": {
      "text/plain": "0.001    19\nName: mutation_rate, dtype: int64"
     },
     "execution_count": 34,
     "metadata": {},
     "output_type": "execute_result"
    }
   ],
   "source": [
    "top_100.mutation_rate.value_counts()\n"
   ],
   "metadata": {
    "collapsed": false,
    "pycharm": {
     "name": "#%%\n"
    }
   }
  },
  {
   "cell_type": "code",
   "execution_count": 35,
   "outputs": [
    {
     "data": {
      "text/plain": "0.1    19\nName: survival_rate, dtype: int64"
     },
     "execution_count": 35,
     "metadata": {},
     "output_type": "execute_result"
    }
   ],
   "source": [
    "top_100.survival_rate.value_counts()\n"
   ],
   "metadata": {
    "collapsed": false,
    "pycharm": {
     "name": "#%%\n"
    }
   }
  },
  {
   "cell_type": "code",
   "execution_count": 36,
   "outputs": [
    {
     "data": {
      "text/plain": "index    19\nName: action_type, dtype: int64"
     },
     "execution_count": 36,
     "metadata": {},
     "output_type": "execute_result"
    }
   ],
   "source": [
    "top_100.action_type.value_counts()"
   ],
   "metadata": {
    "collapsed": false,
    "pycharm": {
     "name": "#%%\n"
    }
   }
  },
  {
   "cell_type": "code",
   "execution_count": 37,
   "outputs": [
    {
     "data": {
      "text/plain": "300    19\nName: population_limit, dtype: int64"
     },
     "execution_count": 37,
     "metadata": {},
     "output_type": "execute_result"
    }
   ],
   "source": [
    "top_100.population_limit.value_counts()"
   ],
   "metadata": {
    "collapsed": false,
    "pycharm": {
     "name": "#%%\n"
    }
   }
  },
  {
   "cell_type": "code",
   "execution_count": 38,
   "outputs": [],
   "source": [
    "top_10 = top_100[:10]"
   ],
   "metadata": {
    "collapsed": false,
    "pycharm": {
     "name": "#%%\n"
    }
   }
  },
  {
   "cell_type": "code",
   "execution_count": 39,
   "outputs": [
    {
     "data": {
      "text/plain": "position_and_angle_based    10\nName: fitness_function, dtype: int64"
     },
     "execution_count": 39,
     "metadata": {},
     "output_type": "execute_result"
    }
   ],
   "source": [
    "top_10.fitness_function.value_counts()"
   ],
   "metadata": {
    "collapsed": false,
    "pycharm": {
     "name": "#%%\n"
    }
   }
  },
  {
   "cell_type": "code",
   "execution_count": 40,
   "outputs": [
    {
     "data": {
      "text/plain": "position_and_angle_based    19\nName: fitness_function, dtype: int64"
     },
     "execution_count": 40,
     "metadata": {},
     "output_type": "execute_result"
    }
   ],
   "source": [
    "df.fitness_function.value_counts()\n"
   ],
   "metadata": {
    "collapsed": false,
    "pycharm": {
     "name": "#%%\n"
    }
   }
  },
  {
   "cell_type": "code",
   "execution_count": 41,
   "outputs": [
    {
     "data": {
      "text/plain": "    population_limit          fitness_function selection_criterion  \\\n0                300  position_and_angle_based          tournament   \n12               300  position_and_angle_based          tournament   \n1                300  position_and_angle_based          tournament   \n13               300  position_and_angle_based          tournament   \n2                300  position_and_angle_based          tournament   \n11               300  position_and_angle_based          tournament   \n9                300  position_and_angle_based          tournament   \n15               300  position_and_angle_based          tournament   \n6                300  position_and_angle_based          tournament   \n10               300  position_and_angle_based          tournament   \n\n    episodes_per_individual reproduction_criterion  mutation_rate  \\\n0                         2             tournament          0.001   \n12                        2   fitness_proportional          0.001   \n1                         2                elitist          0.001   \n13                        2             tournament          0.001   \n2                         2                elitist          0.001   \n11                        2   fitness_proportional          0.001   \n9                         2                elitist          0.001   \n15                        2                elitist          0.001   \n6                         2                elitist          0.001   \n10                        2   fitness_proportional          0.001   \n\n    survival_rate action_type    steps  rule  \\\n0             0.1       index  11613.0   200   \n12            0.1       index   7786.5   207   \n1             0.1       index   7592.0   138   \n13            0.1       index   5914.0   232   \n2             0.1       index   3365.5   169   \n11            0.1       index   2452.0   202   \n9             0.1       index   2388.5   187   \n15            0.1       index   2373.5   228   \n6             0.1       index   2039.5   162   \n10            0.1       index   1900.5   225   \n\n                                         step_history  \n0   [170.0, 1924.0, 4583.0, 11613.0, 5810.5, 3876....  \n12  [309.5, 269.0, 598.5, 733.0, 1305.5, 7786.5, 7...  \n1   [161.5, 242.0, 7592.0, 3807.75, 2544.166666666...  \n13  [170.0, 180.5, 641.5, 5914.0, 3784.5, 1899.75,...  \n2   [100.0, 159.0, 1831.5, 1310.5, 2017.0, 1317.5,...  \n11  [155.5, 90.5, 960.5, 2239.5, 2047.5, 2452.0, 1...  \n9   [1175.5, 1052.5, 838.0, 2388.5, 448.5, 343.75,...  \n15  [163.5, 242.0, 1753.5, 1215.0, 1321.0, 2373.5,...  \n6   [424.5, 456.25, 2039.5, 880.0, 466.25, 209.5, ...  \n10  [117.0, 209.5, 215.0, 1900.5, 979.25, 1610.5, ...  ",
      "text/html": "<div>\n<style scoped>\n    .dataframe tbody tr th:only-of-type {\n        vertical-align: middle;\n    }\n\n    .dataframe tbody tr th {\n        vertical-align: top;\n    }\n\n    .dataframe thead th {\n        text-align: right;\n    }\n</style>\n<table border=\"1\" class=\"dataframe\">\n  <thead>\n    <tr style=\"text-align: right;\">\n      <th></th>\n      <th>population_limit</th>\n      <th>fitness_function</th>\n      <th>selection_criterion</th>\n      <th>episodes_per_individual</th>\n      <th>reproduction_criterion</th>\n      <th>mutation_rate</th>\n      <th>survival_rate</th>\n      <th>action_type</th>\n      <th>steps</th>\n      <th>rule</th>\n      <th>step_history</th>\n    </tr>\n  </thead>\n  <tbody>\n    <tr>\n      <th>0</th>\n      <td>300</td>\n      <td>position_and_angle_based</td>\n      <td>tournament</td>\n      <td>2</td>\n      <td>tournament</td>\n      <td>0.001</td>\n      <td>0.1</td>\n      <td>index</td>\n      <td>11613.0</td>\n      <td>200</td>\n      <td>[170.0, 1924.0, 4583.0, 11613.0, 5810.5, 3876....</td>\n    </tr>\n    <tr>\n      <th>12</th>\n      <td>300</td>\n      <td>position_and_angle_based</td>\n      <td>tournament</td>\n      <td>2</td>\n      <td>fitness_proportional</td>\n      <td>0.001</td>\n      <td>0.1</td>\n      <td>index</td>\n      <td>7786.5</td>\n      <td>207</td>\n      <td>[309.5, 269.0, 598.5, 733.0, 1305.5, 7786.5, 7...</td>\n    </tr>\n    <tr>\n      <th>1</th>\n      <td>300</td>\n      <td>position_and_angle_based</td>\n      <td>tournament</td>\n      <td>2</td>\n      <td>elitist</td>\n      <td>0.001</td>\n      <td>0.1</td>\n      <td>index</td>\n      <td>7592.0</td>\n      <td>138</td>\n      <td>[161.5, 242.0, 7592.0, 3807.75, 2544.166666666...</td>\n    </tr>\n    <tr>\n      <th>13</th>\n      <td>300</td>\n      <td>position_and_angle_based</td>\n      <td>tournament</td>\n      <td>2</td>\n      <td>tournament</td>\n      <td>0.001</td>\n      <td>0.1</td>\n      <td>index</td>\n      <td>5914.0</td>\n      <td>232</td>\n      <td>[170.0, 180.5, 641.5, 5914.0, 3784.5, 1899.75,...</td>\n    </tr>\n    <tr>\n      <th>2</th>\n      <td>300</td>\n      <td>position_and_angle_based</td>\n      <td>tournament</td>\n      <td>2</td>\n      <td>elitist</td>\n      <td>0.001</td>\n      <td>0.1</td>\n      <td>index</td>\n      <td>3365.5</td>\n      <td>169</td>\n      <td>[100.0, 159.0, 1831.5, 1310.5, 2017.0, 1317.5,...</td>\n    </tr>\n    <tr>\n      <th>11</th>\n      <td>300</td>\n      <td>position_and_angle_based</td>\n      <td>tournament</td>\n      <td>2</td>\n      <td>fitness_proportional</td>\n      <td>0.001</td>\n      <td>0.1</td>\n      <td>index</td>\n      <td>2452.0</td>\n      <td>202</td>\n      <td>[155.5, 90.5, 960.5, 2239.5, 2047.5, 2452.0, 1...</td>\n    </tr>\n    <tr>\n      <th>9</th>\n      <td>300</td>\n      <td>position_and_angle_based</td>\n      <td>tournament</td>\n      <td>2</td>\n      <td>elitist</td>\n      <td>0.001</td>\n      <td>0.1</td>\n      <td>index</td>\n      <td>2388.5</td>\n      <td>187</td>\n      <td>[1175.5, 1052.5, 838.0, 2388.5, 448.5, 343.75,...</td>\n    </tr>\n    <tr>\n      <th>15</th>\n      <td>300</td>\n      <td>position_and_angle_based</td>\n      <td>tournament</td>\n      <td>2</td>\n      <td>elitist</td>\n      <td>0.001</td>\n      <td>0.1</td>\n      <td>index</td>\n      <td>2373.5</td>\n      <td>228</td>\n      <td>[163.5, 242.0, 1753.5, 1215.0, 1321.0, 2373.5,...</td>\n    </tr>\n    <tr>\n      <th>6</th>\n      <td>300</td>\n      <td>position_and_angle_based</td>\n      <td>tournament</td>\n      <td>2</td>\n      <td>elitist</td>\n      <td>0.001</td>\n      <td>0.1</td>\n      <td>index</td>\n      <td>2039.5</td>\n      <td>162</td>\n      <td>[424.5, 456.25, 2039.5, 880.0, 466.25, 209.5, ...</td>\n    </tr>\n    <tr>\n      <th>10</th>\n      <td>300</td>\n      <td>position_and_angle_based</td>\n      <td>tournament</td>\n      <td>2</td>\n      <td>fitness_proportional</td>\n      <td>0.001</td>\n      <td>0.1</td>\n      <td>index</td>\n      <td>1900.5</td>\n      <td>225</td>\n      <td>[117.0, 209.5, 215.0, 1900.5, 979.25, 1610.5, ...</td>\n    </tr>\n  </tbody>\n</table>\n</div>"
     },
     "execution_count": 41,
     "metadata": {},
     "output_type": "execute_result"
    }
   ],
   "source": [
    "top_10"
   ],
   "metadata": {
    "collapsed": false,
    "pycharm": {
     "name": "#%%\n"
    }
   }
  },
  {
   "cell_type": "code",
   "execution_count": 42,
   "outputs": [
    {
     "data": {
      "application/vnd.plotly.v1+json": {
       "config": {
        "plotlyServerURL": "https://plot.ly"
       },
       "data": [
        {
         "mode": "lines",
         "name": "0",
         "type": "scatter",
         "y": [
          170.0,
          1924.0,
          4583.0,
          11613.0,
          5810.5,
          3876.5,
          3020.75,
          1554.25,
          960.5,
          141.5,
          132.0,
          157.0,
          149.0,
          136.0,
          133.5,
          146.0,
          110.5,
          133.5,
          122.0,
          124.5,
          61.5,
          34.166666666666664,
          19.5,
          16.5,
          22.5,
          18.0,
          15.833333333333334,
          24.0,
          21.0,
          19.0
         ]
        },
        {
         "mode": "lines",
         "name": "1",
         "type": "scatter",
         "y": [
          309.5,
          269.0,
          598.5,
          733.0,
          1305.5,
          7786.5,
          7512.5,
          3777.0,
          7732.0,
          4035.0,
          2695.1666666666665,
          1449.5,
          959.875,
          769.8,
          644.3333333333334,
          46.5,
          66.0,
          56.0,
          48.0,
          54.0,
          43.5,
          28.166666666666668,
          23.125,
          20.4,
          21.5,
          17.0,
          15.0,
          24.0,
          16.0,
          19.5
         ]
        },
        {
         "mode": "lines",
         "name": "2",
         "type": "scatter",
         "y": [
          161.5,
          242.0,
          7592.0,
          3807.75,
          2544.1666666666665,
          3045.0,
          1835.5,
          1229.6666666666667,
          924.625,
          742.0,
          489.25,
          156.0,
          171.0,
          192.5,
          146.5,
          148.5,
          155.0,
          182.5,
          192.0,
          203.5,
          122.66666666666667,
          131.5,
          149.0,
          161.5,
          146.5,
          302.5,
          321.5,
          357.5,
          350.5,
          270.75
         ]
        },
        {
         "mode": "lines",
         "name": "3",
         "type": "scatter",
         "y": [
          170.0,
          180.5,
          641.5,
          5914.0,
          3784.5,
          1899.75,
          1375.5,
          965.0,
          469.8333333333333,
          356.375,
          291.6,
          221.25,
          200.16666666666666,
          201.0,
          273.5,
          290.0,
          261.5,
          275.5,
          258.0,
          196.5,
          202.5,
          281.5,
          151.25,
          110.16666666666667,
          69.0,
          84.0,
          82.0,
          93.0,
          61.0,
          1602.0
         ]
        },
        {
         "mode": "lines",
         "name": "4",
         "type": "scatter",
         "y": [
          100.0,
          159.0,
          1831.5,
          1310.5,
          2017.0,
          1317.5,
          664.25,
          448.6666666666667,
          262.5,
          167.5,
          352.0,
          3365.5,
          512.6666666666666,
          155.5,
          126.625,
          72.5,
          84.5,
          42.25,
          41.5,
          28.5,
          30.0,
          27.5,
          18.5,
          28.5,
          22.25,
          16.5,
          20.0,
          18.5,
          29.0,
          18.0
         ]
        },
        {
         "mode": "lines",
         "name": "5",
         "type": "scatter",
         "y": [
          155.5,
          90.5,
          960.5,
          2239.5,
          2047.5,
          2452.0,
          1278.75,
          812.3333333333334,
          445.0,
          302.3333333333333,
          106.16666666666667,
          82.375,
          69.2,
          32.0,
          47.5,
          39.0,
          26.25,
          29.5,
          24.0,
          32.5,
          39.5,
          129.0,
          89.75,
          82.5,
          103.5,
          85.0,
          63.0,
          94.5,
          74.0,
          68.5
         ]
        },
        {
         "mode": "lines",
         "name": "6",
         "type": "scatter",
         "y": [
          1175.5,
          1052.5,
          838.0,
          2388.5,
          448.5,
          343.75,
          219.625,
          184.5,
          199.5,
          215.0,
          186.0,
          106.33333333333333,
          63.333333333333336,
          49.625,
          55.0,
          38.75,
          47.5,
          49.5,
          42.0,
          44.75,
          42.0,
          39.0,
          229.5,
          131.75,
          92.16666666666667,
          43.0,
          38.5,
          63.0,
          55.0,
          41.0
         ]
        },
        {
         "mode": "lines",
         "name": "7",
         "type": "scatter",
         "y": [
          163.5,
          242.0,
          1753.5,
          1215.0,
          1321.0,
          2373.5,
          1192.25,
          1249.5,
          692.0,
          546.0,
          413.0,
          275.25,
          312.5,
          308.0,
          327.5,
          296.0,
          291.0,
          289.5,
          263.0,
          310.5,
          264.5,
          493.5,
          262.0,
          121.5,
          97.16666666666667,
          77.375,
          78.0,
          59.083333333333336,
          57.5,
          48.0
         ]
        },
        {
         "mode": "lines",
         "name": "8",
         "type": "scatter",
         "y": [
          424.5,
          456.25,
          2039.5,
          880.0,
          466.25,
          209.5,
          199.0,
          232.0,
          203.0,
          280.5,
          200.5,
          184.0,
          124.0,
          940.5,
          274.0,
          311.5,
          360.0,
          276.25,
          254.5,
          246.75,
          171.5,
          136.08333333333334,
          119.71428571428571,
          51.0,
          45.0,
          61.0,
          36.25,
          39.5,
          42.5,
          40.5
         ]
        },
        {
         "mode": "lines",
         "name": "9",
         "type": "scatter",
         "y": [
          117.0,
          209.5,
          215.0,
          1900.5,
          979.25,
          1610.5,
          566.5,
          385.6666666666667,
          311.0,
          1309.0,
          665.75,
          453.5,
          261.0,
          239.5,
          263.0,
          303.5,
          251.5,
          272.0,
          255.25,
          292.0,
          356.5,
          256.5,
          179.25,
          98.0,
          37.0,
          32.0,
          46.0,
          42.5,
          54.0,
          43.75
         ]
        }
       ],
       "layout": {
        "template": {
         "data": {
          "bar": [
           {
            "error_x": {
             "color": "#2a3f5f"
            },
            "error_y": {
             "color": "#2a3f5f"
            },
            "marker": {
             "line": {
              "color": "#E5ECF6",
              "width": 0.5
             }
            },
            "type": "bar"
           }
          ],
          "barpolar": [
           {
            "marker": {
             "line": {
              "color": "#E5ECF6",
              "width": 0.5
             }
            },
            "type": "barpolar"
           }
          ],
          "carpet": [
           {
            "aaxis": {
             "endlinecolor": "#2a3f5f",
             "gridcolor": "white",
             "linecolor": "white",
             "minorgridcolor": "white",
             "startlinecolor": "#2a3f5f"
            },
            "baxis": {
             "endlinecolor": "#2a3f5f",
             "gridcolor": "white",
             "linecolor": "white",
             "minorgridcolor": "white",
             "startlinecolor": "#2a3f5f"
            },
            "type": "carpet"
           }
          ],
          "choropleth": [
           {
            "colorbar": {
             "outlinewidth": 0,
             "ticks": ""
            },
            "type": "choropleth"
           }
          ],
          "contour": [
           {
            "colorbar": {
             "outlinewidth": 0,
             "ticks": ""
            },
            "colorscale": [
             [
              0.0,
              "#0d0887"
             ],
             [
              0.1111111111111111,
              "#46039f"
             ],
             [
              0.2222222222222222,
              "#7201a8"
             ],
             [
              0.3333333333333333,
              "#9c179e"
             ],
             [
              0.4444444444444444,
              "#bd3786"
             ],
             [
              0.5555555555555556,
              "#d8576b"
             ],
             [
              0.6666666666666666,
              "#ed7953"
             ],
             [
              0.7777777777777778,
              "#fb9f3a"
             ],
             [
              0.8888888888888888,
              "#fdca26"
             ],
             [
              1.0,
              "#f0f921"
             ]
            ],
            "type": "contour"
           }
          ],
          "contourcarpet": [
           {
            "colorbar": {
             "outlinewidth": 0,
             "ticks": ""
            },
            "type": "contourcarpet"
           }
          ],
          "heatmap": [
           {
            "colorbar": {
             "outlinewidth": 0,
             "ticks": ""
            },
            "colorscale": [
             [
              0.0,
              "#0d0887"
             ],
             [
              0.1111111111111111,
              "#46039f"
             ],
             [
              0.2222222222222222,
              "#7201a8"
             ],
             [
              0.3333333333333333,
              "#9c179e"
             ],
             [
              0.4444444444444444,
              "#bd3786"
             ],
             [
              0.5555555555555556,
              "#d8576b"
             ],
             [
              0.6666666666666666,
              "#ed7953"
             ],
             [
              0.7777777777777778,
              "#fb9f3a"
             ],
             [
              0.8888888888888888,
              "#fdca26"
             ],
             [
              1.0,
              "#f0f921"
             ]
            ],
            "type": "heatmap"
           }
          ],
          "heatmapgl": [
           {
            "colorbar": {
             "outlinewidth": 0,
             "ticks": ""
            },
            "colorscale": [
             [
              0.0,
              "#0d0887"
             ],
             [
              0.1111111111111111,
              "#46039f"
             ],
             [
              0.2222222222222222,
              "#7201a8"
             ],
             [
              0.3333333333333333,
              "#9c179e"
             ],
             [
              0.4444444444444444,
              "#bd3786"
             ],
             [
              0.5555555555555556,
              "#d8576b"
             ],
             [
              0.6666666666666666,
              "#ed7953"
             ],
             [
              0.7777777777777778,
              "#fb9f3a"
             ],
             [
              0.8888888888888888,
              "#fdca26"
             ],
             [
              1.0,
              "#f0f921"
             ]
            ],
            "type": "heatmapgl"
           }
          ],
          "histogram": [
           {
            "marker": {
             "colorbar": {
              "outlinewidth": 0,
              "ticks": ""
             }
            },
            "type": "histogram"
           }
          ],
          "histogram2d": [
           {
            "colorbar": {
             "outlinewidth": 0,
             "ticks": ""
            },
            "colorscale": [
             [
              0.0,
              "#0d0887"
             ],
             [
              0.1111111111111111,
              "#46039f"
             ],
             [
              0.2222222222222222,
              "#7201a8"
             ],
             [
              0.3333333333333333,
              "#9c179e"
             ],
             [
              0.4444444444444444,
              "#bd3786"
             ],
             [
              0.5555555555555556,
              "#d8576b"
             ],
             [
              0.6666666666666666,
              "#ed7953"
             ],
             [
              0.7777777777777778,
              "#fb9f3a"
             ],
             [
              0.8888888888888888,
              "#fdca26"
             ],
             [
              1.0,
              "#f0f921"
             ]
            ],
            "type": "histogram2d"
           }
          ],
          "histogram2dcontour": [
           {
            "colorbar": {
             "outlinewidth": 0,
             "ticks": ""
            },
            "colorscale": [
             [
              0.0,
              "#0d0887"
             ],
             [
              0.1111111111111111,
              "#46039f"
             ],
             [
              0.2222222222222222,
              "#7201a8"
             ],
             [
              0.3333333333333333,
              "#9c179e"
             ],
             [
              0.4444444444444444,
              "#bd3786"
             ],
             [
              0.5555555555555556,
              "#d8576b"
             ],
             [
              0.6666666666666666,
              "#ed7953"
             ],
             [
              0.7777777777777778,
              "#fb9f3a"
             ],
             [
              0.8888888888888888,
              "#fdca26"
             ],
             [
              1.0,
              "#f0f921"
             ]
            ],
            "type": "histogram2dcontour"
           }
          ],
          "mesh3d": [
           {
            "colorbar": {
             "outlinewidth": 0,
             "ticks": ""
            },
            "type": "mesh3d"
           }
          ],
          "parcoords": [
           {
            "line": {
             "colorbar": {
              "outlinewidth": 0,
              "ticks": ""
             }
            },
            "type": "parcoords"
           }
          ],
          "pie": [
           {
            "automargin": true,
            "type": "pie"
           }
          ],
          "scatter": [
           {
            "marker": {
             "colorbar": {
              "outlinewidth": 0,
              "ticks": ""
             }
            },
            "type": "scatter"
           }
          ],
          "scatter3d": [
           {
            "line": {
             "colorbar": {
              "outlinewidth": 0,
              "ticks": ""
             }
            },
            "marker": {
             "colorbar": {
              "outlinewidth": 0,
              "ticks": ""
             }
            },
            "type": "scatter3d"
           }
          ],
          "scattercarpet": [
           {
            "marker": {
             "colorbar": {
              "outlinewidth": 0,
              "ticks": ""
             }
            },
            "type": "scattercarpet"
           }
          ],
          "scattergeo": [
           {
            "marker": {
             "colorbar": {
              "outlinewidth": 0,
              "ticks": ""
             }
            },
            "type": "scattergeo"
           }
          ],
          "scattergl": [
           {
            "marker": {
             "colorbar": {
              "outlinewidth": 0,
              "ticks": ""
             }
            },
            "type": "scattergl"
           }
          ],
          "scattermapbox": [
           {
            "marker": {
             "colorbar": {
              "outlinewidth": 0,
              "ticks": ""
             }
            },
            "type": "scattermapbox"
           }
          ],
          "scatterpolar": [
           {
            "marker": {
             "colorbar": {
              "outlinewidth": 0,
              "ticks": ""
             }
            },
            "type": "scatterpolar"
           }
          ],
          "scatterpolargl": [
           {
            "marker": {
             "colorbar": {
              "outlinewidth": 0,
              "ticks": ""
             }
            },
            "type": "scatterpolargl"
           }
          ],
          "scatterternary": [
           {
            "marker": {
             "colorbar": {
              "outlinewidth": 0,
              "ticks": ""
             }
            },
            "type": "scatterternary"
           }
          ],
          "surface": [
           {
            "colorbar": {
             "outlinewidth": 0,
             "ticks": ""
            },
            "colorscale": [
             [
              0.0,
              "#0d0887"
             ],
             [
              0.1111111111111111,
              "#46039f"
             ],
             [
              0.2222222222222222,
              "#7201a8"
             ],
             [
              0.3333333333333333,
              "#9c179e"
             ],
             [
              0.4444444444444444,
              "#bd3786"
             ],
             [
              0.5555555555555556,
              "#d8576b"
             ],
             [
              0.6666666666666666,
              "#ed7953"
             ],
             [
              0.7777777777777778,
              "#fb9f3a"
             ],
             [
              0.8888888888888888,
              "#fdca26"
             ],
             [
              1.0,
              "#f0f921"
             ]
            ],
            "type": "surface"
           }
          ],
          "table": [
           {
            "cells": {
             "fill": {
              "color": "#EBF0F8"
             },
             "line": {
              "color": "white"
             }
            },
            "header": {
             "fill": {
              "color": "#C8D4E3"
             },
             "line": {
              "color": "white"
             }
            },
            "type": "table"
           }
          ]
         },
         "layout": {
          "annotationdefaults": {
           "arrowcolor": "#2a3f5f",
           "arrowhead": 0,
           "arrowwidth": 1
          },
          "coloraxis": {
           "colorbar": {
            "outlinewidth": 0,
            "ticks": ""
           }
          },
          "colorscale": {
           "diverging": [
            [
             0,
             "#8e0152"
            ],
            [
             0.1,
             "#c51b7d"
            ],
            [
             0.2,
             "#de77ae"
            ],
            [
             0.3,
             "#f1b6da"
            ],
            [
             0.4,
             "#fde0ef"
            ],
            [
             0.5,
             "#f7f7f7"
            ],
            [
             0.6,
             "#e6f5d0"
            ],
            [
             0.7,
             "#b8e186"
            ],
            [
             0.8,
             "#7fbc41"
            ],
            [
             0.9,
             "#4d9221"
            ],
            [
             1,
             "#276419"
            ]
           ],
           "sequential": [
            [
             0.0,
             "#0d0887"
            ],
            [
             0.1111111111111111,
             "#46039f"
            ],
            [
             0.2222222222222222,
             "#7201a8"
            ],
            [
             0.3333333333333333,
             "#9c179e"
            ],
            [
             0.4444444444444444,
             "#bd3786"
            ],
            [
             0.5555555555555556,
             "#d8576b"
            ],
            [
             0.6666666666666666,
             "#ed7953"
            ],
            [
             0.7777777777777778,
             "#fb9f3a"
            ],
            [
             0.8888888888888888,
             "#fdca26"
            ],
            [
             1.0,
             "#f0f921"
            ]
           ],
           "sequentialminus": [
            [
             0.0,
             "#0d0887"
            ],
            [
             0.1111111111111111,
             "#46039f"
            ],
            [
             0.2222222222222222,
             "#7201a8"
            ],
            [
             0.3333333333333333,
             "#9c179e"
            ],
            [
             0.4444444444444444,
             "#bd3786"
            ],
            [
             0.5555555555555556,
             "#d8576b"
            ],
            [
             0.6666666666666666,
             "#ed7953"
            ],
            [
             0.7777777777777778,
             "#fb9f3a"
            ],
            [
             0.8888888888888888,
             "#fdca26"
            ],
            [
             1.0,
             "#f0f921"
            ]
           ]
          },
          "colorway": [
           "#636efa",
           "#EF553B",
           "#00cc96",
           "#ab63fa",
           "#FFA15A",
           "#19d3f3",
           "#FF6692",
           "#B6E880",
           "#FF97FF",
           "#FECB52"
          ],
          "font": {
           "color": "#2a3f5f"
          },
          "geo": {
           "bgcolor": "white",
           "lakecolor": "white",
           "landcolor": "#E5ECF6",
           "showlakes": true,
           "showland": true,
           "subunitcolor": "white"
          },
          "hoverlabel": {
           "align": "left"
          },
          "hovermode": "closest",
          "mapbox": {
           "style": "light"
          },
          "paper_bgcolor": "white",
          "plot_bgcolor": "#E5ECF6",
          "polar": {
           "angularaxis": {
            "gridcolor": "white",
            "linecolor": "white",
            "ticks": ""
           },
           "bgcolor": "#E5ECF6",
           "radialaxis": {
            "gridcolor": "white",
            "linecolor": "white",
            "ticks": ""
           }
          },
          "scene": {
           "xaxis": {
            "backgroundcolor": "#E5ECF6",
            "gridcolor": "white",
            "gridwidth": 2,
            "linecolor": "white",
            "showbackground": true,
            "ticks": "",
            "zerolinecolor": "white"
           },
           "yaxis": {
            "backgroundcolor": "#E5ECF6",
            "gridcolor": "white",
            "gridwidth": 2,
            "linecolor": "white",
            "showbackground": true,
            "ticks": "",
            "zerolinecolor": "white"
           },
           "zaxis": {
            "backgroundcolor": "#E5ECF6",
            "gridcolor": "white",
            "gridwidth": 2,
            "linecolor": "white",
            "showbackground": true,
            "ticks": "",
            "zerolinecolor": "white"
           }
          },
          "shapedefaults": {
           "line": {
            "color": "#2a3f5f"
           }
          },
          "ternary": {
           "aaxis": {
            "gridcolor": "white",
            "linecolor": "white",
            "ticks": ""
           },
           "baxis": {
            "gridcolor": "white",
            "linecolor": "white",
            "ticks": ""
           },
           "bgcolor": "#E5ECF6",
           "caxis": {
            "gridcolor": "white",
            "linecolor": "white",
            "ticks": ""
           }
          },
          "title": {
           "x": 0.05
          },
          "xaxis": {
           "automargin": true,
           "gridcolor": "white",
           "linecolor": "white",
           "ticks": "",
           "title": {
            "standoff": 15
           },
           "zerolinecolor": "white",
           "zerolinewidth": 2
          },
          "yaxis": {
           "automargin": true,
           "gridcolor": "white",
           "linecolor": "white",
           "ticks": "",
           "title": {
            "standoff": 15
           },
           "zerolinecolor": "white",
           "zerolinewidth": 2
          }
         }
        }
       }
      },
      "text/html": "<div>                            <div id=\"f661eef9-d8f1-445c-863d-f45195831b27\" class=\"plotly-graph-div\" style=\"height:525px; width:100%;\"></div>            <script type=\"text/javascript\">                require([\"plotly\"], function(Plotly) {                    window.PLOTLYENV=window.PLOTLYENV || {};                                    if (document.getElementById(\"f661eef9-d8f1-445c-863d-f45195831b27\")) {                    Plotly.newPlot(                        \"f661eef9-d8f1-445c-863d-f45195831b27\",                        [{\"mode\": \"lines\", \"name\": \"0\", \"type\": \"scatter\", \"y\": [170.0, 1924.0, 4583.0, 11613.0, 5810.5, 3876.5, 3020.75, 1554.25, 960.5, 141.5, 132.0, 157.0, 149.0, 136.0, 133.5, 146.0, 110.5, 133.5, 122.0, 124.5, 61.5, 34.166666666666664, 19.5, 16.5, 22.5, 18.0, 15.833333333333334, 24.0, 21.0, 19.0]}, {\"mode\": \"lines\", \"name\": \"1\", \"type\": \"scatter\", \"y\": [309.5, 269.0, 598.5, 733.0, 1305.5, 7786.5, 7512.5, 3777.0, 7732.0, 4035.0, 2695.1666666666665, 1449.5, 959.875, 769.8, 644.3333333333334, 46.5, 66.0, 56.0, 48.0, 54.0, 43.5, 28.166666666666668, 23.125, 20.4, 21.5, 17.0, 15.0, 24.0, 16.0, 19.5]}, {\"mode\": \"lines\", \"name\": \"2\", \"type\": \"scatter\", \"y\": [161.5, 242.0, 7592.0, 3807.75, 2544.1666666666665, 3045.0, 1835.5, 1229.6666666666667, 924.625, 742.0, 489.25, 156.0, 171.0, 192.5, 146.5, 148.5, 155.0, 182.5, 192.0, 203.5, 122.66666666666667, 131.5, 149.0, 161.5, 146.5, 302.5, 321.5, 357.5, 350.5, 270.75]}, {\"mode\": \"lines\", \"name\": \"3\", \"type\": \"scatter\", \"y\": [170.0, 180.5, 641.5, 5914.0, 3784.5, 1899.75, 1375.5, 965.0, 469.8333333333333, 356.375, 291.6, 221.25, 200.16666666666666, 201.0, 273.5, 290.0, 261.5, 275.5, 258.0, 196.5, 202.5, 281.5, 151.25, 110.16666666666667, 69.0, 84.0, 82.0, 93.0, 61.0, 1602.0]}, {\"mode\": \"lines\", \"name\": \"4\", \"type\": \"scatter\", \"y\": [100.0, 159.0, 1831.5, 1310.5, 2017.0, 1317.5, 664.25, 448.6666666666667, 262.5, 167.5, 352.0, 3365.5, 512.6666666666666, 155.5, 126.625, 72.5, 84.5, 42.25, 41.5, 28.5, 30.0, 27.5, 18.5, 28.5, 22.25, 16.5, 20.0, 18.5, 29.0, 18.0]}, {\"mode\": \"lines\", \"name\": \"5\", \"type\": \"scatter\", \"y\": [155.5, 90.5, 960.5, 2239.5, 2047.5, 2452.0, 1278.75, 812.3333333333334, 445.0, 302.3333333333333, 106.16666666666667, 82.375, 69.2, 32.0, 47.5, 39.0, 26.25, 29.5, 24.0, 32.5, 39.5, 129.0, 89.75, 82.5, 103.5, 85.0, 63.0, 94.5, 74.0, 68.5]}, {\"mode\": \"lines\", \"name\": \"6\", \"type\": \"scatter\", \"y\": [1175.5, 1052.5, 838.0, 2388.5, 448.5, 343.75, 219.625, 184.5, 199.5, 215.0, 186.0, 106.33333333333333, 63.333333333333336, 49.625, 55.0, 38.75, 47.5, 49.5, 42.0, 44.75, 42.0, 39.0, 229.5, 131.75, 92.16666666666667, 43.0, 38.5, 63.0, 55.0, 41.0]}, {\"mode\": \"lines\", \"name\": \"7\", \"type\": \"scatter\", \"y\": [163.5, 242.0, 1753.5, 1215.0, 1321.0, 2373.5, 1192.25, 1249.5, 692.0, 546.0, 413.0, 275.25, 312.5, 308.0, 327.5, 296.0, 291.0, 289.5, 263.0, 310.5, 264.5, 493.5, 262.0, 121.5, 97.16666666666667, 77.375, 78.0, 59.083333333333336, 57.5, 48.0]}, {\"mode\": \"lines\", \"name\": \"8\", \"type\": \"scatter\", \"y\": [424.5, 456.25, 2039.5, 880.0, 466.25, 209.5, 199.0, 232.0, 203.0, 280.5, 200.5, 184.0, 124.0, 940.5, 274.0, 311.5, 360.0, 276.25, 254.5, 246.75, 171.5, 136.08333333333334, 119.71428571428571, 51.0, 45.0, 61.0, 36.25, 39.5, 42.5, 40.5]}, {\"mode\": \"lines\", \"name\": \"9\", \"type\": \"scatter\", \"y\": [117.0, 209.5, 215.0, 1900.5, 979.25, 1610.5, 566.5, 385.6666666666667, 311.0, 1309.0, 665.75, 453.5, 261.0, 239.5, 263.0, 303.5, 251.5, 272.0, 255.25, 292.0, 356.5, 256.5, 179.25, 98.0, 37.0, 32.0, 46.0, 42.5, 54.0, 43.75]}],                        {\"template\": {\"data\": {\"bar\": [{\"error_x\": {\"color\": \"#2a3f5f\"}, \"error_y\": {\"color\": \"#2a3f5f\"}, \"marker\": {\"line\": {\"color\": \"#E5ECF6\", \"width\": 0.5}}, \"type\": \"bar\"}], \"barpolar\": [{\"marker\": {\"line\": {\"color\": \"#E5ECF6\", \"width\": 0.5}}, \"type\": \"barpolar\"}], \"carpet\": [{\"aaxis\": {\"endlinecolor\": \"#2a3f5f\", \"gridcolor\": \"white\", \"linecolor\": \"white\", \"minorgridcolor\": \"white\", \"startlinecolor\": \"#2a3f5f\"}, \"baxis\": {\"endlinecolor\": \"#2a3f5f\", \"gridcolor\": \"white\", \"linecolor\": \"white\", \"minorgridcolor\": \"white\", \"startlinecolor\": \"#2a3f5f\"}, \"type\": \"carpet\"}], \"choropleth\": [{\"colorbar\": {\"outlinewidth\": 0, \"ticks\": \"\"}, \"type\": \"choropleth\"}], \"contour\": [{\"colorbar\": {\"outlinewidth\": 0, \"ticks\": \"\"}, \"colorscale\": [[0.0, \"#0d0887\"], [0.1111111111111111, \"#46039f\"], [0.2222222222222222, \"#7201a8\"], [0.3333333333333333, \"#9c179e\"], [0.4444444444444444, \"#bd3786\"], [0.5555555555555556, \"#d8576b\"], [0.6666666666666666, \"#ed7953\"], [0.7777777777777778, \"#fb9f3a\"], [0.8888888888888888, \"#fdca26\"], [1.0, \"#f0f921\"]], \"type\": \"contour\"}], \"contourcarpet\": [{\"colorbar\": {\"outlinewidth\": 0, \"ticks\": \"\"}, \"type\": \"contourcarpet\"}], \"heatmap\": [{\"colorbar\": {\"outlinewidth\": 0, \"ticks\": \"\"}, \"colorscale\": [[0.0, \"#0d0887\"], [0.1111111111111111, \"#46039f\"], [0.2222222222222222, \"#7201a8\"], [0.3333333333333333, \"#9c179e\"], [0.4444444444444444, \"#bd3786\"], [0.5555555555555556, \"#d8576b\"], [0.6666666666666666, \"#ed7953\"], [0.7777777777777778, \"#fb9f3a\"], [0.8888888888888888, \"#fdca26\"], [1.0, \"#f0f921\"]], \"type\": \"heatmap\"}], \"heatmapgl\": [{\"colorbar\": {\"outlinewidth\": 0, \"ticks\": \"\"}, \"colorscale\": [[0.0, \"#0d0887\"], [0.1111111111111111, \"#46039f\"], [0.2222222222222222, \"#7201a8\"], [0.3333333333333333, \"#9c179e\"], [0.4444444444444444, \"#bd3786\"], [0.5555555555555556, \"#d8576b\"], [0.6666666666666666, \"#ed7953\"], [0.7777777777777778, \"#fb9f3a\"], [0.8888888888888888, \"#fdca26\"], [1.0, \"#f0f921\"]], \"type\": \"heatmapgl\"}], \"histogram\": [{\"marker\": {\"colorbar\": {\"outlinewidth\": 0, \"ticks\": \"\"}}, \"type\": \"histogram\"}], \"histogram2d\": [{\"colorbar\": {\"outlinewidth\": 0, \"ticks\": \"\"}, \"colorscale\": [[0.0, \"#0d0887\"], [0.1111111111111111, \"#46039f\"], [0.2222222222222222, \"#7201a8\"], [0.3333333333333333, \"#9c179e\"], [0.4444444444444444, \"#bd3786\"], [0.5555555555555556, \"#d8576b\"], [0.6666666666666666, \"#ed7953\"], [0.7777777777777778, \"#fb9f3a\"], [0.8888888888888888, \"#fdca26\"], [1.0, \"#f0f921\"]], \"type\": \"histogram2d\"}], \"histogram2dcontour\": [{\"colorbar\": {\"outlinewidth\": 0, \"ticks\": \"\"}, \"colorscale\": [[0.0, \"#0d0887\"], [0.1111111111111111, \"#46039f\"], [0.2222222222222222, \"#7201a8\"], [0.3333333333333333, \"#9c179e\"], [0.4444444444444444, \"#bd3786\"], [0.5555555555555556, \"#d8576b\"], [0.6666666666666666, \"#ed7953\"], [0.7777777777777778, \"#fb9f3a\"], [0.8888888888888888, \"#fdca26\"], [1.0, \"#f0f921\"]], \"type\": \"histogram2dcontour\"}], \"mesh3d\": [{\"colorbar\": {\"outlinewidth\": 0, \"ticks\": \"\"}, \"type\": \"mesh3d\"}], \"parcoords\": [{\"line\": {\"colorbar\": {\"outlinewidth\": 0, \"ticks\": \"\"}}, \"type\": \"parcoords\"}], \"pie\": [{\"automargin\": true, \"type\": \"pie\"}], \"scatter\": [{\"marker\": {\"colorbar\": {\"outlinewidth\": 0, \"ticks\": \"\"}}, \"type\": \"scatter\"}], \"scatter3d\": [{\"line\": {\"colorbar\": {\"outlinewidth\": 0, \"ticks\": \"\"}}, \"marker\": {\"colorbar\": {\"outlinewidth\": 0, \"ticks\": \"\"}}, \"type\": \"scatter3d\"}], \"scattercarpet\": [{\"marker\": {\"colorbar\": {\"outlinewidth\": 0, \"ticks\": \"\"}}, \"type\": \"scattercarpet\"}], \"scattergeo\": [{\"marker\": {\"colorbar\": {\"outlinewidth\": 0, \"ticks\": \"\"}}, \"type\": \"scattergeo\"}], \"scattergl\": [{\"marker\": {\"colorbar\": {\"outlinewidth\": 0, \"ticks\": \"\"}}, \"type\": \"scattergl\"}], \"scattermapbox\": [{\"marker\": {\"colorbar\": {\"outlinewidth\": 0, \"ticks\": \"\"}}, \"type\": \"scattermapbox\"}], \"scatterpolar\": [{\"marker\": {\"colorbar\": {\"outlinewidth\": 0, \"ticks\": \"\"}}, \"type\": \"scatterpolar\"}], \"scatterpolargl\": [{\"marker\": {\"colorbar\": {\"outlinewidth\": 0, \"ticks\": \"\"}}, \"type\": \"scatterpolargl\"}], \"scatterternary\": [{\"marker\": {\"colorbar\": {\"outlinewidth\": 0, \"ticks\": \"\"}}, \"type\": \"scatterternary\"}], \"surface\": [{\"colorbar\": {\"outlinewidth\": 0, \"ticks\": \"\"}, \"colorscale\": [[0.0, \"#0d0887\"], [0.1111111111111111, \"#46039f\"], [0.2222222222222222, \"#7201a8\"], [0.3333333333333333, \"#9c179e\"], [0.4444444444444444, \"#bd3786\"], [0.5555555555555556, \"#d8576b\"], [0.6666666666666666, \"#ed7953\"], [0.7777777777777778, \"#fb9f3a\"], [0.8888888888888888, \"#fdca26\"], [1.0, \"#f0f921\"]], \"type\": \"surface\"}], \"table\": [{\"cells\": {\"fill\": {\"color\": \"#EBF0F8\"}, \"line\": {\"color\": \"white\"}}, \"header\": {\"fill\": {\"color\": \"#C8D4E3\"}, \"line\": {\"color\": \"white\"}}, \"type\": \"table\"}]}, \"layout\": {\"annotationdefaults\": {\"arrowcolor\": \"#2a3f5f\", \"arrowhead\": 0, \"arrowwidth\": 1}, \"coloraxis\": {\"colorbar\": {\"outlinewidth\": 0, \"ticks\": \"\"}}, \"colorscale\": {\"diverging\": [[0, \"#8e0152\"], [0.1, \"#c51b7d\"], [0.2, \"#de77ae\"], [0.3, \"#f1b6da\"], [0.4, \"#fde0ef\"], [0.5, \"#f7f7f7\"], [0.6, \"#e6f5d0\"], [0.7, \"#b8e186\"], [0.8, \"#7fbc41\"], [0.9, \"#4d9221\"], [1, \"#276419\"]], \"sequential\": [[0.0, \"#0d0887\"], [0.1111111111111111, \"#46039f\"], [0.2222222222222222, \"#7201a8\"], [0.3333333333333333, \"#9c179e\"], [0.4444444444444444, \"#bd3786\"], [0.5555555555555556, \"#d8576b\"], [0.6666666666666666, \"#ed7953\"], [0.7777777777777778, \"#fb9f3a\"], [0.8888888888888888, \"#fdca26\"], [1.0, \"#f0f921\"]], \"sequentialminus\": [[0.0, \"#0d0887\"], [0.1111111111111111, \"#46039f\"], [0.2222222222222222, \"#7201a8\"], [0.3333333333333333, \"#9c179e\"], [0.4444444444444444, \"#bd3786\"], [0.5555555555555556, \"#d8576b\"], [0.6666666666666666, \"#ed7953\"], [0.7777777777777778, \"#fb9f3a\"], [0.8888888888888888, \"#fdca26\"], [1.0, \"#f0f921\"]]}, \"colorway\": [\"#636efa\", \"#EF553B\", \"#00cc96\", \"#ab63fa\", \"#FFA15A\", \"#19d3f3\", \"#FF6692\", \"#B6E880\", \"#FF97FF\", \"#FECB52\"], \"font\": {\"color\": \"#2a3f5f\"}, \"geo\": {\"bgcolor\": \"white\", \"lakecolor\": \"white\", \"landcolor\": \"#E5ECF6\", \"showlakes\": true, \"showland\": true, \"subunitcolor\": \"white\"}, \"hoverlabel\": {\"align\": \"left\"}, \"hovermode\": \"closest\", \"mapbox\": {\"style\": \"light\"}, \"paper_bgcolor\": \"white\", \"plot_bgcolor\": \"#E5ECF6\", \"polar\": {\"angularaxis\": {\"gridcolor\": \"white\", \"linecolor\": \"white\", \"ticks\": \"\"}, \"bgcolor\": \"#E5ECF6\", \"radialaxis\": {\"gridcolor\": \"white\", \"linecolor\": \"white\", \"ticks\": \"\"}}, \"scene\": {\"xaxis\": {\"backgroundcolor\": \"#E5ECF6\", \"gridcolor\": \"white\", \"gridwidth\": 2, \"linecolor\": \"white\", \"showbackground\": true, \"ticks\": \"\", \"zerolinecolor\": \"white\"}, \"yaxis\": {\"backgroundcolor\": \"#E5ECF6\", \"gridcolor\": \"white\", \"gridwidth\": 2, \"linecolor\": \"white\", \"showbackground\": true, \"ticks\": \"\", \"zerolinecolor\": \"white\"}, \"zaxis\": {\"backgroundcolor\": \"#E5ECF6\", \"gridcolor\": \"white\", \"gridwidth\": 2, \"linecolor\": \"white\", \"showbackground\": true, \"ticks\": \"\", \"zerolinecolor\": \"white\"}}, \"shapedefaults\": {\"line\": {\"color\": \"#2a3f5f\"}}, \"ternary\": {\"aaxis\": {\"gridcolor\": \"white\", \"linecolor\": \"white\", \"ticks\": \"\"}, \"baxis\": {\"gridcolor\": \"white\", \"linecolor\": \"white\", \"ticks\": \"\"}, \"bgcolor\": \"#E5ECF6\", \"caxis\": {\"gridcolor\": \"white\", \"linecolor\": \"white\", \"ticks\": \"\"}}, \"title\": {\"x\": 0.05}, \"xaxis\": {\"automargin\": true, \"gridcolor\": \"white\", \"linecolor\": \"white\", \"ticks\": \"\", \"title\": {\"standoff\": 15}, \"zerolinecolor\": \"white\", \"zerolinewidth\": 2}, \"yaxis\": {\"automargin\": true, \"gridcolor\": \"white\", \"linecolor\": \"white\", \"ticks\": \"\", \"title\": {\"standoff\": 15}, \"zerolinecolor\": \"white\", \"zerolinewidth\": 2}}}},                        {\"responsive\": true}                    ).then(function(){\n                            \nvar gd = document.getElementById('f661eef9-d8f1-445c-863d-f45195831b27');\nvar x = new MutationObserver(function (mutations, observer) {{\n        var display = window.getComputedStyle(gd).display;\n        if (!display || display === 'none') {{\n            console.log([gd, 'removed!']);\n            Plotly.purge(gd);\n            observer.disconnect();\n        }}\n}});\n\n// Listen for the removal of the full notebook cells\nvar notebookContainer = gd.closest('#notebook-container');\nif (notebookContainer) {{\n    x.observe(notebookContainer, {childList: true});\n}}\n\n// Listen for the clearing of the current output cell\nvar outputEl = gd.closest('.output');\nif (outputEl) {{\n    x.observe(outputEl, {childList: true});\n}}\n\n                        })                };                });            </script>        </div>"
     },
     "metadata": {},
     "output_type": "display_data"
    }
   ],
   "source": [
    "fig = go.Figure()\n",
    "\n",
    "for x in range(10):\n",
    "    values = top_10[x:x+1].step_history.values.tolist()\n",
    "\n",
    "    out = []\n",
    "    for idx, y in enumerate(values[0]):\n",
    "        out.append({'value': y})\n",
    "\n",
    "    data = pd.DataFrame(out)\n",
    "\n",
    "    fig.add_trace(go.Scatter(y=data['value'],\n",
    "                             mode='lines',\n",
    "                             name=x))\n",
    "    continue\n",
    "fig.show()\n",
    "\n",
    "\n",
    "#fig = px.line(top_10, y='value', title='Nje')\n",
    "#fig.show()"
   ],
   "metadata": {
    "collapsed": false,
    "pycharm": {
     "name": "#%%\n"
    }
   }
  },
  {
   "cell_type": "code",
   "execution_count": 42,
   "outputs": [],
   "source": [],
   "metadata": {
    "collapsed": false,
    "pycharm": {
     "name": "#%%\n"
    }
   }
  }
 ],
 "metadata": {
  "kernelspec": {
   "display_name": "Python 3",
   "language": "python",
   "name": "python3"
  },
  "language_info": {
   "codemirror_mode": {
    "name": "ipython",
    "version": 2
   },
   "file_extension": ".py",
   "mimetype": "text/x-python",
   "name": "python",
   "nbconvert_exporter": "python",
   "pygments_lexer": "ipython2",
   "version": "2.7.6"
  }
 },
 "nbformat": 4,
 "nbformat_minor": 0
}