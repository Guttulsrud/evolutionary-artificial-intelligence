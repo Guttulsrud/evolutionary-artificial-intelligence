{
 "cells": [
  {
   "cell_type": "code",
   "execution_count": 209,
   "metadata": {
    "collapsed": true
   },
   "outputs": [
    {
     "data": {
      "text/plain": "49"
     },
     "execution_count": 209,
     "metadata": {},
     "output_type": "execute_result"
    }
   ],
   "source": [
    "import json\n",
    "import plotly.express as px\n",
    "import pandas as pd\n",
    "import plotly.graph_objects as go\n",
    "\n",
    "f = open('anotother_result_file.json', )\n",
    "data = json.load(f)\n",
    "\n",
    "output = {}\n",
    "configs = []\n",
    "for x in data['configs']:\n",
    "    configs.append({\n",
    "        'population_limit': x['evolution']['population_limit'],\n",
    "        'fitness_function': x['evolution']['fitness_function'],\n",
    "        'selection_criterion': x['evolution']['selection_criterion'],\n",
    "        'episodes_per_individual': x['evolution']['episodes_per_individual'],\n",
    "       # 'reproduction_criterion': x['reproduction_criterion'],\n",
    "        'mutation_rate': x['evolution']['mutation_rate'],\n",
    "        'survival_rate': x['evolution']['survival_rate'],\n",
    "        'action_type': x['ca']['action_type'],\n",
    "        'steps': x['stats']['Time steps'],\n",
    "        #'rule': x['stats']['Rule'],\n",
    "        'step_history': x['stats']['Time step history']\n",
    "    })\n",
    "\n",
    "\n",
    "df = pd.DataFrame(configs)\n",
    "len(df)"
   ]
  },
  {
   "cell_type": "code",
   "execution_count": 210,
   "outputs": [
    {
     "data": {
      "text/plain": "    population_limit          fitness_function   selection_criterion  \\\n17               400  position_and_angle_based  fitness_proportional   \n22               400  position_and_angle_based  fitness_proportional   \n25               400  position_and_angle_based  fitness_proportional   \n31               400  position_and_angle_based  fitness_proportional   \n29               400  position_and_angle_based  fitness_proportional   \n19               400  position_and_angle_based  fitness_proportional   \n38               400  position_and_angle_based  fitness_proportional   \n15               400  position_and_angle_based  fitness_proportional   \n41               400  position_and_angle_based  fitness_proportional   \n44               400  position_and_angle_based  fitness_proportional   \n32               400  position_and_angle_based  fitness_proportional   \n35               400  position_and_angle_based  fitness_proportional   \n45               400  position_and_angle_based  fitness_proportional   \n28               400  position_and_angle_based  fitness_proportional   \n23               400  position_and_angle_based  fitness_proportional   \n43               400  position_and_angle_based  fitness_proportional   \n20               400  position_and_angle_based  fitness_proportional   \n18               400  position_and_angle_based  fitness_proportional   \n16               400  position_and_angle_based  fitness_proportional   \n24               400  position_and_angle_based  fitness_proportional   \n8                400  position_and_angle_based  fitness_proportional   \n37               400  position_and_angle_based  fitness_proportional   \n40               400  position_and_angle_based  fitness_proportional   \n34               400  position_and_angle_based  fitness_proportional   \n30               400  position_and_angle_based  fitness_proportional   \n10               400  position_and_angle_based  fitness_proportional   \n7                400  position_and_angle_based  fitness_proportional   \n6                400  position_and_angle_based  fitness_proportional   \n36               400  position_and_angle_based  fitness_proportional   \n39               400  position_and_angle_based  fitness_proportional   \n42               400  position_and_angle_based  fitness_proportional   \n9                400  position_and_angle_based  fitness_proportional   \n11               400  position_and_angle_based  fitness_proportional   \n14               400  position_and_angle_based  fitness_proportional   \n47               400  position_and_angle_based  fitness_proportional   \n12               400  position_and_angle_based  fitness_proportional   \n46               400  position_and_angle_based  fitness_proportional   \n13               400  position_and_angle_based  fitness_proportional   \n26               400  position_and_angle_based  fitness_proportional   \n33               400  position_and_angle_based  fitness_proportional   \n21               400  position_and_angle_based  fitness_proportional   \n27               400  position_and_angle_based  fitness_proportional   \n1                100  position_and_angle_based  fitness_proportional   \n3                100  position_and_angle_based  fitness_proportional   \n2                100  position_and_angle_based  fitness_proportional   \n4                100  position_and_angle_based  fitness_proportional   \n0                100  position_and_angle_based  fitness_proportional   \n5                100  position_and_angle_based  fitness_proportional   \n48                50  position_and_angle_based  fitness_proportional   \n\n    episodes_per_individual  mutation_rate  survival_rate action_type  \\\n17                        2          0.001            0.1       index   \n22                        2          0.001            0.1       index   \n25                        2          0.001            0.1       index   \n31                        2          0.001            0.1       index   \n29                        2          0.001            0.1       index   \n19                        2          0.001            0.1       index   \n38                        2          0.001            0.1       index   \n15                        2          0.001            0.1       index   \n41                        2          0.001            0.1       index   \n44                        2          0.001            0.1       index   \n32                        2          0.001            0.1       index   \n35                        2          0.001            0.1       index   \n45                        2          0.001            0.1       index   \n28                        2          0.001            0.1       index   \n23                        2          0.001            0.1       index   \n43                        2          0.001            0.1       index   \n20                        2          0.001            0.1       index   \n18                        2          0.001            0.1       index   \n16                        2          0.001            0.1       index   \n24                        2          0.001            0.1       index   \n8                         2          0.001            0.1       index   \n37                        2          0.001            0.1       index   \n40                        2          0.001            0.1       index   \n34                        2          0.001            0.1       index   \n30                        2          0.001            0.1       index   \n10                        2          0.001            0.1       index   \n7                         2          0.001            0.1       index   \n6                         2          0.001            0.1       index   \n36                        2          0.001            0.1       index   \n39                        2          0.001            0.1       index   \n42                        2          0.001            0.1       index   \n9                         2          0.001            0.1       index   \n11                        2          0.001            0.1       index   \n14                        2          0.001            0.1       index   \n47                        2          0.001            0.1       index   \n12                        2          0.001            0.1       index   \n46                        2          0.001            0.1       index   \n13                        2          0.001            0.1       index   \n26                        2          0.001            0.1       index   \n33                        2          0.001            0.1       index   \n21                        2          0.001            0.1       index   \n27                        2          0.001            0.1       index   \n1                         2          0.001            0.1       index   \n3                         2          0.001            0.1       index   \n2                         2          0.001            0.1       index   \n4                         2          0.001            0.1       index   \n0                         2          0.001            0.1       index   \n5                         2          0.001            0.1       index   \n48                        2          0.001            0.1       index   \n\n          steps                                       step_history  \n17  9084.250000  [118.0, 153.5, 187.5, 322.5, 145.5, 556.0, 539...  \n22  8942.500000  [104.0, 240.5, 178.5, 128.5, 114.0, 144.25, 55...  \n25  8352.000000  [133.5, 212.0, 225.5, 216.5, 276.5, 151.75, 31...  \n31  8335.000000  [185.0, 113.0, 1757.5, 1207.0, 917.66666666666...  \n29  7966.000000  [300.5, 290.75, 355.5, 484.5, 401.5, 527.25, 6...  \n19  7611.000000  [237.5, 179.0, 205.0, 221.0, 254.5, 270.25, 19...  \n38  7602.000000  [657.5, 539.75, 368.0, 107.375, 316.0, 217.25,...  \n15  7592.000000  [369.0, 350.75, 407.8333333333333, 309.75, 251...  \n41  7586.000000  [215.5, 412.5, 210.75, 204.0, 233.5, 274.0, 30...  \n44  7580.500000  [306.5, 434.0, 297.75, 350.0, 350.5, 2757.0, 1...  \n32  7525.000000  [127.5, 150.0, 7525.0, 3864.0, 2587.3333333333...  \n35  7520.000000  [325.0, 7520.0, 3766.0, 2516.1666666666665, 18...  \n45  7517.000000  [7517.0, 3762.75, 2511.5, 1885.875, 1510.5, 12...  \n28  7514.500000  [229.5, 133.75, 318.1666666666667, 377.0, 279....  \n23  5665.250000  [214.5, 169.5, 293.0, 301.25, 317.166666666666...  \n43  5163.500000  [181.0, 334.5, 856.0, 467.0, 1683.875, 1357.2,...  \n20  5100.000000  [211.0, 487.0, 189.0, 185.0, 241.0, 162.5, 161...  \n18  4985.000000  [414.5, 1298.0, 659.25, 448.3333333333333, 341...  \n16  4864.000000  [1055.0, 951.0, 732.3333333333334, 564.625, 46...  \n24  4786.000000  [539.0, 273.5, 189.66666666666666, 244.0, 279....  \n8   4627.000000  [551.5, 200.5, 294.5, 307.3333333333333, 1682....  \n37  4585.000000  [261.5, 209.25, 212.0, 1417.0, 780.25, 571.5, ...  \n40  4386.750000  [101.5, 856.0, 452.75, 310.5, 393.5, 417.0, 22...  \n34  4215.000000  [200.0, 219.5, 391.5, 467.5, 535.5, 307.5, 743...  \n30  4006.500000  [484.0, 147.0, 4006.5, 2007.25, 1394.0, 2539.2...  \n10  3854.000000  [132.5, 193.5, 177.5, 426.5, 302.25, 199.2, 20...  \n7   3817.750000  [198.5, 1126.5, 582.0, 629.8333333333334, 518....  \n6   3811.750000  [615.5, 483.75, 458.3333333333333, 353.5, 289....  \n36  3246.500000  [184.0, 1109.0, 646.0, 923.5, 2586.125, 2081.2...  \n39  3231.000000  [191.5, 458.0, 455.25, 515.6666666666666, 462....  \n42  3203.000000  [224.5, 185.75, 134.5, 578.0, 573.0, 564.66666...  \n9   3097.000000  [180.0, 183.25, 516.0, 179.5, 1303.0, 719.0, 5...  \n11  3038.000000  [296.0, 933.75, 706.5, 1540.0, 845.25, 541.833...  \n14  2385.000000  [169.5, 272.0, 231.5, 632.0, 387.5, 209.25, 25...  \n47  2286.000000  [221.5, 234.0, 575.5, 522.0, 522.0, 478.375, 4...  \n12  2169.272727  [212.0, 162.5, 236.5, 227.5, 684.5, 815.0, 447...  \n46  2100.750000  [81.0, 103.5, 243.0, 441.0, 266.0, 209.75, 180...  \n13  1862.500000  [95.0, 125.5, 227.5, 217.5, 215.25, 186.875, 2...  \n26  1835.500000  [137.5, 534.0, 321.0, 202.5, 185.5, 309.0, 198...  \n33  1488.833333  [632.0, 1485.5, 1488.8333333333333, 1153.0, 10...  \n21  1379.500000  [193.0, 720.5, 588.0, 722.6666666666666, 1379....  \n27  1334.250000  [299.5, 293.5, 333.0, 527.5, 178.5, 253.0, 376...  \n1    464.500000  [168.5, 158.0, 147.0, 135.5, 49.5, 267.0, 84.0...  \n3    464.000000  [86.5, 67.5, 110.5, 119.0, 75.0, 95.0, 454.5, ...  \n2    441.000000  [79.5, 36.25, 43.0, 50.5, 59.5, 48.0, 441.0, 6...  \n4    385.750000  [321.5, 385.75, 169.0, 50.5, 90.0, 148.0, 294....  \n0    285.000000  [203.0, 189.0, 31.5, 110.5, 41.0, 97.5, 104.5,...  \n5    205.500000  [99.0, 77.0, 26.5, 49.0, 43.5, 205.5, 149.5, 1...  \n48    67.000000                                 [67.0, 32.5, 55.0]  ",
      "text/html": "<div>\n<style scoped>\n    .dataframe tbody tr th:only-of-type {\n        vertical-align: middle;\n    }\n\n    .dataframe tbody tr th {\n        vertical-align: top;\n    }\n\n    .dataframe thead th {\n        text-align: right;\n    }\n</style>\n<table border=\"1\" class=\"dataframe\">\n  <thead>\n    <tr style=\"text-align: right;\">\n      <th></th>\n      <th>population_limit</th>\n      <th>fitness_function</th>\n      <th>selection_criterion</th>\n      <th>episodes_per_individual</th>\n      <th>mutation_rate</th>\n      <th>survival_rate</th>\n      <th>action_type</th>\n      <th>steps</th>\n      <th>step_history</th>\n    </tr>\n  </thead>\n  <tbody>\n    <tr>\n      <th>17</th>\n      <td>400</td>\n      <td>position_and_angle_based</td>\n      <td>fitness_proportional</td>\n      <td>2</td>\n      <td>0.001</td>\n      <td>0.1</td>\n      <td>index</td>\n      <td>9084.250000</td>\n      <td>[118.0, 153.5, 187.5, 322.5, 145.5, 556.0, 539...</td>\n    </tr>\n    <tr>\n      <th>22</th>\n      <td>400</td>\n      <td>position_and_angle_based</td>\n      <td>fitness_proportional</td>\n      <td>2</td>\n      <td>0.001</td>\n      <td>0.1</td>\n      <td>index</td>\n      <td>8942.500000</td>\n      <td>[104.0, 240.5, 178.5, 128.5, 114.0, 144.25, 55...</td>\n    </tr>\n    <tr>\n      <th>25</th>\n      <td>400</td>\n      <td>position_and_angle_based</td>\n      <td>fitness_proportional</td>\n      <td>2</td>\n      <td>0.001</td>\n      <td>0.1</td>\n      <td>index</td>\n      <td>8352.000000</td>\n      <td>[133.5, 212.0, 225.5, 216.5, 276.5, 151.75, 31...</td>\n    </tr>\n    <tr>\n      <th>31</th>\n      <td>400</td>\n      <td>position_and_angle_based</td>\n      <td>fitness_proportional</td>\n      <td>2</td>\n      <td>0.001</td>\n      <td>0.1</td>\n      <td>index</td>\n      <td>8335.000000</td>\n      <td>[185.0, 113.0, 1757.5, 1207.0, 917.66666666666...</td>\n    </tr>\n    <tr>\n      <th>29</th>\n      <td>400</td>\n      <td>position_and_angle_based</td>\n      <td>fitness_proportional</td>\n      <td>2</td>\n      <td>0.001</td>\n      <td>0.1</td>\n      <td>index</td>\n      <td>7966.000000</td>\n      <td>[300.5, 290.75, 355.5, 484.5, 401.5, 527.25, 6...</td>\n    </tr>\n    <tr>\n      <th>19</th>\n      <td>400</td>\n      <td>position_and_angle_based</td>\n      <td>fitness_proportional</td>\n      <td>2</td>\n      <td>0.001</td>\n      <td>0.1</td>\n      <td>index</td>\n      <td>7611.000000</td>\n      <td>[237.5, 179.0, 205.0, 221.0, 254.5, 270.25, 19...</td>\n    </tr>\n    <tr>\n      <th>38</th>\n      <td>400</td>\n      <td>position_and_angle_based</td>\n      <td>fitness_proportional</td>\n      <td>2</td>\n      <td>0.001</td>\n      <td>0.1</td>\n      <td>index</td>\n      <td>7602.000000</td>\n      <td>[657.5, 539.75, 368.0, 107.375, 316.0, 217.25,...</td>\n    </tr>\n    <tr>\n      <th>15</th>\n      <td>400</td>\n      <td>position_and_angle_based</td>\n      <td>fitness_proportional</td>\n      <td>2</td>\n      <td>0.001</td>\n      <td>0.1</td>\n      <td>index</td>\n      <td>7592.000000</td>\n      <td>[369.0, 350.75, 407.8333333333333, 309.75, 251...</td>\n    </tr>\n    <tr>\n      <th>41</th>\n      <td>400</td>\n      <td>position_and_angle_based</td>\n      <td>fitness_proportional</td>\n      <td>2</td>\n      <td>0.001</td>\n      <td>0.1</td>\n      <td>index</td>\n      <td>7586.000000</td>\n      <td>[215.5, 412.5, 210.75, 204.0, 233.5, 274.0, 30...</td>\n    </tr>\n    <tr>\n      <th>44</th>\n      <td>400</td>\n      <td>position_and_angle_based</td>\n      <td>fitness_proportional</td>\n      <td>2</td>\n      <td>0.001</td>\n      <td>0.1</td>\n      <td>index</td>\n      <td>7580.500000</td>\n      <td>[306.5, 434.0, 297.75, 350.0, 350.5, 2757.0, 1...</td>\n    </tr>\n    <tr>\n      <th>32</th>\n      <td>400</td>\n      <td>position_and_angle_based</td>\n      <td>fitness_proportional</td>\n      <td>2</td>\n      <td>0.001</td>\n      <td>0.1</td>\n      <td>index</td>\n      <td>7525.000000</td>\n      <td>[127.5, 150.0, 7525.0, 3864.0, 2587.3333333333...</td>\n    </tr>\n    <tr>\n      <th>35</th>\n      <td>400</td>\n      <td>position_and_angle_based</td>\n      <td>fitness_proportional</td>\n      <td>2</td>\n      <td>0.001</td>\n      <td>0.1</td>\n      <td>index</td>\n      <td>7520.000000</td>\n      <td>[325.0, 7520.0, 3766.0, 2516.1666666666665, 18...</td>\n    </tr>\n    <tr>\n      <th>45</th>\n      <td>400</td>\n      <td>position_and_angle_based</td>\n      <td>fitness_proportional</td>\n      <td>2</td>\n      <td>0.001</td>\n      <td>0.1</td>\n      <td>index</td>\n      <td>7517.000000</td>\n      <td>[7517.0, 3762.75, 2511.5, 1885.875, 1510.5, 12...</td>\n    </tr>\n    <tr>\n      <th>28</th>\n      <td>400</td>\n      <td>position_and_angle_based</td>\n      <td>fitness_proportional</td>\n      <td>2</td>\n      <td>0.001</td>\n      <td>0.1</td>\n      <td>index</td>\n      <td>7514.500000</td>\n      <td>[229.5, 133.75, 318.1666666666667, 377.0, 279....</td>\n    </tr>\n    <tr>\n      <th>23</th>\n      <td>400</td>\n      <td>position_and_angle_based</td>\n      <td>fitness_proportional</td>\n      <td>2</td>\n      <td>0.001</td>\n      <td>0.1</td>\n      <td>index</td>\n      <td>5665.250000</td>\n      <td>[214.5, 169.5, 293.0, 301.25, 317.166666666666...</td>\n    </tr>\n    <tr>\n      <th>43</th>\n      <td>400</td>\n      <td>position_and_angle_based</td>\n      <td>fitness_proportional</td>\n      <td>2</td>\n      <td>0.001</td>\n      <td>0.1</td>\n      <td>index</td>\n      <td>5163.500000</td>\n      <td>[181.0, 334.5, 856.0, 467.0, 1683.875, 1357.2,...</td>\n    </tr>\n    <tr>\n      <th>20</th>\n      <td>400</td>\n      <td>position_and_angle_based</td>\n      <td>fitness_proportional</td>\n      <td>2</td>\n      <td>0.001</td>\n      <td>0.1</td>\n      <td>index</td>\n      <td>5100.000000</td>\n      <td>[211.0, 487.0, 189.0, 185.0, 241.0, 162.5, 161...</td>\n    </tr>\n    <tr>\n      <th>18</th>\n      <td>400</td>\n      <td>position_and_angle_based</td>\n      <td>fitness_proportional</td>\n      <td>2</td>\n      <td>0.001</td>\n      <td>0.1</td>\n      <td>index</td>\n      <td>4985.000000</td>\n      <td>[414.5, 1298.0, 659.25, 448.3333333333333, 341...</td>\n    </tr>\n    <tr>\n      <th>16</th>\n      <td>400</td>\n      <td>position_and_angle_based</td>\n      <td>fitness_proportional</td>\n      <td>2</td>\n      <td>0.001</td>\n      <td>0.1</td>\n      <td>index</td>\n      <td>4864.000000</td>\n      <td>[1055.0, 951.0, 732.3333333333334, 564.625, 46...</td>\n    </tr>\n    <tr>\n      <th>24</th>\n      <td>400</td>\n      <td>position_and_angle_based</td>\n      <td>fitness_proportional</td>\n      <td>2</td>\n      <td>0.001</td>\n      <td>0.1</td>\n      <td>index</td>\n      <td>4786.000000</td>\n      <td>[539.0, 273.5, 189.66666666666666, 244.0, 279....</td>\n    </tr>\n    <tr>\n      <th>8</th>\n      <td>400</td>\n      <td>position_and_angle_based</td>\n      <td>fitness_proportional</td>\n      <td>2</td>\n      <td>0.001</td>\n      <td>0.1</td>\n      <td>index</td>\n      <td>4627.000000</td>\n      <td>[551.5, 200.5, 294.5, 307.3333333333333, 1682....</td>\n    </tr>\n    <tr>\n      <th>37</th>\n      <td>400</td>\n      <td>position_and_angle_based</td>\n      <td>fitness_proportional</td>\n      <td>2</td>\n      <td>0.001</td>\n      <td>0.1</td>\n      <td>index</td>\n      <td>4585.000000</td>\n      <td>[261.5, 209.25, 212.0, 1417.0, 780.25, 571.5, ...</td>\n    </tr>\n    <tr>\n      <th>40</th>\n      <td>400</td>\n      <td>position_and_angle_based</td>\n      <td>fitness_proportional</td>\n      <td>2</td>\n      <td>0.001</td>\n      <td>0.1</td>\n      <td>index</td>\n      <td>4386.750000</td>\n      <td>[101.5, 856.0, 452.75, 310.5, 393.5, 417.0, 22...</td>\n    </tr>\n    <tr>\n      <th>34</th>\n      <td>400</td>\n      <td>position_and_angle_based</td>\n      <td>fitness_proportional</td>\n      <td>2</td>\n      <td>0.001</td>\n      <td>0.1</td>\n      <td>index</td>\n      <td>4215.000000</td>\n      <td>[200.0, 219.5, 391.5, 467.5, 535.5, 307.5, 743...</td>\n    </tr>\n    <tr>\n      <th>30</th>\n      <td>400</td>\n      <td>position_and_angle_based</td>\n      <td>fitness_proportional</td>\n      <td>2</td>\n      <td>0.001</td>\n      <td>0.1</td>\n      <td>index</td>\n      <td>4006.500000</td>\n      <td>[484.0, 147.0, 4006.5, 2007.25, 1394.0, 2539.2...</td>\n    </tr>\n    <tr>\n      <th>10</th>\n      <td>400</td>\n      <td>position_and_angle_based</td>\n      <td>fitness_proportional</td>\n      <td>2</td>\n      <td>0.001</td>\n      <td>0.1</td>\n      <td>index</td>\n      <td>3854.000000</td>\n      <td>[132.5, 193.5, 177.5, 426.5, 302.25, 199.2, 20...</td>\n    </tr>\n    <tr>\n      <th>7</th>\n      <td>400</td>\n      <td>position_and_angle_based</td>\n      <td>fitness_proportional</td>\n      <td>2</td>\n      <td>0.001</td>\n      <td>0.1</td>\n      <td>index</td>\n      <td>3817.750000</td>\n      <td>[198.5, 1126.5, 582.0, 629.8333333333334, 518....</td>\n    </tr>\n    <tr>\n      <th>6</th>\n      <td>400</td>\n      <td>position_and_angle_based</td>\n      <td>fitness_proportional</td>\n      <td>2</td>\n      <td>0.001</td>\n      <td>0.1</td>\n      <td>index</td>\n      <td>3811.750000</td>\n      <td>[615.5, 483.75, 458.3333333333333, 353.5, 289....</td>\n    </tr>\n    <tr>\n      <th>36</th>\n      <td>400</td>\n      <td>position_and_angle_based</td>\n      <td>fitness_proportional</td>\n      <td>2</td>\n      <td>0.001</td>\n      <td>0.1</td>\n      <td>index</td>\n      <td>3246.500000</td>\n      <td>[184.0, 1109.0, 646.0, 923.5, 2586.125, 2081.2...</td>\n    </tr>\n    <tr>\n      <th>39</th>\n      <td>400</td>\n      <td>position_and_angle_based</td>\n      <td>fitness_proportional</td>\n      <td>2</td>\n      <td>0.001</td>\n      <td>0.1</td>\n      <td>index</td>\n      <td>3231.000000</td>\n      <td>[191.5, 458.0, 455.25, 515.6666666666666, 462....</td>\n    </tr>\n    <tr>\n      <th>42</th>\n      <td>400</td>\n      <td>position_and_angle_based</td>\n      <td>fitness_proportional</td>\n      <td>2</td>\n      <td>0.001</td>\n      <td>0.1</td>\n      <td>index</td>\n      <td>3203.000000</td>\n      <td>[224.5, 185.75, 134.5, 578.0, 573.0, 564.66666...</td>\n    </tr>\n    <tr>\n      <th>9</th>\n      <td>400</td>\n      <td>position_and_angle_based</td>\n      <td>fitness_proportional</td>\n      <td>2</td>\n      <td>0.001</td>\n      <td>0.1</td>\n      <td>index</td>\n      <td>3097.000000</td>\n      <td>[180.0, 183.25, 516.0, 179.5, 1303.0, 719.0, 5...</td>\n    </tr>\n    <tr>\n      <th>11</th>\n      <td>400</td>\n      <td>position_and_angle_based</td>\n      <td>fitness_proportional</td>\n      <td>2</td>\n      <td>0.001</td>\n      <td>0.1</td>\n      <td>index</td>\n      <td>3038.000000</td>\n      <td>[296.0, 933.75, 706.5, 1540.0, 845.25, 541.833...</td>\n    </tr>\n    <tr>\n      <th>14</th>\n      <td>400</td>\n      <td>position_and_angle_based</td>\n      <td>fitness_proportional</td>\n      <td>2</td>\n      <td>0.001</td>\n      <td>0.1</td>\n      <td>index</td>\n      <td>2385.000000</td>\n      <td>[169.5, 272.0, 231.5, 632.0, 387.5, 209.25, 25...</td>\n    </tr>\n    <tr>\n      <th>47</th>\n      <td>400</td>\n      <td>position_and_angle_based</td>\n      <td>fitness_proportional</td>\n      <td>2</td>\n      <td>0.001</td>\n      <td>0.1</td>\n      <td>index</td>\n      <td>2286.000000</td>\n      <td>[221.5, 234.0, 575.5, 522.0, 522.0, 478.375, 4...</td>\n    </tr>\n    <tr>\n      <th>12</th>\n      <td>400</td>\n      <td>position_and_angle_based</td>\n      <td>fitness_proportional</td>\n      <td>2</td>\n      <td>0.001</td>\n      <td>0.1</td>\n      <td>index</td>\n      <td>2169.272727</td>\n      <td>[212.0, 162.5, 236.5, 227.5, 684.5, 815.0, 447...</td>\n    </tr>\n    <tr>\n      <th>46</th>\n      <td>400</td>\n      <td>position_and_angle_based</td>\n      <td>fitness_proportional</td>\n      <td>2</td>\n      <td>0.001</td>\n      <td>0.1</td>\n      <td>index</td>\n      <td>2100.750000</td>\n      <td>[81.0, 103.5, 243.0, 441.0, 266.0, 209.75, 180...</td>\n    </tr>\n    <tr>\n      <th>13</th>\n      <td>400</td>\n      <td>position_and_angle_based</td>\n      <td>fitness_proportional</td>\n      <td>2</td>\n      <td>0.001</td>\n      <td>0.1</td>\n      <td>index</td>\n      <td>1862.500000</td>\n      <td>[95.0, 125.5, 227.5, 217.5, 215.25, 186.875, 2...</td>\n    </tr>\n    <tr>\n      <th>26</th>\n      <td>400</td>\n      <td>position_and_angle_based</td>\n      <td>fitness_proportional</td>\n      <td>2</td>\n      <td>0.001</td>\n      <td>0.1</td>\n      <td>index</td>\n      <td>1835.500000</td>\n      <td>[137.5, 534.0, 321.0, 202.5, 185.5, 309.0, 198...</td>\n    </tr>\n    <tr>\n      <th>33</th>\n      <td>400</td>\n      <td>position_and_angle_based</td>\n      <td>fitness_proportional</td>\n      <td>2</td>\n      <td>0.001</td>\n      <td>0.1</td>\n      <td>index</td>\n      <td>1488.833333</td>\n      <td>[632.0, 1485.5, 1488.8333333333333, 1153.0, 10...</td>\n    </tr>\n    <tr>\n      <th>21</th>\n      <td>400</td>\n      <td>position_and_angle_based</td>\n      <td>fitness_proportional</td>\n      <td>2</td>\n      <td>0.001</td>\n      <td>0.1</td>\n      <td>index</td>\n      <td>1379.500000</td>\n      <td>[193.0, 720.5, 588.0, 722.6666666666666, 1379....</td>\n    </tr>\n    <tr>\n      <th>27</th>\n      <td>400</td>\n      <td>position_and_angle_based</td>\n      <td>fitness_proportional</td>\n      <td>2</td>\n      <td>0.001</td>\n      <td>0.1</td>\n      <td>index</td>\n      <td>1334.250000</td>\n      <td>[299.5, 293.5, 333.0, 527.5, 178.5, 253.0, 376...</td>\n    </tr>\n    <tr>\n      <th>1</th>\n      <td>100</td>\n      <td>position_and_angle_based</td>\n      <td>fitness_proportional</td>\n      <td>2</td>\n      <td>0.001</td>\n      <td>0.1</td>\n      <td>index</td>\n      <td>464.500000</td>\n      <td>[168.5, 158.0, 147.0, 135.5, 49.5, 267.0, 84.0...</td>\n    </tr>\n    <tr>\n      <th>3</th>\n      <td>100</td>\n      <td>position_and_angle_based</td>\n      <td>fitness_proportional</td>\n      <td>2</td>\n      <td>0.001</td>\n      <td>0.1</td>\n      <td>index</td>\n      <td>464.000000</td>\n      <td>[86.5, 67.5, 110.5, 119.0, 75.0, 95.0, 454.5, ...</td>\n    </tr>\n    <tr>\n      <th>2</th>\n      <td>100</td>\n      <td>position_and_angle_based</td>\n      <td>fitness_proportional</td>\n      <td>2</td>\n      <td>0.001</td>\n      <td>0.1</td>\n      <td>index</td>\n      <td>441.000000</td>\n      <td>[79.5, 36.25, 43.0, 50.5, 59.5, 48.0, 441.0, 6...</td>\n    </tr>\n    <tr>\n      <th>4</th>\n      <td>100</td>\n      <td>position_and_angle_based</td>\n      <td>fitness_proportional</td>\n      <td>2</td>\n      <td>0.001</td>\n      <td>0.1</td>\n      <td>index</td>\n      <td>385.750000</td>\n      <td>[321.5, 385.75, 169.0, 50.5, 90.0, 148.0, 294....</td>\n    </tr>\n    <tr>\n      <th>0</th>\n      <td>100</td>\n      <td>position_and_angle_based</td>\n      <td>fitness_proportional</td>\n      <td>2</td>\n      <td>0.001</td>\n      <td>0.1</td>\n      <td>index</td>\n      <td>285.000000</td>\n      <td>[203.0, 189.0, 31.5, 110.5, 41.0, 97.5, 104.5,...</td>\n    </tr>\n    <tr>\n      <th>5</th>\n      <td>100</td>\n      <td>position_and_angle_based</td>\n      <td>fitness_proportional</td>\n      <td>2</td>\n      <td>0.001</td>\n      <td>0.1</td>\n      <td>index</td>\n      <td>205.500000</td>\n      <td>[99.0, 77.0, 26.5, 49.0, 43.5, 205.5, 149.5, 1...</td>\n    </tr>\n    <tr>\n      <th>48</th>\n      <td>50</td>\n      <td>position_and_angle_based</td>\n      <td>fitness_proportional</td>\n      <td>2</td>\n      <td>0.001</td>\n      <td>0.1</td>\n      <td>index</td>\n      <td>67.000000</td>\n      <td>[67.0, 32.5, 55.0]</td>\n    </tr>\n  </tbody>\n</table>\n</div>"
     },
     "execution_count": 210,
     "metadata": {},
     "output_type": "execute_result"
    }
   ],
   "source": [
    "top_100 = df.sort_values(by='steps', ascending=False)[:100]\n",
    "\n",
    "top_100"
   ],
   "metadata": {
    "collapsed": false,
    "pycharm": {
     "name": "#%%\n"
    }
   }
  },
  {
   "cell_type": "code",
   "execution_count": 211,
   "outputs": [
    {
     "data": {
      "text/plain": "position_and_angle_based    49\nName: fitness_function, dtype: int64"
     },
     "execution_count": 211,
     "metadata": {},
     "output_type": "execute_result"
    }
   ],
   "source": [
    "top_100.fitness_function.value_counts()"
   ],
   "metadata": {
    "collapsed": false,
    "pycharm": {
     "name": "#%%\n"
    }
   }
  },
  {
   "cell_type": "code",
   "execution_count": 212,
   "outputs": [
    {
     "data": {
      "text/plain": "fitness_proportional    49\nName: selection_criterion, dtype: int64"
     },
     "execution_count": 212,
     "metadata": {},
     "output_type": "execute_result"
    }
   ],
   "source": [
    "top_100.selection_criterion.value_counts()"
   ],
   "metadata": {
    "collapsed": false,
    "pycharm": {
     "name": "#%%\n"
    }
   }
  },
  {
   "cell_type": "code",
   "execution_count": 213,
   "outputs": [
    {
     "data": {
      "text/plain": "2    49\nName: episodes_per_individual, dtype: int64"
     },
     "execution_count": 213,
     "metadata": {},
     "output_type": "execute_result"
    }
   ],
   "source": [
    "top_100.episodes_per_individual.value_counts()"
   ],
   "metadata": {
    "collapsed": false,
    "pycharm": {
     "name": "#%%\n"
    }
   }
  },
  {
   "cell_type": "code",
   "execution_count": 214,
   "outputs": [
    {
     "data": {
      "text/plain": "0.001    49\nName: mutation_rate, dtype: int64"
     },
     "execution_count": 214,
     "metadata": {},
     "output_type": "execute_result"
    }
   ],
   "source": [
    "top_100.mutation_rate.value_counts()\n"
   ],
   "metadata": {
    "collapsed": false,
    "pycharm": {
     "name": "#%%\n"
    }
   }
  },
  {
   "cell_type": "code",
   "execution_count": 215,
   "outputs": [
    {
     "data": {
      "text/plain": "0.1    49\nName: survival_rate, dtype: int64"
     },
     "execution_count": 215,
     "metadata": {},
     "output_type": "execute_result"
    }
   ],
   "source": [
    "top_100.survival_rate.value_counts()\n"
   ],
   "metadata": {
    "collapsed": false,
    "pycharm": {
     "name": "#%%\n"
    }
   }
  },
  {
   "cell_type": "code",
   "execution_count": 216,
   "outputs": [
    {
     "data": {
      "text/plain": "index    49\nName: action_type, dtype: int64"
     },
     "execution_count": 216,
     "metadata": {},
     "output_type": "execute_result"
    }
   ],
   "source": [
    "top_100.action_type.value_counts()"
   ],
   "metadata": {
    "collapsed": false,
    "pycharm": {
     "name": "#%%\n"
    }
   }
  },
  {
   "cell_type": "code",
   "execution_count": 217,
   "outputs": [
    {
     "data": {
      "text/plain": "400    42\n100     6\n50      1\nName: population_limit, dtype: int64"
     },
     "execution_count": 217,
     "metadata": {},
     "output_type": "execute_result"
    }
   ],
   "source": [
    "top_100.population_limit.value_counts()"
   ],
   "metadata": {
    "collapsed": false,
    "pycharm": {
     "name": "#%%\n"
    }
   }
  },
  {
   "cell_type": "code",
   "execution_count": 218,
   "outputs": [],
   "source": [
    "top_10 = top_100[:10]"
   ],
   "metadata": {
    "collapsed": false,
    "pycharm": {
     "name": "#%%\n"
    }
   }
  },
  {
   "cell_type": "code",
   "execution_count": 219,
   "outputs": [
    {
     "data": {
      "text/plain": "position_and_angle_based    10\nName: fitness_function, dtype: int64"
     },
     "execution_count": 219,
     "metadata": {},
     "output_type": "execute_result"
    }
   ],
   "source": [
    "top_10.fitness_function.value_counts()"
   ],
   "metadata": {
    "collapsed": false,
    "pycharm": {
     "name": "#%%\n"
    }
   }
  },
  {
   "cell_type": "code",
   "execution_count": 220,
   "outputs": [
    {
     "data": {
      "text/plain": "position_and_angle_based    49\nName: fitness_function, dtype: int64"
     },
     "execution_count": 220,
     "metadata": {},
     "output_type": "execute_result"
    }
   ],
   "source": [
    "df.fitness_function.value_counts()\n"
   ],
   "metadata": {
    "collapsed": false,
    "pycharm": {
     "name": "#%%\n"
    }
   }
  },
  {
   "cell_type": "code",
   "execution_count": 221,
   "outputs": [
    {
     "data": {
      "text/plain": "    population_limit          fitness_function   selection_criterion  \\\n17               400  position_and_angle_based  fitness_proportional   \n22               400  position_and_angle_based  fitness_proportional   \n25               400  position_and_angle_based  fitness_proportional   \n31               400  position_and_angle_based  fitness_proportional   \n29               400  position_and_angle_based  fitness_proportional   \n19               400  position_and_angle_based  fitness_proportional   \n38               400  position_and_angle_based  fitness_proportional   \n15               400  position_and_angle_based  fitness_proportional   \n41               400  position_and_angle_based  fitness_proportional   \n44               400  position_and_angle_based  fitness_proportional   \n\n    episodes_per_individual  mutation_rate  survival_rate action_type  \\\n17                        2          0.001            0.1       index   \n22                        2          0.001            0.1       index   \n25                        2          0.001            0.1       index   \n31                        2          0.001            0.1       index   \n29                        2          0.001            0.1       index   \n19                        2          0.001            0.1       index   \n38                        2          0.001            0.1       index   \n15                        2          0.001            0.1       index   \n41                        2          0.001            0.1       index   \n44                        2          0.001            0.1       index   \n\n      steps                                       step_history  \n17  9084.25  [118.0, 153.5, 187.5, 322.5, 145.5, 556.0, 539...  \n22  8942.50  [104.0, 240.5, 178.5, 128.5, 114.0, 144.25, 55...  \n25  8352.00  [133.5, 212.0, 225.5, 216.5, 276.5, 151.75, 31...  \n31  8335.00  [185.0, 113.0, 1757.5, 1207.0, 917.66666666666...  \n29  7966.00  [300.5, 290.75, 355.5, 484.5, 401.5, 527.25, 6...  \n19  7611.00  [237.5, 179.0, 205.0, 221.0, 254.5, 270.25, 19...  \n38  7602.00  [657.5, 539.75, 368.0, 107.375, 316.0, 217.25,...  \n15  7592.00  [369.0, 350.75, 407.8333333333333, 309.75, 251...  \n41  7586.00  [215.5, 412.5, 210.75, 204.0, 233.5, 274.0, 30...  \n44  7580.50  [306.5, 434.0, 297.75, 350.0, 350.5, 2757.0, 1...  ",
      "text/html": "<div>\n<style scoped>\n    .dataframe tbody tr th:only-of-type {\n        vertical-align: middle;\n    }\n\n    .dataframe tbody tr th {\n        vertical-align: top;\n    }\n\n    .dataframe thead th {\n        text-align: right;\n    }\n</style>\n<table border=\"1\" class=\"dataframe\">\n  <thead>\n    <tr style=\"text-align: right;\">\n      <th></th>\n      <th>population_limit</th>\n      <th>fitness_function</th>\n      <th>selection_criterion</th>\n      <th>episodes_per_individual</th>\n      <th>mutation_rate</th>\n      <th>survival_rate</th>\n      <th>action_type</th>\n      <th>steps</th>\n      <th>step_history</th>\n    </tr>\n  </thead>\n  <tbody>\n    <tr>\n      <th>17</th>\n      <td>400</td>\n      <td>position_and_angle_based</td>\n      <td>fitness_proportional</td>\n      <td>2</td>\n      <td>0.001</td>\n      <td>0.1</td>\n      <td>index</td>\n      <td>9084.25</td>\n      <td>[118.0, 153.5, 187.5, 322.5, 145.5, 556.0, 539...</td>\n    </tr>\n    <tr>\n      <th>22</th>\n      <td>400</td>\n      <td>position_and_angle_based</td>\n      <td>fitness_proportional</td>\n      <td>2</td>\n      <td>0.001</td>\n      <td>0.1</td>\n      <td>index</td>\n      <td>8942.50</td>\n      <td>[104.0, 240.5, 178.5, 128.5, 114.0, 144.25, 55...</td>\n    </tr>\n    <tr>\n      <th>25</th>\n      <td>400</td>\n      <td>position_and_angle_based</td>\n      <td>fitness_proportional</td>\n      <td>2</td>\n      <td>0.001</td>\n      <td>0.1</td>\n      <td>index</td>\n      <td>8352.00</td>\n      <td>[133.5, 212.0, 225.5, 216.5, 276.5, 151.75, 31...</td>\n    </tr>\n    <tr>\n      <th>31</th>\n      <td>400</td>\n      <td>position_and_angle_based</td>\n      <td>fitness_proportional</td>\n      <td>2</td>\n      <td>0.001</td>\n      <td>0.1</td>\n      <td>index</td>\n      <td>8335.00</td>\n      <td>[185.0, 113.0, 1757.5, 1207.0, 917.66666666666...</td>\n    </tr>\n    <tr>\n      <th>29</th>\n      <td>400</td>\n      <td>position_and_angle_based</td>\n      <td>fitness_proportional</td>\n      <td>2</td>\n      <td>0.001</td>\n      <td>0.1</td>\n      <td>index</td>\n      <td>7966.00</td>\n      <td>[300.5, 290.75, 355.5, 484.5, 401.5, 527.25, 6...</td>\n    </tr>\n    <tr>\n      <th>19</th>\n      <td>400</td>\n      <td>position_and_angle_based</td>\n      <td>fitness_proportional</td>\n      <td>2</td>\n      <td>0.001</td>\n      <td>0.1</td>\n      <td>index</td>\n      <td>7611.00</td>\n      <td>[237.5, 179.0, 205.0, 221.0, 254.5, 270.25, 19...</td>\n    </tr>\n    <tr>\n      <th>38</th>\n      <td>400</td>\n      <td>position_and_angle_based</td>\n      <td>fitness_proportional</td>\n      <td>2</td>\n      <td>0.001</td>\n      <td>0.1</td>\n      <td>index</td>\n      <td>7602.00</td>\n      <td>[657.5, 539.75, 368.0, 107.375, 316.0, 217.25,...</td>\n    </tr>\n    <tr>\n      <th>15</th>\n      <td>400</td>\n      <td>position_and_angle_based</td>\n      <td>fitness_proportional</td>\n      <td>2</td>\n      <td>0.001</td>\n      <td>0.1</td>\n      <td>index</td>\n      <td>7592.00</td>\n      <td>[369.0, 350.75, 407.8333333333333, 309.75, 251...</td>\n    </tr>\n    <tr>\n      <th>41</th>\n      <td>400</td>\n      <td>position_and_angle_based</td>\n      <td>fitness_proportional</td>\n      <td>2</td>\n      <td>0.001</td>\n      <td>0.1</td>\n      <td>index</td>\n      <td>7586.00</td>\n      <td>[215.5, 412.5, 210.75, 204.0, 233.5, 274.0, 30...</td>\n    </tr>\n    <tr>\n      <th>44</th>\n      <td>400</td>\n      <td>position_and_angle_based</td>\n      <td>fitness_proportional</td>\n      <td>2</td>\n      <td>0.001</td>\n      <td>0.1</td>\n      <td>index</td>\n      <td>7580.50</td>\n      <td>[306.5, 434.0, 297.75, 350.0, 350.5, 2757.0, 1...</td>\n    </tr>\n  </tbody>\n</table>\n</div>"
     },
     "execution_count": 221,
     "metadata": {},
     "output_type": "execute_result"
    }
   ],
   "source": [
    "top_10"
   ],
   "metadata": {
    "collapsed": false,
    "pycharm": {
     "name": "#%%\n"
    }
   }
  },
  {
   "cell_type": "code",
   "execution_count": 225,
   "outputs": [
    {
     "data": {
      "application/vnd.plotly.v1+json": {
       "config": {
        "plotlyServerURL": "https://plot.ly"
       },
       "data": [
        {
         "mode": "lines",
         "name": "0",
         "type": "scatter",
         "y": [
          118.0,
          153.5,
          187.5,
          322.5,
          145.5,
          556.0,
          539.0,
          505.6666666666667,
          337.0,
          472.2,
          470.3333333333333,
          457.14285714285717,
          491.0,
          430.0,
          503.3333333333333,
          509.5,
          522.0,
          481.6666666666667,
          873.0,
          447.75,
          432.6666666666667,
          405.3,
          401.1818181818182,
          374.375,
          378.96153846153845,
          366.5357142857143,
          351.6,
          679.5,
          609.25,
          612.8333333333334,
          555.125,
          322.875,
          331.2,
          308.9166666666667,
          409.0,
          305.0,
          319.25,
          204.5,
          202.5,
          527.5,
          218.5,
          3169.5,
          9084.25,
          6114.166666666667,
          4727.375,
          3870.6,
          3295.8333333333335,
          2826.9285714285716,
          2475.4375,
          2201.5555555555557,
          1995.8,
          1821.590909090909,
          1677.8333333333333,
          1557.2692307692307,
          1451.5714285714287,
          1361.5,
          1280.15625,
          1210.1764705882354,
          1148.9722222222222,
          1092.7368421052631,
          1042.775,
          999.6666666666666,
          959.8181818181819,
          923.6304347826087,
          889.4375,
          857.54,
          828.3653846153846,
          801.8148148148148,
          1179.0,
          1085.5,
          995.5,
          709.5967741935484,
          687.671875,
          667.5757575757576,
          799.0714285714286,
          4963.5,
          2502.0,
          1697.5,
          1288.75,
          1035.7
         ]
        },
        {
         "mode": "lines",
         "name": "1",
         "type": "scatter",
         "y": [
          104.0,
          240.5,
          178.5,
          128.5,
          114.0,
          144.25,
          554.5,
          290.75,
          495.0,
          592.1666666666666,
          564.875,
          526.5,
          538.5,
          536.6428571428571,
          1647.5,
          1835.5,
          1915.1666666666667,
          1446.75,
          1166.9,
          978.5833333333334,
          845.2857142857143,
          745.9375,
          825.7777777777778,
          748.0,
          683.5454545454545,
          630.75,
          585.8846153846154,
          546.8928571428571,
          514.1333333333333,
          1005.0,
          755.25,
          534.75,
          670.5,
          740.5,
          767.8333333333334,
          647.625,
          690.0,
          504.75,
          465.1666666666667,
          514.8,
          481.8636363636364,
          1716.0,
          996.75,
          760.6666666666666,
          691.25,
          530.59375,
          603.0,
          547.2222222222222,
          530.2368421052631,
          608.0,
          518.75,
          1315.0,
          730.0,
          501.6666666666667,
          317.6,
          326.6666666666667,
          347.5,
          326.5,
          2846.0,
          1437.25,
          968.8333333333334,
          736.125,
          595.2,
          503.0833333333333,
          468.35714285714283,
          222.5,
          232.5,
          8942.5,
          8295.25,
          5591.0,
          4244.375,
          3416.9,
          2863.1666666666665,
          2470.0,
          2172.5,
          1935.5555555555557,
          1750.8,
          1595.9545454545455,
          1467.75,
          1360.1153846153845
         ]
        },
        {
         "mode": "lines",
         "name": "2",
         "type": "scatter",
         "y": [
          133.5,
          212.0,
          225.5,
          216.5,
          276.5,
          151.75,
          312.5,
          422.5,
          154.0,
          425.5,
          298.25,
          299.5,
          324.625,
          586.5,
          307.25,
          255.64285714285714,
          265.0,
          516.25,
          360.1666666666667,
          512.875,
          503.3,
          424.5833333333333,
          367.57142857142856,
          325.375,
          296.0,
          345.0,
          310.1666666666667,
          406.125,
          1998.0,
          1016.5,
          695.3333333333334,
          873.75,
          708.1,
          596.4166666666666,
          515.7142857142857,
          545.125,
          748.0,
          1577.0,
          792.5,
          639.3333333333334,
          1963.0,
          1636.75,
          1095.6666666666667,
          828.875,
          666.6,
          369.0,
          317.9,
          139.0,
          217.0,
          116.5,
          222.5,
          547.5,
          508.25,
          354.6666666666667,
          368.125,
          386.8,
          221.0,
          186.0,
          230.0,
          226.75,
          424.1666666666667,
          360.75,
          963.0,
          572.75,
          396.8333333333333,
          8352.0,
          4326.75,
          3016.6666666666665,
          2284.375,
          1988.5,
          1665.4166666666667,
          1432.642857142857,
          1256.0625,
          1118.0,
          1009.9,
          920.4545454545455,
          845.2083333333334,
          782.1538461538462,
          727.3571428571429,
          680.1333333333333
         ]
        },
        {
         "mode": "lines",
         "name": "3",
         "type": "scatter",
         "y": [
          185.0,
          113.0,
          1757.5,
          1207.0,
          917.6666666666666,
          891.625,
          814.6,
          762.6666666666666,
          772.7857142857143,
          790.3125,
          758.4444444444445,
          744.8,
          734.7727272727273,
          706.375,
          688.3461538461538,
          675.6785714285714,
          633.4666666666667,
          660.21875,
          657.3529411764706,
          637.0833333333334,
          625.421052631579,
          611.275,
          616.547619047619,
          608.9545454545455,
          583.8913043478261,
          582.2291666666666,
          560.52,
          8335.0,
          4692.5,
          3363.1666666666665,
          3646.375,
          3305.8,
          3111.5833333333335,
          2865.285714285714,
          2531.6875,
          2405.277777777778,
          2319.55,
          2277.1363636363635,
          2108.2083333333335,
          2001.1538461538462,
          2010.2857142857142,
          1900.4,
          1869.625,
          1778.3529411764705,
          1727.5555555555557,
          1663.342105263158,
          1663.1,
          1636.8095238095239,
          1563.1363636363637,
          1496.8695652173913,
          1435.6666666666667,
          1378.92,
          1326.6923076923076,
          1278.2407407407406,
          1233.2857142857142,
          1191.551724137931,
          1152.3833333333334,
          1115.9354838709678,
          1082.234375,
          1049.909090909091,
          1020.0,
          991.3714285714286,
          964.5833333333334,
          939.0135135135135,
          915.1315789473684,
          892.2948717948718,
          870.4875,
          849.7560975609756,
          1266.0,
          811.3604651162791,
          793.9090909090909,
          777.2,
          760.5217391304348,
          744.5744680851063,
          729.28125,
          714.6122448979592,
          700.54,
          686.9607843137255,
          673.9615384615385,
          661.4056603773585
         ]
        },
        {
         "mode": "lines",
         "name": "4",
         "type": "scatter",
         "y": [
          300.5,
          290.75,
          355.5,
          484.5,
          401.5,
          527.25,
          611.1666666666666,
          610.125,
          538.3,
          502.4166666666667,
          476.7142857142857,
          505.0,
          448.55555555555554,
          424.75,
          407.22727272727275,
          393.7083333333333,
          513.3333333333334,
          750.5,
          838.75,
          917.3333333333334,
          695.875,
          565.0,
          475.8333333333333,
          1285.25,
          1040.1666666666667,
          864.625,
          1610.5,
          1467.25,
          1388.5714285714287,
          1306.9375,
          1246.9444444444443,
          1141.15,
          7966.0,
          4065.25,
          5541.166666666667,
          4270.625,
          3509.6,
          2982.5833333333335,
          2578.714285714286,
          2267.1875,
          2254.0,
          2372.6,
          2170.2727272727275,
          1992.2083333333333,
          1845.4615384615386,
          1716.75,
          1604.2666666666667,
          1505.4375,
          1418.1176470588234,
          1339.8055555555557,
          1269.7631578947369,
          1206.675,
          1149.642857142857,
          1097.909090909091,
          1050.6521739130435,
          1007.6875,
          968.02,
          931.1538461538462,
          716.4848484848485,
          867.0,
          591.5,
          669.4444444444445,
          483.5,
          637.5,
          391.25,
          295.1666666666667,
          378.5,
          391.5,
          494.5833333333333,
          430.07142857142856,
          380.75,
          340.22222222222223,
          438.5,
          839.0,
          523.0,
          463.5,
          291.5,
          302.3333333333333,
          248.5,
          233.1
         ]
        },
        {
         "mode": "lines",
         "name": "5",
         "type": "scatter",
         "y": [
          237.5,
          179.0,
          205.0,
          221.0,
          254.5,
          270.25,
          190.5,
          221.16666666666666,
          733.0,
          389.5,
          736.0,
          384.75,
          337.8333333333333,
          261.375,
          278.5,
          603.0,
          672.0,
          549.0,
          189.0,
          349.0,
          286.0,
          321.0,
          281.75,
          615.0,
          492.75,
          510.5,
          545.625,
          442.5,
          469.25,
          592.25,
          551.4375,
          788.5,
          784.5,
          1114.5,
          857.0,
          720.375,
          3831.25,
          2592.3333333333335,
          1960.875,
          1601.4,
          1463.3333333333333,
          1257.7857142857142,
          1130.0625,
          1020.7777777777778,
          929.1,
          867.4545454545455,
          835.7083333333334,
          862.75,
          735.7857142857143,
          778.0,
          659.5,
          458.25,
          425.5,
          324.625,
          378.5,
          182.8,
          372.5,
          2162.5,
          7611.0,
          3832.5,
          2583.1666666666665,
          1961.5,
          1589.7,
          1339.5,
          1152.5,
          1017.75,
          914.1666666666666,
          828.25,
          759.1818181818181,
          703.0416666666666,
          948.0,
          1005.0,
          837.1666666666666,
          863.875,
          766.9,
          869.5,
          889.0714285714286,
          786.4375,
          706.9444444444445,
          642.65
         ]
        },
        {
         "mode": "lines",
         "name": "6",
         "type": "scatter",
         "y": [
          657.5,
          539.75,
          368.0,
          107.375,
          316.0,
          217.25,
          231.66666666666666,
          574.0,
          551.0,
          364.5,
          202.5,
          195.0,
          144.0,
          422.0,
          248.5,
          213.33333333333334,
          299.5,
          151.6,
          3050.5,
          2043.75,
          1411.5,
          1071.75,
          711.5,
          792.25,
          1640.5,
          1689.1666666666667,
          1324.875,
          1066.8,
          932.5833333333334,
          805.3571428571429,
          708.875,
          631.8333333333334,
          754.8333333333334,
          736.4,
          711.0909090909091,
          569.5,
          490.0,
          466.5,
          764.5,
          625.5,
          733.0,
          557.25,
          928.0,
          2902.5,
          1951.3333333333333,
          1485.75,
          1206.9,
          1035.25,
          906.7142857142857,
          804.4375,
          727.3888888888889,
          657.75,
          861.5,
          881.3333333333334,
          521.7692307692307,
          490.92857142857144,
          463.8666666666667,
          439.25,
          416.2647058823529,
          397.55555555555554,
          184.83333333333334,
          156.875,
          183.0,
          285.5,
          302.25,
          403.5,
          274.625,
          225.4,
          221.41666666666666,
          204.85714285714286,
          202.8125,
          271.0,
          395.0,
          306.5,
          720.875,
          7602.0,
          3922.0,
          2680.0,
          2063.0,
          1699.7
         ]
        },
        {
         "mode": "lines",
         "name": "7",
         "type": "scatter",
         "y": [
          369.0,
          350.75,
          407.8333333333333,
          309.75,
          251.1,
          214.91666666666666,
          244.0,
          231.5,
          204.9,
          224.5,
          220.5,
          328.5,
          259.5,
          328.875,
          451.0,
          1394.5,
          3948.25,
          2800.1666666666665,
          2168.75,
          1846.7,
          1628.0,
          1437.357142857143,
          1336.8125,
          1224.2222222222222,
          1133.95,
          1076.5454545454545,
          1031.0416666666667,
          975.8076923076923,
          908.9642857142857,
          883.1333333333333,
          7533.0,
          3867.5,
          3777.5,
          2893.5,
          2433.5,
          2031.9166666666667,
          1748.142857142857,
          1533.5625,
          1364.6666666666667,
          1230.15,
          1120.2727272727273,
          1028.6666666666667,
          950.6538461538462,
          885.5714285714286,
          829.3666666666667,
          778.96875,
          736.8529411764706,
          698.4722222222222,
          666.2894736842105,
          634.375,
          606.0238095238095,
          581.9545454545455,
          558.804347826087,
          536.0208333333334,
          619.0,
          495.59615384615387,
          1151.0,
          652.75,
          445.86206896551727,
          431.28333333333336,
          417.93548387096774,
          482.5,
          794.0,
          775.5,
          753.5,
          810.0,
          677.75,
          7592.0,
          3926.75,
          2658.0,
          2049.125,
          1657.6,
          1395.3333333333333,
          1214.142857142857,
          1077.875,
          967.2222222222222,
          876.85,
          805.0,
          1466.5,
          1337.0
         ]
        },
        {
         "mode": "lines",
         "name": "8",
         "type": "scatter",
         "y": [
          215.5,
          412.5,
          210.75,
          204.0,
          233.5,
          274.0,
          301.0,
          265.0,
          248.5,
          277.9,
          451.0,
          254.42857142857142,
          277.5,
          346.5,
          286.8,
          293.8636363636364,
          220.25,
          445.0,
          386.75,
          738.5,
          525.5,
          1152.0,
          800.75,
          680.3333333333334,
          846.375,
          792.3,
          707.75,
          637.9285714285714,
          981.8125,
          892.3333333333334,
          1058.85,
          981.9545454545455,
          1037.625,
          1153.076923076923,
          1118.4642857142858,
          1068.4,
          1036.21875,
          987.7058823529412,
          7586.0,
          3873.5,
          5634.25,
          3851.5,
          4805.25,
          3848.1,
          3211.0,
          2754.5714285714284,
          2467.0555555555557,
          2236.85,
          2725.9545454545455,
          2500.25,
          2310.923076923077,
          2148.3928571428573,
          4123.5,
          2082.25,
          1782.0588235294117,
          2957.75,
          3334.5,
          2788.8333333333335,
          2413.1428571428573,
          2547.25,
          2272.4444444444443,
          2053.2,
          1875.2272727272727,
          1726.75,
          1597.0384615384614,
          1486.0714285714287,
          1389.2666666666667,
          1304.21875,
          1228.7058823529412,
          1162.861111111111,
          1103.4473684210527,
          1049.4,
          1001.1190476190476,
          957.2727272727273,
          917.3478260869565,
          881.1875,
          847.7,
          765.9,
          747.4268292682926,
          729.8214285714286
         ]
        },
        {
         "mode": "lines",
         "name": "9",
         "type": "scatter",
         "y": [
          306.5,
          434.0,
          297.75,
          350.0,
          350.5,
          2757.0,
          1393.25,
          939.0,
          719.0,
          577.7,
          483.8333333333333,
          417.2142857142857,
          367.1875,
          327.77777777777777,
          547.0,
          395.5,
          236.5,
          221.66666666666666,
          301.75,
          1313.0,
          810.25,
          706.8333333333334,
          541.625,
          825.5555555555555,
          775.55,
          727.2727272727273,
          671.4583333333334,
          1131.0,
          665.75,
          584.2333333333333,
          553.71875,
          526.1470588235294,
          534.6111111111111,
          500.5,
          575.5,
          413.1666666666667,
          297.9166666666667,
          693.0,
          540.0,
          532.1666666666666,
          447.5,
          330.7,
          379.5,
          367.5,
          313.9166666666667,
          101.5,
          365.5,
          259.0,
          1785.0,
          3096.0,
          3871.5,
          3484.6666666666665,
          2651.375,
          2141.4,
          1787.0833333333333,
          1535.642857142857,
          1346.0625,
          1201.7222222222222,
          1095.75,
          998.8636363636364,
          924.9583333333334,
          855.6153846153846,
          796.5,
          745.7666666666667,
          709.53125,
          670.2352941176471,
          899.0,
          601.8947368421053,
          793.3888888888889,
          817.3,
          525.3636363636364,
          764.25,
          7580.5,
          3828.75,
          2576.5,
          1960.75,
          1615.0,
          1357.1666666666667,
          1180.7142857142858,
          1038.9375
         ]
        }
       ],
       "layout": {
        "template": {
         "data": {
          "bar": [
           {
            "error_x": {
             "color": "#2a3f5f"
            },
            "error_y": {
             "color": "#2a3f5f"
            },
            "marker": {
             "line": {
              "color": "#E5ECF6",
              "width": 0.5
             }
            },
            "type": "bar"
           }
          ],
          "barpolar": [
           {
            "marker": {
             "line": {
              "color": "#E5ECF6",
              "width": 0.5
             }
            },
            "type": "barpolar"
           }
          ],
          "carpet": [
           {
            "aaxis": {
             "endlinecolor": "#2a3f5f",
             "gridcolor": "white",
             "linecolor": "white",
             "minorgridcolor": "white",
             "startlinecolor": "#2a3f5f"
            },
            "baxis": {
             "endlinecolor": "#2a3f5f",
             "gridcolor": "white",
             "linecolor": "white",
             "minorgridcolor": "white",
             "startlinecolor": "#2a3f5f"
            },
            "type": "carpet"
           }
          ],
          "choropleth": [
           {
            "colorbar": {
             "outlinewidth": 0,
             "ticks": ""
            },
            "type": "choropleth"
           }
          ],
          "contour": [
           {
            "colorbar": {
             "outlinewidth": 0,
             "ticks": ""
            },
            "colorscale": [
             [
              0.0,
              "#0d0887"
             ],
             [
              0.1111111111111111,
              "#46039f"
             ],
             [
              0.2222222222222222,
              "#7201a8"
             ],
             [
              0.3333333333333333,
              "#9c179e"
             ],
             [
              0.4444444444444444,
              "#bd3786"
             ],
             [
              0.5555555555555556,
              "#d8576b"
             ],
             [
              0.6666666666666666,
              "#ed7953"
             ],
             [
              0.7777777777777778,
              "#fb9f3a"
             ],
             [
              0.8888888888888888,
              "#fdca26"
             ],
             [
              1.0,
              "#f0f921"
             ]
            ],
            "type": "contour"
           }
          ],
          "contourcarpet": [
           {
            "colorbar": {
             "outlinewidth": 0,
             "ticks": ""
            },
            "type": "contourcarpet"
           }
          ],
          "heatmap": [
           {
            "colorbar": {
             "outlinewidth": 0,
             "ticks": ""
            },
            "colorscale": [
             [
              0.0,
              "#0d0887"
             ],
             [
              0.1111111111111111,
              "#46039f"
             ],
             [
              0.2222222222222222,
              "#7201a8"
             ],
             [
              0.3333333333333333,
              "#9c179e"
             ],
             [
              0.4444444444444444,
              "#bd3786"
             ],
             [
              0.5555555555555556,
              "#d8576b"
             ],
             [
              0.6666666666666666,
              "#ed7953"
             ],
             [
              0.7777777777777778,
              "#fb9f3a"
             ],
             [
              0.8888888888888888,
              "#fdca26"
             ],
             [
              1.0,
              "#f0f921"
             ]
            ],
            "type": "heatmap"
           }
          ],
          "heatmapgl": [
           {
            "colorbar": {
             "outlinewidth": 0,
             "ticks": ""
            },
            "colorscale": [
             [
              0.0,
              "#0d0887"
             ],
             [
              0.1111111111111111,
              "#46039f"
             ],
             [
              0.2222222222222222,
              "#7201a8"
             ],
             [
              0.3333333333333333,
              "#9c179e"
             ],
             [
              0.4444444444444444,
              "#bd3786"
             ],
             [
              0.5555555555555556,
              "#d8576b"
             ],
             [
              0.6666666666666666,
              "#ed7953"
             ],
             [
              0.7777777777777778,
              "#fb9f3a"
             ],
             [
              0.8888888888888888,
              "#fdca26"
             ],
             [
              1.0,
              "#f0f921"
             ]
            ],
            "type": "heatmapgl"
           }
          ],
          "histogram": [
           {
            "marker": {
             "colorbar": {
              "outlinewidth": 0,
              "ticks": ""
             }
            },
            "type": "histogram"
           }
          ],
          "histogram2d": [
           {
            "colorbar": {
             "outlinewidth": 0,
             "ticks": ""
            },
            "colorscale": [
             [
              0.0,
              "#0d0887"
             ],
             [
              0.1111111111111111,
              "#46039f"
             ],
             [
              0.2222222222222222,
              "#7201a8"
             ],
             [
              0.3333333333333333,
              "#9c179e"
             ],
             [
              0.4444444444444444,
              "#bd3786"
             ],
             [
              0.5555555555555556,
              "#d8576b"
             ],
             [
              0.6666666666666666,
              "#ed7953"
             ],
             [
              0.7777777777777778,
              "#fb9f3a"
             ],
             [
              0.8888888888888888,
              "#fdca26"
             ],
             [
              1.0,
              "#f0f921"
             ]
            ],
            "type": "histogram2d"
           }
          ],
          "histogram2dcontour": [
           {
            "colorbar": {
             "outlinewidth": 0,
             "ticks": ""
            },
            "colorscale": [
             [
              0.0,
              "#0d0887"
             ],
             [
              0.1111111111111111,
              "#46039f"
             ],
             [
              0.2222222222222222,
              "#7201a8"
             ],
             [
              0.3333333333333333,
              "#9c179e"
             ],
             [
              0.4444444444444444,
              "#bd3786"
             ],
             [
              0.5555555555555556,
              "#d8576b"
             ],
             [
              0.6666666666666666,
              "#ed7953"
             ],
             [
              0.7777777777777778,
              "#fb9f3a"
             ],
             [
              0.8888888888888888,
              "#fdca26"
             ],
             [
              1.0,
              "#f0f921"
             ]
            ],
            "type": "histogram2dcontour"
           }
          ],
          "mesh3d": [
           {
            "colorbar": {
             "outlinewidth": 0,
             "ticks": ""
            },
            "type": "mesh3d"
           }
          ],
          "parcoords": [
           {
            "line": {
             "colorbar": {
              "outlinewidth": 0,
              "ticks": ""
             }
            },
            "type": "parcoords"
           }
          ],
          "pie": [
           {
            "automargin": true,
            "type": "pie"
           }
          ],
          "scatter": [
           {
            "marker": {
             "colorbar": {
              "outlinewidth": 0,
              "ticks": ""
             }
            },
            "type": "scatter"
           }
          ],
          "scatter3d": [
           {
            "line": {
             "colorbar": {
              "outlinewidth": 0,
              "ticks": ""
             }
            },
            "marker": {
             "colorbar": {
              "outlinewidth": 0,
              "ticks": ""
             }
            },
            "type": "scatter3d"
           }
          ],
          "scattercarpet": [
           {
            "marker": {
             "colorbar": {
              "outlinewidth": 0,
              "ticks": ""
             }
            },
            "type": "scattercarpet"
           }
          ],
          "scattergeo": [
           {
            "marker": {
             "colorbar": {
              "outlinewidth": 0,
              "ticks": ""
             }
            },
            "type": "scattergeo"
           }
          ],
          "scattergl": [
           {
            "marker": {
             "colorbar": {
              "outlinewidth": 0,
              "ticks": ""
             }
            },
            "type": "scattergl"
           }
          ],
          "scattermapbox": [
           {
            "marker": {
             "colorbar": {
              "outlinewidth": 0,
              "ticks": ""
             }
            },
            "type": "scattermapbox"
           }
          ],
          "scatterpolar": [
           {
            "marker": {
             "colorbar": {
              "outlinewidth": 0,
              "ticks": ""
             }
            },
            "type": "scatterpolar"
           }
          ],
          "scatterpolargl": [
           {
            "marker": {
             "colorbar": {
              "outlinewidth": 0,
              "ticks": ""
             }
            },
            "type": "scatterpolargl"
           }
          ],
          "scatterternary": [
           {
            "marker": {
             "colorbar": {
              "outlinewidth": 0,
              "ticks": ""
             }
            },
            "type": "scatterternary"
           }
          ],
          "surface": [
           {
            "colorbar": {
             "outlinewidth": 0,
             "ticks": ""
            },
            "colorscale": [
             [
              0.0,
              "#0d0887"
             ],
             [
              0.1111111111111111,
              "#46039f"
             ],
             [
              0.2222222222222222,
              "#7201a8"
             ],
             [
              0.3333333333333333,
              "#9c179e"
             ],
             [
              0.4444444444444444,
              "#bd3786"
             ],
             [
              0.5555555555555556,
              "#d8576b"
             ],
             [
              0.6666666666666666,
              "#ed7953"
             ],
             [
              0.7777777777777778,
              "#fb9f3a"
             ],
             [
              0.8888888888888888,
              "#fdca26"
             ],
             [
              1.0,
              "#f0f921"
             ]
            ],
            "type": "surface"
           }
          ],
          "table": [
           {
            "cells": {
             "fill": {
              "color": "#EBF0F8"
             },
             "line": {
              "color": "white"
             }
            },
            "header": {
             "fill": {
              "color": "#C8D4E3"
             },
             "line": {
              "color": "white"
             }
            },
            "type": "table"
           }
          ]
         },
         "layout": {
          "annotationdefaults": {
           "arrowcolor": "#2a3f5f",
           "arrowhead": 0,
           "arrowwidth": 1
          },
          "coloraxis": {
           "colorbar": {
            "outlinewidth": 0,
            "ticks": ""
           }
          },
          "colorscale": {
           "diverging": [
            [
             0,
             "#8e0152"
            ],
            [
             0.1,
             "#c51b7d"
            ],
            [
             0.2,
             "#de77ae"
            ],
            [
             0.3,
             "#f1b6da"
            ],
            [
             0.4,
             "#fde0ef"
            ],
            [
             0.5,
             "#f7f7f7"
            ],
            [
             0.6,
             "#e6f5d0"
            ],
            [
             0.7,
             "#b8e186"
            ],
            [
             0.8,
             "#7fbc41"
            ],
            [
             0.9,
             "#4d9221"
            ],
            [
             1,
             "#276419"
            ]
           ],
           "sequential": [
            [
             0.0,
             "#0d0887"
            ],
            [
             0.1111111111111111,
             "#46039f"
            ],
            [
             0.2222222222222222,
             "#7201a8"
            ],
            [
             0.3333333333333333,
             "#9c179e"
            ],
            [
             0.4444444444444444,
             "#bd3786"
            ],
            [
             0.5555555555555556,
             "#d8576b"
            ],
            [
             0.6666666666666666,
             "#ed7953"
            ],
            [
             0.7777777777777778,
             "#fb9f3a"
            ],
            [
             0.8888888888888888,
             "#fdca26"
            ],
            [
             1.0,
             "#f0f921"
            ]
           ],
           "sequentialminus": [
            [
             0.0,
             "#0d0887"
            ],
            [
             0.1111111111111111,
             "#46039f"
            ],
            [
             0.2222222222222222,
             "#7201a8"
            ],
            [
             0.3333333333333333,
             "#9c179e"
            ],
            [
             0.4444444444444444,
             "#bd3786"
            ],
            [
             0.5555555555555556,
             "#d8576b"
            ],
            [
             0.6666666666666666,
             "#ed7953"
            ],
            [
             0.7777777777777778,
             "#fb9f3a"
            ],
            [
             0.8888888888888888,
             "#fdca26"
            ],
            [
             1.0,
             "#f0f921"
            ]
           ]
          },
          "colorway": [
           "#636efa",
           "#EF553B",
           "#00cc96",
           "#ab63fa",
           "#FFA15A",
           "#19d3f3",
           "#FF6692",
           "#B6E880",
           "#FF97FF",
           "#FECB52"
          ],
          "font": {
           "color": "#2a3f5f"
          },
          "geo": {
           "bgcolor": "white",
           "lakecolor": "white",
           "landcolor": "#E5ECF6",
           "showlakes": true,
           "showland": true,
           "subunitcolor": "white"
          },
          "hoverlabel": {
           "align": "left"
          },
          "hovermode": "closest",
          "mapbox": {
           "style": "light"
          },
          "paper_bgcolor": "white",
          "plot_bgcolor": "#E5ECF6",
          "polar": {
           "angularaxis": {
            "gridcolor": "white",
            "linecolor": "white",
            "ticks": ""
           },
           "bgcolor": "#E5ECF6",
           "radialaxis": {
            "gridcolor": "white",
            "linecolor": "white",
            "ticks": ""
           }
          },
          "scene": {
           "xaxis": {
            "backgroundcolor": "#E5ECF6",
            "gridcolor": "white",
            "gridwidth": 2,
            "linecolor": "white",
            "showbackground": true,
            "ticks": "",
            "zerolinecolor": "white"
           },
           "yaxis": {
            "backgroundcolor": "#E5ECF6",
            "gridcolor": "white",
            "gridwidth": 2,
            "linecolor": "white",
            "showbackground": true,
            "ticks": "",
            "zerolinecolor": "white"
           },
           "zaxis": {
            "backgroundcolor": "#E5ECF6",
            "gridcolor": "white",
            "gridwidth": 2,
            "linecolor": "white",
            "showbackground": true,
            "ticks": "",
            "zerolinecolor": "white"
           }
          },
          "shapedefaults": {
           "line": {
            "color": "#2a3f5f"
           }
          },
          "ternary": {
           "aaxis": {
            "gridcolor": "white",
            "linecolor": "white",
            "ticks": ""
           },
           "baxis": {
            "gridcolor": "white",
            "linecolor": "white",
            "ticks": ""
           },
           "bgcolor": "#E5ECF6",
           "caxis": {
            "gridcolor": "white",
            "linecolor": "white",
            "ticks": ""
           }
          },
          "title": {
           "x": 0.05
          },
          "xaxis": {
           "automargin": true,
           "gridcolor": "white",
           "linecolor": "white",
           "ticks": "",
           "title": {
            "standoff": 15
           },
           "zerolinecolor": "white",
           "zerolinewidth": 2
          },
          "yaxis": {
           "automargin": true,
           "gridcolor": "white",
           "linecolor": "white",
           "ticks": "",
           "title": {
            "standoff": 15
           },
           "zerolinecolor": "white",
           "zerolinewidth": 2
          }
         }
        }
       }
      },
      "text/html": "<div>                            <div id=\"3e5ea201-1860-4b3d-b784-6bbda8e3628b\" class=\"plotly-graph-div\" style=\"height:525px; width:100%;\"></div>            <script type=\"text/javascript\">                require([\"plotly\"], function(Plotly) {                    window.PLOTLYENV=window.PLOTLYENV || {};                                    if (document.getElementById(\"3e5ea201-1860-4b3d-b784-6bbda8e3628b\")) {                    Plotly.newPlot(                        \"3e5ea201-1860-4b3d-b784-6bbda8e3628b\",                        [{\"mode\": \"lines\", \"name\": \"0\", \"type\": \"scatter\", \"y\": [118.0, 153.5, 187.5, 322.5, 145.5, 556.0, 539.0, 505.6666666666667, 337.0, 472.2, 470.3333333333333, 457.14285714285717, 491.0, 430.0, 503.3333333333333, 509.5, 522.0, 481.6666666666667, 873.0, 447.75, 432.6666666666667, 405.3, 401.1818181818182, 374.375, 378.96153846153845, 366.5357142857143, 351.6, 679.5, 609.25, 612.8333333333334, 555.125, 322.875, 331.2, 308.9166666666667, 409.0, 305.0, 319.25, 204.5, 202.5, 527.5, 218.5, 3169.5, 9084.25, 6114.166666666667, 4727.375, 3870.6, 3295.8333333333335, 2826.9285714285716, 2475.4375, 2201.5555555555557, 1995.8, 1821.590909090909, 1677.8333333333333, 1557.2692307692307, 1451.5714285714287, 1361.5, 1280.15625, 1210.1764705882354, 1148.9722222222222, 1092.7368421052631, 1042.775, 999.6666666666666, 959.8181818181819, 923.6304347826087, 889.4375, 857.54, 828.3653846153846, 801.8148148148148, 1179.0, 1085.5, 995.5, 709.5967741935484, 687.671875, 667.5757575757576, 799.0714285714286, 4963.5, 2502.0, 1697.5, 1288.75, 1035.7]}, {\"mode\": \"lines\", \"name\": \"1\", \"type\": \"scatter\", \"y\": [104.0, 240.5, 178.5, 128.5, 114.0, 144.25, 554.5, 290.75, 495.0, 592.1666666666666, 564.875, 526.5, 538.5, 536.6428571428571, 1647.5, 1835.5, 1915.1666666666667, 1446.75, 1166.9, 978.5833333333334, 845.2857142857143, 745.9375, 825.7777777777778, 748.0, 683.5454545454545, 630.75, 585.8846153846154, 546.8928571428571, 514.1333333333333, 1005.0, 755.25, 534.75, 670.5, 740.5, 767.8333333333334, 647.625, 690.0, 504.75, 465.1666666666667, 514.8, 481.8636363636364, 1716.0, 996.75, 760.6666666666666, 691.25, 530.59375, 603.0, 547.2222222222222, 530.2368421052631, 608.0, 518.75, 1315.0, 730.0, 501.6666666666667, 317.6, 326.6666666666667, 347.5, 326.5, 2846.0, 1437.25, 968.8333333333334, 736.125, 595.2, 503.0833333333333, 468.35714285714283, 222.5, 232.5, 8942.5, 8295.25, 5591.0, 4244.375, 3416.9, 2863.1666666666665, 2470.0, 2172.5, 1935.5555555555557, 1750.8, 1595.9545454545455, 1467.75, 1360.1153846153845]}, {\"mode\": \"lines\", \"name\": \"2\", \"type\": \"scatter\", \"y\": [133.5, 212.0, 225.5, 216.5, 276.5, 151.75, 312.5, 422.5, 154.0, 425.5, 298.25, 299.5, 324.625, 586.5, 307.25, 255.64285714285714, 265.0, 516.25, 360.1666666666667, 512.875, 503.3, 424.5833333333333, 367.57142857142856, 325.375, 296.0, 345.0, 310.1666666666667, 406.125, 1998.0, 1016.5, 695.3333333333334, 873.75, 708.1, 596.4166666666666, 515.7142857142857, 545.125, 748.0, 1577.0, 792.5, 639.3333333333334, 1963.0, 1636.75, 1095.6666666666667, 828.875, 666.6, 369.0, 317.9, 139.0, 217.0, 116.5, 222.5, 547.5, 508.25, 354.6666666666667, 368.125, 386.8, 221.0, 186.0, 230.0, 226.75, 424.1666666666667, 360.75, 963.0, 572.75, 396.8333333333333, 8352.0, 4326.75, 3016.6666666666665, 2284.375, 1988.5, 1665.4166666666667, 1432.642857142857, 1256.0625, 1118.0, 1009.9, 920.4545454545455, 845.2083333333334, 782.1538461538462, 727.3571428571429, 680.1333333333333]}, {\"mode\": \"lines\", \"name\": \"3\", \"type\": \"scatter\", \"y\": [185.0, 113.0, 1757.5, 1207.0, 917.6666666666666, 891.625, 814.6, 762.6666666666666, 772.7857142857143, 790.3125, 758.4444444444445, 744.8, 734.7727272727273, 706.375, 688.3461538461538, 675.6785714285714, 633.4666666666667, 660.21875, 657.3529411764706, 637.0833333333334, 625.421052631579, 611.275, 616.547619047619, 608.9545454545455, 583.8913043478261, 582.2291666666666, 560.52, 8335.0, 4692.5, 3363.1666666666665, 3646.375, 3305.8, 3111.5833333333335, 2865.285714285714, 2531.6875, 2405.277777777778, 2319.55, 2277.1363636363635, 2108.2083333333335, 2001.1538461538462, 2010.2857142857142, 1900.4, 1869.625, 1778.3529411764705, 1727.5555555555557, 1663.342105263158, 1663.1, 1636.8095238095239, 1563.1363636363637, 1496.8695652173913, 1435.6666666666667, 1378.92, 1326.6923076923076, 1278.2407407407406, 1233.2857142857142, 1191.551724137931, 1152.3833333333334, 1115.9354838709678, 1082.234375, 1049.909090909091, 1020.0, 991.3714285714286, 964.5833333333334, 939.0135135135135, 915.1315789473684, 892.2948717948718, 870.4875, 849.7560975609756, 1266.0, 811.3604651162791, 793.9090909090909, 777.2, 760.5217391304348, 744.5744680851063, 729.28125, 714.6122448979592, 700.54, 686.9607843137255, 673.9615384615385, 661.4056603773585]}, {\"mode\": \"lines\", \"name\": \"4\", \"type\": \"scatter\", \"y\": [300.5, 290.75, 355.5, 484.5, 401.5, 527.25, 611.1666666666666, 610.125, 538.3, 502.4166666666667, 476.7142857142857, 505.0, 448.55555555555554, 424.75, 407.22727272727275, 393.7083333333333, 513.3333333333334, 750.5, 838.75, 917.3333333333334, 695.875, 565.0, 475.8333333333333, 1285.25, 1040.1666666666667, 864.625, 1610.5, 1467.25, 1388.5714285714287, 1306.9375, 1246.9444444444443, 1141.15, 7966.0, 4065.25, 5541.166666666667, 4270.625, 3509.6, 2982.5833333333335, 2578.714285714286, 2267.1875, 2254.0, 2372.6, 2170.2727272727275, 1992.2083333333333, 1845.4615384615386, 1716.75, 1604.2666666666667, 1505.4375, 1418.1176470588234, 1339.8055555555557, 1269.7631578947369, 1206.675, 1149.642857142857, 1097.909090909091, 1050.6521739130435, 1007.6875, 968.02, 931.1538461538462, 716.4848484848485, 867.0, 591.5, 669.4444444444445, 483.5, 637.5, 391.25, 295.1666666666667, 378.5, 391.5, 494.5833333333333, 430.07142857142856, 380.75, 340.22222222222223, 438.5, 839.0, 523.0, 463.5, 291.5, 302.3333333333333, 248.5, 233.1]}, {\"mode\": \"lines\", \"name\": \"5\", \"type\": \"scatter\", \"y\": [237.5, 179.0, 205.0, 221.0, 254.5, 270.25, 190.5, 221.16666666666666, 733.0, 389.5, 736.0, 384.75, 337.8333333333333, 261.375, 278.5, 603.0, 672.0, 549.0, 189.0, 349.0, 286.0, 321.0, 281.75, 615.0, 492.75, 510.5, 545.625, 442.5, 469.25, 592.25, 551.4375, 788.5, 784.5, 1114.5, 857.0, 720.375, 3831.25, 2592.3333333333335, 1960.875, 1601.4, 1463.3333333333333, 1257.7857142857142, 1130.0625, 1020.7777777777778, 929.1, 867.4545454545455, 835.7083333333334, 862.75, 735.7857142857143, 778.0, 659.5, 458.25, 425.5, 324.625, 378.5, 182.8, 372.5, 2162.5, 7611.0, 3832.5, 2583.1666666666665, 1961.5, 1589.7, 1339.5, 1152.5, 1017.75, 914.1666666666666, 828.25, 759.1818181818181, 703.0416666666666, 948.0, 1005.0, 837.1666666666666, 863.875, 766.9, 869.5, 889.0714285714286, 786.4375, 706.9444444444445, 642.65]}, {\"mode\": \"lines\", \"name\": \"6\", \"type\": \"scatter\", \"y\": [657.5, 539.75, 368.0, 107.375, 316.0, 217.25, 231.66666666666666, 574.0, 551.0, 364.5, 202.5, 195.0, 144.0, 422.0, 248.5, 213.33333333333334, 299.5, 151.6, 3050.5, 2043.75, 1411.5, 1071.75, 711.5, 792.25, 1640.5, 1689.1666666666667, 1324.875, 1066.8, 932.5833333333334, 805.3571428571429, 708.875, 631.8333333333334, 754.8333333333334, 736.4, 711.0909090909091, 569.5, 490.0, 466.5, 764.5, 625.5, 733.0, 557.25, 928.0, 2902.5, 1951.3333333333333, 1485.75, 1206.9, 1035.25, 906.7142857142857, 804.4375, 727.3888888888889, 657.75, 861.5, 881.3333333333334, 521.7692307692307, 490.92857142857144, 463.8666666666667, 439.25, 416.2647058823529, 397.55555555555554, 184.83333333333334, 156.875, 183.0, 285.5, 302.25, 403.5, 274.625, 225.4, 221.41666666666666, 204.85714285714286, 202.8125, 271.0, 395.0, 306.5, 720.875, 7602.0, 3922.0, 2680.0, 2063.0, 1699.7]}, {\"mode\": \"lines\", \"name\": \"7\", \"type\": \"scatter\", \"y\": [369.0, 350.75, 407.8333333333333, 309.75, 251.1, 214.91666666666666, 244.0, 231.5, 204.9, 224.5, 220.5, 328.5, 259.5, 328.875, 451.0, 1394.5, 3948.25, 2800.1666666666665, 2168.75, 1846.7, 1628.0, 1437.357142857143, 1336.8125, 1224.2222222222222, 1133.95, 1076.5454545454545, 1031.0416666666667, 975.8076923076923, 908.9642857142857, 883.1333333333333, 7533.0, 3867.5, 3777.5, 2893.5, 2433.5, 2031.9166666666667, 1748.142857142857, 1533.5625, 1364.6666666666667, 1230.15, 1120.2727272727273, 1028.6666666666667, 950.6538461538462, 885.5714285714286, 829.3666666666667, 778.96875, 736.8529411764706, 698.4722222222222, 666.2894736842105, 634.375, 606.0238095238095, 581.9545454545455, 558.804347826087, 536.0208333333334, 619.0, 495.59615384615387, 1151.0, 652.75, 445.86206896551727, 431.28333333333336, 417.93548387096774, 482.5, 794.0, 775.5, 753.5, 810.0, 677.75, 7592.0, 3926.75, 2658.0, 2049.125, 1657.6, 1395.3333333333333, 1214.142857142857, 1077.875, 967.2222222222222, 876.85, 805.0, 1466.5, 1337.0]}, {\"mode\": \"lines\", \"name\": \"8\", \"type\": \"scatter\", \"y\": [215.5, 412.5, 210.75, 204.0, 233.5, 274.0, 301.0, 265.0, 248.5, 277.9, 451.0, 254.42857142857142, 277.5, 346.5, 286.8, 293.8636363636364, 220.25, 445.0, 386.75, 738.5, 525.5, 1152.0, 800.75, 680.3333333333334, 846.375, 792.3, 707.75, 637.9285714285714, 981.8125, 892.3333333333334, 1058.85, 981.9545454545455, 1037.625, 1153.076923076923, 1118.4642857142858, 1068.4, 1036.21875, 987.7058823529412, 7586.0, 3873.5, 5634.25, 3851.5, 4805.25, 3848.1, 3211.0, 2754.5714285714284, 2467.0555555555557, 2236.85, 2725.9545454545455, 2500.25, 2310.923076923077, 2148.3928571428573, 4123.5, 2082.25, 1782.0588235294117, 2957.75, 3334.5, 2788.8333333333335, 2413.1428571428573, 2547.25, 2272.4444444444443, 2053.2, 1875.2272727272727, 1726.75, 1597.0384615384614, 1486.0714285714287, 1389.2666666666667, 1304.21875, 1228.7058823529412, 1162.861111111111, 1103.4473684210527, 1049.4, 1001.1190476190476, 957.2727272727273, 917.3478260869565, 881.1875, 847.7, 765.9, 747.4268292682926, 729.8214285714286]}, {\"mode\": \"lines\", \"name\": \"9\", \"type\": \"scatter\", \"y\": [306.5, 434.0, 297.75, 350.0, 350.5, 2757.0, 1393.25, 939.0, 719.0, 577.7, 483.8333333333333, 417.2142857142857, 367.1875, 327.77777777777777, 547.0, 395.5, 236.5, 221.66666666666666, 301.75, 1313.0, 810.25, 706.8333333333334, 541.625, 825.5555555555555, 775.55, 727.2727272727273, 671.4583333333334, 1131.0, 665.75, 584.2333333333333, 553.71875, 526.1470588235294, 534.6111111111111, 500.5, 575.5, 413.1666666666667, 297.9166666666667, 693.0, 540.0, 532.1666666666666, 447.5, 330.7, 379.5, 367.5, 313.9166666666667, 101.5, 365.5, 259.0, 1785.0, 3096.0, 3871.5, 3484.6666666666665, 2651.375, 2141.4, 1787.0833333333333, 1535.642857142857, 1346.0625, 1201.7222222222222, 1095.75, 998.8636363636364, 924.9583333333334, 855.6153846153846, 796.5, 745.7666666666667, 709.53125, 670.2352941176471, 899.0, 601.8947368421053, 793.3888888888889, 817.3, 525.3636363636364, 764.25, 7580.5, 3828.75, 2576.5, 1960.75, 1615.0, 1357.1666666666667, 1180.7142857142858, 1038.9375]}],                        {\"template\": {\"data\": {\"bar\": [{\"error_x\": {\"color\": \"#2a3f5f\"}, \"error_y\": {\"color\": \"#2a3f5f\"}, \"marker\": {\"line\": {\"color\": \"#E5ECF6\", \"width\": 0.5}}, \"type\": \"bar\"}], \"barpolar\": [{\"marker\": {\"line\": {\"color\": \"#E5ECF6\", \"width\": 0.5}}, \"type\": \"barpolar\"}], \"carpet\": [{\"aaxis\": {\"endlinecolor\": \"#2a3f5f\", \"gridcolor\": \"white\", \"linecolor\": \"white\", \"minorgridcolor\": \"white\", \"startlinecolor\": \"#2a3f5f\"}, \"baxis\": {\"endlinecolor\": \"#2a3f5f\", \"gridcolor\": \"white\", \"linecolor\": \"white\", \"minorgridcolor\": \"white\", \"startlinecolor\": \"#2a3f5f\"}, \"type\": \"carpet\"}], \"choropleth\": [{\"colorbar\": {\"outlinewidth\": 0, \"ticks\": \"\"}, \"type\": \"choropleth\"}], \"contour\": [{\"colorbar\": {\"outlinewidth\": 0, \"ticks\": \"\"}, \"colorscale\": [[0.0, \"#0d0887\"], [0.1111111111111111, \"#46039f\"], [0.2222222222222222, \"#7201a8\"], [0.3333333333333333, \"#9c179e\"], [0.4444444444444444, \"#bd3786\"], [0.5555555555555556, \"#d8576b\"], [0.6666666666666666, \"#ed7953\"], [0.7777777777777778, \"#fb9f3a\"], [0.8888888888888888, \"#fdca26\"], [1.0, \"#f0f921\"]], \"type\": \"contour\"}], \"contourcarpet\": [{\"colorbar\": {\"outlinewidth\": 0, \"ticks\": \"\"}, \"type\": \"contourcarpet\"}], \"heatmap\": [{\"colorbar\": {\"outlinewidth\": 0, \"ticks\": \"\"}, \"colorscale\": [[0.0, \"#0d0887\"], [0.1111111111111111, \"#46039f\"], [0.2222222222222222, \"#7201a8\"], [0.3333333333333333, \"#9c179e\"], [0.4444444444444444, \"#bd3786\"], [0.5555555555555556, \"#d8576b\"], [0.6666666666666666, \"#ed7953\"], [0.7777777777777778, \"#fb9f3a\"], [0.8888888888888888, \"#fdca26\"], [1.0, \"#f0f921\"]], \"type\": \"heatmap\"}], \"heatmapgl\": [{\"colorbar\": {\"outlinewidth\": 0, \"ticks\": \"\"}, \"colorscale\": [[0.0, \"#0d0887\"], [0.1111111111111111, \"#46039f\"], [0.2222222222222222, \"#7201a8\"], [0.3333333333333333, \"#9c179e\"], [0.4444444444444444, \"#bd3786\"], [0.5555555555555556, \"#d8576b\"], [0.6666666666666666, \"#ed7953\"], [0.7777777777777778, \"#fb9f3a\"], [0.8888888888888888, \"#fdca26\"], [1.0, \"#f0f921\"]], \"type\": \"heatmapgl\"}], \"histogram\": [{\"marker\": {\"colorbar\": {\"outlinewidth\": 0, \"ticks\": \"\"}}, \"type\": \"histogram\"}], \"histogram2d\": [{\"colorbar\": {\"outlinewidth\": 0, \"ticks\": \"\"}, \"colorscale\": [[0.0, \"#0d0887\"], [0.1111111111111111, \"#46039f\"], [0.2222222222222222, \"#7201a8\"], [0.3333333333333333, \"#9c179e\"], [0.4444444444444444, \"#bd3786\"], [0.5555555555555556, \"#d8576b\"], [0.6666666666666666, \"#ed7953\"], [0.7777777777777778, \"#fb9f3a\"], [0.8888888888888888, \"#fdca26\"], [1.0, \"#f0f921\"]], \"type\": \"histogram2d\"}], \"histogram2dcontour\": [{\"colorbar\": {\"outlinewidth\": 0, \"ticks\": \"\"}, \"colorscale\": [[0.0, \"#0d0887\"], [0.1111111111111111, \"#46039f\"], [0.2222222222222222, \"#7201a8\"], [0.3333333333333333, \"#9c179e\"], [0.4444444444444444, \"#bd3786\"], [0.5555555555555556, \"#d8576b\"], [0.6666666666666666, \"#ed7953\"], [0.7777777777777778, \"#fb9f3a\"], [0.8888888888888888, \"#fdca26\"], [1.0, \"#f0f921\"]], \"type\": \"histogram2dcontour\"}], \"mesh3d\": [{\"colorbar\": {\"outlinewidth\": 0, \"ticks\": \"\"}, \"type\": \"mesh3d\"}], \"parcoords\": [{\"line\": {\"colorbar\": {\"outlinewidth\": 0, \"ticks\": \"\"}}, \"type\": \"parcoords\"}], \"pie\": [{\"automargin\": true, \"type\": \"pie\"}], \"scatter\": [{\"marker\": {\"colorbar\": {\"outlinewidth\": 0, \"ticks\": \"\"}}, \"type\": \"scatter\"}], \"scatter3d\": [{\"line\": {\"colorbar\": {\"outlinewidth\": 0, \"ticks\": \"\"}}, \"marker\": {\"colorbar\": {\"outlinewidth\": 0, \"ticks\": \"\"}}, \"type\": \"scatter3d\"}], \"scattercarpet\": [{\"marker\": {\"colorbar\": {\"outlinewidth\": 0, \"ticks\": \"\"}}, \"type\": \"scattercarpet\"}], \"scattergeo\": [{\"marker\": {\"colorbar\": {\"outlinewidth\": 0, \"ticks\": \"\"}}, \"type\": \"scattergeo\"}], \"scattergl\": [{\"marker\": {\"colorbar\": {\"outlinewidth\": 0, \"ticks\": \"\"}}, \"type\": \"scattergl\"}], \"scattermapbox\": [{\"marker\": {\"colorbar\": {\"outlinewidth\": 0, \"ticks\": \"\"}}, \"type\": \"scattermapbox\"}], \"scatterpolar\": [{\"marker\": {\"colorbar\": {\"outlinewidth\": 0, \"ticks\": \"\"}}, \"type\": \"scatterpolar\"}], \"scatterpolargl\": [{\"marker\": {\"colorbar\": {\"outlinewidth\": 0, \"ticks\": \"\"}}, \"type\": \"scatterpolargl\"}], \"scatterternary\": [{\"marker\": {\"colorbar\": {\"outlinewidth\": 0, \"ticks\": \"\"}}, \"type\": \"scatterternary\"}], \"surface\": [{\"colorbar\": {\"outlinewidth\": 0, \"ticks\": \"\"}, \"colorscale\": [[0.0, \"#0d0887\"], [0.1111111111111111, \"#46039f\"], [0.2222222222222222, \"#7201a8\"], [0.3333333333333333, \"#9c179e\"], [0.4444444444444444, \"#bd3786\"], [0.5555555555555556, \"#d8576b\"], [0.6666666666666666, \"#ed7953\"], [0.7777777777777778, \"#fb9f3a\"], [0.8888888888888888, \"#fdca26\"], [1.0, \"#f0f921\"]], \"type\": \"surface\"}], \"table\": [{\"cells\": {\"fill\": {\"color\": \"#EBF0F8\"}, \"line\": {\"color\": \"white\"}}, \"header\": {\"fill\": {\"color\": \"#C8D4E3\"}, \"line\": {\"color\": \"white\"}}, \"type\": \"table\"}]}, \"layout\": {\"annotationdefaults\": {\"arrowcolor\": \"#2a3f5f\", \"arrowhead\": 0, \"arrowwidth\": 1}, \"coloraxis\": {\"colorbar\": {\"outlinewidth\": 0, \"ticks\": \"\"}}, \"colorscale\": {\"diverging\": [[0, \"#8e0152\"], [0.1, \"#c51b7d\"], [0.2, \"#de77ae\"], [0.3, \"#f1b6da\"], [0.4, \"#fde0ef\"], [0.5, \"#f7f7f7\"], [0.6, \"#e6f5d0\"], [0.7, \"#b8e186\"], [0.8, \"#7fbc41\"], [0.9, \"#4d9221\"], [1, \"#276419\"]], \"sequential\": [[0.0, \"#0d0887\"], [0.1111111111111111, \"#46039f\"], [0.2222222222222222, \"#7201a8\"], [0.3333333333333333, \"#9c179e\"], [0.4444444444444444, \"#bd3786\"], [0.5555555555555556, \"#d8576b\"], [0.6666666666666666, \"#ed7953\"], [0.7777777777777778, \"#fb9f3a\"], [0.8888888888888888, \"#fdca26\"], [1.0, \"#f0f921\"]], \"sequentialminus\": [[0.0, \"#0d0887\"], [0.1111111111111111, \"#46039f\"], [0.2222222222222222, \"#7201a8\"], [0.3333333333333333, \"#9c179e\"], [0.4444444444444444, \"#bd3786\"], [0.5555555555555556, \"#d8576b\"], [0.6666666666666666, \"#ed7953\"], [0.7777777777777778, \"#fb9f3a\"], [0.8888888888888888, \"#fdca26\"], [1.0, \"#f0f921\"]]}, \"colorway\": [\"#636efa\", \"#EF553B\", \"#00cc96\", \"#ab63fa\", \"#FFA15A\", \"#19d3f3\", \"#FF6692\", \"#B6E880\", \"#FF97FF\", \"#FECB52\"], \"font\": {\"color\": \"#2a3f5f\"}, \"geo\": {\"bgcolor\": \"white\", \"lakecolor\": \"white\", \"landcolor\": \"#E5ECF6\", \"showlakes\": true, \"showland\": true, \"subunitcolor\": \"white\"}, \"hoverlabel\": {\"align\": \"left\"}, \"hovermode\": \"closest\", \"mapbox\": {\"style\": \"light\"}, \"paper_bgcolor\": \"white\", \"plot_bgcolor\": \"#E5ECF6\", \"polar\": {\"angularaxis\": {\"gridcolor\": \"white\", \"linecolor\": \"white\", \"ticks\": \"\"}, \"bgcolor\": \"#E5ECF6\", \"radialaxis\": {\"gridcolor\": \"white\", \"linecolor\": \"white\", \"ticks\": \"\"}}, \"scene\": {\"xaxis\": {\"backgroundcolor\": \"#E5ECF6\", \"gridcolor\": \"white\", \"gridwidth\": 2, \"linecolor\": \"white\", \"showbackground\": true, \"ticks\": \"\", \"zerolinecolor\": \"white\"}, \"yaxis\": {\"backgroundcolor\": \"#E5ECF6\", \"gridcolor\": \"white\", \"gridwidth\": 2, \"linecolor\": \"white\", \"showbackground\": true, \"ticks\": \"\", \"zerolinecolor\": \"white\"}, \"zaxis\": {\"backgroundcolor\": \"#E5ECF6\", \"gridcolor\": \"white\", \"gridwidth\": 2, \"linecolor\": \"white\", \"showbackground\": true, \"ticks\": \"\", \"zerolinecolor\": \"white\"}}, \"shapedefaults\": {\"line\": {\"color\": \"#2a3f5f\"}}, \"ternary\": {\"aaxis\": {\"gridcolor\": \"white\", \"linecolor\": \"white\", \"ticks\": \"\"}, \"baxis\": {\"gridcolor\": \"white\", \"linecolor\": \"white\", \"ticks\": \"\"}, \"bgcolor\": \"#E5ECF6\", \"caxis\": {\"gridcolor\": \"white\", \"linecolor\": \"white\", \"ticks\": \"\"}}, \"title\": {\"x\": 0.05}, \"xaxis\": {\"automargin\": true, \"gridcolor\": \"white\", \"linecolor\": \"white\", \"ticks\": \"\", \"title\": {\"standoff\": 15}, \"zerolinecolor\": \"white\", \"zerolinewidth\": 2}, \"yaxis\": {\"automargin\": true, \"gridcolor\": \"white\", \"linecolor\": \"white\", \"ticks\": \"\", \"title\": {\"standoff\": 15}, \"zerolinecolor\": \"white\", \"zerolinewidth\": 2}}}},                        {\"responsive\": true}                    ).then(function(){\n                            \nvar gd = document.getElementById('3e5ea201-1860-4b3d-b784-6bbda8e3628b');\nvar x = new MutationObserver(function (mutations, observer) {{\n        var display = window.getComputedStyle(gd).display;\n        if (!display || display === 'none') {{\n            console.log([gd, 'removed!']);\n            Plotly.purge(gd);\n            observer.disconnect();\n        }}\n}});\n\n// Listen for the removal of the full notebook cells\nvar notebookContainer = gd.closest('#notebook-container');\nif (notebookContainer) {{\n    x.observe(notebookContainer, {childList: true});\n}}\n\n// Listen for the clearing of the current output cell\nvar outputEl = gd.closest('.output');\nif (outputEl) {{\n    x.observe(outputEl, {childList: true});\n}}\n\n                        })                };                });            </script>        </div>"
     },
     "metadata": {},
     "output_type": "display_data"
    }
   ],
   "source": [
    "fig = go.Figure()\n",
    "\n",
    "for x in range(10):\n",
    "    values = top_10[x:x+1].step_history.values.tolist()\n",
    "\n",
    "    out = []\n",
    "    for idx, y in enumerate(values[0]):\n",
    "        out.append({'value': y})\n",
    "\n",
    "    data = pd.DataFrame(out)\n",
    "\n",
    "    fig.add_trace(go.Scatter(y=data['value'],\n",
    "                             mode='lines',\n",
    "                             name=x))\n",
    "    continue\n",
    "fig.show()\n",
    "\n",
    "\n",
    "#fig = px.line(top_10, y='value', title='Nje')\n",
    "#fig.show()"
   ],
   "metadata": {
    "collapsed": false,
    "pycharm": {
     "name": "#%%\n"
    }
   }
  },
  {
   "cell_type": "code",
   "execution_count": 222,
   "outputs": [],
   "source": [],
   "metadata": {
    "collapsed": false,
    "pycharm": {
     "name": "#%%\n"
    }
   }
  }
 ],
 "metadata": {
  "kernelspec": {
   "display_name": "Python 3",
   "language": "python",
   "name": "python3"
  },
  "language_info": {
   "codemirror_mode": {
    "name": "ipython",
    "version": 2
   },
   "file_extension": ".py",
   "mimetype": "text/x-python",
   "name": "python",
   "nbconvert_exporter": "python",
   "pygments_lexer": "ipython2",
   "version": "2.7.6"
  }
 },
 "nbformat": 4,
 "nbformat_minor": 0
}