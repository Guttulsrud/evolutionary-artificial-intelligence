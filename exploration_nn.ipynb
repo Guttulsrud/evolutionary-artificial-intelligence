{
 "cells": [
  {
   "cell_type": "code",
   "execution_count": 44,
   "metadata": {
    "collapsed": true
   },
   "outputs": [
    {
     "data": {
      "text/plain": "302"
     },
     "execution_count": 44,
     "metadata": {},
     "output_type": "execute_result"
    }
   ],
   "source": [
    "import json\n",
    "import plotly.express as px\n",
    "import pandas as pd\n",
    "import plotly.graph_objects as go\n",
    "\n",
    "f = open('config_results.json', )\n",
    "data = json.load(f)\n",
    "\n",
    "output = {}\n",
    "configs = []\n",
    "for x in data['configs']:\n",
    "    configs.append({\n",
    "        'population_limit': x['population_limit'],\n",
    "        'fitness_function': x['fitness_function'],\n",
    "        'selection_criterion': x['selection_criterion'],\n",
    "        'episodes_per_individual': x['episodes_per_individual'],\n",
    "        'mutation_rate': x['mutation_rate'],\n",
    "        'survival_rate': x['survival_rate'],\n",
    "        'action_type': x['action_type'],\n",
    "        'steps': x['stats']['Time steps'],\n",
    "        'rule': x['stats']['Rule'],\n",
    "        'step_history': x['stats']['Time step history']\n",
    "    })\n",
    "\n",
    "\n",
    "df = pd.DataFrame(configs)\n",
    "len(df)"
   ]
  },
  {
   "cell_type": "code",
   "execution_count": 45,
   "outputs": [
    {
     "data": {
      "text/plain": "     population_limit          fitness_function   selection_criterion  \\\n137              1000                time_based            tournament   \n233               300            position_based  fitness_proportional   \n71               1000            position_based               elitist   \n40               1000      angle_and_time_based               elitist   \n196              1000      angle_and_time_based  fitness_proportional   \n..                ...                       ...                   ...   \n50                300               angle_based  fitness_proportional   \n298               300          total_time_steps            tournament   \n26                300  position_and_angle_based            tournament   \n46               1000  position_and_angle_based               elitist   \n166              1000          total_time_steps               elitist   \n\n     episodes_per_individual  mutation_rate  survival_rate action_type  \\\n137                        5        0.01000            0.2        mean   \n233                        5        0.01000            0.2       index   \n71                         2        0.00010            0.2       index   \n40                         2        0.00010            0.2       index   \n196                        2        0.00001            0.1       index   \n..                       ...            ...            ...         ...   \n50                         5        0.00010            0.2       index   \n298                        2        0.00010            0.2       index   \n26                         5        0.00100            0.2        mean   \n46                         5        0.00001            0.2       index   \n166                        5        0.00001            0.2        mean   \n\n       steps  rule                                       step_history  \n137  66421.0   178  [200.5, 10650.75, 32312.5, 50072.5, 66421.0, 3...  \n233  58464.0   244  [121.5, 240.5, 360.0, 784.5, 653.0, 1133.0, 10...  \n71   54219.0   178  [84.0, 206.0, 303.0, 212.0, 242.5, 162.5, 256....  \n40   51373.0   236  [342.0, 379.5, 594.5, 455.3333333333333, 365.8...  \n196  50244.5   221  [110.5, 193.0, 421.0, 464.0, 1065.5, 676.25, 6...  \n..       ...   ...                                                ...  \n50    2280.0   166  [151.5, 166.5, 163.0, 205.0, 198.5, 200.0, 238...  \n298   2260.5   140  [82.5, 149.0, 810.0, 481.75, 435.0, 1527.0, 81...  \n26    2245.5   236  [67.0, 144.0, 103.5, 164.5, 231.5, 1620.0, 224...  \n46    2219.5   237  [77.0, 126.0, 69.5, 115.5, 132.5, 52.5, 315.5,...  \n166   2197.0   208  [204.0, 351.5, 501.0, 366.0, 330.0, 268.5, 292...  \n\n[100 rows x 10 columns]",
      "text/html": "<div>\n<style scoped>\n    .dataframe tbody tr th:only-of-type {\n        vertical-align: middle;\n    }\n\n    .dataframe tbody tr th {\n        vertical-align: top;\n    }\n\n    .dataframe thead th {\n        text-align: right;\n    }\n</style>\n<table border=\"1\" class=\"dataframe\">\n  <thead>\n    <tr style=\"text-align: right;\">\n      <th></th>\n      <th>population_limit</th>\n      <th>fitness_function</th>\n      <th>selection_criterion</th>\n      <th>episodes_per_individual</th>\n      <th>mutation_rate</th>\n      <th>survival_rate</th>\n      <th>action_type</th>\n      <th>steps</th>\n      <th>rule</th>\n      <th>step_history</th>\n    </tr>\n  </thead>\n  <tbody>\n    <tr>\n      <th>137</th>\n      <td>1000</td>\n      <td>time_based</td>\n      <td>tournament</td>\n      <td>5</td>\n      <td>0.01000</td>\n      <td>0.2</td>\n      <td>mean</td>\n      <td>66421.0</td>\n      <td>178</td>\n      <td>[200.5, 10650.75, 32312.5, 50072.5, 66421.0, 3...</td>\n    </tr>\n    <tr>\n      <th>233</th>\n      <td>300</td>\n      <td>position_based</td>\n      <td>fitness_proportional</td>\n      <td>5</td>\n      <td>0.01000</td>\n      <td>0.2</td>\n      <td>index</td>\n      <td>58464.0</td>\n      <td>244</td>\n      <td>[121.5, 240.5, 360.0, 784.5, 653.0, 1133.0, 10...</td>\n    </tr>\n    <tr>\n      <th>71</th>\n      <td>1000</td>\n      <td>position_based</td>\n      <td>elitist</td>\n      <td>2</td>\n      <td>0.00010</td>\n      <td>0.2</td>\n      <td>index</td>\n      <td>54219.0</td>\n      <td>178</td>\n      <td>[84.0, 206.0, 303.0, 212.0, 242.5, 162.5, 256....</td>\n    </tr>\n    <tr>\n      <th>40</th>\n      <td>1000</td>\n      <td>angle_and_time_based</td>\n      <td>elitist</td>\n      <td>2</td>\n      <td>0.00010</td>\n      <td>0.2</td>\n      <td>index</td>\n      <td>51373.0</td>\n      <td>236</td>\n      <td>[342.0, 379.5, 594.5, 455.3333333333333, 365.8...</td>\n    </tr>\n    <tr>\n      <th>196</th>\n      <td>1000</td>\n      <td>angle_and_time_based</td>\n      <td>fitness_proportional</td>\n      <td>2</td>\n      <td>0.00001</td>\n      <td>0.1</td>\n      <td>index</td>\n      <td>50244.5</td>\n      <td>221</td>\n      <td>[110.5, 193.0, 421.0, 464.0, 1065.5, 676.25, 6...</td>\n    </tr>\n    <tr>\n      <th>...</th>\n      <td>...</td>\n      <td>...</td>\n      <td>...</td>\n      <td>...</td>\n      <td>...</td>\n      <td>...</td>\n      <td>...</td>\n      <td>...</td>\n      <td>...</td>\n      <td>...</td>\n    </tr>\n    <tr>\n      <th>50</th>\n      <td>300</td>\n      <td>angle_based</td>\n      <td>fitness_proportional</td>\n      <td>5</td>\n      <td>0.00010</td>\n      <td>0.2</td>\n      <td>index</td>\n      <td>2280.0</td>\n      <td>166</td>\n      <td>[151.5, 166.5, 163.0, 205.0, 198.5, 200.0, 238...</td>\n    </tr>\n    <tr>\n      <th>298</th>\n      <td>300</td>\n      <td>total_time_steps</td>\n      <td>tournament</td>\n      <td>2</td>\n      <td>0.00010</td>\n      <td>0.2</td>\n      <td>index</td>\n      <td>2260.5</td>\n      <td>140</td>\n      <td>[82.5, 149.0, 810.0, 481.75, 435.0, 1527.0, 81...</td>\n    </tr>\n    <tr>\n      <th>26</th>\n      <td>300</td>\n      <td>position_and_angle_based</td>\n      <td>tournament</td>\n      <td>5</td>\n      <td>0.00100</td>\n      <td>0.2</td>\n      <td>mean</td>\n      <td>2245.5</td>\n      <td>236</td>\n      <td>[67.0, 144.0, 103.5, 164.5, 231.5, 1620.0, 224...</td>\n    </tr>\n    <tr>\n      <th>46</th>\n      <td>1000</td>\n      <td>position_and_angle_based</td>\n      <td>elitist</td>\n      <td>5</td>\n      <td>0.00001</td>\n      <td>0.2</td>\n      <td>index</td>\n      <td>2219.5</td>\n      <td>237</td>\n      <td>[77.0, 126.0, 69.5, 115.5, 132.5, 52.5, 315.5,...</td>\n    </tr>\n    <tr>\n      <th>166</th>\n      <td>1000</td>\n      <td>total_time_steps</td>\n      <td>elitist</td>\n      <td>5</td>\n      <td>0.00001</td>\n      <td>0.2</td>\n      <td>mean</td>\n      <td>2197.0</td>\n      <td>208</td>\n      <td>[204.0, 351.5, 501.0, 366.0, 330.0, 268.5, 292...</td>\n    </tr>\n  </tbody>\n</table>\n<p>100 rows × 10 columns</p>\n</div>"
     },
     "execution_count": 45,
     "metadata": {},
     "output_type": "execute_result"
    }
   ],
   "source": [
    "top_100 = df.sort_values(by='steps', ascending=False)[:100]\n",
    "\n",
    "top_100"
   ],
   "metadata": {
    "collapsed": false,
    "pycharm": {
     "name": "#%%\n"
    }
   }
  },
  {
   "cell_type": "code",
   "execution_count": 46,
   "outputs": [
    {
     "data": {
      "text/plain": "position_and_angle_based    23\nangle_and_time_based        20\nangle_based                 16\ntime_based                  14\ntotal_time_steps            14\nposition_based              13\nName: fitness_function, dtype: int64"
     },
     "execution_count": 46,
     "metadata": {},
     "output_type": "execute_result"
    }
   ],
   "source": [
    "top_100.fitness_function.value_counts()"
   ],
   "metadata": {
    "collapsed": false,
    "pycharm": {
     "name": "#%%\n"
    }
   }
  },
  {
   "cell_type": "code",
   "execution_count": 47,
   "outputs": [
    {
     "data": {
      "text/plain": "elitist                 38\nfitness_proportional    34\ntournament              28\nName: selection_criterion, dtype: int64"
     },
     "execution_count": 47,
     "metadata": {},
     "output_type": "execute_result"
    }
   ],
   "source": [
    "top_100.selection_criterion.value_counts()"
   ],
   "metadata": {
    "collapsed": false,
    "pycharm": {
     "name": "#%%\n"
    }
   }
  },
  {
   "cell_type": "code",
   "execution_count": 48,
   "outputs": [
    {
     "data": {
      "text/plain": "2    52\n5    48\nName: episodes_per_individual, dtype: int64"
     },
     "execution_count": 48,
     "metadata": {},
     "output_type": "execute_result"
    }
   ],
   "source": [
    "top_100.episodes_per_individual.value_counts()"
   ],
   "metadata": {
    "collapsed": false,
    "pycharm": {
     "name": "#%%\n"
    }
   }
  },
  {
   "cell_type": "code",
   "execution_count": 49,
   "outputs": [
    {
     "data": {
      "text/plain": "0.00010    27\n0.00001    25\n0.01000    25\n0.00100    23\nName: mutation_rate, dtype: int64"
     },
     "execution_count": 49,
     "metadata": {},
     "output_type": "execute_result"
    }
   ],
   "source": [
    "top_100.mutation_rate.value_counts()\n"
   ],
   "metadata": {
    "collapsed": false,
    "pycharm": {
     "name": "#%%\n"
    }
   }
  },
  {
   "cell_type": "code",
   "execution_count": 50,
   "outputs": [
    {
     "data": {
      "text/plain": "0.1    52\n0.2    48\nName: survival_rate, dtype: int64"
     },
     "execution_count": 50,
     "metadata": {},
     "output_type": "execute_result"
    }
   ],
   "source": [
    "top_100.survival_rate.value_counts()\n"
   ],
   "metadata": {
    "collapsed": false,
    "pycharm": {
     "name": "#%%\n"
    }
   }
  },
  {
   "cell_type": "code",
   "execution_count": 51,
   "outputs": [
    {
     "data": {
      "text/plain": "index    51\nmean     49\nName: action_type, dtype: int64"
     },
     "execution_count": 51,
     "metadata": {},
     "output_type": "execute_result"
    }
   ],
   "source": [
    "top_100.action_type.value_counts()"
   ],
   "metadata": {
    "collapsed": false,
    "pycharm": {
     "name": "#%%\n"
    }
   }
  },
  {
   "cell_type": "code",
   "execution_count": 52,
   "outputs": [
    {
     "data": {
      "text/plain": "1000    55\n300     45\nName: population_limit, dtype: int64"
     },
     "execution_count": 52,
     "metadata": {},
     "output_type": "execute_result"
    }
   ],
   "source": [
    "top_100.population_limit.value_counts()"
   ],
   "metadata": {
    "collapsed": false,
    "pycharm": {
     "name": "#%%\n"
    }
   }
  },
  {
   "cell_type": "code",
   "execution_count": 53,
   "outputs": [],
   "source": [
    "top_10 = top_100[:10]"
   ],
   "metadata": {
    "collapsed": false,
    "pycharm": {
     "name": "#%%\n"
    }
   }
  },
  {
   "cell_type": "code",
   "execution_count": 54,
   "outputs": [
    {
     "data": {
      "text/plain": "angle_and_time_based        3\nposition_based              3\nangle_based                 1\ntime_based                  1\nposition_and_angle_based    1\ntotal_time_steps            1\nName: fitness_function, dtype: int64"
     },
     "execution_count": 54,
     "metadata": {},
     "output_type": "execute_result"
    }
   ],
   "source": [
    "top_10.fitness_function.value_counts()"
   ],
   "metadata": {
    "collapsed": false,
    "pycharm": {
     "name": "#%%\n"
    }
   }
  },
  {
   "cell_type": "code",
   "execution_count": 55,
   "outputs": [
    {
     "data": {
      "text/plain": "position_and_angle_based    57\ntime_based                  56\nangle_based                 53\nangle_and_time_based        51\ntotal_time_steps            49\nposition_based              36\nName: fitness_function, dtype: int64"
     },
     "execution_count": 55,
     "metadata": {},
     "output_type": "execute_result"
    }
   ],
   "source": [
    "df.fitness_function.value_counts()\n"
   ],
   "metadata": {
    "collapsed": false,
    "pycharm": {
     "name": "#%%\n"
    }
   }
  },
  {
   "cell_type": "code",
   "execution_count": 56,
   "outputs": [
    {
     "data": {
      "text/plain": "     population_limit          fitness_function   selection_criterion  \\\n137              1000                time_based            tournament   \n233               300            position_based  fitness_proportional   \n71               1000            position_based               elitist   \n40               1000      angle_and_time_based               elitist   \n196              1000      angle_and_time_based  fitness_proportional   \n121               300            position_based  fitness_proportional   \n125              1000      angle_and_time_based            tournament   \n39                300  position_and_angle_based               elitist   \n24                300          total_time_steps            tournament   \n59               1000               angle_based               elitist   \n\n     episodes_per_individual  mutation_rate  survival_rate action_type  \\\n137                        5        0.01000            0.2        mean   \n233                        5        0.01000            0.2       index   \n71                         2        0.00010            0.2       index   \n40                         2        0.00010            0.2       index   \n196                        2        0.00001            0.1       index   \n121                        2        0.00001            0.1        mean   \n125                        2        0.00100            0.2       index   \n39                         5        0.00100            0.2        mean   \n24                         5        0.00010            0.1        mean   \n59                         2        0.00010            0.1       index   \n\n       steps  rule                                       step_history  \n137  66421.0   178  [200.5, 10650.75, 32312.5, 50072.5, 66421.0, 3...  \n233  58464.0   244  [121.5, 240.5, 360.0, 784.5, 653.0, 1133.0, 10...  \n71   54219.0   178  [84.0, 206.0, 303.0, 212.0, 242.5, 162.5, 256....  \n40   51373.0   236  [342.0, 379.5, 594.5, 455.3333333333333, 365.8...  \n196  50244.5   221  [110.5, 193.0, 421.0, 464.0, 1065.5, 676.25, 6...  \n121  50131.0   178  [118.5, 74.5, 219.5, 132.5, 224.5, 2238.0, 156...  \n125  50102.5   208  [174.5, 562.0, 796.0, 1624.5, 1753.5, 896.75, ...  \n39   50066.5   138  [389.0, 520.25, 902.5, 1691.5, 883.75, 603.0, ...  \n24   50053.0   186  [115.5, 433.5, 236.5, 500.5, 667.0, 958.0, 882...  \n59   50012.0   141  [135.5, 509.0, 274.5, 281.75, 1175.5, 594.25, ...  ",
      "text/html": "<div>\n<style scoped>\n    .dataframe tbody tr th:only-of-type {\n        vertical-align: middle;\n    }\n\n    .dataframe tbody tr th {\n        vertical-align: top;\n    }\n\n    .dataframe thead th {\n        text-align: right;\n    }\n</style>\n<table border=\"1\" class=\"dataframe\">\n  <thead>\n    <tr style=\"text-align: right;\">\n      <th></th>\n      <th>population_limit</th>\n      <th>fitness_function</th>\n      <th>selection_criterion</th>\n      <th>episodes_per_individual</th>\n      <th>mutation_rate</th>\n      <th>survival_rate</th>\n      <th>action_type</th>\n      <th>steps</th>\n      <th>rule</th>\n      <th>step_history</th>\n    </tr>\n  </thead>\n  <tbody>\n    <tr>\n      <th>137</th>\n      <td>1000</td>\n      <td>time_based</td>\n      <td>tournament</td>\n      <td>5</td>\n      <td>0.01000</td>\n      <td>0.2</td>\n      <td>mean</td>\n      <td>66421.0</td>\n      <td>178</td>\n      <td>[200.5, 10650.75, 32312.5, 50072.5, 66421.0, 3...</td>\n    </tr>\n    <tr>\n      <th>233</th>\n      <td>300</td>\n      <td>position_based</td>\n      <td>fitness_proportional</td>\n      <td>5</td>\n      <td>0.01000</td>\n      <td>0.2</td>\n      <td>index</td>\n      <td>58464.0</td>\n      <td>244</td>\n      <td>[121.5, 240.5, 360.0, 784.5, 653.0, 1133.0, 10...</td>\n    </tr>\n    <tr>\n      <th>71</th>\n      <td>1000</td>\n      <td>position_based</td>\n      <td>elitist</td>\n      <td>2</td>\n      <td>0.00010</td>\n      <td>0.2</td>\n      <td>index</td>\n      <td>54219.0</td>\n      <td>178</td>\n      <td>[84.0, 206.0, 303.0, 212.0, 242.5, 162.5, 256....</td>\n    </tr>\n    <tr>\n      <th>40</th>\n      <td>1000</td>\n      <td>angle_and_time_based</td>\n      <td>elitist</td>\n      <td>2</td>\n      <td>0.00010</td>\n      <td>0.2</td>\n      <td>index</td>\n      <td>51373.0</td>\n      <td>236</td>\n      <td>[342.0, 379.5, 594.5, 455.3333333333333, 365.8...</td>\n    </tr>\n    <tr>\n      <th>196</th>\n      <td>1000</td>\n      <td>angle_and_time_based</td>\n      <td>fitness_proportional</td>\n      <td>2</td>\n      <td>0.00001</td>\n      <td>0.1</td>\n      <td>index</td>\n      <td>50244.5</td>\n      <td>221</td>\n      <td>[110.5, 193.0, 421.0, 464.0, 1065.5, 676.25, 6...</td>\n    </tr>\n    <tr>\n      <th>121</th>\n      <td>300</td>\n      <td>position_based</td>\n      <td>fitness_proportional</td>\n      <td>2</td>\n      <td>0.00001</td>\n      <td>0.1</td>\n      <td>mean</td>\n      <td>50131.0</td>\n      <td>178</td>\n      <td>[118.5, 74.5, 219.5, 132.5, 224.5, 2238.0, 156...</td>\n    </tr>\n    <tr>\n      <th>125</th>\n      <td>1000</td>\n      <td>angle_and_time_based</td>\n      <td>tournament</td>\n      <td>2</td>\n      <td>0.00100</td>\n      <td>0.2</td>\n      <td>index</td>\n      <td>50102.5</td>\n      <td>208</td>\n      <td>[174.5, 562.0, 796.0, 1624.5, 1753.5, 896.75, ...</td>\n    </tr>\n    <tr>\n      <th>39</th>\n      <td>300</td>\n      <td>position_and_angle_based</td>\n      <td>elitist</td>\n      <td>5</td>\n      <td>0.00100</td>\n      <td>0.2</td>\n      <td>mean</td>\n      <td>50066.5</td>\n      <td>138</td>\n      <td>[389.0, 520.25, 902.5, 1691.5, 883.75, 603.0, ...</td>\n    </tr>\n    <tr>\n      <th>24</th>\n      <td>300</td>\n      <td>total_time_steps</td>\n      <td>tournament</td>\n      <td>5</td>\n      <td>0.00010</td>\n      <td>0.1</td>\n      <td>mean</td>\n      <td>50053.0</td>\n      <td>186</td>\n      <td>[115.5, 433.5, 236.5, 500.5, 667.0, 958.0, 882...</td>\n    </tr>\n    <tr>\n      <th>59</th>\n      <td>1000</td>\n      <td>angle_based</td>\n      <td>elitist</td>\n      <td>2</td>\n      <td>0.00010</td>\n      <td>0.1</td>\n      <td>index</td>\n      <td>50012.0</td>\n      <td>141</td>\n      <td>[135.5, 509.0, 274.5, 281.75, 1175.5, 594.25, ...</td>\n    </tr>\n  </tbody>\n</table>\n</div>"
     },
     "execution_count": 56,
     "metadata": {},
     "output_type": "execute_result"
    }
   ],
   "source": [
    "top_10"
   ],
   "metadata": {
    "collapsed": false,
    "pycharm": {
     "name": "#%%\n"
    }
   }
  },
  {
   "cell_type": "code",
   "execution_count": 57,
   "outputs": [
    {
     "data": {
      "application/vnd.plotly.v1+json": {
       "config": {
        "plotlyServerURL": "https://plot.ly"
       },
       "data": [
        {
         "mode": "lines",
         "name": "0",
         "type": "scatter",
         "y": [
          200.5,
          10650.75,
          32312.5,
          50072.5,
          66421.0,
          33294.5,
          22206.0,
          16801.5,
          13576.8,
          11321.5,
          9710.142857142857,
          8500.375,
          7560.777777777777,
          6808.4,
          6192.409090909091,
          35344.5,
          23574.5,
          17691.0,
          14156.9,
          11801.0,
          10116.642857142857,
          8853.125,
          7874.333333333333,
          7090.65,
          6447.5,
          5911.166666666667,
          5457.653846153846,
          5068.892857142857,
          4731.733333333334,
          4439.1875,
          4180.705882352941,
          3950.8055555555557,
          3743.5263157894738,
          3557.225,
          3388.2619047619046,
          3234.818181818182,
          3094.5434782608695,
          2965.9583333333335,
          2847.64,
          2738.4423076923076,
          2637.314814814815,
          2543.4285714285716,
          2456.362068965517,
          2375.0,
          2298.8709677419356,
          2227.4375,
          2160.681818181818,
          2097.6470588235293,
          2038.4857142857143,
          1984.5972222222222
         ]
        },
        {
         "mode": "lines",
         "name": "1",
         "type": "scatter",
         "y": [
          121.5,
          240.5,
          360.0,
          784.5,
          653.0,
          1133.0,
          1073.0,
          599.25,
          10452.0,
          50183.0,
          25220.75,
          16876.333333333332,
          12661.125,
          10135.3,
          8447.833333333334,
          7244.714285714285,
          6341.875,
          5639.388888888889,
          5076.65,
          4615.818181818182,
          4231.916666666667,
          3907.0384615384614,
          3628.535714285714,
          3387.266666666667,
          58464.0,
          29238.5,
          19498.166666666668,
          14626.75,
          11704.5,
          9755.916666666666,
          8363.857142857143,
          7320.0625,
          6508.111111111111,
          5858.95,
          5328.5,
          4885.916666666667,
          4511.807692307692,
          4191.071428571428,
          3912.633333333333,
          3669.1875,
          3454.3823529411766,
          3262.9166666666665,
          3091.6315789473683,
          2937.5,
          2798.0476190476193,
          2671.318181818182,
          2555.5652173913045,
          2449.4375,
          2351.8,
          2261.6923076923076
         ]
        },
        {
         "mode": "lines",
         "name": "2",
         "type": "scatter",
         "y": [
          84.0,
          206.0,
          303.0,
          212.0,
          242.5,
          162.5,
          256.5,
          267.0,
          2964.0,
          44742.5,
          22582.75,
          54219.0,
          50065.0,
          25059.5,
          21421.5,
          17146.3,
          14298.083333333334,
          12256.714285714286,
          10725.625,
          9534.777777777777,
          8582.25,
          7802.863636363636,
          7153.375,
          6603.7307692307695,
          6133.178571428572,
          5724.933333333333,
          5367.84375,
          5052.764705882353,
          4772.888888888889,
          4523.815789473684,
          4298.7,
          4094.6666666666665,
          3909.318181818182,
          3746.304347826087,
          3596.5833333333335,
          3458.72,
          3331.096153846154,
          3212.759259259259,
          3100.3214285714284,
          2997.344827586207,
          2897.7166666666667,
          2804.5,
          2717.125,
          2635.030303030303,
          2557.794117647059,
          2485.6857142857143,
          2416.847222222222,
          2351.7702702702704,
          2290.092105263158,
          2231.653846153846
         ]
        },
        {
         "mode": "lines",
         "name": "3",
         "type": "scatter",
         "y": [
          342.0,
          379.5,
          594.5,
          455.3333333333333,
          365.875,
          1285.5,
          50134.5,
          27583.5,
          50101.5,
          30035.0,
          18079.0,
          14368.625,
          11798.0,
          9837.333333333334,
          8443.357142857143,
          7391.0,
          51373.0,
          26064.75,
          17383.833333333332,
          13042.5,
          10437.9,
          8700.416666666666,
          7459.071428571428,
          6528.0625,
          5803.777777777777,
          5226.35,
          4752.727272727273,
          4361.041666666667,
          4027.6153846153848,
          3741.0714285714284,
          3494.6,
          3278.71875,
          3086.323529411765,
          2916.0555555555557,
          2763.5,
          2626.075,
          2501.5476190476193,
          2388.409090909091,
          2285.3260869565215,
          2191.125,
          2116.3,
          2035.7307692307693,
          1964.462962962963,
          1895.5357142857142,
          1830.448275862069,
          1770.0,
          1715.032258064516,
          1667.34375,
          1605.1515151515152,
          1558.1911764705883
         ]
        },
        {
         "mode": "lines",
         "name": "4",
         "type": "scatter",
         "y": [
          110.5,
          193.0,
          421.0,
          464.0,
          1065.5,
          676.25,
          638.3333333333334,
          50244.5,
          25130.25,
          16758.0,
          12579.125,
          10065.6,
          8390.75,
          7212.0,
          6312.0625,
          5611.944444444444,
          5051.55,
          4593.818181818182,
          4211.791666666667,
          3888.4615384615386,
          3611.4285714285716,
          3371.233333333333,
          3161.0625,
          2975.5882352941176,
          2810.6944444444443,
          2663.184210526316,
          2530.425,
          2410.3333333333335,
          2301.181818181818,
          2201.4565217391305,
          2110.0833333333335,
          2026.58,
          1950.423076923077,
          1884.2407407407406,
          1826.267857142857,
          1768.6896551724137,
          1717.7833333333333,
          6801.75,
          4537.5,
          3405.875,
          2726.7,
          2274.8333333333335,
          17867.5,
          8952.25,
          5975.333333333333,
          4484.75,
          3590.8,
          2994.9166666666665,
          2569.6428571428573,
          2251.375
         ]
        },
        {
         "mode": "lines",
         "name": "5",
         "type": "scatter",
         "y": [
          118.5,
          74.5,
          219.5,
          132.5,
          224.5,
          2238.0,
          1568.5,
          3673.5,
          50131.0,
          25086.5,
          16727.5,
          12548.5,
          10040.6,
          8369.083333333334,
          7175.357142857143,
          6280.6875,
          5583.722222222223,
          5026.15,
          4569.909090909091,
          4189.791666666667,
          3868.076923076923,
          3592.3571428571427,
          3353.4333333333334,
          3144.5625,
          2964.264705882353,
          2802.972222222222,
          2656.7368421052633,
          2529.925,
          2412.2619047619046,
          2304.181818181818,
          2205.1739130434785,
          2113.625,
          2029.52,
          1951.7884615384614,
          1879.8148148148148,
          1813.232142857143,
          1752.2413793103449,
          1694.2666666666667,
          1640.3064516129032,
          1589.796875,
          1542.6818181818182,
          1497.6176470588234,
          1455.2,
          1414.986111111111,
          1376.972972972973,
          1340.9342105263158,
          1306.7692307692307,
          1274.575,
          1244.5975609756097,
          1218.3214285714287
         ]
        },
        {
         "mode": "lines",
         "name": "6",
         "type": "scatter",
         "y": [
          174.5,
          562.0,
          796.0,
          1624.5,
          1753.5,
          896.75,
          609.5833333333334,
          1408.0,
          1741.0,
          875.0,
          587.5,
          458.875,
          380.5,
          327.6666666666667,
          289.92857142857144,
          199.5,
          305.0,
          199.0,
          111.5,
          80.83333333333333,
          70.625,
          58.9,
          55.0,
          25.0,
          72.0,
          30.5,
          41.5,
          37.5,
          36.5,
          52.0,
          38.5,
          28.0,
          45.0,
          54.0,
          66.0,
          63.5,
          47.333333333333336,
          50073.5,
          25115.75,
          16916.166666666668,
          12722.5,
          50102.5,
          25243.0,
          18017.666666666668,
          13542.125,
          10849.8,
          9053.0,
          7765.071428571428,
          6812.375,
          6065.0
         ]
        },
        {
         "mode": "lines",
         "name": "7",
         "type": "scatter",
         "y": [
          389.0,
          520.25,
          902.5,
          1691.5,
          883.75,
          603.0,
          261.75,
          285.5,
          2634.5,
          1321.75,
          883.8333333333334,
          665.0,
          534.4,
          448.1666666666667,
          385.2857142857143,
          339.0625,
          304.22222222222223,
          276.3,
          252.45454545454547,
          163.75,
          158.57692307692307,
          215.0,
          341.0,
          395.5,
          373.0,
          192.16666666666666,
          148.625,
          123.3,
          114.21428571428571,
          102.875,
          28.666666666666668,
          42.0,
          43.0,
          1707.0,
          870.5,
          591.1666666666666,
          242.25,
          213.8,
          175.5,
          498.0,
          207.5,
          199.0,
          210.0,
          2819.0,
          23187.5,
          50066.5,
          25077.75,
          16726.833333333332,
          12549.375,
          10041.1
         ]
        },
        {
         "mode": "lines",
         "name": "8",
         "type": "scatter",
         "y": [
          115.5,
          433.5,
          236.5,
          500.5,
          667.0,
          958.0,
          882.5,
          8545.0,
          9411.5,
          8073.5,
          4043.0,
          2698.3333333333335,
          2035.625,
          1635.0,
          1391.2857142857142,
          50037.5,
          50053.0,
          25042.5,
          16704.666666666668,
          12534.125,
          10031.1,
          8362.416666666666,
          7171.5,
          6291.875,
          5593.777777777777,
          5035.15,
          4578.272727272727,
          4197.458333333333,
          3875.1923076923076,
          3599.1428571428573,
          3361.1666666666665,
          3153.03125,
          2968.9117647058824,
          2805.472222222222,
          2658.6052631578946,
          2528.975,
          2409.8809523809523,
          2300.7272727272725,
          2201.086956521739,
          2109.75,
          2025.68,
          1948.076923076923,
          1876.2962962962963,
          1809.5892857142858,
          1747.5,
          1689.5166666666667,
          1635.258064516129,
          1584.421875,
          1536.6818181818182,
          1492.014705882353
         ]
        },
        {
         "mode": "lines",
         "name": "9",
         "type": "scatter",
         "y": [
          135.5,
          509.0,
          274.5,
          281.75,
          1175.5,
          594.25,
          399.0,
          302.75,
          243.9,
          2460.5,
          11967.5,
          50012.0,
          25016.0,
          16681.833333333332,
          12514.375,
          10013.1,
          8346.25,
          7157.714285714285,
          6268.1875,
          5574.611111111111,
          5019.4,
          4564.681818181818,
          4186.166666666667,
          3865.5384615384614,
          3591.9285714285716,
          3353.8333333333335,
          3146.375,
          2963.3529411764707,
          2800.3333333333335,
          2653.3684210526317,
          2523.025,
          2405.190476190476,
          2297.25,
          2198.4565217391305,
          2108.6041666666665,
          2026.16,
          1951.076923076923,
          1879.8148148148148,
          1814.6785714285713,
          1754.4137931034484,
          1698.0666666666666,
          1644.3548387096773,
          1593.65625,
          1546.6818181818182,
          1502.25,
          1459.942857142857,
          1420.611111111111,
          1382.918918918919,
          1347.078947368421,
          1312.8974358974358
         ]
        }
       ],
       "layout": {
        "template": {
         "data": {
          "bar": [
           {
            "error_x": {
             "color": "#2a3f5f"
            },
            "error_y": {
             "color": "#2a3f5f"
            },
            "marker": {
             "line": {
              "color": "#E5ECF6",
              "width": 0.5
             },
             "pattern": {
              "fillmode": "overlay",
              "size": 10,
              "solidity": 0.2
             }
            },
            "type": "bar"
           }
          ],
          "barpolar": [
           {
            "marker": {
             "line": {
              "color": "#E5ECF6",
              "width": 0.5
             },
             "pattern": {
              "fillmode": "overlay",
              "size": 10,
              "solidity": 0.2
             }
            },
            "type": "barpolar"
           }
          ],
          "carpet": [
           {
            "aaxis": {
             "endlinecolor": "#2a3f5f",
             "gridcolor": "white",
             "linecolor": "white",
             "minorgridcolor": "white",
             "startlinecolor": "#2a3f5f"
            },
            "baxis": {
             "endlinecolor": "#2a3f5f",
             "gridcolor": "white",
             "linecolor": "white",
             "minorgridcolor": "white",
             "startlinecolor": "#2a3f5f"
            },
            "type": "carpet"
           }
          ],
          "choropleth": [
           {
            "colorbar": {
             "outlinewidth": 0,
             "ticks": ""
            },
            "type": "choropleth"
           }
          ],
          "contour": [
           {
            "colorbar": {
             "outlinewidth": 0,
             "ticks": ""
            },
            "colorscale": [
             [
              0.0,
              "#0d0887"
             ],
             [
              0.1111111111111111,
              "#46039f"
             ],
             [
              0.2222222222222222,
              "#7201a8"
             ],
             [
              0.3333333333333333,
              "#9c179e"
             ],
             [
              0.4444444444444444,
              "#bd3786"
             ],
             [
              0.5555555555555556,
              "#d8576b"
             ],
             [
              0.6666666666666666,
              "#ed7953"
             ],
             [
              0.7777777777777778,
              "#fb9f3a"
             ],
             [
              0.8888888888888888,
              "#fdca26"
             ],
             [
              1.0,
              "#f0f921"
             ]
            ],
            "type": "contour"
           }
          ],
          "contourcarpet": [
           {
            "colorbar": {
             "outlinewidth": 0,
             "ticks": ""
            },
            "type": "contourcarpet"
           }
          ],
          "heatmap": [
           {
            "colorbar": {
             "outlinewidth": 0,
             "ticks": ""
            },
            "colorscale": [
             [
              0.0,
              "#0d0887"
             ],
             [
              0.1111111111111111,
              "#46039f"
             ],
             [
              0.2222222222222222,
              "#7201a8"
             ],
             [
              0.3333333333333333,
              "#9c179e"
             ],
             [
              0.4444444444444444,
              "#bd3786"
             ],
             [
              0.5555555555555556,
              "#d8576b"
             ],
             [
              0.6666666666666666,
              "#ed7953"
             ],
             [
              0.7777777777777778,
              "#fb9f3a"
             ],
             [
              0.8888888888888888,
              "#fdca26"
             ],
             [
              1.0,
              "#f0f921"
             ]
            ],
            "type": "heatmap"
           }
          ],
          "heatmapgl": [
           {
            "colorbar": {
             "outlinewidth": 0,
             "ticks": ""
            },
            "colorscale": [
             [
              0.0,
              "#0d0887"
             ],
             [
              0.1111111111111111,
              "#46039f"
             ],
             [
              0.2222222222222222,
              "#7201a8"
             ],
             [
              0.3333333333333333,
              "#9c179e"
             ],
             [
              0.4444444444444444,
              "#bd3786"
             ],
             [
              0.5555555555555556,
              "#d8576b"
             ],
             [
              0.6666666666666666,
              "#ed7953"
             ],
             [
              0.7777777777777778,
              "#fb9f3a"
             ],
             [
              0.8888888888888888,
              "#fdca26"
             ],
             [
              1.0,
              "#f0f921"
             ]
            ],
            "type": "heatmapgl"
           }
          ],
          "histogram": [
           {
            "marker": {
             "pattern": {
              "fillmode": "overlay",
              "size": 10,
              "solidity": 0.2
             }
            },
            "type": "histogram"
           }
          ],
          "histogram2d": [
           {
            "colorbar": {
             "outlinewidth": 0,
             "ticks": ""
            },
            "colorscale": [
             [
              0.0,
              "#0d0887"
             ],
             [
              0.1111111111111111,
              "#46039f"
             ],
             [
              0.2222222222222222,
              "#7201a8"
             ],
             [
              0.3333333333333333,
              "#9c179e"
             ],
             [
              0.4444444444444444,
              "#bd3786"
             ],
             [
              0.5555555555555556,
              "#d8576b"
             ],
             [
              0.6666666666666666,
              "#ed7953"
             ],
             [
              0.7777777777777778,
              "#fb9f3a"
             ],
             [
              0.8888888888888888,
              "#fdca26"
             ],
             [
              1.0,
              "#f0f921"
             ]
            ],
            "type": "histogram2d"
           }
          ],
          "histogram2dcontour": [
           {
            "colorbar": {
             "outlinewidth": 0,
             "ticks": ""
            },
            "colorscale": [
             [
              0.0,
              "#0d0887"
             ],
             [
              0.1111111111111111,
              "#46039f"
             ],
             [
              0.2222222222222222,
              "#7201a8"
             ],
             [
              0.3333333333333333,
              "#9c179e"
             ],
             [
              0.4444444444444444,
              "#bd3786"
             ],
             [
              0.5555555555555556,
              "#d8576b"
             ],
             [
              0.6666666666666666,
              "#ed7953"
             ],
             [
              0.7777777777777778,
              "#fb9f3a"
             ],
             [
              0.8888888888888888,
              "#fdca26"
             ],
             [
              1.0,
              "#f0f921"
             ]
            ],
            "type": "histogram2dcontour"
           }
          ],
          "mesh3d": [
           {
            "colorbar": {
             "outlinewidth": 0,
             "ticks": ""
            },
            "type": "mesh3d"
           }
          ],
          "parcoords": [
           {
            "line": {
             "colorbar": {
              "outlinewidth": 0,
              "ticks": ""
             }
            },
            "type": "parcoords"
           }
          ],
          "pie": [
           {
            "automargin": true,
            "type": "pie"
           }
          ],
          "scatter": [
           {
            "marker": {
             "colorbar": {
              "outlinewidth": 0,
              "ticks": ""
             }
            },
            "type": "scatter"
           }
          ],
          "scatter3d": [
           {
            "line": {
             "colorbar": {
              "outlinewidth": 0,
              "ticks": ""
             }
            },
            "marker": {
             "colorbar": {
              "outlinewidth": 0,
              "ticks": ""
             }
            },
            "type": "scatter3d"
           }
          ],
          "scattercarpet": [
           {
            "marker": {
             "colorbar": {
              "outlinewidth": 0,
              "ticks": ""
             }
            },
            "type": "scattercarpet"
           }
          ],
          "scattergeo": [
           {
            "marker": {
             "colorbar": {
              "outlinewidth": 0,
              "ticks": ""
             }
            },
            "type": "scattergeo"
           }
          ],
          "scattergl": [
           {
            "marker": {
             "colorbar": {
              "outlinewidth": 0,
              "ticks": ""
             }
            },
            "type": "scattergl"
           }
          ],
          "scattermapbox": [
           {
            "marker": {
             "colorbar": {
              "outlinewidth": 0,
              "ticks": ""
             }
            },
            "type": "scattermapbox"
           }
          ],
          "scatterpolar": [
           {
            "marker": {
             "colorbar": {
              "outlinewidth": 0,
              "ticks": ""
             }
            },
            "type": "scatterpolar"
           }
          ],
          "scatterpolargl": [
           {
            "marker": {
             "colorbar": {
              "outlinewidth": 0,
              "ticks": ""
             }
            },
            "type": "scatterpolargl"
           }
          ],
          "scatterternary": [
           {
            "marker": {
             "colorbar": {
              "outlinewidth": 0,
              "ticks": ""
             }
            },
            "type": "scatterternary"
           }
          ],
          "surface": [
           {
            "colorbar": {
             "outlinewidth": 0,
             "ticks": ""
            },
            "colorscale": [
             [
              0.0,
              "#0d0887"
             ],
             [
              0.1111111111111111,
              "#46039f"
             ],
             [
              0.2222222222222222,
              "#7201a8"
             ],
             [
              0.3333333333333333,
              "#9c179e"
             ],
             [
              0.4444444444444444,
              "#bd3786"
             ],
             [
              0.5555555555555556,
              "#d8576b"
             ],
             [
              0.6666666666666666,
              "#ed7953"
             ],
             [
              0.7777777777777778,
              "#fb9f3a"
             ],
             [
              0.8888888888888888,
              "#fdca26"
             ],
             [
              1.0,
              "#f0f921"
             ]
            ],
            "type": "surface"
           }
          ],
          "table": [
           {
            "cells": {
             "fill": {
              "color": "#EBF0F8"
             },
             "line": {
              "color": "white"
             }
            },
            "header": {
             "fill": {
              "color": "#C8D4E3"
             },
             "line": {
              "color": "white"
             }
            },
            "type": "table"
           }
          ]
         },
         "layout": {
          "annotationdefaults": {
           "arrowcolor": "#2a3f5f",
           "arrowhead": 0,
           "arrowwidth": 1
          },
          "autotypenumbers": "strict",
          "coloraxis": {
           "colorbar": {
            "outlinewidth": 0,
            "ticks": ""
           }
          },
          "colorscale": {
           "diverging": [
            [
             0,
             "#8e0152"
            ],
            [
             0.1,
             "#c51b7d"
            ],
            [
             0.2,
             "#de77ae"
            ],
            [
             0.3,
             "#f1b6da"
            ],
            [
             0.4,
             "#fde0ef"
            ],
            [
             0.5,
             "#f7f7f7"
            ],
            [
             0.6,
             "#e6f5d0"
            ],
            [
             0.7,
             "#b8e186"
            ],
            [
             0.8,
             "#7fbc41"
            ],
            [
             0.9,
             "#4d9221"
            ],
            [
             1,
             "#276419"
            ]
           ],
           "sequential": [
            [
             0.0,
             "#0d0887"
            ],
            [
             0.1111111111111111,
             "#46039f"
            ],
            [
             0.2222222222222222,
             "#7201a8"
            ],
            [
             0.3333333333333333,
             "#9c179e"
            ],
            [
             0.4444444444444444,
             "#bd3786"
            ],
            [
             0.5555555555555556,
             "#d8576b"
            ],
            [
             0.6666666666666666,
             "#ed7953"
            ],
            [
             0.7777777777777778,
             "#fb9f3a"
            ],
            [
             0.8888888888888888,
             "#fdca26"
            ],
            [
             1.0,
             "#f0f921"
            ]
           ],
           "sequentialminus": [
            [
             0.0,
             "#0d0887"
            ],
            [
             0.1111111111111111,
             "#46039f"
            ],
            [
             0.2222222222222222,
             "#7201a8"
            ],
            [
             0.3333333333333333,
             "#9c179e"
            ],
            [
             0.4444444444444444,
             "#bd3786"
            ],
            [
             0.5555555555555556,
             "#d8576b"
            ],
            [
             0.6666666666666666,
             "#ed7953"
            ],
            [
             0.7777777777777778,
             "#fb9f3a"
            ],
            [
             0.8888888888888888,
             "#fdca26"
            ],
            [
             1.0,
             "#f0f921"
            ]
           ]
          },
          "colorway": [
           "#636efa",
           "#EF553B",
           "#00cc96",
           "#ab63fa",
           "#FFA15A",
           "#19d3f3",
           "#FF6692",
           "#B6E880",
           "#FF97FF",
           "#FECB52"
          ],
          "font": {
           "color": "#2a3f5f"
          },
          "geo": {
           "bgcolor": "white",
           "lakecolor": "white",
           "landcolor": "#E5ECF6",
           "showlakes": true,
           "showland": true,
           "subunitcolor": "white"
          },
          "hoverlabel": {
           "align": "left"
          },
          "hovermode": "closest",
          "mapbox": {
           "style": "light"
          },
          "paper_bgcolor": "white",
          "plot_bgcolor": "#E5ECF6",
          "polar": {
           "angularaxis": {
            "gridcolor": "white",
            "linecolor": "white",
            "ticks": ""
           },
           "bgcolor": "#E5ECF6",
           "radialaxis": {
            "gridcolor": "white",
            "linecolor": "white",
            "ticks": ""
           }
          },
          "scene": {
           "xaxis": {
            "backgroundcolor": "#E5ECF6",
            "gridcolor": "white",
            "gridwidth": 2,
            "linecolor": "white",
            "showbackground": true,
            "ticks": "",
            "zerolinecolor": "white"
           },
           "yaxis": {
            "backgroundcolor": "#E5ECF6",
            "gridcolor": "white",
            "gridwidth": 2,
            "linecolor": "white",
            "showbackground": true,
            "ticks": "",
            "zerolinecolor": "white"
           },
           "zaxis": {
            "backgroundcolor": "#E5ECF6",
            "gridcolor": "white",
            "gridwidth": 2,
            "linecolor": "white",
            "showbackground": true,
            "ticks": "",
            "zerolinecolor": "white"
           }
          },
          "shapedefaults": {
           "line": {
            "color": "#2a3f5f"
           }
          },
          "ternary": {
           "aaxis": {
            "gridcolor": "white",
            "linecolor": "white",
            "ticks": ""
           },
           "baxis": {
            "gridcolor": "white",
            "linecolor": "white",
            "ticks": ""
           },
           "bgcolor": "#E5ECF6",
           "caxis": {
            "gridcolor": "white",
            "linecolor": "white",
            "ticks": ""
           }
          },
          "title": {
           "x": 0.05
          },
          "xaxis": {
           "automargin": true,
           "gridcolor": "white",
           "linecolor": "white",
           "ticks": "",
           "title": {
            "standoff": 15
           },
           "zerolinecolor": "white",
           "zerolinewidth": 2
          },
          "yaxis": {
           "automargin": true,
           "gridcolor": "white",
           "linecolor": "white",
           "ticks": "",
           "title": {
            "standoff": 15
           },
           "zerolinecolor": "white",
           "zerolinewidth": 2
          }
         }
        }
       }
      },
      "text/html": "<div>                            <div id=\"dee66e8b-98c3-45cc-820d-bdefe0dba9bc\" class=\"plotly-graph-div\" style=\"height:525px; width:100%;\"></div>            <script type=\"text/javascript\">                require([\"plotly\"], function(Plotly) {                    window.PLOTLYENV=window.PLOTLYENV || {};                                    if (document.getElementById(\"dee66e8b-98c3-45cc-820d-bdefe0dba9bc\")) {                    Plotly.newPlot(                        \"dee66e8b-98c3-45cc-820d-bdefe0dba9bc\",                        [{\"mode\":\"lines\",\"name\":\"0\",\"type\":\"scatter\",\"y\":[200.5,10650.75,32312.5,50072.5,66421.0,33294.5,22206.0,16801.5,13576.8,11321.5,9710.142857142857,8500.375,7560.777777777777,6808.4,6192.409090909091,35344.5,23574.5,17691.0,14156.9,11801.0,10116.642857142857,8853.125,7874.333333333333,7090.65,6447.5,5911.166666666667,5457.653846153846,5068.892857142857,4731.733333333334,4439.1875,4180.705882352941,3950.8055555555557,3743.5263157894738,3557.225,3388.2619047619046,3234.818181818182,3094.5434782608695,2965.9583333333335,2847.64,2738.4423076923076,2637.314814814815,2543.4285714285716,2456.362068965517,2375.0,2298.8709677419356,2227.4375,2160.681818181818,2097.6470588235293,2038.4857142857143,1984.5972222222222]},{\"mode\":\"lines\",\"name\":\"1\",\"type\":\"scatter\",\"y\":[121.5,240.5,360.0,784.5,653.0,1133.0,1073.0,599.25,10452.0,50183.0,25220.75,16876.333333333332,12661.125,10135.3,8447.833333333334,7244.714285714285,6341.875,5639.388888888889,5076.65,4615.818181818182,4231.916666666667,3907.0384615384614,3628.535714285714,3387.266666666667,58464.0,29238.5,19498.166666666668,14626.75,11704.5,9755.916666666666,8363.857142857143,7320.0625,6508.111111111111,5858.95,5328.5,4885.916666666667,4511.807692307692,4191.071428571428,3912.633333333333,3669.1875,3454.3823529411766,3262.9166666666665,3091.6315789473683,2937.5,2798.0476190476193,2671.318181818182,2555.5652173913045,2449.4375,2351.8,2261.6923076923076]},{\"mode\":\"lines\",\"name\":\"2\",\"type\":\"scatter\",\"y\":[84.0,206.0,303.0,212.0,242.5,162.5,256.5,267.0,2964.0,44742.5,22582.75,54219.0,50065.0,25059.5,21421.5,17146.3,14298.083333333334,12256.714285714286,10725.625,9534.777777777777,8582.25,7802.863636363636,7153.375,6603.7307692307695,6133.178571428572,5724.933333333333,5367.84375,5052.764705882353,4772.888888888889,4523.815789473684,4298.7,4094.6666666666665,3909.318181818182,3746.304347826087,3596.5833333333335,3458.72,3331.096153846154,3212.759259259259,3100.3214285714284,2997.344827586207,2897.7166666666667,2804.5,2717.125,2635.030303030303,2557.794117647059,2485.6857142857143,2416.847222222222,2351.7702702702704,2290.092105263158,2231.653846153846]},{\"mode\":\"lines\",\"name\":\"3\",\"type\":\"scatter\",\"y\":[342.0,379.5,594.5,455.3333333333333,365.875,1285.5,50134.5,27583.5,50101.5,30035.0,18079.0,14368.625,11798.0,9837.333333333334,8443.357142857143,7391.0,51373.0,26064.75,17383.833333333332,13042.5,10437.9,8700.416666666666,7459.071428571428,6528.0625,5803.777777777777,5226.35,4752.727272727273,4361.041666666667,4027.6153846153848,3741.0714285714284,3494.6,3278.71875,3086.323529411765,2916.0555555555557,2763.5,2626.075,2501.5476190476193,2388.409090909091,2285.3260869565215,2191.125,2116.3,2035.7307692307693,1964.462962962963,1895.5357142857142,1830.448275862069,1770.0,1715.032258064516,1667.34375,1605.1515151515152,1558.1911764705883]},{\"mode\":\"lines\",\"name\":\"4\",\"type\":\"scatter\",\"y\":[110.5,193.0,421.0,464.0,1065.5,676.25,638.3333333333334,50244.5,25130.25,16758.0,12579.125,10065.6,8390.75,7212.0,6312.0625,5611.944444444444,5051.55,4593.818181818182,4211.791666666667,3888.4615384615386,3611.4285714285716,3371.233333333333,3161.0625,2975.5882352941176,2810.6944444444443,2663.184210526316,2530.425,2410.3333333333335,2301.181818181818,2201.4565217391305,2110.0833333333335,2026.58,1950.423076923077,1884.2407407407406,1826.267857142857,1768.6896551724137,1717.7833333333333,6801.75,4537.5,3405.875,2726.7,2274.8333333333335,17867.5,8952.25,5975.333333333333,4484.75,3590.8,2994.9166666666665,2569.6428571428573,2251.375]},{\"mode\":\"lines\",\"name\":\"5\",\"type\":\"scatter\",\"y\":[118.5,74.5,219.5,132.5,224.5,2238.0,1568.5,3673.5,50131.0,25086.5,16727.5,12548.5,10040.6,8369.083333333334,7175.357142857143,6280.6875,5583.722222222223,5026.15,4569.909090909091,4189.791666666667,3868.076923076923,3592.3571428571427,3353.4333333333334,3144.5625,2964.264705882353,2802.972222222222,2656.7368421052633,2529.925,2412.2619047619046,2304.181818181818,2205.1739130434785,2113.625,2029.52,1951.7884615384614,1879.8148148148148,1813.232142857143,1752.2413793103449,1694.2666666666667,1640.3064516129032,1589.796875,1542.6818181818182,1497.6176470588234,1455.2,1414.986111111111,1376.972972972973,1340.9342105263158,1306.7692307692307,1274.575,1244.5975609756097,1218.3214285714287]},{\"mode\":\"lines\",\"name\":\"6\",\"type\":\"scatter\",\"y\":[174.5,562.0,796.0,1624.5,1753.5,896.75,609.5833333333334,1408.0,1741.0,875.0,587.5,458.875,380.5,327.6666666666667,289.92857142857144,199.5,305.0,199.0,111.5,80.83333333333333,70.625,58.9,55.0,25.0,72.0,30.5,41.5,37.5,36.5,52.0,38.5,28.0,45.0,54.0,66.0,63.5,47.333333333333336,50073.5,25115.75,16916.166666666668,12722.5,50102.5,25243.0,18017.666666666668,13542.125,10849.8,9053.0,7765.071428571428,6812.375,6065.0]},{\"mode\":\"lines\",\"name\":\"7\",\"type\":\"scatter\",\"y\":[389.0,520.25,902.5,1691.5,883.75,603.0,261.75,285.5,2634.5,1321.75,883.8333333333334,665.0,534.4,448.1666666666667,385.2857142857143,339.0625,304.22222222222223,276.3,252.45454545454547,163.75,158.57692307692307,215.0,341.0,395.5,373.0,192.16666666666666,148.625,123.3,114.21428571428571,102.875,28.666666666666668,42.0,43.0,1707.0,870.5,591.1666666666666,242.25,213.8,175.5,498.0,207.5,199.0,210.0,2819.0,23187.5,50066.5,25077.75,16726.833333333332,12549.375,10041.1]},{\"mode\":\"lines\",\"name\":\"8\",\"type\":\"scatter\",\"y\":[115.5,433.5,236.5,500.5,667.0,958.0,882.5,8545.0,9411.5,8073.5,4043.0,2698.3333333333335,2035.625,1635.0,1391.2857142857142,50037.5,50053.0,25042.5,16704.666666666668,12534.125,10031.1,8362.416666666666,7171.5,6291.875,5593.777777777777,5035.15,4578.272727272727,4197.458333333333,3875.1923076923076,3599.1428571428573,3361.1666666666665,3153.03125,2968.9117647058824,2805.472222222222,2658.6052631578946,2528.975,2409.8809523809523,2300.7272727272725,2201.086956521739,2109.75,2025.68,1948.076923076923,1876.2962962962963,1809.5892857142858,1747.5,1689.5166666666667,1635.258064516129,1584.421875,1536.6818181818182,1492.014705882353]},{\"mode\":\"lines\",\"name\":\"9\",\"type\":\"scatter\",\"y\":[135.5,509.0,274.5,281.75,1175.5,594.25,399.0,302.75,243.9,2460.5,11967.5,50012.0,25016.0,16681.833333333332,12514.375,10013.1,8346.25,7157.714285714285,6268.1875,5574.611111111111,5019.4,4564.681818181818,4186.166666666667,3865.5384615384614,3591.9285714285716,3353.8333333333335,3146.375,2963.3529411764707,2800.3333333333335,2653.3684210526317,2523.025,2405.190476190476,2297.25,2198.4565217391305,2108.6041666666665,2026.16,1951.076923076923,1879.8148148148148,1814.6785714285713,1754.4137931034484,1698.0666666666666,1644.3548387096773,1593.65625,1546.6818181818182,1502.25,1459.942857142857,1420.611111111111,1382.918918918919,1347.078947368421,1312.8974358974358]}],                        {\"template\":{\"data\":{\"bar\":[{\"error_x\":{\"color\":\"#2a3f5f\"},\"error_y\":{\"color\":\"#2a3f5f\"},\"marker\":{\"line\":{\"color\":\"#E5ECF6\",\"width\":0.5},\"pattern\":{\"fillmode\":\"overlay\",\"size\":10,\"solidity\":0.2}},\"type\":\"bar\"}],\"barpolar\":[{\"marker\":{\"line\":{\"color\":\"#E5ECF6\",\"width\":0.5},\"pattern\":{\"fillmode\":\"overlay\",\"size\":10,\"solidity\":0.2}},\"type\":\"barpolar\"}],\"carpet\":[{\"aaxis\":{\"endlinecolor\":\"#2a3f5f\",\"gridcolor\":\"white\",\"linecolor\":\"white\",\"minorgridcolor\":\"white\",\"startlinecolor\":\"#2a3f5f\"},\"baxis\":{\"endlinecolor\":\"#2a3f5f\",\"gridcolor\":\"white\",\"linecolor\":\"white\",\"minorgridcolor\":\"white\",\"startlinecolor\":\"#2a3f5f\"},\"type\":\"carpet\"}],\"choropleth\":[{\"colorbar\":{\"outlinewidth\":0,\"ticks\":\"\"},\"type\":\"choropleth\"}],\"contour\":[{\"colorbar\":{\"outlinewidth\":0,\"ticks\":\"\"},\"colorscale\":[[0.0,\"#0d0887\"],[0.1111111111111111,\"#46039f\"],[0.2222222222222222,\"#7201a8\"],[0.3333333333333333,\"#9c179e\"],[0.4444444444444444,\"#bd3786\"],[0.5555555555555556,\"#d8576b\"],[0.6666666666666666,\"#ed7953\"],[0.7777777777777778,\"#fb9f3a\"],[0.8888888888888888,\"#fdca26\"],[1.0,\"#f0f921\"]],\"type\":\"contour\"}],\"contourcarpet\":[{\"colorbar\":{\"outlinewidth\":0,\"ticks\":\"\"},\"type\":\"contourcarpet\"}],\"heatmap\":[{\"colorbar\":{\"outlinewidth\":0,\"ticks\":\"\"},\"colorscale\":[[0.0,\"#0d0887\"],[0.1111111111111111,\"#46039f\"],[0.2222222222222222,\"#7201a8\"],[0.3333333333333333,\"#9c179e\"],[0.4444444444444444,\"#bd3786\"],[0.5555555555555556,\"#d8576b\"],[0.6666666666666666,\"#ed7953\"],[0.7777777777777778,\"#fb9f3a\"],[0.8888888888888888,\"#fdca26\"],[1.0,\"#f0f921\"]],\"type\":\"heatmap\"}],\"heatmapgl\":[{\"colorbar\":{\"outlinewidth\":0,\"ticks\":\"\"},\"colorscale\":[[0.0,\"#0d0887\"],[0.1111111111111111,\"#46039f\"],[0.2222222222222222,\"#7201a8\"],[0.3333333333333333,\"#9c179e\"],[0.4444444444444444,\"#bd3786\"],[0.5555555555555556,\"#d8576b\"],[0.6666666666666666,\"#ed7953\"],[0.7777777777777778,\"#fb9f3a\"],[0.8888888888888888,\"#fdca26\"],[1.0,\"#f0f921\"]],\"type\":\"heatmapgl\"}],\"histogram\":[{\"marker\":{\"pattern\":{\"fillmode\":\"overlay\",\"size\":10,\"solidity\":0.2}},\"type\":\"histogram\"}],\"histogram2d\":[{\"colorbar\":{\"outlinewidth\":0,\"ticks\":\"\"},\"colorscale\":[[0.0,\"#0d0887\"],[0.1111111111111111,\"#46039f\"],[0.2222222222222222,\"#7201a8\"],[0.3333333333333333,\"#9c179e\"],[0.4444444444444444,\"#bd3786\"],[0.5555555555555556,\"#d8576b\"],[0.6666666666666666,\"#ed7953\"],[0.7777777777777778,\"#fb9f3a\"],[0.8888888888888888,\"#fdca26\"],[1.0,\"#f0f921\"]],\"type\":\"histogram2d\"}],\"histogram2dcontour\":[{\"colorbar\":{\"outlinewidth\":0,\"ticks\":\"\"},\"colorscale\":[[0.0,\"#0d0887\"],[0.1111111111111111,\"#46039f\"],[0.2222222222222222,\"#7201a8\"],[0.3333333333333333,\"#9c179e\"],[0.4444444444444444,\"#bd3786\"],[0.5555555555555556,\"#d8576b\"],[0.6666666666666666,\"#ed7953\"],[0.7777777777777778,\"#fb9f3a\"],[0.8888888888888888,\"#fdca26\"],[1.0,\"#f0f921\"]],\"type\":\"histogram2dcontour\"}],\"mesh3d\":[{\"colorbar\":{\"outlinewidth\":0,\"ticks\":\"\"},\"type\":\"mesh3d\"}],\"parcoords\":[{\"line\":{\"colorbar\":{\"outlinewidth\":0,\"ticks\":\"\"}},\"type\":\"parcoords\"}],\"pie\":[{\"automargin\":true,\"type\":\"pie\"}],\"scatter\":[{\"marker\":{\"colorbar\":{\"outlinewidth\":0,\"ticks\":\"\"}},\"type\":\"scatter\"}],\"scatter3d\":[{\"line\":{\"colorbar\":{\"outlinewidth\":0,\"ticks\":\"\"}},\"marker\":{\"colorbar\":{\"outlinewidth\":0,\"ticks\":\"\"}},\"type\":\"scatter3d\"}],\"scattercarpet\":[{\"marker\":{\"colorbar\":{\"outlinewidth\":0,\"ticks\":\"\"}},\"type\":\"scattercarpet\"}],\"scattergeo\":[{\"marker\":{\"colorbar\":{\"outlinewidth\":0,\"ticks\":\"\"}},\"type\":\"scattergeo\"}],\"scattergl\":[{\"marker\":{\"colorbar\":{\"outlinewidth\":0,\"ticks\":\"\"}},\"type\":\"scattergl\"}],\"scattermapbox\":[{\"marker\":{\"colorbar\":{\"outlinewidth\":0,\"ticks\":\"\"}},\"type\":\"scattermapbox\"}],\"scatterpolar\":[{\"marker\":{\"colorbar\":{\"outlinewidth\":0,\"ticks\":\"\"}},\"type\":\"scatterpolar\"}],\"scatterpolargl\":[{\"marker\":{\"colorbar\":{\"outlinewidth\":0,\"ticks\":\"\"}},\"type\":\"scatterpolargl\"}],\"scatterternary\":[{\"marker\":{\"colorbar\":{\"outlinewidth\":0,\"ticks\":\"\"}},\"type\":\"scatterternary\"}],\"surface\":[{\"colorbar\":{\"outlinewidth\":0,\"ticks\":\"\"},\"colorscale\":[[0.0,\"#0d0887\"],[0.1111111111111111,\"#46039f\"],[0.2222222222222222,\"#7201a8\"],[0.3333333333333333,\"#9c179e\"],[0.4444444444444444,\"#bd3786\"],[0.5555555555555556,\"#d8576b\"],[0.6666666666666666,\"#ed7953\"],[0.7777777777777778,\"#fb9f3a\"],[0.8888888888888888,\"#fdca26\"],[1.0,\"#f0f921\"]],\"type\":\"surface\"}],\"table\":[{\"cells\":{\"fill\":{\"color\":\"#EBF0F8\"},\"line\":{\"color\":\"white\"}},\"header\":{\"fill\":{\"color\":\"#C8D4E3\"},\"line\":{\"color\":\"white\"}},\"type\":\"table\"}]},\"layout\":{\"annotationdefaults\":{\"arrowcolor\":\"#2a3f5f\",\"arrowhead\":0,\"arrowwidth\":1},\"autotypenumbers\":\"strict\",\"coloraxis\":{\"colorbar\":{\"outlinewidth\":0,\"ticks\":\"\"}},\"colorscale\":{\"diverging\":[[0,\"#8e0152\"],[0.1,\"#c51b7d\"],[0.2,\"#de77ae\"],[0.3,\"#f1b6da\"],[0.4,\"#fde0ef\"],[0.5,\"#f7f7f7\"],[0.6,\"#e6f5d0\"],[0.7,\"#b8e186\"],[0.8,\"#7fbc41\"],[0.9,\"#4d9221\"],[1,\"#276419\"]],\"sequential\":[[0.0,\"#0d0887\"],[0.1111111111111111,\"#46039f\"],[0.2222222222222222,\"#7201a8\"],[0.3333333333333333,\"#9c179e\"],[0.4444444444444444,\"#bd3786\"],[0.5555555555555556,\"#d8576b\"],[0.6666666666666666,\"#ed7953\"],[0.7777777777777778,\"#fb9f3a\"],[0.8888888888888888,\"#fdca26\"],[1.0,\"#f0f921\"]],\"sequentialminus\":[[0.0,\"#0d0887\"],[0.1111111111111111,\"#46039f\"],[0.2222222222222222,\"#7201a8\"],[0.3333333333333333,\"#9c179e\"],[0.4444444444444444,\"#bd3786\"],[0.5555555555555556,\"#d8576b\"],[0.6666666666666666,\"#ed7953\"],[0.7777777777777778,\"#fb9f3a\"],[0.8888888888888888,\"#fdca26\"],[1.0,\"#f0f921\"]]},\"colorway\":[\"#636efa\",\"#EF553B\",\"#00cc96\",\"#ab63fa\",\"#FFA15A\",\"#19d3f3\",\"#FF6692\",\"#B6E880\",\"#FF97FF\",\"#FECB52\"],\"font\":{\"color\":\"#2a3f5f\"},\"geo\":{\"bgcolor\":\"white\",\"lakecolor\":\"white\",\"landcolor\":\"#E5ECF6\",\"showlakes\":true,\"showland\":true,\"subunitcolor\":\"white\"},\"hoverlabel\":{\"align\":\"left\"},\"hovermode\":\"closest\",\"mapbox\":{\"style\":\"light\"},\"paper_bgcolor\":\"white\",\"plot_bgcolor\":\"#E5ECF6\",\"polar\":{\"angularaxis\":{\"gridcolor\":\"white\",\"linecolor\":\"white\",\"ticks\":\"\"},\"bgcolor\":\"#E5ECF6\",\"radialaxis\":{\"gridcolor\":\"white\",\"linecolor\":\"white\",\"ticks\":\"\"}},\"scene\":{\"xaxis\":{\"backgroundcolor\":\"#E5ECF6\",\"gridcolor\":\"white\",\"gridwidth\":2,\"linecolor\":\"white\",\"showbackground\":true,\"ticks\":\"\",\"zerolinecolor\":\"white\"},\"yaxis\":{\"backgroundcolor\":\"#E5ECF6\",\"gridcolor\":\"white\",\"gridwidth\":2,\"linecolor\":\"white\",\"showbackground\":true,\"ticks\":\"\",\"zerolinecolor\":\"white\"},\"zaxis\":{\"backgroundcolor\":\"#E5ECF6\",\"gridcolor\":\"white\",\"gridwidth\":2,\"linecolor\":\"white\",\"showbackground\":true,\"ticks\":\"\",\"zerolinecolor\":\"white\"}},\"shapedefaults\":{\"line\":{\"color\":\"#2a3f5f\"}},\"ternary\":{\"aaxis\":{\"gridcolor\":\"white\",\"linecolor\":\"white\",\"ticks\":\"\"},\"baxis\":{\"gridcolor\":\"white\",\"linecolor\":\"white\",\"ticks\":\"\"},\"bgcolor\":\"#E5ECF6\",\"caxis\":{\"gridcolor\":\"white\",\"linecolor\":\"white\",\"ticks\":\"\"}},\"title\":{\"x\":0.05},\"xaxis\":{\"automargin\":true,\"gridcolor\":\"white\",\"linecolor\":\"white\",\"ticks\":\"\",\"title\":{\"standoff\":15},\"zerolinecolor\":\"white\",\"zerolinewidth\":2},\"yaxis\":{\"automargin\":true,\"gridcolor\":\"white\",\"linecolor\":\"white\",\"ticks\":\"\",\"title\":{\"standoff\":15},\"zerolinecolor\":\"white\",\"zerolinewidth\":2}}}},                        {\"responsive\": true}                    ).then(function(){\n                            \nvar gd = document.getElementById('dee66e8b-98c3-45cc-820d-bdefe0dba9bc');\nvar x = new MutationObserver(function (mutations, observer) {{\n        var display = window.getComputedStyle(gd).display;\n        if (!display || display === 'none') {{\n            console.log([gd, 'removed!']);\n            Plotly.purge(gd);\n            observer.disconnect();\n        }}\n}});\n\n// Listen for the removal of the full notebook cells\nvar notebookContainer = gd.closest('#notebook-container');\nif (notebookContainer) {{\n    x.observe(notebookContainer, {childList: true});\n}}\n\n// Listen for the clearing of the current output cell\nvar outputEl = gd.closest('.output');\nif (outputEl) {{\n    x.observe(outputEl, {childList: true});\n}}\n\n                        })                };                });            </script>        </div>"
     },
     "metadata": {},
     "output_type": "display_data"
    }
   ],
   "source": [
    "fig = go.Figure()\n",
    "\n",
    "for x in range(10):\n",
    "    values = top_10[x:x+1].step_history.values.tolist()\n",
    "\n",
    "    out = []\n",
    "    for idx, y in enumerate(values[0]):\n",
    "        out.append({'value': y})\n",
    "\n",
    "    data = pd.DataFrame(out)\n",
    "\n",
    "    fig.add_trace(go.Scatter(y=data['value'],\n",
    "                             mode='lines',\n",
    "                             name=x))\n",
    "    continue\n",
    "fig.show()\n",
    "\n",
    "\n",
    "#fig = px.line(top_10, y='value', title='Nje')\n",
    "#fig.show()"
   ],
   "metadata": {
    "collapsed": false,
    "pycharm": {
     "name": "#%%\n"
    }
   }
  },
  {
   "cell_type": "code",
   "execution_count": 57,
   "outputs": [],
   "source": [],
   "metadata": {
    "collapsed": false,
    "pycharm": {
     "name": "#%%\n"
    }
   }
  }
 ],
 "metadata": {
  "kernelspec": {
   "display_name": "Python 3",
   "language": "python",
   "name": "python3"
  },
  "language_info": {
   "codemirror_mode": {
    "name": "ipython",
    "version": 2
   },
   "file_extension": ".py",
   "mimetype": "text/x-python",
   "name": "python",
   "nbconvert_exporter": "python",
   "pygments_lexer": "ipython2",
   "version": "2.7.6"
  }
 },
 "nbformat": 4,
 "nbformat_minor": 0
}